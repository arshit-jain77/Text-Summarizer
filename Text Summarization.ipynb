{
 "cells": [
  {
   "cell_type": "markdown",
   "metadata": {},
   "source": [
    "### Extractive Approach Text Rank Algorithm"
   ]
  },
  {
   "cell_type": "code",
   "execution_count": 1,
   "metadata": {},
   "outputs": [
    {
     "name": "stderr",
     "output_type": "stream",
     "text": [
      "[nltk_data] Downloading package punkt to\n",
      "[nltk_data]     C:\\Users\\Arshit\\AppData\\Roaming\\nltk_data...\n",
      "[nltk_data]   Package punkt is already up-to-date!\n"
     ]
    },
    {
     "data": {
      "text/plain": [
       "True"
      ]
     },
     "execution_count": 1,
     "metadata": {},
     "output_type": "execute_result"
    }
   ],
   "source": [
    "import pandas as pd\n",
    "import numpy as np\n",
    "import re\n",
    "import nltk\n",
    "nltk.download('punkt')"
   ]
  },
  {
   "cell_type": "code",
   "execution_count": 2,
   "metadata": {},
   "outputs": [],
   "source": [
    "df = pd.read_csv('tennis_articles_v4.csv')"
   ]
  },
  {
   "cell_type": "code",
   "execution_count": 3,
   "metadata": {},
   "outputs": [
    {
     "data": {
      "text/html": [
       "<div>\n",
       "<style scoped>\n",
       "    .dataframe tbody tr th:only-of-type {\n",
       "        vertical-align: middle;\n",
       "    }\n",
       "\n",
       "    .dataframe tbody tr th {\n",
       "        vertical-align: top;\n",
       "    }\n",
       "\n",
       "    .dataframe thead th {\n",
       "        text-align: right;\n",
       "    }\n",
       "</style>\n",
       "<table border=\"1\" class=\"dataframe\">\n",
       "  <thead>\n",
       "    <tr style=\"text-align: right;\">\n",
       "      <th></th>\n",
       "      <th>article_id</th>\n",
       "      <th>article_text</th>\n",
       "      <th>source</th>\n",
       "    </tr>\n",
       "  </thead>\n",
       "  <tbody>\n",
       "    <tr>\n",
       "      <td>0</td>\n",
       "      <td>1</td>\n",
       "      <td>Maria Sharapova has basically no friends as te...</td>\n",
       "      <td>https://www.tennisworldusa.org/tennis/news/Mar...</td>\n",
       "    </tr>\n",
       "    <tr>\n",
       "      <td>1</td>\n",
       "      <td>2</td>\n",
       "      <td>BASEL, Switzerland (AP), Roger Federer advance...</td>\n",
       "      <td>http://www.tennis.com/pro-game/2018/10/copil-s...</td>\n",
       "    </tr>\n",
       "    <tr>\n",
       "      <td>2</td>\n",
       "      <td>3</td>\n",
       "      <td>Roger Federer has revealed that organisers of ...</td>\n",
       "      <td>https://scroll.in/field/899938/tennis-roger-fe...</td>\n",
       "    </tr>\n",
       "    <tr>\n",
       "      <td>3</td>\n",
       "      <td>4</td>\n",
       "      <td>Kei Nishikori will try to end his long losing ...</td>\n",
       "      <td>http://www.tennis.com/pro-game/2018/10/nishiko...</td>\n",
       "    </tr>\n",
       "    <tr>\n",
       "      <td>4</td>\n",
       "      <td>5</td>\n",
       "      <td>Federer, 37, first broke through on tour over ...</td>\n",
       "      <td>https://www.express.co.uk/sport/tennis/1036101...</td>\n",
       "    </tr>\n",
       "  </tbody>\n",
       "</table>\n",
       "</div>"
      ],
      "text/plain": [
       "   article_id                                       article_text  \\\n",
       "0           1  Maria Sharapova has basically no friends as te...   \n",
       "1           2  BASEL, Switzerland (AP), Roger Federer advance...   \n",
       "2           3  Roger Federer has revealed that organisers of ...   \n",
       "3           4  Kei Nishikori will try to end his long losing ...   \n",
       "4           5  Federer, 37, first broke through on tour over ...   \n",
       "\n",
       "                                              source  \n",
       "0  https://www.tennisworldusa.org/tennis/news/Mar...  \n",
       "1  http://www.tennis.com/pro-game/2018/10/copil-s...  \n",
       "2  https://scroll.in/field/899938/tennis-roger-fe...  \n",
       "3  http://www.tennis.com/pro-game/2018/10/nishiko...  \n",
       "4  https://www.express.co.uk/sport/tennis/1036101...  "
      ]
     },
     "execution_count": 3,
     "metadata": {},
     "output_type": "execute_result"
    }
   ],
   "source": [
    "df.head()"
   ]
  },
  {
   "cell_type": "code",
   "execution_count": 4,
   "metadata": {},
   "outputs": [
    {
     "data": {
      "text/plain": [
       "(8, 3)"
      ]
     },
     "execution_count": 4,
     "metadata": {},
     "output_type": "execute_result"
    }
   ],
   "source": [
    "df.shape"
   ]
  },
  {
   "cell_type": "code",
   "execution_count": 5,
   "metadata": {},
   "outputs": [],
   "source": [
    "li_text_to_sentences = []\n",
    "for i in range(df.shape[0]):\n",
    "    li = []\n",
    "    li = df.loc[i][1].split('.')\n",
    "    li_text_to_sentences.append(li)"
   ]
  },
  {
   "cell_type": "code",
   "execution_count": 6,
   "metadata": {},
   "outputs": [],
   "source": [
    "lower_li_text_to_sentences = []\n",
    "for i in range(len(li_text_to_sentences)):\n",
    "    li=[]\n",
    "    for j in range(len(li_text_to_sentences[i])):\n",
    "        lower_sentence = li_text_to_sentences[i][j].lower()\n",
    "        li.append(lower_sentence)\n",
    "    lower_li_text_to_sentences.append(li)"
   ]
  },
  {
   "cell_type": "code",
   "execution_count": 7,
   "metadata": {},
   "outputs": [
    {
     "name": "stdout",
     "output_type": "stream",
     "text": [
      "maria sharapova has basically no friends as tennis players on the wta tour\n",
      "\n",
      " the russian player has no problems in openly speaking about it and in a recent interview she said: 'i don't really hide any feelings too much\n",
      "\n",
      " i think everyone knows this is my job here\n",
      "\n",
      " when i'm on the courts or when i'm on the court playing, i'm a competitor and i want to beat every single person whether they're in the locker room or across the net\n",
      "\n",
      "so i'm not the one to strike up a conversation about the weather and know that in the next few minutes i have to go and try to win a tennis match\n",
      "\n",
      " i'm a pretty competitive girl\n",
      "\n",
      " i say my hellos, but i'm not sending any players flowers as well\n",
      "\n",
      " uhm, i'm not really friendly or close to many players\n",
      "\n",
      " i have not a lot of friends away from the courts\n",
      "\n",
      "' when she said she is not really close to a lot of players, is that something strategic that she is doing? is it different on the men's tour than the women's tour? 'no, not at all\n",
      "\n",
      " i think just because you're in the same sport doesn't mean that you have to be friends with everyone just because you're categorized, you're a tennis player, so you're going to get along with tennis players\n",
      "\n",
      " i think every person has different interests\n",
      "\n",
      " i have friends that have completely different jobs and interests, and i've met them in very different parts of my life\n",
      "\n",
      " i think everyone just thinks because we're tennis players we should be the greatest of friends\n",
      "\n",
      " but ultimately tennis is just a very small part of what we do\n",
      "\n",
      " there are so many other things that we're interested in, that we do\n",
      "\n",
      "'\n",
      "\n",
      "basel, switzerland (ap), roger federer advanced to the 14th swiss indoors final of his career by beating seventh-seeded daniil medvedev 6-1, 6-4 on saturday\n",
      "\n",
      " seeking a ninth title at his hometown event, and a 99th overall, federer will play 93th-ranked marius copil on sunday\n",
      "\n",
      " federer dominated the 20th-ranked medvedev and had his first match-point chance to break serve again at 5-1\n",
      "\n",
      " he then dropped his serve to love, and let another match point slip in medvedev's next service game by netting a backhand\n",
      "\n",
      " he clinched on his fourth chance when medvedev netted from the baseline\n",
      "\n",
      " copil upset expectations of a federer final against alexander zverev in a 6-3, 6-7 (6), 6-4 win over the fifth-ranked german in the earlier semifinal\n",
      "\n",
      " the romanian aims for a first title after arriving at basel without a career win over a top-10 opponent\n",
      "\n",
      " copil has two after also beating no\n",
      "\n",
      " 6 marin cilic in the second round\n",
      "\n",
      " copil fired 26 aces past zverev and never dropped serve, clinching after 2 1/2 hours with a forehand volley winner to break zverev for the second time in the semifinal\n",
      "\n",
      " he came through two rounds of qualifying last weekend to reach the basel main draw, including beating zverev's older brother, mischa\n",
      "\n",
      " federer had an easier time than in his only previous match against medvedev, a three-setter at shanghai two weeks ago\n",
      "\n",
      "\n",
      "\n",
      "roger federer has revealed that organisers of the re-launched and condensed davis cup gave him three days to decide if he would commit to the controversial competition\n",
      "\n",
      " speaking at the swiss indoors tournament where he will play in sundays final against romanian qualifier marius copil, the world number three said that given the impossibly short time frame to make a decision, he opted out of any commitment\n",
      "\n",
      " \"they only left me three days to decide\", federer said\n",
      "\n",
      " \"i didn't to have time to consult with all the people i had to consult\n",
      "\n",
      " \"i could not make a decision in that time, so i told them to do what they wanted\n",
      "\n",
      "\" the 20-time grand slam champion has voiced doubts about the wisdom of the one-week format to be introduced by organisers kosmos, who have promised the international tennis federation up to $3 billion in prize money over the next quarter-century\n",
      "\n",
      " the competition is set to feature 18 countries in the november 18-24 finals in madrid next year, and will replace the classic home-and-away ties played four times per year for decades\n",
      "\n",
      " kosmos is headed by barcelona footballer gerard pique, who is hoping fellow spaniard rafael nadal will play in the upcoming event\n",
      "\n",
      " novak djokovic has said he will give precedence to the atp's intended re-launch of the defunct world team cup in january 2020, at various australian venues\n",
      "\n",
      " major players feel that a big event in late november combined with one in january before the australian open will mean too much tennis and too little rest\n",
      "\n",
      " federer said earlier this month in shanghai in that his chances of playing the davis cup were all but non-existent\n",
      "\n",
      " \"i highly doubt it, of course\n",
      "\n",
      " we will see what happens,\" he said\n",
      "\n",
      " \"i do not think this was designed for me, anyhow\n",
      "\n",
      " this was designed for the future generation of players\n",
      "\n",
      "\" argentina and britain received wild cards to the new-look event, and will compete along with the four 2018 semi-finalists and the 12 teams who win qualifying rounds next february\n",
      "\n",
      " \"i don't like being under that kind of pressure,\" federer said of the deadline kosmos handed him\n",
      "\n",
      "\n",
      "\n",
      "kei nishikori will try to end his long losing streak in atp finals and kevin anderson will go for his second title of the year at the erste bank open on sunday\n",
      "\n",
      " the fifth-seeded nishikori reached his third final of 2018 after beating mikhail kukushkin of kazakhstan 6-4, 6-3 in the semifinals\n",
      "\n",
      " a winner of 11 atp events, nishikori hasn't triumphed since winning in memphis in february 2016\n",
      "\n",
      " he has lost eight straight finals since\n",
      "\n",
      " the second-seeded anderson defeated fernando verdasco 6-3, 3-6, 6-4\n",
      "\n",
      " anderson has a shot at a fifth career title and second of the year after winning in new york in february\n",
      "\n",
      " nishikori leads anderson 4-2 on career matchups, but the south african won their only previous meeting this year\n",
      "\n",
      " with a victory on sunday, anderson will qualify for the atp finals\n",
      "\n",
      " currently in ninth place, nishikori with a win could move to within 125 points of the cut for the eight-man event in london next month\n",
      "\n",
      " nishikori held serve throughout against kukushkin, who came through qualifying\n",
      "\n",
      " he used his first break point to close out the first set before going up 3-0 in the second and wrapping up the win on his first match point\n",
      "\n",
      " against verdasco, anderson hit nine of his 19 aces in the opening set\n",
      "\n",
      " the spaniard broke anderson twice in the second but didn't get another chance on the south african's serve in the final set\n",
      "\n",
      "\n",
      "\n",
      "federer, 37, first broke through on tour over two decades ago and he has since gone on to enjoy a glittering career\n",
      "\n",
      " the 20-time grand slam winner is chasing his 99th atp title at the swiss indoors this week and he faces jan-lennard struff in the second round on thursday (6pm bst)\n",
      "\n",
      " davenport enjoyed most of her success in the late 1990s and her third and final major tournament win came at the 2000 australian open\n",
      "\n",
      " but she claims the mentality of professional tennis players slowly began to change after the new millennium\n",
      "\n",
      " \"it seems pretty friendly right now,\" said davenport\n",
      "\n",
      " \"i think there is a really nice environment and a great atmosphere, especially between some of the veteran players helping some of the younger players out\n",
      "\n",
      " \"it's a very pleasant atmosphere, i'd have to say, around the locker rooms\n",
      "\n",
      " \"i felt like the best weeks that i had to get to know players when i was playing were the fed cup weeks or the olympic weeks, not necessarily during the tournaments\n",
      "\n",
      " \"and even though maybe we had smaller teams, i still think we kept to ourselves quite a bit\n",
      "\n",
      " \"not always, but i really feel like in the mid-2000 years there was a huge shift of the attitudes of the top players and being more friendly and being more giving, and a lot of that had to do with players like roger coming up\n",
      "\n",
      " \"i just felt like it really kind of changed where people were a little bit, definitely in the 90s, a lot more quiet, into themselves, and then it started to become better\n",
      "\n",
      "\" meanwhile, federer is hoping he can improve his service game as he hunts his ninth swiss indoors title this week\n",
      "\n",
      " \"i didn't serve very well [against first-round opponent filip kranjovic,\" federer said\n",
      "\n",
      " \"i think i was misfiring the corners, i was not hitting the lines enough\n",
      "\n",
      " \"clearly you make your life more difficult, but still i was up 6-2, 3-1, break points, so things could have ended very quickly today, even though i didn't have the best serve percentage stats\n",
      "\n",
      " \"but maybe that's exactly what caught up to me eventually\n",
      "\n",
      " it's just getting used to it\n",
      "\n",
      " this is where the first rounds can be tricky\n",
      "\n",
      "\"\n",
      "\n",
      "nadal has not played tennis since he was forced to retire from the us open semi-finals against juan martin del porto with a knee injury\n",
      "\n",
      " the world no 1 has been forced to miss spain's davis cup clash with france and the asian hard court season\n",
      "\n",
      " but with the atp world tour finals due to begin next month, nadal is ready to prove his fitness before the season-ending event at the 02 arena\n",
      "\n",
      " nadal flew to paris on friday and footage from the paris masters official twitter account shows the spaniard smiling as he strides onto court for practice\n",
      "\n",
      " the paris masters draw has been made and nadal will start his campaign on tuesday or wednesday against either fernando verdasco or jeremy chardy\n",
      "\n",
      " nadal could then play defending champion jack sock in the third round before a potential quarter-final with either borna coric or dominic thiem\n",
      "\n",
      " nadal's appearance in paris is a big boost to the tournament organisers who could see roger federer withdraw\n",
      "\n",
      " federer is in action at the swiss indoors in basel and if he reaches the final, he could pull out of paris in a bid to stay fresh for london\n",
      "\n",
      " but as it stands, federer is in the draw and is scheduled to face either former world no 3 milos raonic or jo-wilfried tsonga in the second round\n",
      "\n",
      " federer's projected route to the paris final could also lead to matches against kevin anderson and novak djokovic\n",
      "\n",
      " djokovic could play marco cecchinato in the second round\n",
      "\n",
      " british no 1 kyle edmund is the 12th seed in paris and will get underway in round two against either karen khachanov or filip krajinovic\n",
      "\n",
      "\n",
      "\n",
      "tennis giveth, and tennis taketh away\n",
      "\n",
      " the end of the season is finally in sight, and with so many players defending,or losing,huge chunks of points in singapore, zhuhai and london, podcast co-hosts nina pantic and irina falconi discuss the art of defending points (02:14)\n",
      "\n",
      " it's no secret that jack sock has struggled on the singles court this year (his record is 7-19)\n",
      "\n",
      " he could lose 1,400 points in the next few weeks, but instead of focusing on the negative, it can all be about perspective (06:28)\n",
      "\n",
      " let's also not forget his two grand slam doubles triumphs this season\n",
      "\n",
      " two players, stefanos tsitsipas and kyle edmund, won their first career atp titles last week (13:26)\n",
      "\n",
      " it's a big deal because you never forget your first\n",
      "\n",
      " irina looks back at her wta title win in bogota in 2016, and tells an unforgettable story about her semifinal drama (14:04)\n",
      "\n",
      " in singapore, one of the biggest storylines (aside from the matches, of course) has been the on-court coaching debate\n",
      "\n",
      " nina and irina give their opinions on what coaching should look like in the future, on both tours (18:55)\n",
      "\n",
      "\n",
      "\n",
      "federer won the swiss indoors last week by beating romanian qualifier marius copil in the final\n",
      "\n",
      " the 37-year-old claimed his 99th atp title and is hunting the century in the french capital this week\n",
      "\n",
      " federer has been handed a difficult draw where could could come across kevin anderson, novak djokovic and rafael nadal in the latter rounds\n",
      "\n",
      " but first the 20-time grand slam winner wants to train on the paris masters court this afternoon before deciding whether to appear for his opening match against either milos raonic or jo-wilfried tsonga\n",
      "\n",
      " \"on monday, i am free and will look how i feel,\" federer said after winning the swiss indoors\n",
      "\n",
      " \"on tuesday i will fly to paris and train in the afternoon to be ready for my first match on wednesday night\n",
      "\n",
      " \"i felt good all week and better every day\n",
      "\n",
      " \"we also had the impression that at this stage it might be better to play matches than to train\n",
      "\n",
      " \"and as long as i fear no injury, i play\n",
      "\n",
      "\" federer's success in basel last week was the ninth time he has won his hometown tournament\n",
      "\n",
      " and he was delighted to be watched on by all of his family and friends as he purchased 60 tickets for the final for those dearest to him\n",
      "\n",
      " \"my children, my parents, my sister and my team are all there,\" federer added\n",
      "\n",
      " \"it is always very emotional for me to thank my team\n",
      "\n",
      " and sometimes it tilts with the emotions, sometimes i just stumble\n",
      "\n",
      " \"it means the world to me\n",
      "\n",
      " it makes me incredibly happy to win my home tournament and make people happy here\n",
      "\n",
      " \"i do not know if it's maybe my last title, so today i try a lot more to absorb that and enjoy the moments much more consciously\n",
      "\n",
      " \"maybe i should celebrate as if it were my last title\n",
      "\n",
      " \"there are very touching moments: seeing the ball children, the standing ovations, all the familiar faces in the audience\n",
      "\n",
      " because it was not always easy in the last weeks\n",
      "\n",
      "\"\n",
      "\n"
     ]
    }
   ],
   "source": [
    "li_all_sentences = []\n",
    "for i in range(len(li_text_to_sentences)):\n",
    "    for j in range(len(li_text_to_sentences[i])):\n",
    "        lower_sentence = li_text_to_sentences[i][j].lower()\n",
    "        print(lower_sentence)\n",
    "        print()\n",
    "        if lower_sentence == '' or lower_sentence == \"'\" or lower_sentence == '\"':\n",
    "            pass\n",
    "        else:\n",
    "            li_all_sentences.append(lower_sentence)"
   ]
  },
  {
   "cell_type": "code",
   "execution_count": 8,
   "metadata": {},
   "outputs": [],
   "source": [
    "def read_glove_vecs(glove_file):\n",
    "    with open(glove_file, encoding='utf8') as f:\n",
    "        words = set()\n",
    "        word_to_vec_map = {}\n",
    "        \n",
    "        for line in f:\n",
    "            line = line.strip().split()\n",
    "            curr_word = line[0]\n",
    "            words.add(curr_word)\n",
    "            word_to_vec_map[curr_word] = np.array(line[1:], dtype=np.float64)\n",
    "            \n",
    "    return words, word_to_vec_map"
   ]
  },
  {
   "cell_type": "code",
   "execution_count": 9,
   "metadata": {},
   "outputs": [],
   "source": [
    "words,word_to_vec_map = read_glove_vecs('glove.6B.200d.txt')"
   ]
  },
  {
   "cell_type": "code",
   "execution_count": 10,
   "metadata": {},
   "outputs": [
    {
     "name": "stderr",
     "output_type": "stream",
     "text": [
      "[nltk_data] Downloading package stopwords to\n",
      "[nltk_data]     C:\\Users\\Arshit\\AppData\\Roaming\\nltk_data...\n",
      "[nltk_data]   Package stopwords is already up-to-date!\n"
     ]
    },
    {
     "data": {
      "text/plain": [
       "True"
      ]
     },
     "execution_count": 10,
     "metadata": {},
     "output_type": "execute_result"
    }
   ],
   "source": [
    "nltk.download('stopwords')"
   ]
  },
  {
   "cell_type": "code",
   "execution_count": 2,
   "metadata": {},
   "outputs": [],
   "source": [
    "from nltk.corpus import stopwords\n",
    "stop_words = stopwords.words('english')"
   ]
  },
  {
   "cell_type": "code",
   "execution_count": 12,
   "metadata": {},
   "outputs": [
    {
     "data": {
      "text/plain": [
       "179"
      ]
     },
     "execution_count": 12,
     "metadata": {},
     "output_type": "execute_result"
    }
   ],
   "source": [
    "len(stop_words)"
   ]
  },
  {
   "cell_type": "code",
   "execution_count": 13,
   "metadata": {},
   "outputs": [],
   "source": [
    "def remove_stopwords(sen):\n",
    "    sen_new = \" \".join([i for i in sen if i not in stop_words])\n",
    "    return sen_new"
   ]
  },
  {
   "cell_type": "code",
   "execution_count": 14,
   "metadata": {},
   "outputs": [],
   "source": [
    "li_all_sentences = [remove_stopwords(r.split()) for r in li_all_sentences]"
   ]
  },
  {
   "cell_type": "code",
   "execution_count": 15,
   "metadata": {},
   "outputs": [],
   "source": [
    "li_all_sentences = pd.Series(li_all_sentences).str.replace(\"[^a-zA-Z]\", \" \")"
   ]
  },
  {
   "cell_type": "code",
   "execution_count": 16,
   "metadata": {},
   "outputs": [],
   "source": [
    "avg_vectors = []\n",
    "for j in range(0,len(li_all_sentences)):\n",
    "    sen_to_words = li_all_sentences[j].split(' ')\n",
    "    avg=[]\n",
    "    total=0\n",
    "    for z in range(len(sen_to_words)):\n",
    "        try:\n",
    "            sen_to_words.remove('')\n",
    "            sen_to_words.remove(' ')\n",
    "        except:\n",
    "            pass\n",
    "    for w in sen_to_words:\n",
    "        if w in word_to_vec_map.keys():\n",
    "            total +=word_to_vec_map[w]\n",
    "        else:\n",
    "            total += np.zeros((200,))\n",
    "    for i in range(len(total)):\n",
    "        avg.append(total[i]/len(sen_to_words))\n",
    "    avg=np.asarray(avg)\n",
    "    avg_vectors.append(avg)"
   ]
  },
  {
   "cell_type": "code",
   "execution_count": 17,
   "metadata": {},
   "outputs": [
    {
     "data": {
      "text/plain": [
       "118"
      ]
     },
     "execution_count": 17,
     "metadata": {},
     "output_type": "execute_result"
    }
   ],
   "source": [
    "len(avg_vectors)"
   ]
  },
  {
   "cell_type": "code",
   "execution_count": 18,
   "metadata": {},
   "outputs": [
    {
     "data": {
      "text/plain": [
       "118"
      ]
     },
     "execution_count": 18,
     "metadata": {},
     "output_type": "execute_result"
    }
   ],
   "source": [
    "len(li_all_sentences)"
   ]
  },
  {
   "cell_type": "code",
   "execution_count": 19,
   "metadata": {},
   "outputs": [],
   "source": [
    "sim_mat = np.zeros([len(li_all_sentences), len(li_all_sentences)])"
   ]
  },
  {
   "cell_type": "code",
   "execution_count": 20,
   "metadata": {},
   "outputs": [],
   "source": [
    "from sklearn.metrics.pairwise import cosine_similarity"
   ]
  },
  {
   "cell_type": "code",
   "execution_count": 21,
   "metadata": {},
   "outputs": [],
   "source": [
    "for i in range(len(li_all_sentences)):\n",
    "    for j in range(len(li_all_sentences)):\n",
    "        if i != j:\n",
    "            sim_mat[i][j] = cosine_similarity(avg_vectors[i].reshape(1,200), avg_vectors[j].reshape(1,200))[0,0]"
   ]
  },
  {
   "cell_type": "code",
   "execution_count": 22,
   "metadata": {},
   "outputs": [],
   "source": [
    "import networkx as nx\n",
    "\n",
    "nx_graph = nx.from_numpy_array(sim_mat)\n",
    "scores = nx.pagerank(nx_graph)"
   ]
  },
  {
   "cell_type": "code",
   "execution_count": 23,
   "metadata": {},
   "outputs": [],
   "source": [
    "ranked_sentences = sorted(((scores[i],s) for i,s in enumerate(li_all_sentences)), reverse=True)"
   ]
  },
  {
   "cell_type": "code",
   "execution_count": 24,
   "metadata": {},
   "outputs": [
    {
     "data": {
      "text/plain": [
       "118"
      ]
     },
     "execution_count": 24,
     "metadata": {},
     "output_type": "execute_result"
    }
   ],
   "source": [
    "len(ranked_sentences)"
   ]
  },
  {
   "cell_type": "code",
   "execution_count": 25,
   "metadata": {},
   "outputs": [
    {
     "name": "stdout",
     "output_type": "stream",
     "text": [
      "i m one strike conversation weather know next minutes go try win tennis match\n",
      "major players feel big event late november combined one january australian open mean much tennis little rest\n",
      " i felt like best weeks get know players playing fed cup weeks olympic weeks  necessarily tournaments\n",
      "speaking swiss indoors tournament play sundays final romanian qualifier marius copil  world number three said given impossibly short time frame make decision  opted commitment\n",
      "spaniard broke anderson twice second get another chance south african s serve final set\n",
      "currently ninth place  nishikori win could move within     points cut eight man event london next month\n",
      "used first break point close first set going     second wrapping win first match point\n",
      "competition set feature    countries november       finals madrid next year  replace classic home and away ties played four times per year decades\n",
      " on monday  free look feel   federer said winning swiss indoors\n",
      "  said really close lot players  something strategic doing  different men s tour women s tour   no \n"
     ]
    }
   ],
   "source": [
    "# Text Summary\n",
    "for i in range(10):\n",
    "    print(ranked_sentences[i][1])"
   ]
  },
  {
   "cell_type": "code",
   "execution_count": null,
   "metadata": {},
   "outputs": [],
   "source": []
  },
  {
   "cell_type": "markdown",
   "metadata": {},
   "source": [
    "### Abstractive Approach (Amazon Food Reviews Dataset)"
   ]
  },
  {
   "cell_type": "code",
   "execution_count": 1,
   "metadata": {},
   "outputs": [],
   "source": [
    "import numpy as np\n",
    "import pandas as pd\n",
    "import re\n",
    "import nltk"
   ]
  },
  {
   "cell_type": "code",
   "execution_count": 2,
   "metadata": {},
   "outputs": [],
   "source": [
    "import warnings\n",
    "warnings.filterwarnings(\"ignore\")"
   ]
  },
  {
   "cell_type": "code",
   "execution_count": 3,
   "metadata": {},
   "outputs": [],
   "source": [
    "from nltk.corpus import stopwords\n",
    "stop_words = stopwords.words('english')"
   ]
  },
  {
   "cell_type": "code",
   "execution_count": 4,
   "metadata": {},
   "outputs": [
    {
     "data": {
      "text/plain": [
       "179"
      ]
     },
     "execution_count": 4,
     "metadata": {},
     "output_type": "execute_result"
    }
   ],
   "source": [
    "len(stop_words)"
   ]
  },
  {
   "cell_type": "code",
   "execution_count": 5,
   "metadata": {},
   "outputs": [],
   "source": [
    "df = pd.read_csv('Reviews.csv',nrows=100000)"
   ]
  },
  {
   "cell_type": "code",
   "execution_count": 6,
   "metadata": {},
   "outputs": [
    {
     "data": {
      "text/plain": [
       "(100000, 10)"
      ]
     },
     "execution_count": 6,
     "metadata": {},
     "output_type": "execute_result"
    }
   ],
   "source": [
    "df.shape"
   ]
  },
  {
   "cell_type": "code",
   "execution_count": 7,
   "metadata": {},
   "outputs": [
    {
     "data": {
      "text/html": [
       "<div>\n",
       "<style scoped>\n",
       "    .dataframe tbody tr th:only-of-type {\n",
       "        vertical-align: middle;\n",
       "    }\n",
       "\n",
       "    .dataframe tbody tr th {\n",
       "        vertical-align: top;\n",
       "    }\n",
       "\n",
       "    .dataframe thead th {\n",
       "        text-align: right;\n",
       "    }\n",
       "</style>\n",
       "<table border=\"1\" class=\"dataframe\">\n",
       "  <thead>\n",
       "    <tr style=\"text-align: right;\">\n",
       "      <th></th>\n",
       "      <th>Id</th>\n",
       "      <th>ProductId</th>\n",
       "      <th>UserId</th>\n",
       "      <th>ProfileName</th>\n",
       "      <th>HelpfulnessNumerator</th>\n",
       "      <th>HelpfulnessDenominator</th>\n",
       "      <th>Score</th>\n",
       "      <th>Time</th>\n",
       "      <th>Summary</th>\n",
       "      <th>Text</th>\n",
       "    </tr>\n",
       "  </thead>\n",
       "  <tbody>\n",
       "    <tr>\n",
       "      <td>0</td>\n",
       "      <td>1</td>\n",
       "      <td>B001E4KFG0</td>\n",
       "      <td>A3SGXH7AUHU8GW</td>\n",
       "      <td>delmartian</td>\n",
       "      <td>1</td>\n",
       "      <td>1</td>\n",
       "      <td>5</td>\n",
       "      <td>1303862400</td>\n",
       "      <td>Good Quality Dog Food</td>\n",
       "      <td>I have bought several of the Vitality canned d...</td>\n",
       "    </tr>\n",
       "    <tr>\n",
       "      <td>1</td>\n",
       "      <td>2</td>\n",
       "      <td>B00813GRG4</td>\n",
       "      <td>A1D87F6ZCVE5NK</td>\n",
       "      <td>dll pa</td>\n",
       "      <td>0</td>\n",
       "      <td>0</td>\n",
       "      <td>1</td>\n",
       "      <td>1346976000</td>\n",
       "      <td>Not as Advertised</td>\n",
       "      <td>Product arrived labeled as Jumbo Salted Peanut...</td>\n",
       "    </tr>\n",
       "    <tr>\n",
       "      <td>2</td>\n",
       "      <td>3</td>\n",
       "      <td>B000LQOCH0</td>\n",
       "      <td>ABXLMWJIXXAIN</td>\n",
       "      <td>Natalia Corres \"Natalia Corres\"</td>\n",
       "      <td>1</td>\n",
       "      <td>1</td>\n",
       "      <td>4</td>\n",
       "      <td>1219017600</td>\n",
       "      <td>\"Delight\" says it all</td>\n",
       "      <td>This is a confection that has been around a fe...</td>\n",
       "    </tr>\n",
       "    <tr>\n",
       "      <td>3</td>\n",
       "      <td>4</td>\n",
       "      <td>B000UA0QIQ</td>\n",
       "      <td>A395BORC6FGVXV</td>\n",
       "      <td>Karl</td>\n",
       "      <td>3</td>\n",
       "      <td>3</td>\n",
       "      <td>2</td>\n",
       "      <td>1307923200</td>\n",
       "      <td>Cough Medicine</td>\n",
       "      <td>If you are looking for the secret ingredient i...</td>\n",
       "    </tr>\n",
       "    <tr>\n",
       "      <td>4</td>\n",
       "      <td>5</td>\n",
       "      <td>B006K2ZZ7K</td>\n",
       "      <td>A1UQRSCLF8GW1T</td>\n",
       "      <td>Michael D. Bigham \"M. Wassir\"</td>\n",
       "      <td>0</td>\n",
       "      <td>0</td>\n",
       "      <td>5</td>\n",
       "      <td>1350777600</td>\n",
       "      <td>Great taffy</td>\n",
       "      <td>Great taffy at a great price.  There was a wid...</td>\n",
       "    </tr>\n",
       "  </tbody>\n",
       "</table>\n",
       "</div>"
      ],
      "text/plain": [
       "   Id   ProductId          UserId                      ProfileName  \\\n",
       "0   1  B001E4KFG0  A3SGXH7AUHU8GW                       delmartian   \n",
       "1   2  B00813GRG4  A1D87F6ZCVE5NK                           dll pa   \n",
       "2   3  B000LQOCH0   ABXLMWJIXXAIN  Natalia Corres \"Natalia Corres\"   \n",
       "3   4  B000UA0QIQ  A395BORC6FGVXV                             Karl   \n",
       "4   5  B006K2ZZ7K  A1UQRSCLF8GW1T    Michael D. Bigham \"M. Wassir\"   \n",
       "\n",
       "   HelpfulnessNumerator  HelpfulnessDenominator  Score        Time  \\\n",
       "0                     1                       1      5  1303862400   \n",
       "1                     0                       0      1  1346976000   \n",
       "2                     1                       1      4  1219017600   \n",
       "3                     3                       3      2  1307923200   \n",
       "4                     0                       0      5  1350777600   \n",
       "\n",
       "                 Summary                                               Text  \n",
       "0  Good Quality Dog Food  I have bought several of the Vitality canned d...  \n",
       "1      Not as Advertised  Product arrived labeled as Jumbo Salted Peanut...  \n",
       "2  \"Delight\" says it all  This is a confection that has been around a fe...  \n",
       "3         Cough Medicine  If you are looking for the secret ingredient i...  \n",
       "4            Great taffy  Great taffy at a great price.  There was a wid...  "
      ]
     },
     "execution_count": 7,
     "metadata": {},
     "output_type": "execute_result"
    }
   ],
   "source": [
    "df.head()"
   ]
  },
  {
   "cell_type": "code",
   "execution_count": 8,
   "metadata": {},
   "outputs": [
    {
     "data": {
      "text/plain": [
       "'I have bought several of the Vitality canned dog food products and have found them all to be of good quality. The product looks more like a stew than a processed meat and it smells better. My Labrador is finicky and she appreciates this product better than  most.'"
      ]
     },
     "execution_count": 8,
     "metadata": {},
     "output_type": "execute_result"
    }
   ],
   "source": [
    "df['Text'][0]"
   ]
  },
  {
   "cell_type": "code",
   "execution_count": 9,
   "metadata": {},
   "outputs": [],
   "source": [
    "df.drop_duplicates(subset=['Text'],inplace=True)\n",
    "df.dropna(axis=0,inplace=True) "
   ]
  },
  {
   "cell_type": "code",
   "execution_count": 10,
   "metadata": {},
   "outputs": [],
   "source": [
    "df.reset_index(drop=True, inplace=True)"
   ]
  },
  {
   "cell_type": "code",
   "execution_count": 11,
   "metadata": {},
   "outputs": [
    {
     "data": {
      "text/plain": [
       "Id                        0\n",
       "ProductId                 0\n",
       "UserId                    0\n",
       "ProfileName               0\n",
       "HelpfulnessNumerator      0\n",
       "HelpfulnessDenominator    0\n",
       "Score                     0\n",
       "Time                      0\n",
       "Summary                   0\n",
       "Text                      0\n",
       "dtype: int64"
      ]
     },
     "execution_count": 11,
     "metadata": {},
     "output_type": "execute_result"
    }
   ],
   "source": [
    "df.isnull().sum()"
   ]
  },
  {
   "cell_type": "code",
   "execution_count": 12,
   "metadata": {},
   "outputs": [],
   "source": [
    "data=df.drop(['Id','ProductId','UserId','ProfileName','HelpfulnessNumerator','HelpfulnessDenominator','Score','Time'],axis=1)"
   ]
  },
  {
   "cell_type": "code",
   "execution_count": 13,
   "metadata": {},
   "outputs": [
    {
     "data": {
      "text/html": [
       "<div>\n",
       "<style scoped>\n",
       "    .dataframe tbody tr th:only-of-type {\n",
       "        vertical-align: middle;\n",
       "    }\n",
       "\n",
       "    .dataframe tbody tr th {\n",
       "        vertical-align: top;\n",
       "    }\n",
       "\n",
       "    .dataframe thead th {\n",
       "        text-align: right;\n",
       "    }\n",
       "</style>\n",
       "<table border=\"1\" class=\"dataframe\">\n",
       "  <thead>\n",
       "    <tr style=\"text-align: right;\">\n",
       "      <th></th>\n",
       "      <th>Summary</th>\n",
       "      <th>Text</th>\n",
       "    </tr>\n",
       "  </thead>\n",
       "  <tbody>\n",
       "    <tr>\n",
       "      <td>0</td>\n",
       "      <td>Good Quality Dog Food</td>\n",
       "      <td>I have bought several of the Vitality canned d...</td>\n",
       "    </tr>\n",
       "    <tr>\n",
       "      <td>1</td>\n",
       "      <td>Not as Advertised</td>\n",
       "      <td>Product arrived labeled as Jumbo Salted Peanut...</td>\n",
       "    </tr>\n",
       "    <tr>\n",
       "      <td>2</td>\n",
       "      <td>\"Delight\" says it all</td>\n",
       "      <td>This is a confection that has been around a fe...</td>\n",
       "    </tr>\n",
       "    <tr>\n",
       "      <td>3</td>\n",
       "      <td>Cough Medicine</td>\n",
       "      <td>If you are looking for the secret ingredient i...</td>\n",
       "    </tr>\n",
       "    <tr>\n",
       "      <td>4</td>\n",
       "      <td>Great taffy</td>\n",
       "      <td>Great taffy at a great price.  There was a wid...</td>\n",
       "    </tr>\n",
       "  </tbody>\n",
       "</table>\n",
       "</div>"
      ],
      "text/plain": [
       "                 Summary                                               Text\n",
       "0  Good Quality Dog Food  I have bought several of the Vitality canned d...\n",
       "1      Not as Advertised  Product arrived labeled as Jumbo Salted Peanut...\n",
       "2  \"Delight\" says it all  This is a confection that has been around a fe...\n",
       "3         Cough Medicine  If you are looking for the secret ingredient i...\n",
       "4            Great taffy  Great taffy at a great price.  There was a wid..."
      ]
     },
     "execution_count": 13,
     "metadata": {},
     "output_type": "execute_result"
    }
   ],
   "source": [
    "data.head()"
   ]
  },
  {
   "cell_type": "code",
   "execution_count": 14,
   "metadata": {},
   "outputs": [
    {
     "name": "stdout",
     "output_type": "stream",
     "text": [
      "(88421, 2)\n",
      "Summary    0\n",
      "Text       0\n",
      "dtype: int64\n"
     ]
    }
   ],
   "source": [
    "print(data.shape)\n",
    "print(data.isnull().sum())"
   ]
  },
  {
   "cell_type": "code",
   "execution_count": 15,
   "metadata": {},
   "outputs": [
    {
     "data": {
      "text/plain": [
       "'YUMMY!'"
      ]
     },
     "execution_count": 15,
     "metadata": {},
     "output_type": "execute_result"
    }
   ],
   "source": [
    "data['Summary'][28]"
   ]
  },
  {
   "cell_type": "code",
   "execution_count": 16,
   "metadata": {},
   "outputs": [],
   "source": [
    "contractions = {\"ain't\": \"is not\", \"aren't\": \"are not\",\"can't\": \"cannot\", \"'cause\": \"because\", \"could've\": \"could have\", \"couldn't\": \"could not\",\n",
    "                           \"didn't\": \"did not\",  \"doesn't\": \"does not\", \"don't\": \"do not\", \"hadn't\": \"had not\", \"hasn't\": \"has not\", \"haven't\": \"have not\",\n",
    "                           \"he'd\": \"he would\",\"he'll\": \"he will\", \"he's\": \"he is\", \"how'd\": \"how did\", \"how'd'y\": \"how do you\", \"how'll\": \"how will\", \"how's\": \"how is\",\n",
    "                           \"I'd\": \"I would\", \"I'd've\": \"I would have\", \"I'll\": \"I will\", \"I'll've\": \"I will have\",\"I'm\": \"I am\", \"I've\": \"I have\", \"i'd\": \"i would\",\n",
    "                           \"i'd've\": \"i would have\", \"i'll\": \"i will\",  \"i'll've\": \"i will have\",\"i'm\": \"i am\", \"i've\": \"i have\", \"isn't\": \"is not\", \"it'd\": \"it would\",\n",
    "                           \"it'd've\": \"it would have\", \"it'll\": \"it will\", \"it'll've\": \"it will have\",\"it's\": \"it is\", \"let's\": \"let us\", \"ma'am\": \"madam\",\n",
    "                           \"mayn't\": \"may not\", \"might've\": \"might have\",\"mightn't\": \"might not\",\"mightn't've\": \"might not have\", \"must've\": \"must have\",\n",
    "                           \"mustn't\": \"must not\", \"mustn't've\": \"must not have\", \"needn't\": \"need not\", \"needn't've\": \"need not have\",\"o'clock\": \"of the clock\",\n",
    "                           \"oughtn't\": \"ought not\", \"oughtn't've\": \"ought not have\", \"shan't\": \"shall not\", \"sha'n't\": \"shall not\", \"shan't've\": \"shall not have\",\n",
    "                           \"she'd\": \"she would\", \"she'd've\": \"she would have\", \"she'll\": \"she will\", \"she'll've\": \"she will have\", \"she's\": \"she is\",\n",
    "                           \"should've\": \"should have\", \"shouldn't\": \"should not\", \"shouldn't've\": \"should not have\", \"so've\": \"so have\",\"so's\": \"so as\",\n",
    "                           \"this's\": \"this is\",\"that'd\": \"that would\", \"that'd've\": \"that would have\", \"that's\": \"that is\", \"there'd\": \"there would\",\n",
    "                           \"there'd've\": \"there would have\", \"there's\": \"there is\", \"here's\": \"here is\",\"they'd\": \"they would\", \"they'd've\": \"they would have\",\n",
    "                           \"they'll\": \"they will\", \"they'll've\": \"they will have\", \"they're\": \"they are\", \"they've\": \"they have\", \"to've\": \"to have\",\n",
    "                           \"wasn't\": \"was not\", \"we'd\": \"we would\", \"we'd've\": \"we would have\", \"we'll\": \"we will\", \"we'll've\": \"we will have\", \"we're\": \"we are\",\n",
    "                           \"we've\": \"we have\", \"weren't\": \"were not\", \"what'll\": \"what will\", \"what'll've\": \"what will have\", \"what're\": \"what are\",\n",
    "                           \"what's\": \"what is\", \"what've\": \"what have\", \"when's\": \"when is\", \"when've\": \"when have\", \"where'd\": \"where did\", \"where's\": \"where is\",\n",
    "                           \"where've\": \"where have\", \"who'll\": \"who will\", \"who'll've\": \"who will have\", \"who's\": \"who is\", \"who've\": \"who have\",\n",
    "                           \"why's\": \"why is\", \"why've\": \"why have\", \"will've\": \"will have\", \"won't\": \"will not\", \"won't've\": \"will not have\",\n",
    "                           \"would've\": \"would have\", \"wouldn't\": \"would not\", \"wouldn't've\": \"would not have\", \"y'all\": \"you all\",\n",
    "                           \"y'all'd\": \"you all would\",\"y'all'd've\": \"you all would have\",\"y'all're\": \"you all are\",\"y'all've\": \"you all have\",\n",
    "                           \"you'd\": \"you would\", \"you'd've\": \"you would have\", \"you'll\": \"you will\", \"you'll've\": \"you will have\",\n",
    "                           \"you're\": \"you are\", \"you've\": \"you have\"}"
   ]
  },
  {
   "cell_type": "code",
   "execution_count": 17,
   "metadata": {},
   "outputs": [
    {
     "data": {
      "text/plain": [
       "120"
      ]
     },
     "execution_count": 17,
     "metadata": {},
     "output_type": "execute_result"
    }
   ],
   "source": [
    "len(contractions)"
   ]
  },
  {
   "cell_type": "code",
   "execution_count": 18,
   "metadata": {},
   "outputs": [],
   "source": [
    "texts = []\n",
    "for i in range(len(data['Text'])):\n",
    "    words = data['Text'][i].lower().split(' ')\n",
    "    new_li = []\n",
    "    for w in words:\n",
    "        if w in contractions:\n",
    "            new_li.append(contractions[w])\n",
    "        else:\n",
    "            new_li.append(w)\n",
    "    \n",
    "    for ele in new_li:\n",
    "        if ele in stop_words:\n",
    "            new_li.remove(ele)\n",
    "            \n",
    "    string = \" \".join(new_li)\n",
    "    \n",
    "    text = re.sub(r'https?:\\/\\/.*[\\r\\n]*', '', string, flags=re.MULTILINE)\n",
    "    text = re.sub(r'\\<a href', ' ', text)\n",
    "    text = re.sub(r'&amp;', '', text) \n",
    "    text = re.sub(r'[_\"\\-;%()|+&=*%.,!?:#$@\\[\\]/]', ' ', text)\n",
    "    text = re.sub(r'<br />', ' ', text)\n",
    "    text = re.sub(r'\\'', ' ', text)\n",
    "    text = re.sub('[m]{2,}', 'mm', text)\n",
    "    \n",
    "    texts.append(text)"
   ]
  },
  {
   "cell_type": "code",
   "execution_count": 19,
   "metadata": {},
   "outputs": [
    {
     "data": {
      "text/plain": [
       "['have bought several vitality canned dog food products have found all be good quality  the product looks like stew a processed meat it smells better  labrador finicky she appreciates product better  most ',\n",
       " 'product arrived labeled jumbo salted peanuts   the peanuts actually small sized unsalted  sure this an error if vendor intended represent product  jumbo  ',\n",
       " 'confection has around few centuries   light  pillowy citrus gelatin nuts   case filberts  it is cut tiny squares then liberally coated powdered sugar   it is a tiny mouthful heaven   too chewy  very flavorful   highly recommend yummy treat   you familiar story c s  lewis   the lion  witch  the wardrobe    this is the treat seduces edmund selling his brother sisters the witch ',\n",
       " 'you looking secret ingredient robitussin believe have found it   got in addition the root beer extract ordered  which good  made cherry soda   the flavor very medicinal ',\n",
       " 'great taffy great price   wide assortment yummy taffy   delivery was very quick   your taffy lover  is a deal ']"
      ]
     },
     "execution_count": 19,
     "metadata": {},
     "output_type": "execute_result"
    }
   ],
   "source": [
    "texts[:5]"
   ]
  },
  {
   "cell_type": "code",
   "execution_count": 20,
   "metadata": {},
   "outputs": [],
   "source": [
    "summaries = []\n",
    "for i in range(len(data['Summary'])):\n",
    "    words = data['Summary'][i].lower().split(' ')\n",
    "    new_li = []\n",
    "    for w in words:\n",
    "        if w in contractions:\n",
    "            new_li.append(contractions[w])\n",
    "        else:\n",
    "            new_li.append(w)\n",
    "    \n",
    "    string = \" \".join(new_li)\n",
    "    text = re.sub(r'https?:\\/\\/.*[\\r\\n]*', '', string, flags=re.MULTILINE)\n",
    "    text = re.sub(r'\\<a href', ' ', text)\n",
    "    text = re.sub(r'&amp;', '', text) \n",
    "    text = re.sub(r'[_\"\\-;%()|+&=*%.,!?:#$@\\[\\]/]', ' ', text)\n",
    "    text = re.sub(r'<br />', ' ', text)\n",
    "    text = re.sub(r'\\'', ' ', text)\n",
    "    text = re.sub('[m]{2,}', 'mm', text)\n",
    "    \n",
    "    summaries.append(text)"
   ]
  },
  {
   "cell_type": "code",
   "execution_count": 21,
   "metadata": {},
   "outputs": [
    {
     "data": {
      "text/plain": [
       "['good quality dog food',\n",
       " 'not as advertised',\n",
       " ' delight  says it all',\n",
       " 'cough medicine',\n",
       " 'great taffy']"
      ]
     },
     "execution_count": 21,
     "metadata": {},
     "output_type": "execute_result"
    }
   ],
   "source": [
    "summaries[:5]"
   ]
  },
  {
   "cell_type": "code",
   "execution_count": 22,
   "metadata": {},
   "outputs": [
    {
     "data": {
      "text/plain": [
       "(88421, 88421)"
      ]
     },
     "execution_count": 22,
     "metadata": {},
     "output_type": "execute_result"
    }
   ],
   "source": [
    "len(texts),len(summaries)"
   ]
  },
  {
   "cell_type": "code",
   "execution_count": 23,
   "metadata": {},
   "outputs": [
    {
     "name": "stdout",
     "output_type": "stream",
     "text": [
      "Text :  have bought several vitality canned dog food products have found all be good quality  the product looks like stew a processed meat it smells better  labrador finicky she appreciates product better  most \n",
      "Summary :  good quality dog food\n",
      "\n",
      "Text :  product arrived labeled jumbo salted peanuts   the peanuts actually small sized unsalted  sure this an error if vendor intended represent product  jumbo  \n",
      "Summary :  not as advertised\n",
      "\n",
      "Text :  confection has around few centuries   light  pillowy citrus gelatin nuts   case filberts  it is cut tiny squares then liberally coated powdered sugar   it is a tiny mouthful heaven   too chewy  very flavorful   highly recommend yummy treat   you familiar story c s  lewis   the lion  witch  the wardrobe    this is the treat seduces edmund selling his brother sisters the witch \n",
      "Summary :   delight  says it all\n",
      "\n",
      "Text :  you looking secret ingredient robitussin believe have found it   got in addition the root beer extract ordered  which good  made cherry soda   the flavor very medicinal \n",
      "Summary :  cough medicine\n",
      "\n",
      "Text :  great taffy great price   wide assortment yummy taffy   delivery was very quick   your taffy lover  is a deal \n",
      "Summary :  great taffy\n",
      "\n"
     ]
    }
   ],
   "source": [
    "for i in range(5):\n",
    "    print(\"Text : \",texts[i])\n",
    "    print(\"Summary : \",summaries[i])\n",
    "    print()"
   ]
  },
  {
   "cell_type": "code",
   "execution_count": 24,
   "metadata": {},
   "outputs": [],
   "source": [
    "max_len_summary=8\n",
    "max_len_text = 40"
   ]
  },
  {
   "cell_type": "code",
   "execution_count": 25,
   "metadata": {},
   "outputs": [],
   "source": [
    "import tensorflow as tf\n",
    "from tensorflow import keras\n",
    "from tensorflow.keras.preprocessing.text import Tokenizer\n",
    "from tensorflow.keras.preprocessing.sequence import pad_sequences"
   ]
  },
  {
   "cell_type": "code",
   "execution_count": 26,
   "metadata": {},
   "outputs": [],
   "source": [
    "short_texts = []\n",
    "short_summaries = []\n",
    "for i in range(len(texts)):\n",
    "    if len(texts[i].split())<=40 and len(summaries[i].split())<=8:\n",
    "        short_texts.append(texts[i])\n",
    "        short_summaries.append('start '+summaries[i]+' end')"
   ]
  },
  {
   "cell_type": "code",
   "execution_count": 27,
   "metadata": {},
   "outputs": [
    {
     "data": {
      "text/plain": [
       "['have bought several vitality canned dog food products have found all be good quality  the product looks like stew a processed meat it smells better  labrador finicky she appreciates product better  most ',\n",
       " 'product arrived labeled jumbo salted peanuts   the peanuts actually small sized unsalted  sure this an error if vendor intended represent product  jumbo  ',\n",
       " 'you looking secret ingredient robitussin believe have found it   got in addition the root beer extract ordered  which good  made cherry soda   the flavor very medicinal ',\n",
       " 'great taffy great price   wide assortment yummy taffy   delivery was very quick   your taffy lover  is a deal ',\n",
       " 'saltwater taffy great flavors soft chewy   candy was individually wrapped well   none the candies stuck together  did happen the expensive version  fralinger s   would highly recommend candy   served at beach themed party everyone loved it ']"
      ]
     },
     "execution_count": 27,
     "metadata": {},
     "output_type": "execute_result"
    }
   ],
   "source": [
    "short_texts[:5]"
   ]
  },
  {
   "cell_type": "code",
   "execution_count": 28,
   "metadata": {},
   "outputs": [
    {
     "data": {
      "text/plain": [
       "['start good quality dog food end',\n",
       " 'start not as advertised end',\n",
       " 'start cough medicine end',\n",
       " 'start great taffy end',\n",
       " 'start great   just as good as the expensive brands  end']"
      ]
     },
     "execution_count": 28,
     "metadata": {},
     "output_type": "execute_result"
    }
   ],
   "source": [
    "short_summaries[:5]"
   ]
  },
  {
   "cell_type": "code",
   "execution_count": 29,
   "metadata": {},
   "outputs": [
    {
     "data": {
      "text/plain": [
       "(43499, 43499)"
      ]
     },
     "execution_count": 29,
     "metadata": {},
     "output_type": "execute_result"
    }
   ],
   "source": [
    "len(short_texts),len(short_summaries)"
   ]
  },
  {
   "cell_type": "code",
   "execution_count": 30,
   "metadata": {},
   "outputs": [],
   "source": [
    "from sklearn.model_selection import train_test_split\n",
    "x_tr,x_val,y_tr,y_val=train_test_split(short_texts,short_summaries,test_size=0.1,random_state=0,shuffle=True) "
   ]
  },
  {
   "cell_type": "code",
   "execution_count": 31,
   "metadata": {},
   "outputs": [
    {
     "data": {
      "text/plain": [
       "(39149, 39149)"
      ]
     },
     "execution_count": 31,
     "metadata": {},
     "output_type": "execute_result"
    }
   ],
   "source": [
    "len(x_tr),len(y_tr)"
   ]
  },
  {
   "cell_type": "code",
   "execution_count": 84,
   "metadata": {},
   "outputs": [],
   "source": [
    "# Text Tokenizer\n",
    "\n",
    "tokenizer_text = Tokenizer()\n",
    "tokenizer_text.fit_on_texts(short_texts)\n",
    "\n",
    "thresh=4\n",
    "\n",
    "cnt=0\n",
    "tot_cnt=0\n",
    "freq=0\n",
    "tot_freq=0\n",
    "\n",
    "for key,value in tokenizer_text.word_counts.items():\n",
    "    tot_cnt=tot_cnt+1\n",
    "    tot_freq=tot_freq+value\n",
    "    if(value<thresh):\n",
    "        cnt=cnt+1\n",
    "        freq=freq+value\n",
    "\n",
    "common = tot_cnt-cnt\n",
    "\n",
    "tokenizer_text = Tokenizer(num_words = common)\n",
    "tokenizer_text.fit_on_texts(short_texts)\n",
    "word_index_text = tokenizer_text.word_index\n",
    "sequences_texts = tokenizer_text.texts_to_sequences(short_texts)\n",
    "x_tr = pad_sequences(sequences_texts, maxlen=max_len_text,padding='post')"
   ]
  },
  {
   "cell_type": "code",
   "execution_count": 85,
   "metadata": {},
   "outputs": [],
   "source": [
    "# Summary Tokenizer\n",
    "\n",
    "tokenizer_summary = Tokenizer()\n",
    "tokenizer_summary.fit_on_texts(short_summaries)\n",
    "\n",
    "thresh=6\n",
    "\n",
    "cnt=0\n",
    "tot_cnt=0\n",
    "freq=0\n",
    "tot_freq=0\n",
    "\n",
    "for key,value in tokenizer_summary.word_counts.items():\n",
    "    tot_cnt=tot_cnt+1\n",
    "    tot_freq=tot_freq+value\n",
    "    if(value<thresh):\n",
    "        cnt=cnt+1\n",
    "        freq=freq+value\n",
    "\n",
    "common_summ = tot_cnt-cnt  \n",
    "\n",
    "tokenizer_summary = Tokenizer(num_words = common_summ)\n",
    "tokenizer_summary.fit_on_texts(short_summaries)\n",
    "word_index_summary = tokenizer_summary.word_index\n",
    "sequences_summaries = tokenizer_summary.texts_to_sequences(short_summaries)\n",
    "y_tr = pad_sequences(sequences_summaries, maxlen=max_len_summary,padding='post')"
   ]
  },
  {
   "cell_type": "code",
   "execution_count": 34,
   "metadata": {},
   "outputs": [
    {
     "data": {
      "text/plain": [
       "43522"
      ]
     },
     "execution_count": 34,
     "metadata": {},
     "output_type": "execute_result"
    }
   ],
   "source": [
    "tokenizer_summary.word_counts['start']"
   ]
  },
  {
   "cell_type": "code",
   "execution_count": 35,
   "metadata": {},
   "outputs": [],
   "source": [
    "len_word_index_text = common+1\n",
    "len_word_index_summary = common_summ+1"
   ]
  },
  {
   "cell_type": "code",
   "execution_count": 36,
   "metadata": {},
   "outputs": [
    {
     "data": {
      "text/plain": [
       "(8675, 2044)"
      ]
     },
     "execution_count": 36,
     "metadata": {},
     "output_type": "execute_result"
    }
   ],
   "source": [
    "len_word_index_text , len_word_index_summary"
   ]
  },
  {
   "cell_type": "code",
   "execution_count": 37,
   "metadata": {},
   "outputs": [
    {
     "name": "stderr",
     "output_type": "stream",
     "text": [
      "Using TensorFlow backend.\n"
     ]
    }
   ],
   "source": [
    "from keras.layers import Bidirectional, Concatenate, Permute, Dot, Input, LSTM, Multiply\n",
    "from keras.layers import RepeatVector, Dense, Activation, Lambda\n",
    "from keras.optimizers import Adam\n",
    "from keras.utils import to_categorical\n",
    "from keras.models import load_model, Model\n",
    "import keras.backend as K\n",
    "import random\n",
    "import matplotlib.pyplot as plt\n",
    "%matplotlib inline\n"
   ]
  },
  {
   "cell_type": "code",
   "execution_count": 38,
   "metadata": {},
   "outputs": [],
   "source": [
    "from attention import AttentionLayer"
   ]
  },
  {
   "cell_type": "code",
   "execution_count": 39,
   "metadata": {},
   "outputs": [],
   "source": [
    "from tensorflow.keras.layers import Input, LSTM, Embedding, Dense, Concatenate, TimeDistributed\n",
    "from tensorflow.keras.models import Model\n",
    "from tensorflow.keras.callbacks import EarlyStopping"
   ]
  },
  {
   "cell_type": "code",
   "execution_count": 43,
   "metadata": {},
   "outputs": [],
   "source": [
    "ind=[]\n",
    "for i in range(len(y_tr)):\n",
    "    cnt=0\n",
    "    for j in y_tr[i]:\n",
    "        if j!=0:\n",
    "            cnt=cnt+1\n",
    "    if(cnt==2):\n",
    "        ind.append(i)\n",
    "\n",
    "y_tr=np.delete(y_tr,ind, axis=0)\n",
    "x_tr=np.delete(x_tr,ind, axis=0)"
   ]
  },
  {
   "cell_type": "code",
   "execution_count": 44,
   "metadata": {},
   "outputs": [
    {
     "data": {
      "text/plain": [
       "(42374, 42374)"
      ]
     },
     "execution_count": 44,
     "metadata": {},
     "output_type": "execute_result"
    }
   ],
   "source": [
    "len(x_tr),len(y_tr)"
   ]
  },
  {
   "cell_type": "code",
   "execution_count": 45,
   "metadata": {},
   "outputs": [
    {
     "name": "stdout",
     "output_type": "stream",
     "text": [
      "WARNING:tensorflow:From C:\\Users\\Arshit\\Anaconda3\\lib\\site-packages\\tensorflow_core\\python\\keras\\initializers.py:119: calling RandomUniform.__init__ (from tensorflow.python.ops.init_ops) with dtype is deprecated and will be removed in a future version.\n",
      "Instructions for updating:\n",
      "Call initializer instance with the dtype argument instead of passing it to the constructor\n",
      "WARNING:tensorflow:From C:\\Users\\Arshit\\Anaconda3\\lib\\site-packages\\tensorflow_core\\python\\ops\\resource_variable_ops.py:1630: calling BaseResourceVariable.__init__ (from tensorflow.python.ops.resource_variable_ops) with constraint is deprecated and will be removed in a future version.\n",
      "Instructions for updating:\n",
      "If using Keras pass *_constraint arguments to layers.\n",
      "Model: \"model\"\n",
      "__________________________________________________________________________________________________\n",
      "Layer (type)                    Output Shape         Param #     Connected to                     \n",
      "==================================================================================================\n",
      "input_1 (InputLayer)            [(None, 40)]         0                                            \n",
      "__________________________________________________________________________________________________\n",
      "embedding (Embedding)           (None, 40, 100)      867500      input_1[0][0]                    \n",
      "__________________________________________________________________________________________________\n",
      "lstm (LSTM)                     [(None, 40, 500), (N 1202000     embedding[0][0]                  \n",
      "__________________________________________________________________________________________________\n",
      "input_2 (InputLayer)            [(None, None)]       0                                            \n",
      "__________________________________________________________________________________________________\n",
      "lstm_1 (LSTM)                   [(None, 40, 500), (N 2002000     lstm[0][0]                       \n",
      "__________________________________________________________________________________________________\n",
      "embedding_1 (Embedding)         (None, None, 100)    204400      input_2[0][0]                    \n",
      "__________________________________________________________________________________________________\n",
      "lstm_2 (LSTM)                   [(None, 40, 500), (N 2002000     lstm_1[0][0]                     \n",
      "__________________________________________________________________________________________________\n",
      "lstm_3 (LSTM)                   [(None, None, 500),  1202000     embedding_1[0][0]                \n",
      "                                                                 lstm_2[0][1]                     \n",
      "                                                                 lstm_2[0][2]                     \n",
      "__________________________________________________________________________________________________\n",
      "attention_layer (AttentionLayer ((None, None, 500),  500500      lstm_2[0][0]                     \n",
      "                                                                 lstm_3[0][0]                     \n",
      "__________________________________________________________________________________________________\n",
      "concat_layer (Concatenate)      (None, None, 1000)   0           lstm_3[0][0]                     \n",
      "                                                                 attention_layer[0][0]            \n",
      "__________________________________________________________________________________________________\n",
      "time_distributed (TimeDistribut (None, None, 2044)   2046044     concat_layer[0][0]               \n",
      "==================================================================================================\n",
      "Total params: 10,026,444\n",
      "Trainable params: 10,026,444\n",
      "Non-trainable params: 0\n",
      "__________________________________________________________________________________________________\n"
     ]
    }
   ],
   "source": [
    "\n",
    "from keras import backend as K \n",
    "K.clear_session()\n",
    "\n",
    "latent_dim = 500\n",
    "embedding_dim=100\n",
    "\n",
    "# Encoder\n",
    "encoder_inputs = Input(shape=(max_len_text,))\n",
    "enc_emb =  Embedding(len_word_index_text, embedding_dim,trainable=True)(encoder_inputs)\n",
    "\n",
    "encoder_lstm1 = LSTM(latent_dim,return_sequences=True,return_state=True,dropout=0.4,recurrent_dropout=0.4)\n",
    "encoder_output1, state_h1, state_c1 = encoder_lstm1(enc_emb)\n",
    "\n",
    "encoder_lstm2 = LSTM(latent_dim,return_sequences=True,return_state=True,dropout=0.4,recurrent_dropout=0.4)\n",
    "encoder_output2, state_h2, state_c2 = encoder_lstm2(encoder_output1)\n",
    "\n",
    "encoder_lstm3=LSTM(latent_dim, return_state=True, return_sequences=True,dropout=0.4,recurrent_dropout=0.4)\n",
    "encoder_outputs, state_h, state_c= encoder_lstm3(encoder_output2)\n",
    "\n",
    "# Decoder\n",
    "decoder_inputs = Input(shape=(None,))\n",
    "\n",
    "dec_emb_layer = Embedding(len_word_index_summary, embedding_dim,trainable=True)\n",
    "dec_emb = dec_emb_layer(decoder_inputs)\n",
    "\n",
    "decoder_lstm = LSTM(latent_dim, return_sequences=True, return_state=True,dropout=0.4,recurrent_dropout=0.2)\n",
    "decoder_outputs,decoder_fwd_state, decoder_back_state = decoder_lstm(dec_emb,initial_state=[state_h, state_c])\n",
    "\n",
    "# Attention layer\n",
    "attn_layer = AttentionLayer(name='attention_layer')\n",
    "attn_out, attn_states = attn_layer([encoder_outputs, decoder_outputs])\n",
    "\n",
    "decoder_concat_input = Concatenate(axis=-1, name='concat_layer')([decoder_outputs, attn_out])\n",
    "\n",
    "decoder_dense =  TimeDistributed(Dense(len_word_index_summary, activation='softmax'))\n",
    "decoder_outputs = decoder_dense(decoder_concat_input)\n",
    "\n",
    "model = Model([encoder_inputs, decoder_inputs], decoder_outputs)\n",
    "\n",
    "model.summary()"
   ]
  },
  {
   "cell_type": "code",
   "execution_count": 46,
   "metadata": {},
   "outputs": [],
   "source": [
    "model.compile(optimizer='rmsprop', loss='sparse_categorical_crossentropy',metrics=['accuracy'])"
   ]
  },
  {
   "cell_type": "code",
   "execution_count": 58,
   "metadata": {
    "scrolled": true
   },
   "outputs": [
    {
     "name": "stdout",
     "output_type": "stream",
     "text": [
      "Train on 42374 samples\n",
      "Epoch 1/30\n"
     ]
    },
    {
     "name": "stdout",
     "output_type": "stream",
     "text": [
      "25984/42374 [=================>............] - ETA: 24:53 - loss: 3.1551 - acc: 0.49 - ETA: 25:17 - loss: 3.1857 - acc: 0.50 - ETA: 24:55 - loss: 3.2319 - acc: 0.49 - ETA: 24:38 - loss: 3.2412 - acc: 0.50 - ETA: 24:26 - loss: 3.2405 - acc: 0.49 - ETA: 24:20 - loss: 3.2606 - acc: 0.49 - ETA: 24:10 - loss: 3.2245 - acc: 0.50 - ETA: 24:03 - loss: 3.1828 - acc: 0.51 - ETA: 24:06 - loss: 3.1607 - acc: 0.51 - ETA: 24:17 - loss: 3.1694 - acc: 0.51 - ETA: 24:09 - loss: 3.1497 - acc: 0.51 - ETA: 24:01 - loss: 3.1403 - acc: 0.52 - ETA: 24:02 - loss: 3.1374 - acc: 0.51 - ETA: 23:58 - loss: 3.1346 - acc: 0.52 - ETA: 23:54 - loss: 3.1303 - acc: 0.52 - ETA: 23:53 - loss: 3.1243 - acc: 0.52 - ETA: 23:50 - loss: 3.1064 - acc: 0.52 - ETA: 23:46 - loss: 3.0944 - acc: 0.53 - ETA: 23:44 - loss: 3.1072 - acc: 0.52 - ETA: 23:41 - loss: 3.1019 - acc: 0.53 - ETA: 23:37 - loss: 3.0930 - acc: 0.53 - ETA: 23:34 - loss: 3.0867 - acc: 0.53 - ETA: 23:31 - loss: 3.0825 - acc: 0.53 - ETA: 23:29 - loss: 3.0761 - acc: 0.53 - ETA: 23:25 - loss: 3.0689 - acc: 0.54 - ETA: 23:22 - loss: 3.0636 - acc: 0.54 - ETA: 23:20 - loss: 3.0588 - acc: 0.54 - ETA: 23:16 - loss: 3.0498 - acc: 0.54 - ETA: 23:12 - loss: 3.0477 - acc: 0.54 - ETA: 23:10 - loss: 3.0400 - acc: 0.54 - ETA: 23:08 - loss: 3.0347 - acc: 0.54 - ETA: 23:05 - loss: 3.0286 - acc: 0.54 - ETA: 23:03 - loss: 3.0295 - acc: 0.55 - ETA: 23:00 - loss: 3.0244 - acc: 0.55 - ETA: 22:57 - loss: 3.0243 - acc: 0.55 - ETA: 22:53 - loss: 3.0261 - acc: 0.55 - ETA: 22:49 - loss: 3.0220 - acc: 0.55 - ETA: 22:46 - loss: 3.0229 - acc: 0.55 - ETA: 22:42 - loss: 3.0211 - acc: 0.55 - ETA: 22:39 - loss: 3.0159 - acc: 0.55 - ETA: 22:37 - loss: 3.0127 - acc: 0.55 - ETA: 22:33 - loss: 3.0030 - acc: 0.55 - ETA: 22:30 - loss: 3.0014 - acc: 0.55 - ETA: 22:26 - loss: 3.0001 - acc: 0.55 - ETA: 22:23 - loss: 2.9995 - acc: 0.55 - ETA: 22:19 - loss: 2.9989 - acc: 0.55 - ETA: 22:17 - loss: 2.9973 - acc: 0.55 - ETA: 22:13 - loss: 2.9931 - acc: 0.55 - ETA: 22:09 - loss: 2.9951 - acc: 0.55 - ETA: 22:06 - loss: 2.9946 - acc: 0.55 - ETA: 22:02 - loss: 2.9895 - acc: 0.55 - ETA: 21:58 - loss: 2.9850 - acc: 0.55 - ETA: 21:55 - loss: 2.9805 - acc: 0.55 - ETA: 21:52 - loss: 2.9730 - acc: 0.56 - ETA: 21:49 - loss: 2.9742 - acc: 0.56 - ETA: 21:45 - loss: 2.9736 - acc: 0.56 - ETA: 21:42 - loss: 2.9712 - acc: 0.56 - ETA: 21:38 - loss: 2.9649 - acc: 0.56 - ETA: 21:34 - loss: 2.9598 - acc: 0.56 - ETA: 21:30 - loss: 2.9594 - acc: 0.56 - ETA: 21:26 - loss: 2.9568 - acc: 0.56 - ETA: 21:22 - loss: 2.9563 - acc: 0.56 - ETA: 21:18 - loss: 2.9533 - acc: 0.56 - ETA: 21:14 - loss: 2.9501 - acc: 0.56 - ETA: 21:10 - loss: 2.9490 - acc: 0.56 - ETA: 21:06 - loss: 2.9458 - acc: 0.56 - ETA: 21:02 - loss: 2.9447 - acc: 0.56 - ETA: 20:58 - loss: 2.9426 - acc: 0.56 - ETA: 20:55 - loss: 2.9366 - acc: 0.56 - ETA: 20:51 - loss: 2.9317 - acc: 0.56 - ETA: 20:47 - loss: 2.9278 - acc: 0.56 - ETA: 20:43 - loss: 2.9273 - acc: 0.56 - ETA: 20:39 - loss: 2.9251 - acc: 0.56 - ETA: 20:35 - loss: 2.9210 - acc: 0.56 - ETA: 20:31 - loss: 2.9204 - acc: 0.56 - ETA: 20:26 - loss: 2.9182 - acc: 0.56 - ETA: 20:22 - loss: 2.9185 - acc: 0.56 - ETA: 20:18 - loss: 2.9164 - acc: 0.56 - ETA: 20:14 - loss: 2.9127 - acc: 0.56 - ETA: 20:10 - loss: 2.9085 - acc: 0.56 - ETA: 20:06 - loss: 2.9077 - acc: 0.56 - ETA: 20:01 - loss: 2.9073 - acc: 0.56 - ETA: 19:57 - loss: 2.9069 - acc: 0.56 - ETA: 19:53 - loss: 2.9036 - acc: 0.56 - ETA: 19:49 - loss: 2.9004 - acc: 0.56 - ETA: 19:44 - loss: 2.8989 - acc: 0.57 - ETA: 19:40 - loss: 2.8976 - acc: 0.57 - ETA: 19:37 - loss: 2.8970 - acc: 0.57 - ETA: 19:32 - loss: 2.8978 - acc: 0.57 - ETA: 19:28 - loss: 2.8965 - acc: 0.57 - ETA: 19:24 - loss: 2.8951 - acc: 0.57 - ETA: 19:20 - loss: 2.8939 - acc: 0.57 - ETA: 19:17 - loss: 2.8941 - acc: 0.57 - ETA: 19:16 - loss: 2.8939 - acc: 0.57 - ETA: 19:12 - loss: 2.8920 - acc: 0.57 - ETA: 19:07 - loss: 2.8928 - acc: 0.57 - ETA: 19:04 - loss: 2.8909 - acc: 0.57 - ETA: 18:59 - loss: 2.8879 - acc: 0.57 - ETA: 18:55 - loss: 2.8875 - acc: 0.57 - ETA: 18:51 - loss: 2.8861 - acc: 0.57 - ETA: 18:47 - loss: 2.8852 - acc: 0.57 - ETA: 18:42 - loss: 2.8849 - acc: 0.57 - ETA: 18:38 - loss: 2.8841 - acc: 0.57 - ETA: 18:34 - loss: 2.8841 - acc: 0.57 - ETA: 18:29 - loss: 2.8829 - acc: 0.57 - ETA: 18:25 - loss: 2.8825 - acc: 0.57 - ETA: 18:21 - loss: 2.8806 - acc: 0.57 - ETA: 18:16 - loss: 2.8771 - acc: 0.57 - ETA: 18:11 - loss: 2.8750 - acc: 0.57 - ETA: 18:07 - loss: 2.8746 - acc: 0.57 - ETA: 18:02 - loss: 2.8754 - acc: 0.57 - ETA: 17:58 - loss: 2.8754 - acc: 0.57 - ETA: 17:54 - loss: 2.8763 - acc: 0.57 - ETA: 17:49 - loss: 2.8741 - acc: 0.57 - ETA: 17:44 - loss: 2.8745 - acc: 0.57 - ETA: 17:40 - loss: 2.8728 - acc: 0.57 - ETA: 17:35 - loss: 2.8717 - acc: 0.57 - ETA: 17:30 - loss: 2.8705 - acc: 0.57 - ETA: 17:26 - loss: 2.8686 - acc: 0.57 - ETA: 17:21 - loss: 2.8672 - acc: 0.57 - ETA: 17:16 - loss: 2.8655 - acc: 0.57 - ETA: 17:12 - loss: 2.8651 - acc: 0.57 - ETA: 17:07 - loss: 2.8640 - acc: 0.57 - ETA: 17:02 - loss: 2.8624 - acc: 0.57 - ETA: 16:58 - loss: 2.8605 - acc: 0.57 - ETA: 16:53 - loss: 2.8589 - acc: 0.57 - ETA: 16:49 - loss: 2.8589 - acc: 0.57 - ETA: 16:46 - loss: 2.8592 - acc: 0.57 - ETA: 16:42 - loss: 2.8568 - acc: 0.57 - ETA: 16:41 - loss: 2.8549 - acc: 0.57 - ETA: 16:39 - loss: 2.8540 - acc: 0.57 - ETA: 16:38 - loss: 2.8531 - acc: 0.57 - ETA: 16:35 - loss: 2.8519 - acc: 0.57 - ETA: 16:30 - loss: 2.8516 - acc: 0.57 - ETA: 16:26 - loss: 2.8503 - acc: 0.57 - ETA: 16:22 - loss: 2.8493 - acc: 0.57 - ETA: 16:18 - loss: 2.8485 - acc: 0.57 - ETA: 16:18 - loss: 2.8468 - acc: 0.57 - ETA: 16:19 - loss: 2.8457 - acc: 0.57 - ETA: 16:18 - loss: 2.8447 - acc: 0.57 - ETA: 16:16 - loss: 2.8428 - acc: 0.57 - ETA: 16:14 - loss: 2.8441 - acc: 0.57 - ETA: 16:10 - loss: 2.8430 - acc: 0.57 - ETA: 16:05 - loss: 2.8419 - acc: 0.57 - ETA: 16:03 - loss: 2.8555 - acc: 0.57 - ETA: 16:02 - loss: 2.8629 - acc: 0.57 - ETA: 15:59 - loss: 2.8601 - acc: 0.57 - ETA: 15:56 - loss: 2.8605 - acc: 0.57 - ETA: 15:52 - loss: 2.8607 - acc: 0.57 - ETA: 15:48 - loss: 2.8601 - acc: 0.57 - ETA: 15:43 - loss: 2.8588 - acc: 0.57 - ETA: 15:40 - loss: 2.8580 - acc: 0.57 - ETA: 15:36 - loss: 2.8550 - acc: 0.57 - ETA: 15:31 - loss: 2.8538 - acc: 0.57 - ETA: 15:27 - loss: 2.8535 - acc: 0.57 - ETA: 15:23 - loss: 2.8530 - acc: 0.57 - ETA: 15:19 - loss: 2.8525 - acc: 0.57 - ETA: 15:15 - loss: 2.8508 - acc: 0.57 - ETA: 15:12 - loss: 2.8498 - acc: 0.57 - ETA: 15:08 - loss: 2.8475 - acc: 0.57 - ETA: 15:04 - loss: 2.8462 - acc: 0.57 - ETA: 15:00 - loss: 2.8446 - acc: 0.57 - ETA: 14:57 - loss: 2.8447 - acc: 0.57 - ETA: 14:53 - loss: 2.8441 - acc: 0.57 - ETA: 14:49 - loss: 2.8435 - acc: 0.57 - ETA: 14:44 - loss: 2.8424 - acc: 0.57 - ETA: 14:40 - loss: 2.8412 - acc: 0.57 - ETA: 14:36 - loss: 2.8400 - acc: 0.57 - ETA: 14:32 - loss: 2.8385 - acc: 0.57 - ETA: 14:28 - loss: 2.8389 - acc: 0.57 - ETA: 14:24 - loss: 2.8382 - acc: 0.57 - ETA: 14:20 - loss: 2.8366 - acc: 0.57 - ETA: 14:16 - loss: 2.8352 - acc: 0.57 - ETA: 14:11 - loss: 2.8345 - acc: 0.57 - ETA: 14:07 - loss: 2.8337 - acc: 0.57 - ETA: 14:03 - loss: 2.8328 - acc: 0.57 - ETA: 13:58 - loss: 2.8324 - acc: 0.57 - ETA: 13:54 - loss: 2.8326 - acc: 0.57 - ETA: 13:49 - loss: 2.8311 - acc: 0.57 - ETA: 13:44 - loss: 2.8306 - acc: 0.57 - ETA: 13:39 - loss: 2.8298 - acc: 0.57 - ETA: 13:34 - loss: 2.8284 - acc: 0.57 - ETA: 13:29 - loss: 2.8278 - acc: 0.57 - ETA: 13:24 - loss: 2.8291 - acc: 0.57 - ETA: 13:19 - loss: 2.8281 - acc: 0.57 - ETA: 13:14 - loss: 2.8277 - acc: 0.57 - ETA: 13:08 - loss: 2.8269 - acc: 0.57 - ETA: 13:03 - loss: 2.8259 - acc: 0.57 - ETA: 12:58 - loss: 2.8251 - acc: 0.57 - ETA: 12:52 - loss: 2.8241 - acc: 0.57 - ETA: 12:47 - loss: 2.8235 - acc: 0.57 - ETA: 12:42 - loss: 2.8229 - acc: 0.57 - ETA: 12:36 - loss: 2.8222 - acc: 0.57 - ETA: 12:31 - loss: 2.8213 - acc: 0.57 - ETA: 12:26 - loss: 2.8212 - acc: 0.57 - ETA: 12:21 - loss: 2.8197 - acc: 0.57 - ETA: 12:16 - loss: 2.8196 - acc: 0.57 - ETA: 12:11 - loss: 2.8182 - acc: 0.57 - ETA: 12:06 - loss: 2.8165 - acc: 0.57 - ETA: 12:00 - loss: 2.8163 - acc: 0.57 - ETA: 11:55 - loss: 2.8158 - acc: 0.57 - ETA: 11:50 - loss: 2.8162 - acc: 0.57 - ETA: 11:45 - loss: 2.8153 - acc: 0.5771\b\b\b\b\b\b\b\b\b\b\b\b\b\b\b\b\b\b\b\b\b\b\b\b\b\b\b\b\b\b\b\b\b\b\b\b\b\b\b\b\b\b\b\b\b\b\b\b\b\b\b\b\b\b\b\b\b\b\b\b\b\b\b\b\b\b\b\b\b\b\b\b\b\b\b\b\b\b\b\b\b\b\b\b\b\b"
     ]
    },
    {
     "name": "stdout",
     "output_type": "stream",
     "text": [
      "42374/42374 [==============================] - ETA: 11:39 - loss: 2.8145 - acc: 0.57 - ETA: 11:34 - loss: 2.8138 - acc: 0.57 - ETA: 11:29 - loss: 2.8137 - acc: 0.57 - ETA: 11:24 - loss: 2.8134 - acc: 0.57 - ETA: 11:18 - loss: 2.8140 - acc: 0.57 - ETA: 11:13 - loss: 2.8135 - acc: 0.57 - ETA: 11:08 - loss: 2.8137 - acc: 0.57 - ETA: 11:02 - loss: 2.8132 - acc: 0.57 - ETA: 10:57 - loss: 2.8133 - acc: 0.57 - ETA: 10:52 - loss: 2.8135 - acc: 0.57 - ETA: 10:47 - loss: 2.8126 - acc: 0.57 - ETA: 10:41 - loss: 2.8128 - acc: 0.57 - ETA: 10:36 - loss: 2.8128 - acc: 0.57 - ETA: 10:30 - loss: 2.8122 - acc: 0.57 - ETA: 10:25 - loss: 2.8116 - acc: 0.57 - ETA: 10:20 - loss: 2.8100 - acc: 0.57 - ETA: 10:14 - loss: 2.8092 - acc: 0.57 - ETA: 10:09 - loss: 2.8072 - acc: 0.57 - ETA: 10:04 - loss: 2.8071 - acc: 0.57 - ETA: 9:58 - loss: 2.8067 - acc: 0.5776 - ETA: 9:53 - loss: 2.8055 - acc: 0.577 - ETA: 9:48 - loss: 2.8054 - acc: 0.577 - ETA: 9:42 - loss: 2.8044 - acc: 0.577 - ETA: 9:37 - loss: 2.8040 - acc: 0.577 - ETA: 9:31 - loss: 2.8039 - acc: 0.577 - ETA: 9:26 - loss: 2.8036 - acc: 0.577 - ETA: 9:21 - loss: 2.8036 - acc: 0.577 - ETA: 9:15 - loss: 2.8029 - acc: 0.577 - ETA: 9:10 - loss: 2.8026 - acc: 0.577 - ETA: 9:05 - loss: 2.8025 - acc: 0.577 - ETA: 8:59 - loss: 2.8016 - acc: 0.577 - ETA: 8:54 - loss: 2.8015 - acc: 0.577 - ETA: 8:48 - loss: 2.8013 - acc: 0.577 - ETA: 8:43 - loss: 2.8015 - acc: 0.577 - ETA: 8:37 - loss: 2.8007 - acc: 0.577 - ETA: 8:32 - loss: 2.7999 - acc: 0.577 - ETA: 8:27 - loss: 2.7989 - acc: 0.578 - ETA: 8:21 - loss: 2.7983 - acc: 0.578 - ETA: 8:16 - loss: 2.7979 - acc: 0.578 - ETA: 8:10 - loss: 2.7973 - acc: 0.578 - ETA: 8:05 - loss: 2.7967 - acc: 0.578 - ETA: 7:59 - loss: 2.7964 - acc: 0.578 - ETA: 7:54 - loss: 2.7954 - acc: 0.578 - ETA: 7:48 - loss: 2.7947 - acc: 0.578 - ETA: 7:43 - loss: 2.7952 - acc: 0.578 - ETA: 7:38 - loss: 2.7948 - acc: 0.578 - ETA: 7:32 - loss: 2.7944 - acc: 0.578 - ETA: 7:27 - loss: 2.7937 - acc: 0.578 - ETA: 7:21 - loss: 2.7927 - acc: 0.578 - ETA: 7:16 - loss: 2.7923 - acc: 0.578 - ETA: 7:10 - loss: 2.7919 - acc: 0.578 - ETA: 7:05 - loss: 2.7905 - acc: 0.579 - ETA: 6:59 - loss: 2.7903 - acc: 0.579 - ETA: 6:54 - loss: 2.7893 - acc: 0.579 - ETA: 6:48 - loss: 2.7894 - acc: 0.579 - ETA: 6:43 - loss: 2.7890 - acc: 0.579 - ETA: 6:38 - loss: 2.7894 - acc: 0.579 - ETA: 6:32 - loss: 2.7882 - acc: 0.579 - ETA: 6:26 - loss: 2.7874 - acc: 0.579 - ETA: 6:21 - loss: 2.7873 - acc: 0.579 - ETA: 6:15 - loss: 2.7872 - acc: 0.579 - ETA: 6:10 - loss: 2.7871 - acc: 0.579 - ETA: 6:05 - loss: 2.7861 - acc: 0.579 - ETA: 5:59 - loss: 2.7866 - acc: 0.579 - ETA: 5:54 - loss: 2.7861 - acc: 0.579 - ETA: 5:48 - loss: 2.7857 - acc: 0.579 - ETA: 5:43 - loss: 2.7864 - acc: 0.579 - ETA: 5:37 - loss: 2.7856 - acc: 0.579 - ETA: 5:31 - loss: 2.7850 - acc: 0.579 - ETA: 5:26 - loss: 2.7851 - acc: 0.579 - ETA: 5:20 - loss: 2.7849 - acc: 0.579 - ETA: 5:15 - loss: 2.7838 - acc: 0.579 - ETA: 5:09 - loss: 2.7835 - acc: 0.579 - ETA: 5:04 - loss: 2.7830 - acc: 0.579 - ETA: 4:58 - loss: 2.7820 - acc: 0.579 - ETA: 4:52 - loss: 2.7813 - acc: 0.579 - ETA: 4:47 - loss: 2.7812 - acc: 0.579 - ETA: 4:41 - loss: 2.7805 - acc: 0.579 - ETA: 4:36 - loss: 2.7803 - acc: 0.579 - ETA: 4:30 - loss: 2.7792 - acc: 0.579 - ETA: 4:25 - loss: 2.7791 - acc: 0.579 - ETA: 4:19 - loss: 2.7780 - acc: 0.579 - ETA: 4:14 - loss: 2.7780 - acc: 0.579 - ETA: 4:08 - loss: 2.7776 - acc: 0.579 - ETA: 4:02 - loss: 2.7764 - acc: 0.579 - ETA: 3:57 - loss: 2.7751 - acc: 0.580 - ETA: 3:51 - loss: 2.7743 - acc: 0.580 - ETA: 3:46 - loss: 2.7744 - acc: 0.580 - ETA: 3:40 - loss: 2.7731 - acc: 0.580 - ETA: 3:34 - loss: 2.7730 - acc: 0.580 - ETA: 3:29 - loss: 2.7724 - acc: 0.580 - ETA: 3:23 - loss: 2.7719 - acc: 0.580 - ETA: 3:18 - loss: 2.7708 - acc: 0.580 - ETA: 3:12 - loss: 2.7698 - acc: 0.580 - ETA: 3:06 - loss: 2.7694 - acc: 0.580 - ETA: 3:01 - loss: 2.7690 - acc: 0.580 - ETA: 2:55 - loss: 2.7692 - acc: 0.580 - ETA: 2:49 - loss: 2.7688 - acc: 0.580 - ETA: 2:44 - loss: 2.7698 - acc: 0.580 - ETA: 2:38 - loss: 2.7694 - acc: 0.580 - ETA: 2:33 - loss: 2.7690 - acc: 0.580 - ETA: 2:27 - loss: 2.7689 - acc: 0.580 - ETA: 2:21 - loss: 2.7685 - acc: 0.580 - ETA: 2:16 - loss: 2.7683 - acc: 0.580 - ETA: 2:10 - loss: 2.7670 - acc: 0.580 - ETA: 2:05 - loss: 2.7662 - acc: 0.580 - ETA: 1:59 - loss: 2.7658 - acc: 0.580 - ETA: 1:53 - loss: 2.7652 - acc: 0.580 - ETA: 1:48 - loss: 2.7644 - acc: 0.580 - ETA: 1:42 - loss: 2.7644 - acc: 0.581 - ETA: 1:36 - loss: 2.7637 - acc: 0.581 - ETA: 1:31 - loss: 2.7633 - acc: 0.581 - ETA: 1:25 - loss: 2.7632 - acc: 0.581 - ETA: 1:19 - loss: 2.7625 - acc: 0.581 - ETA: 1:14 - loss: 2.7621 - acc: 0.581 - ETA: 1:08 - loss: 2.7620 - acc: 0.581 - ETA: 1:02 - loss: 2.7613 - acc: 0.581 - ETA: 57s - loss: 2.7606 - acc: 0.581 - ETA: 51s - loss: 2.7599 - acc: 0.58 - ETA: 45s - loss: 2.7590 - acc: 0.58 - ETA: 40s - loss: 2.7586 - acc: 0.58 - ETA: 34s - loss: 2.7576 - acc: 0.58 - ETA: 28s - loss: 2.7566 - acc: 0.58 - ETA: 23s - loss: 2.7562 - acc: 0.58 - ETA: 17s - loss: 2.7557 - acc: 0.58 - ETA: 11s - loss: 2.7556 - acc: 0.58 - ETA: 5s - loss: 2.7542 - acc: 0.5819 - ETA: 0s - loss: 2.7536 - acc: 0.581 - 1893s 45ms/sample - loss: 2.7537 - acc: 0.5819\n",
      "Epoch 2/30\n"
     ]
    },
    {
     "name": "stdout",
     "output_type": "stream",
     "text": [
      "26112/42374 [=================>............] - ETA: 38:41 - loss: 2.5915 - acc: 0.58 - ETA: 37:15 - loss: 2.5881 - acc: 0.59 - ETA: 35:56 - loss: 2.6354 - acc: 0.58 - ETA: 35:13 - loss: 2.6184 - acc: 0.59 - ETA: 34:31 - loss: 2.5693 - acc: 0.59 - ETA: 34:12 - loss: 2.6037 - acc: 0.59 - ETA: 33:48 - loss: 2.6003 - acc: 0.59 - ETA: 33:30 - loss: 2.6007 - acc: 0.59 - ETA: 33:11 - loss: 2.5842 - acc: 0.59 - ETA: 32:57 - loss: 2.5924 - acc: 0.59 - ETA: 32:43 - loss: 2.5684 - acc: 0.59 - ETA: 32:31 - loss: 2.5720 - acc: 0.59 - ETA: 32:20 - loss: 2.5924 - acc: 0.59 - ETA: 32:11 - loss: 2.5969 - acc: 0.59 - ETA: 32:09 - loss: 2.5983 - acc: 0.59 - ETA: 31:59 - loss: 2.5890 - acc: 0.59 - ETA: 31:52 - loss: 2.5929 - acc: 0.59 - ETA: 31:43 - loss: 2.5828 - acc: 0.59 - ETA: 31:35 - loss: 2.5874 - acc: 0.59 - ETA: 31:29 - loss: 2.5869 - acc: 0.59 - ETA: 31:22 - loss: 2.5866 - acc: 0.59 - ETA: 31:17 - loss: 2.5818 - acc: 0.59 - ETA: 31:09 - loss: 2.5829 - acc: 0.59 - ETA: 31:04 - loss: 2.5766 - acc: 0.59 - ETA: 30:56 - loss: 2.5760 - acc: 0.59 - ETA: 30:47 - loss: 2.5806 - acc: 0.59 - ETA: 30:39 - loss: 2.5801 - acc: 0.59 - ETA: 30:34 - loss: 2.5856 - acc: 0.59 - ETA: 30:27 - loss: 2.5888 - acc: 0.59 - ETA: 30:21 - loss: 2.5891 - acc: 0.59 - ETA: 30:14 - loss: 2.5826 - acc: 0.59 - ETA: 30:07 - loss: 2.5800 - acc: 0.59 - ETA: 30:00 - loss: 2.5821 - acc: 0.59 - ETA: 29:53 - loss: 2.5850 - acc: 0.59 - ETA: 29:47 - loss: 2.5858 - acc: 0.59 - ETA: 29:41 - loss: 2.5848 - acc: 0.59 - ETA: 29:34 - loss: 2.5844 - acc: 0.59 - ETA: 29:28 - loss: 2.5851 - acc: 0.59 - ETA: 29:22 - loss: 2.5844 - acc: 0.59 - ETA: 29:18 - loss: 2.5838 - acc: 0.59 - ETA: 29:12 - loss: 2.5788 - acc: 0.59 - ETA: 29:05 - loss: 2.5828 - acc: 0.59 - ETA: 28:58 - loss: 2.5827 - acc: 0.59 - ETA: 28:52 - loss: 2.5785 - acc: 0.59 - ETA: 28:45 - loss: 2.5797 - acc: 0.59 - ETA: 28:39 - loss: 2.5839 - acc: 0.59 - ETA: 28:32 - loss: 2.5848 - acc: 0.59 - ETA: 28:25 - loss: 2.5834 - acc: 0.59 - ETA: 28:19 - loss: 2.5840 - acc: 0.59 - ETA: 28:12 - loss: 2.5863 - acc: 0.59 - ETA: 28:06 - loss: 2.5852 - acc: 0.59 - ETA: 28:00 - loss: 2.5811 - acc: 0.59 - ETA: 27:53 - loss: 2.5779 - acc: 0.59 - ETA: 27:48 - loss: 2.5749 - acc: 0.59 - ETA: 27:41 - loss: 2.5721 - acc: 0.59 - ETA: 27:35 - loss: 2.5733 - acc: 0.59 - ETA: 27:32 - loss: 2.5728 - acc: 0.59 - ETA: 27:26 - loss: 2.5705 - acc: 0.59 - ETA: 27:19 - loss: 2.5734 - acc: 0.59 - ETA: 27:13 - loss: 2.5766 - acc: 0.59 - ETA: 27:06 - loss: 2.5759 - acc: 0.59 - ETA: 27:01 - loss: 2.5711 - acc: 0.59 - ETA: 26:55 - loss: 2.5724 - acc: 0.59 - ETA: 26:48 - loss: 2.5748 - acc: 0.59 - ETA: 26:42 - loss: 2.5792 - acc: 0.59 - ETA: 26:35 - loss: 2.5816 - acc: 0.59 - ETA: 26:29 - loss: 2.5815 - acc: 0.59 - ETA: 26:23 - loss: 2.5814 - acc: 0.59 - ETA: 26:17 - loss: 2.5810 - acc: 0.59 - ETA: 26:12 - loss: 2.5824 - acc: 0.59 - ETA: 26:06 - loss: 2.5815 - acc: 0.59 - ETA: 25:59 - loss: 2.5825 - acc: 0.59 - ETA: 25:53 - loss: 2.5790 - acc: 0.59 - ETA: 25:46 - loss: 2.5786 - acc: 0.59 - ETA: 25:40 - loss: 2.5787 - acc: 0.59 - ETA: 25:34 - loss: 2.5761 - acc: 0.59 - ETA: 25:27 - loss: 2.5747 - acc: 0.59 - ETA: 25:22 - loss: 2.5761 - acc: 0.59 - ETA: 25:16 - loss: 2.5751 - acc: 0.59 - ETA: 25:09 - loss: 2.5754 - acc: 0.59 - ETA: 25:04 - loss: 2.5754 - acc: 0.59 - ETA: 24:57 - loss: 2.5754 - acc: 0.59 - ETA: 24:51 - loss: 2.5741 - acc: 0.59 - ETA: 24:45 - loss: 2.5738 - acc: 0.59 - ETA: 24:39 - loss: 2.5731 - acc: 0.59 - ETA: 24:33 - loss: 2.5715 - acc: 0.59 - ETA: 24:25 - loss: 2.5702 - acc: 0.59 - ETA: 24:18 - loss: 2.5689 - acc: 0.59 - ETA: 24:11 - loss: 2.5705 - acc: 0.59 - ETA: 24:04 - loss: 2.5702 - acc: 0.59 - ETA: 23:56 - loss: 2.5698 - acc: 0.59 - ETA: 23:49 - loss: 2.5690 - acc: 0.59 - ETA: 23:42 - loss: 2.5683 - acc: 0.59 - ETA: 23:34 - loss: 2.5673 - acc: 0.59 - ETA: 23:27 - loss: 2.5674 - acc: 0.59 - ETA: 23:20 - loss: 2.5659 - acc: 0.59 - ETA: 23:13 - loss: 2.5675 - acc: 0.59 - ETA: 23:06 - loss: 2.5674 - acc: 0.59 - ETA: 22:59 - loss: 2.5686 - acc: 0.59 - ETA: 22:52 - loss: 2.5684 - acc: 0.59 - ETA: 22:44 - loss: 2.5683 - acc: 0.59 - ETA: 22:37 - loss: 2.5689 - acc: 0.59 - ETA: 22:30 - loss: 2.5683 - acc: 0.59 - ETA: 22:24 - loss: 2.5679 - acc: 0.59 - ETA: 22:17 - loss: 2.5681 - acc: 0.59 - ETA: 22:10 - loss: 2.5695 - acc: 0.59 - ETA: 22:03 - loss: 2.5695 - acc: 0.59 - ETA: 21:56 - loss: 2.5691 - acc: 0.59 - ETA: 21:49 - loss: 2.5681 - acc: 0.59 - ETA: 21:42 - loss: 2.5681 - acc: 0.59 - ETA: 21:35 - loss: 2.5679 - acc: 0.59 - ETA: 21:28 - loss: 2.5673 - acc: 0.59 - ETA: 21:22 - loss: 2.5673 - acc: 0.59 - ETA: 21:15 - loss: 2.5662 - acc: 0.59 - ETA: 21:08 - loss: 2.5665 - acc: 0.59 - ETA: 21:02 - loss: 2.5663 - acc: 0.59 - ETA: 20:55 - loss: 2.5668 - acc: 0.59 - ETA: 20:48 - loss: 2.5663 - acc: 0.59 - ETA: 20:42 - loss: 2.5641 - acc: 0.59 - ETA: 20:35 - loss: 2.5644 - acc: 0.59 - ETA: 20:28 - loss: 2.5635 - acc: 0.59 - ETA: 20:22 - loss: 2.5632 - acc: 0.59 - ETA: 20:15 - loss: 2.5621 - acc: 0.59 - ETA: 20:09 - loss: 2.5623 - acc: 0.59 - ETA: 20:03 - loss: 2.5641 - acc: 0.59 - ETA: 19:56 - loss: 2.5663 - acc: 0.59 - ETA: 19:50 - loss: 2.5664 - acc: 0.59 - ETA: 19:44 - loss: 2.5658 - acc: 0.59 - ETA: 19:37 - loss: 2.5649 - acc: 0.59 - ETA: 19:31 - loss: 2.5642 - acc: 0.59 - ETA: 19:25 - loss: 2.5634 - acc: 0.59 - ETA: 19:18 - loss: 2.5642 - acc: 0.59 - ETA: 19:12 - loss: 2.5649 - acc: 0.59 - ETA: 19:06 - loss: 2.5647 - acc: 0.59 - ETA: 18:59 - loss: 2.5643 - acc: 0.59 - ETA: 18:53 - loss: 2.5637 - acc: 0.59 - ETA: 18:47 - loss: 2.5646 - acc: 0.59 - ETA: 18:40 - loss: 2.5626 - acc: 0.59 - ETA: 18:34 - loss: 2.5631 - acc: 0.59 - ETA: 18:28 - loss: 2.5618 - acc: 0.59 - ETA: 18:22 - loss: 2.5609 - acc: 0.59 - ETA: 18:15 - loss: 2.5610 - acc: 0.59 - ETA: 18:09 - loss: 2.5595 - acc: 0.59 - ETA: 18:03 - loss: 2.5596 - acc: 0.59 - ETA: 17:57 - loss: 2.5597 - acc: 0.59 - ETA: 17:50 - loss: 2.5591 - acc: 0.59 - ETA: 17:44 - loss: 2.5588 - acc: 0.59 - ETA: 17:38 - loss: 2.5602 - acc: 0.59 - ETA: 17:32 - loss: 2.5598 - acc: 0.59 - ETA: 17:25 - loss: 2.5590 - acc: 0.59 - ETA: 17:19 - loss: 2.5606 - acc: 0.59 - ETA: 17:13 - loss: 2.5621 - acc: 0.59 - ETA: 17:07 - loss: 2.5631 - acc: 0.59 - ETA: 17:01 - loss: 2.5625 - acc: 0.59 - ETA: 16:55 - loss: 2.5615 - acc: 0.59 - ETA: 16:49 - loss: 2.5608 - acc: 0.59 - ETA: 16:44 - loss: 2.5619 - acc: 0.59 - ETA: 16:38 - loss: 2.5619 - acc: 0.59 - ETA: 16:32 - loss: 2.5623 - acc: 0.59 - ETA: 16:27 - loss: 2.5619 - acc: 0.59 - ETA: 16:21 - loss: 2.5611 - acc: 0.59 - ETA: 16:15 - loss: 2.5603 - acc: 0.59 - ETA: 16:09 - loss: 2.5602 - acc: 0.59 - ETA: 16:03 - loss: 2.5600 - acc: 0.59 - ETA: 15:57 - loss: 2.5604 - acc: 0.59 - ETA: 15:52 - loss: 2.5598 - acc: 0.59 - ETA: 15:46 - loss: 2.5588 - acc: 0.59 - ETA: 15:40 - loss: 2.5580 - acc: 0.59 - ETA: 15:35 - loss: 2.5570 - acc: 0.59 - ETA: 15:29 - loss: 2.5571 - acc: 0.59 - ETA: 15:24 - loss: 2.5570 - acc: 0.59 - ETA: 15:18 - loss: 2.5554 - acc: 0.59 - ETA: 15:12 - loss: 2.5560 - acc: 0.59 - ETA: 15:07 - loss: 2.5569 - acc: 0.59 - ETA: 15:01 - loss: 2.5573 - acc: 0.59 - ETA: 14:56 - loss: 2.5573 - acc: 0.59 - ETA: 14:50 - loss: 2.5558 - acc: 0.59 - ETA: 14:45 - loss: 2.5554 - acc: 0.59 - ETA: 14:39 - loss: 2.5561 - acc: 0.59 - ETA: 14:33 - loss: 2.5570 - acc: 0.59 - ETA: 14:28 - loss: 2.5572 - acc: 0.59 - ETA: 14:22 - loss: 2.5564 - acc: 0.59 - ETA: 14:16 - loss: 2.5555 - acc: 0.59 - ETA: 14:10 - loss: 2.5555 - acc: 0.59 - ETA: 14:05 - loss: 2.5546 - acc: 0.59 - ETA: 13:59 - loss: 2.5552 - acc: 0.59 - ETA: 13:53 - loss: 2.5549 - acc: 0.59 - ETA: 13:48 - loss: 2.5539 - acc: 0.59 - ETA: 13:42 - loss: 2.5532 - acc: 0.59 - ETA: 13:37 - loss: 2.5534 - acc: 0.59 - ETA: 13:31 - loss: 2.5528 - acc: 0.59 - ETA: 13:25 - loss: 2.5528 - acc: 0.59 - ETA: 13:19 - loss: 2.5522 - acc: 0.59 - ETA: 13:14 - loss: 2.5520 - acc: 0.59 - ETA: 13:08 - loss: 2.5525 - acc: 0.59 - ETA: 13:02 - loss: 2.5512 - acc: 0.59 - ETA: 12:57 - loss: 2.5512 - acc: 0.59 - ETA: 12:51 - loss: 2.5511 - acc: 0.59 - ETA: 12:45 - loss: 2.5500 - acc: 0.59 - ETA: 12:40 - loss: 2.5492 - acc: 0.59 - ETA: 12:34 - loss: 2.5488 - acc: 0.59 - ETA: 12:28 - loss: 2.5481 - acc: 0.59 - ETA: 12:23 - loss: 2.5492 - acc: 0.59 - ETA: 12:17 - loss: 2.5492 - acc: 0.5967"
     ]
    },
    {
     "name": "stdout",
     "output_type": "stream",
     "text": [
      "42374/42374 [==============================] - ETA: 12:11 - loss: 2.5504 - acc: 0.59 - ETA: 12:06 - loss: 2.5507 - acc: 0.59 - ETA: 12:00 - loss: 2.5500 - acc: 0.59 - ETA: 11:54 - loss: 2.5492 - acc: 0.59 - ETA: 11:48 - loss: 2.5487 - acc: 0.59 - ETA: 11:43 - loss: 2.5480 - acc: 0.59 - ETA: 11:37 - loss: 2.5475 - acc: 0.59 - ETA: 11:31 - loss: 2.5475 - acc: 0.59 - ETA: 11:26 - loss: 2.5476 - acc: 0.59 - ETA: 11:20 - loss: 2.5477 - acc: 0.59 - ETA: 11:14 - loss: 2.5476 - acc: 0.59 - ETA: 11:08 - loss: 2.5474 - acc: 0.59 - ETA: 11:02 - loss: 2.5470 - acc: 0.59 - ETA: 10:57 - loss: 2.5468 - acc: 0.59 - ETA: 10:51 - loss: 2.5471 - acc: 0.59 - ETA: 10:46 - loss: 2.5468 - acc: 0.59 - ETA: 10:40 - loss: 2.5466 - acc: 0.59 - ETA: 10:35 - loss: 2.5457 - acc: 0.59 - ETA: 10:29 - loss: 2.5463 - acc: 0.59 - ETA: 10:23 - loss: 2.5458 - acc: 0.59 - ETA: 10:18 - loss: 2.5448 - acc: 0.59 - ETA: 10:12 - loss: 2.5444 - acc: 0.59 - ETA: 10:06 - loss: 2.5439 - acc: 0.59 - ETA: 10:00 - loss: 2.5439 - acc: 0.59 - ETA: 9:55 - loss: 2.5435 - acc: 0.5968 - ETA: 9:49 - loss: 2.5436 - acc: 0.596 - ETA: 9:44 - loss: 2.5432 - acc: 0.597 - ETA: 9:38 - loss: 2.5431 - acc: 0.597 - ETA: 9:32 - loss: 2.5438 - acc: 0.596 - ETA: 9:26 - loss: 2.5437 - acc: 0.596 - ETA: 9:20 - loss: 2.5436 - acc: 0.596 - ETA: 9:14 - loss: 2.5425 - acc: 0.597 - ETA: 9:08 - loss: 2.5421 - acc: 0.597 - ETA: 9:02 - loss: 2.5418 - acc: 0.597 - ETA: 8:56 - loss: 2.5417 - acc: 0.597 - ETA: 8:50 - loss: 2.5421 - acc: 0.597 - ETA: 8:44 - loss: 2.5428 - acc: 0.597 - ETA: 8:38 - loss: 2.5421 - acc: 0.597 - ETA: 8:32 - loss: 2.5416 - acc: 0.597 - ETA: 8:26 - loss: 2.5415 - acc: 0.597 - ETA: 8:20 - loss: 2.5403 - acc: 0.597 - ETA: 8:14 - loss: 2.5400 - acc: 0.597 - ETA: 8:08 - loss: 2.5399 - acc: 0.597 - ETA: 8:02 - loss: 2.5387 - acc: 0.597 - ETA: 7:56 - loss: 2.5393 - acc: 0.597 - ETA: 7:50 - loss: 2.5395 - acc: 0.597 - ETA: 7:44 - loss: 2.5399 - acc: 0.597 - ETA: 7:38 - loss: 2.5399 - acc: 0.597 - ETA: 7:32 - loss: 2.5394 - acc: 0.597 - ETA: 7:26 - loss: 2.5388 - acc: 0.597 - ETA: 7:20 - loss: 2.5382 - acc: 0.597 - ETA: 7:14 - loss: 2.5380 - acc: 0.597 - ETA: 7:08 - loss: 2.5384 - acc: 0.597 - ETA: 7:02 - loss: 2.5386 - acc: 0.597 - ETA: 6:56 - loss: 2.5379 - acc: 0.597 - ETA: 6:50 - loss: 2.5369 - acc: 0.597 - ETA: 6:44 - loss: 2.5371 - acc: 0.597 - ETA: 6:38 - loss: 2.5368 - acc: 0.597 - ETA: 6:33 - loss: 2.5369 - acc: 0.597 - ETA: 6:27 - loss: 2.5368 - acc: 0.597 - ETA: 6:21 - loss: 2.5362 - acc: 0.597 - ETA: 6:15 - loss: 2.5358 - acc: 0.597 - ETA: 6:09 - loss: 2.5351 - acc: 0.597 - ETA: 6:03 - loss: 2.5358 - acc: 0.597 - ETA: 5:57 - loss: 2.5352 - acc: 0.597 - ETA: 5:51 - loss: 2.5350 - acc: 0.597 - ETA: 5:45 - loss: 2.5347 - acc: 0.597 - ETA: 5:39 - loss: 2.5338 - acc: 0.597 - ETA: 5:34 - loss: 2.5333 - acc: 0.598 - ETA: 5:28 - loss: 2.5324 - acc: 0.598 - ETA: 5:22 - loss: 2.5317 - acc: 0.598 - ETA: 5:16 - loss: 2.5316 - acc: 0.598 - ETA: 5:10 - loss: 2.5317 - acc: 0.598 - ETA: 5:04 - loss: 2.5309 - acc: 0.598 - ETA: 4:58 - loss: 2.5306 - acc: 0.598 - ETA: 4:53 - loss: 2.5302 - acc: 0.598 - ETA: 4:47 - loss: 2.5298 - acc: 0.598 - ETA: 4:41 - loss: 2.5301 - acc: 0.598 - ETA: 4:35 - loss: 2.5305 - acc: 0.598 - ETA: 4:29 - loss: 2.5305 - acc: 0.598 - ETA: 4:24 - loss: 2.5312 - acc: 0.598 - ETA: 4:18 - loss: 2.5305 - acc: 0.598 - ETA: 4:12 - loss: 2.5304 - acc: 0.598 - ETA: 4:06 - loss: 2.5311 - acc: 0.598 - ETA: 4:00 - loss: 2.5303 - acc: 0.598 - ETA: 3:55 - loss: 2.5297 - acc: 0.598 - ETA: 3:49 - loss: 2.5290 - acc: 0.598 - ETA: 3:43 - loss: 2.5284 - acc: 0.598 - ETA: 3:37 - loss: 2.5278 - acc: 0.598 - ETA: 3:32 - loss: 2.5270 - acc: 0.598 - ETA: 3:26 - loss: 2.5265 - acc: 0.598 - ETA: 3:20 - loss: 2.5267 - acc: 0.598 - ETA: 3:14 - loss: 2.5257 - acc: 0.598 - ETA: 3:09 - loss: 2.5266 - acc: 0.598 - ETA: 3:03 - loss: 2.5268 - acc: 0.598 - ETA: 2:57 - loss: 2.5271 - acc: 0.598 - ETA: 2:51 - loss: 2.5263 - acc: 0.598 - ETA: 2:46 - loss: 2.5257 - acc: 0.598 - ETA: 2:40 - loss: 2.5254 - acc: 0.598 - ETA: 2:34 - loss: 2.5257 - acc: 0.598 - ETA: 2:28 - loss: 2.5251 - acc: 0.598 - ETA: 2:23 - loss: 2.5248 - acc: 0.598 - ETA: 2:17 - loss: 2.5242 - acc: 0.598 - ETA: 2:11 - loss: 2.5234 - acc: 0.598 - ETA: 2:06 - loss: 2.5236 - acc: 0.598 - ETA: 2:00 - loss: 2.5232 - acc: 0.598 - ETA: 1:54 - loss: 2.5226 - acc: 0.598 - ETA: 1:48 - loss: 2.5217 - acc: 0.598 - ETA: 1:43 - loss: 2.5216 - acc: 0.598 - ETA: 1:37 - loss: 2.5210 - acc: 0.599 - ETA: 1:31 - loss: 2.5211 - acc: 0.599 - ETA: 1:25 - loss: 2.5202 - acc: 0.599 - ETA: 1:20 - loss: 2.5200 - acc: 0.599 - ETA: 1:14 - loss: 2.5194 - acc: 0.599 - ETA: 1:08 - loss: 2.5198 - acc: 0.599 - ETA: 1:02 - loss: 2.5196 - acc: 0.599 - ETA: 57s - loss: 2.5188 - acc: 0.599 - ETA: 51s - loss: 2.5187 - acc: 0.59 - ETA: 45s - loss: 2.5185 - acc: 0.59 - ETA: 40s - loss: 2.5187 - acc: 0.59 - ETA: 34s - loss: 2.5188 - acc: 0.59 - ETA: 28s - loss: 2.5184 - acc: 0.59 - ETA: 23s - loss: 2.5177 - acc: 0.59 - ETA: 17s - loss: 2.5174 - acc: 0.59 - ETA: 11s - loss: 2.5175 - acc: 0.59 - ETA: 5s - loss: 2.5168 - acc: 0.5995 - ETA: 0s - loss: 2.5164 - acc: 0.599 - 1884s 44ms/sample - loss: 2.5165 - acc: 0.5996\n",
      "Epoch 3/30\n"
     ]
    },
    {
     "name": "stdout",
     "output_type": "stream",
     "text": [
      "26112/42374 [=================>............] - ETA: 28:51 - loss: 2.5901 - acc: 0.57 - ETA: 29:01 - loss: 2.5072 - acc: 0.58 - ETA: 28:42 - loss: 2.4485 - acc: 0.59 - ETA: 28:43 - loss: 2.4647 - acc: 0.59 - ETA: 28:41 - loss: 2.4613 - acc: 0.59 - ETA: 28:29 - loss: 2.4191 - acc: 0.60 - ETA: 28:26 - loss: 2.3563 - acc: 0.61 - ETA: 28:21 - loss: 2.3643 - acc: 0.61 - ETA: 28:11 - loss: 2.3993 - acc: 0.60 - ETA: 28:03 - loss: 2.3824 - acc: 0.60 - ETA: 28:02 - loss: 2.4005 - acc: 0.60 - ETA: 27:54 - loss: 2.4035 - acc: 0.60 - ETA: 27:47 - loss: 2.4214 - acc: 0.60 - ETA: 27:44 - loss: 2.4008 - acc: 0.60 - ETA: 27:35 - loss: 2.4097 - acc: 0.60 - ETA: 27:30 - loss: 2.4160 - acc: 0.60 - ETA: 27:26 - loss: 2.4058 - acc: 0.60 - ETA: 27:20 - loss: 2.4067 - acc: 0.60 - ETA: 27:14 - loss: 2.4006 - acc: 0.60 - ETA: 27:08 - loss: 2.3984 - acc: 0.60 - ETA: 27:04 - loss: 2.3984 - acc: 0.60 - ETA: 26:58 - loss: 2.3970 - acc: 0.60 - ETA: 26:55 - loss: 2.4053 - acc: 0.60 - ETA: 26:51 - loss: 2.4087 - acc: 0.60 - ETA: 26:46 - loss: 2.4123 - acc: 0.60 - ETA: 26:42 - loss: 2.4096 - acc: 0.60 - ETA: 26:36 - loss: 2.4070 - acc: 0.60 - ETA: 26:31 - loss: 2.4021 - acc: 0.60 - ETA: 26:27 - loss: 2.4013 - acc: 0.60 - ETA: 26:23 - loss: 2.4008 - acc: 0.60 - ETA: 26:17 - loss: 2.3893 - acc: 0.60 - ETA: 26:12 - loss: 2.3826 - acc: 0.61 - ETA: 26:07 - loss: 2.3854 - acc: 0.61 - ETA: 26:01 - loss: 2.3811 - acc: 0.61 - ETA: 25:55 - loss: 2.3820 - acc: 0.61 - ETA: 25:50 - loss: 2.3788 - acc: 0.61 - ETA: 25:44 - loss: 2.3728 - acc: 0.61 - ETA: 25:38 - loss: 2.3684 - acc: 0.61 - ETA: 25:33 - loss: 2.3709 - acc: 0.61 - ETA: 25:27 - loss: 2.3769 - acc: 0.61 - ETA: 25:22 - loss: 2.3778 - acc: 0.61 - ETA: 25:17 - loss: 2.3808 - acc: 0.61 - ETA: 25:11 - loss: 2.3778 - acc: 0.61 - ETA: 25:05 - loss: 2.3713 - acc: 0.61 - ETA: 25:01 - loss: 2.3703 - acc: 0.61 - ETA: 24:55 - loss: 2.3704 - acc: 0.61 - ETA: 24:50 - loss: 2.3706 - acc: 0.61 - ETA: 24:45 - loss: 2.3722 - acc: 0.61 - ETA: 24:39 - loss: 2.3740 - acc: 0.61 - ETA: 24:34 - loss: 2.3768 - acc: 0.61 - ETA: 24:29 - loss: 2.3787 - acc: 0.61 - ETA: 24:23 - loss: 2.3754 - acc: 0.61 - ETA: 24:18 - loss: 2.3734 - acc: 0.61 - ETA: 24:13 - loss: 2.3741 - acc: 0.61 - ETA: 24:07 - loss: 2.3759 - acc: 0.61 - ETA: 24:02 - loss: 2.3794 - acc: 0.61 - ETA: 23:56 - loss: 2.3784 - acc: 0.61 - ETA: 23:51 - loss: 2.3798 - acc: 0.61 - ETA: 23:46 - loss: 2.3774 - acc: 0.61 - ETA: 23:41 - loss: 2.3790 - acc: 0.61 - ETA: 23:36 - loss: 2.3776 - acc: 0.61 - ETA: 23:30 - loss: 2.3803 - acc: 0.61 - ETA: 23:25 - loss: 2.3804 - acc: 0.61 - ETA: 23:19 - loss: 2.3818 - acc: 0.61 - ETA: 23:14 - loss: 2.3825 - acc: 0.61 - ETA: 23:09 - loss: 2.3842 - acc: 0.61 - ETA: 23:04 - loss: 2.3808 - acc: 0.61 - ETA: 22:58 - loss: 2.3774 - acc: 0.61 - ETA: 22:54 - loss: 2.3775 - acc: 0.61 - ETA: 22:49 - loss: 2.3783 - acc: 0.61 - ETA: 22:43 - loss: 2.3773 - acc: 0.61 - ETA: 22:39 - loss: 2.3786 - acc: 0.61 - ETA: 22:34 - loss: 2.3800 - acc: 0.61 - ETA: 22:28 - loss: 2.3794 - acc: 0.61 - ETA: 22:24 - loss: 2.3787 - acc: 0.61 - ETA: 22:18 - loss: 2.3778 - acc: 0.61 - ETA: 22:12 - loss: 2.3766 - acc: 0.61 - ETA: 22:11 - loss: 2.3775 - acc: 0.61 - ETA: 22:10 - loss: 2.3781 - acc: 0.61 - ETA: 22:06 - loss: 2.3791 - acc: 0.61 - ETA: 22:06 - loss: 2.3803 - acc: 0.61 - ETA: 22:08 - loss: 2.3799 - acc: 0.61 - ETA: 22:07 - loss: 2.3806 - acc: 0.61 - ETA: 22:05 - loss: 2.3846 - acc: 0.61 - ETA: 22:01 - loss: 2.3835 - acc: 0.61 - ETA: 21:57 - loss: 2.3833 - acc: 0.61 - ETA: 21:53 - loss: 2.3822 - acc: 0.61 - ETA: 21:49 - loss: 2.3854 - acc: 0.61 - ETA: 21:44 - loss: 2.3876 - acc: 0.61 - ETA: 21:40 - loss: 2.3883 - acc: 0.61 - ETA: 21:36 - loss: 2.3894 - acc: 0.61 - ETA: 21:34 - loss: 2.3912 - acc: 0.61 - ETA: 21:29 - loss: 2.3902 - acc: 0.61 - ETA: 21:25 - loss: 2.3887 - acc: 0.61 - ETA: 21:20 - loss: 2.3865 - acc: 0.61 - ETA: 21:16 - loss: 2.3843 - acc: 0.61 - ETA: 21:13 - loss: 2.3853 - acc: 0.61 - ETA: 21:08 - loss: 2.3850 - acc: 0.61 - ETA: 21:03 - loss: 2.3843 - acc: 0.61 - ETA: 20:58 - loss: 2.3862 - acc: 0.61 - ETA: 20:54 - loss: 2.3859 - acc: 0.61 - ETA: 20:50 - loss: 2.3852 - acc: 0.61 - ETA: 20:45 - loss: 2.3868 - acc: 0.61 - ETA: 20:40 - loss: 2.3891 - acc: 0.61 - ETA: 20:36 - loss: 2.3889 - acc: 0.61 - ETA: 20:31 - loss: 2.3884 - acc: 0.61 - ETA: 20:26 - loss: 2.3891 - acc: 0.61 - ETA: 20:21 - loss: 2.3882 - acc: 0.61 - ETA: 20:16 - loss: 2.3884 - acc: 0.61 - ETA: 20:11 - loss: 2.3895 - acc: 0.61 - ETA: 20:06 - loss: 2.3907 - acc: 0.61 - ETA: 20:01 - loss: 2.3922 - acc: 0.61 - ETA: 19:57 - loss: 2.3923 - acc: 0.61 - ETA: 19:51 - loss: 2.3916 - acc: 0.61 - ETA: 19:46 - loss: 2.3897 - acc: 0.61 - ETA: 19:42 - loss: 2.3898 - acc: 0.61 - ETA: 19:36 - loss: 2.3895 - acc: 0.61 - ETA: 19:32 - loss: 2.3906 - acc: 0.61 - ETA: 19:27 - loss: 2.3892 - acc: 0.61 - ETA: 19:22 - loss: 2.3882 - acc: 0.61 - ETA: 19:17 - loss: 2.3882 - acc: 0.61 - ETA: 19:11 - loss: 2.3880 - acc: 0.61 - ETA: 19:06 - loss: 2.3869 - acc: 0.61 - ETA: 19:01 - loss: 2.3867 - acc: 0.61 - ETA: 18:56 - loss: 2.3854 - acc: 0.61 - ETA: 18:51 - loss: 2.3849 - acc: 0.61 - ETA: 18:46 - loss: 2.3832 - acc: 0.61 - ETA: 18:41 - loss: 2.3833 - acc: 0.61 - ETA: 18:36 - loss: 2.3823 - acc: 0.61 - ETA: 18:31 - loss: 2.3827 - acc: 0.61 - ETA: 18:25 - loss: 2.3818 - acc: 0.61 - ETA: 18:20 - loss: 2.3836 - acc: 0.61 - ETA: 18:18 - loss: 2.3834 - acc: 0.61 - ETA: 18:14 - loss: 2.3818 - acc: 0.61 - ETA: 18:09 - loss: 2.3810 - acc: 0.61 - ETA: 18:04 - loss: 2.3819 - acc: 0.61 - ETA: 17:59 - loss: 2.3808 - acc: 0.61 - ETA: 17:54 - loss: 2.3813 - acc: 0.61 - ETA: 17:49 - loss: 2.3805 - acc: 0.61 - ETA: 17:44 - loss: 2.3788 - acc: 0.61 - ETA: 17:39 - loss: 2.3791 - acc: 0.61 - ETA: 17:34 - loss: 2.3793 - acc: 0.61 - ETA: 17:29 - loss: 2.3781 - acc: 0.61 - ETA: 17:23 - loss: 2.3774 - acc: 0.61 - ETA: 17:19 - loss: 2.3790 - acc: 0.61 - ETA: 17:15 - loss: 2.3785 - acc: 0.61 - ETA: 17:09 - loss: 2.3785 - acc: 0.61 - ETA: 17:04 - loss: 2.3766 - acc: 0.61 - ETA: 16:59 - loss: 2.3770 - acc: 0.61 - ETA: 16:54 - loss: 2.3766 - acc: 0.61 - ETA: 16:49 - loss: 2.3755 - acc: 0.61 - ETA: 16:43 - loss: 2.3739 - acc: 0.61 - ETA: 16:38 - loss: 2.3745 - acc: 0.61 - ETA: 16:33 - loss: 2.3737 - acc: 0.61 - ETA: 16:28 - loss: 2.3738 - acc: 0.61 - ETA: 16:22 - loss: 2.3734 - acc: 0.61 - ETA: 16:17 - loss: 2.3727 - acc: 0.61 - ETA: 16:11 - loss: 2.3729 - acc: 0.61 - ETA: 16:06 - loss: 2.3736 - acc: 0.61 - ETA: 16:00 - loss: 2.3724 - acc: 0.61 - ETA: 15:55 - loss: 2.3725 - acc: 0.61 - ETA: 15:50 - loss: 2.3723 - acc: 0.61 - ETA: 15:45 - loss: 2.3708 - acc: 0.61 - ETA: 15:41 - loss: 2.3709 - acc: 0.61 - ETA: 15:35 - loss: 2.3711 - acc: 0.61 - ETA: 15:30 - loss: 2.3708 - acc: 0.61 - ETA: 15:24 - loss: 2.3713 - acc: 0.61 - ETA: 15:19 - loss: 2.3700 - acc: 0.61 - ETA: 15:13 - loss: 2.3700 - acc: 0.61 - ETA: 15:09 - loss: 2.3687 - acc: 0.61 - ETA: 15:04 - loss: 2.3676 - acc: 0.61 - ETA: 14:59 - loss: 2.3683 - acc: 0.61 - ETA: 14:53 - loss: 2.3680 - acc: 0.61 - ETA: 14:47 - loss: 2.3679 - acc: 0.61 - ETA: 14:42 - loss: 2.3677 - acc: 0.61 - ETA: 14:36 - loss: 2.3673 - acc: 0.61 - ETA: 14:30 - loss: 2.3686 - acc: 0.61 - ETA: 14:24 - loss: 2.3689 - acc: 0.61 - ETA: 14:18 - loss: 2.3692 - acc: 0.61 - ETA: 14:12 - loss: 2.3689 - acc: 0.61 - ETA: 14:06 - loss: 2.3699 - acc: 0.61 - ETA: 14:00 - loss: 2.3699 - acc: 0.61 - ETA: 13:54 - loss: 2.3693 - acc: 0.61 - ETA: 13:48 - loss: 2.3691 - acc: 0.61 - ETA: 13:42 - loss: 2.3701 - acc: 0.61 - ETA: 13:36 - loss: 2.3703 - acc: 0.61 - ETA: 13:30 - loss: 2.3701 - acc: 0.61 - ETA: 13:24 - loss: 2.3702 - acc: 0.61 - ETA: 13:18 - loss: 2.3711 - acc: 0.61 - ETA: 13:12 - loss: 2.3711 - acc: 0.61 - ETA: 13:07 - loss: 2.3699 - acc: 0.61 - ETA: 13:02 - loss: 2.3694 - acc: 0.61 - ETA: 12:57 - loss: 2.3699 - acc: 0.61 - ETA: 12:52 - loss: 2.3700 - acc: 0.61 - ETA: 12:47 - loss: 2.3709 - acc: 0.61 - ETA: 12:42 - loss: 2.3710 - acc: 0.61 - ETA: 12:37 - loss: 2.3710 - acc: 0.61 - ETA: 12:31 - loss: 2.3708 - acc: 0.61 - ETA: 12:25 - loss: 2.3710 - acc: 0.61 - ETA: 12:19 - loss: 2.3705 - acc: 0.61 - ETA: 12:13 - loss: 2.3701 - acc: 0.61 - ETA: 12:07 - loss: 2.3701 - acc: 0.61 - ETA: 12:01 - loss: 2.3705 - acc: 0.61 - ETA: 11:55 - loss: 2.3706 - acc: 0.6130"
     ]
    },
    {
     "name": "stdout",
     "output_type": "stream",
     "text": [
      "42374/42374 [==============================] - ETA: 11:50 - loss: 2.3710 - acc: 0.61 - ETA: 11:44 - loss: 2.3707 - acc: 0.61 - ETA: 11:38 - loss: 2.3708 - acc: 0.61 - ETA: 11:32 - loss: 2.3712 - acc: 0.61 - ETA: 11:26 - loss: 2.3717 - acc: 0.61 - ETA: 11:20 - loss: 2.3725 - acc: 0.61 - ETA: 11:14 - loss: 2.3722 - acc: 0.61 - ETA: 11:09 - loss: 2.3724 - acc: 0.61 - ETA: 11:03 - loss: 2.3737 - acc: 0.61 - ETA: 10:57 - loss: 2.3742 - acc: 0.61 - ETA: 10:51 - loss: 2.3744 - acc: 0.61 - ETA: 10:45 - loss: 2.3740 - acc: 0.61 - ETA: 10:39 - loss: 2.3737 - acc: 0.61 - ETA: 10:34 - loss: 2.3726 - acc: 0.61 - ETA: 10:28 - loss: 2.3728 - acc: 0.61 - ETA: 10:22 - loss: 2.3733 - acc: 0.61 - ETA: 10:16 - loss: 2.3730 - acc: 0.61 - ETA: 10:10 - loss: 2.3722 - acc: 0.61 - ETA: 10:05 - loss: 2.3725 - acc: 0.61 - ETA: 9:59 - loss: 2.3718 - acc: 0.6128 - ETA: 9:53 - loss: 2.3725 - acc: 0.612 - ETA: 9:47 - loss: 2.3721 - acc: 0.612 - ETA: 9:42 - loss: 2.3724 - acc: 0.612 - ETA: 9:36 - loss: 2.3720 - acc: 0.612 - ETA: 9:30 - loss: 2.3721 - acc: 0.612 - ETA: 9:24 - loss: 2.3716 - acc: 0.612 - ETA: 9:19 - loss: 2.3718 - acc: 0.612 - ETA: 9:13 - loss: 2.3713 - acc: 0.612 - ETA: 9:07 - loss: 2.3715 - acc: 0.612 - ETA: 9:01 - loss: 2.3711 - acc: 0.612 - ETA: 8:56 - loss: 2.3716 - acc: 0.612 - ETA: 8:50 - loss: 2.3715 - acc: 0.612 - ETA: 8:44 - loss: 2.3709 - acc: 0.612 - ETA: 8:39 - loss: 2.3716 - acc: 0.612 - ETA: 8:33 - loss: 2.3714 - acc: 0.612 - ETA: 8:27 - loss: 2.3715 - acc: 0.612 - ETA: 8:21 - loss: 2.3723 - acc: 0.612 - ETA: 8:16 - loss: 2.3728 - acc: 0.612 - ETA: 8:10 - loss: 2.3725 - acc: 0.612 - ETA: 8:04 - loss: 2.3713 - acc: 0.612 - ETA: 7:59 - loss: 2.3703 - acc: 0.613 - ETA: 7:53 - loss: 2.3704 - acc: 0.613 - ETA: 7:47 - loss: 2.3708 - acc: 0.612 - ETA: 7:42 - loss: 2.3703 - acc: 0.612 - ETA: 7:36 - loss: 2.3701 - acc: 0.612 - ETA: 7:30 - loss: 2.3697 - acc: 0.613 - ETA: 7:25 - loss: 2.3692 - acc: 0.613 - ETA: 7:19 - loss: 2.3692 - acc: 0.613 - ETA: 7:13 - loss: 2.3687 - acc: 0.613 - ETA: 7:08 - loss: 2.3686 - acc: 0.613 - ETA: 7:02 - loss: 2.3690 - acc: 0.613 - ETA: 6:56 - loss: 2.3689 - acc: 0.613 - ETA: 6:51 - loss: 2.3692 - acc: 0.613 - ETA: 6:45 - loss: 2.3690 - acc: 0.613 - ETA: 6:39 - loss: 2.3700 - acc: 0.613 - ETA: 6:34 - loss: 2.3693 - acc: 0.613 - ETA: 6:28 - loss: 2.3688 - acc: 0.613 - ETA: 6:23 - loss: 2.3680 - acc: 0.613 - ETA: 6:17 - loss: 2.3672 - acc: 0.613 - ETA: 6:11 - loss: 2.3673 - acc: 0.613 - ETA: 6:06 - loss: 2.3668 - acc: 0.613 - ETA: 6:00 - loss: 2.3669 - acc: 0.613 - ETA: 5:54 - loss: 2.3668 - acc: 0.613 - ETA: 5:49 - loss: 2.3667 - acc: 0.613 - ETA: 5:43 - loss: 2.3667 - acc: 0.613 - ETA: 5:38 - loss: 2.3662 - acc: 0.613 - ETA: 5:32 - loss: 2.3663 - acc: 0.613 - ETA: 5:26 - loss: 2.3660 - acc: 0.613 - ETA: 5:21 - loss: 2.3660 - acc: 0.613 - ETA: 5:15 - loss: 2.3656 - acc: 0.613 - ETA: 5:10 - loss: 2.3658 - acc: 0.613 - ETA: 5:04 - loss: 2.3660 - acc: 0.613 - ETA: 4:59 - loss: 2.3656 - acc: 0.613 - ETA: 4:54 - loss: 2.3656 - acc: 0.613 - ETA: 4:48 - loss: 2.3652 - acc: 0.613 - ETA: 4:42 - loss: 2.3653 - acc: 0.613 - ETA: 4:37 - loss: 2.3646 - acc: 0.613 - ETA: 4:31 - loss: 2.3642 - acc: 0.613 - ETA: 4:26 - loss: 2.3635 - acc: 0.613 - ETA: 4:20 - loss: 2.3633 - acc: 0.613 - ETA: 4:14 - loss: 2.3636 - acc: 0.613 - ETA: 4:09 - loss: 2.3632 - acc: 0.613 - ETA: 4:03 - loss: 2.3627 - acc: 0.613 - ETA: 3:58 - loss: 2.3625 - acc: 0.613 - ETA: 3:52 - loss: 2.3624 - acc: 0.613 - ETA: 3:47 - loss: 2.3627 - acc: 0.613 - ETA: 3:41 - loss: 2.3625 - acc: 0.613 - ETA: 3:35 - loss: 2.3624 - acc: 0.613 - ETA: 3:30 - loss: 2.3619 - acc: 0.613 - ETA: 3:24 - loss: 2.3624 - acc: 0.613 - ETA: 3:19 - loss: 2.3626 - acc: 0.613 - ETA: 3:13 - loss: 2.3631 - acc: 0.613 - ETA: 3:08 - loss: 2.3627 - acc: 0.613 - ETA: 3:02 - loss: 2.3628 - acc: 0.613 - ETA: 2:57 - loss: 2.3619 - acc: 0.613 - ETA: 2:51 - loss: 2.3618 - acc: 0.613 - ETA: 2:46 - loss: 2.3624 - acc: 0.613 - ETA: 2:40 - loss: 2.3620 - acc: 0.613 - ETA: 2:35 - loss: 2.3619 - acc: 0.613 - ETA: 2:29 - loss: 2.3616 - acc: 0.613 - ETA: 2:24 - loss: 2.3619 - acc: 0.613 - ETA: 2:18 - loss: 2.3619 - acc: 0.613 - ETA: 2:12 - loss: 2.3624 - acc: 0.613 - ETA: 2:07 - loss: 2.3619 - acc: 0.613 - ETA: 2:01 - loss: 2.3615 - acc: 0.613 - ETA: 1:56 - loss: 2.3613 - acc: 0.613 - ETA: 1:50 - loss: 2.3608 - acc: 0.613 - ETA: 1:45 - loss: 2.3605 - acc: 0.614 - ETA: 1:39 - loss: 2.3600 - acc: 0.614 - ETA: 1:34 - loss: 2.3601 - acc: 0.614 - ETA: 1:28 - loss: 2.3602 - acc: 0.614 - ETA: 1:23 - loss: 2.3600 - acc: 0.614 - ETA: 1:17 - loss: 2.3600 - acc: 0.614 - ETA: 1:11 - loss: 2.3605 - acc: 0.614 - ETA: 1:06 - loss: 2.3607 - acc: 0.614 - ETA: 1:00 - loss: 2.3607 - acc: 0.614 - ETA: 55s - loss: 2.3602 - acc: 0.614 - ETA: 49s - loss: 2.3600 - acc: 0.61 - ETA: 44s - loss: 2.3604 - acc: 0.61 - ETA: 38s - loss: 2.3606 - acc: 0.61 - ETA: 33s - loss: 2.3596 - acc: 0.61 - ETA: 27s - loss: 2.3593 - acc: 0.61 - ETA: 22s - loss: 2.3590 - acc: 0.61 - ETA: 16s - loss: 2.3588 - acc: 0.61 - ETA: 11s - loss: 2.3583 - acc: 0.61 - ETA: 5s - loss: 2.3588 - acc: 0.6142 - ETA: 0s - loss: 2.3590 - acc: 0.614 - 1825s 43ms/sample - loss: 2.3589 - acc: 0.6141\n",
      "Epoch 4/30\n"
     ]
    },
    {
     "name": "stdout",
     "output_type": "stream",
     "text": [
      "26112/42374 [=================>............] - ETA: 28:48 - loss: 2.3001 - acc: 0.62 - ETA: 28:46 - loss: 2.2622 - acc: 0.62 - ETA: 28:50 - loss: 2.2732 - acc: 0.61 - ETA: 28:46 - loss: 2.2848 - acc: 0.61 - ETA: 28:35 - loss: 2.3180 - acc: 0.61 - ETA: 28:33 - loss: 2.3253 - acc: 0.61 - ETA: 28:25 - loss: 2.3534 - acc: 0.60 - ETA: 28:20 - loss: 2.3308 - acc: 0.61 - ETA: 28:13 - loss: 2.3233 - acc: 0.61 - ETA: 28:11 - loss: 2.3132 - acc: 0.61 - ETA: 28:09 - loss: 2.2962 - acc: 0.61 - ETA: 28:03 - loss: 2.3006 - acc: 0.61 - ETA: 27:57 - loss: 2.3037 - acc: 0.61 - ETA: 27:52 - loss: 2.2981 - acc: 0.61 - ETA: 27:45 - loss: 2.3024 - acc: 0.61 - ETA: 27:40 - loss: 2.2895 - acc: 0.61 - ETA: 27:35 - loss: 2.2828 - acc: 0.61 - ETA: 27:29 - loss: 2.2851 - acc: 0.61 - ETA: 27:25 - loss: 2.2841 - acc: 0.61 - ETA: 27:19 - loss: 2.2758 - acc: 0.61 - ETA: 27:12 - loss: 2.2757 - acc: 0.61 - ETA: 27:06 - loss: 2.2699 - acc: 0.61 - ETA: 27:03 - loss: 2.2659 - acc: 0.61 - ETA: 26:57 - loss: 2.2692 - acc: 0.61 - ETA: 26:52 - loss: 2.2729 - acc: 0.61 - ETA: 26:48 - loss: 2.2724 - acc: 0.61 - ETA: 26:42 - loss: 2.2726 - acc: 0.61 - ETA: 26:35 - loss: 2.2744 - acc: 0.61 - ETA: 26:32 - loss: 2.2719 - acc: 0.61 - ETA: 26:27 - loss: 2.2745 - acc: 0.61 - ETA: 26:21 - loss: 2.2705 - acc: 0.61 - ETA: 26:18 - loss: 2.2672 - acc: 0.61 - ETA: 26:12 - loss: 2.2671 - acc: 0.61 - ETA: 26:07 - loss: 2.2694 - acc: 0.61 - ETA: 26:02 - loss: 2.2704 - acc: 0.61 - ETA: 25:57 - loss: 2.2686 - acc: 0.61 - ETA: 25:51 - loss: 2.2716 - acc: 0.61 - ETA: 25:47 - loss: 2.2700 - acc: 0.61 - ETA: 25:41 - loss: 2.2735 - acc: 0.61 - ETA: 25:36 - loss: 2.2714 - acc: 0.61 - ETA: 25:31 - loss: 2.2679 - acc: 0.61 - ETA: 25:26 - loss: 2.2649 - acc: 0.61 - ETA: 25:20 - loss: 2.2696 - acc: 0.61 - ETA: 25:15 - loss: 2.2697 - acc: 0.61 - ETA: 25:10 - loss: 2.2695 - acc: 0.61 - ETA: 25:04 - loss: 2.2674 - acc: 0.61 - ETA: 24:59 - loss: 2.2670 - acc: 0.61 - ETA: 24:53 - loss: 2.2734 - acc: 0.61 - ETA: 24:48 - loss: 2.2694 - acc: 0.61 - ETA: 24:43 - loss: 2.2711 - acc: 0.61 - ETA: 24:38 - loss: 2.2703 - acc: 0.61 - ETA: 24:32 - loss: 2.2732 - acc: 0.61 - ETA: 24:28 - loss: 2.2714 - acc: 0.61 - ETA: 24:23 - loss: 2.2709 - acc: 0.61 - ETA: 24:17 - loss: 2.2729 - acc: 0.61 - ETA: 24:12 - loss: 2.2726 - acc: 0.61 - ETA: 24:07 - loss: 2.2703 - acc: 0.61 - ETA: 24:02 - loss: 2.2674 - acc: 0.61 - ETA: 23:57 - loss: 2.2659 - acc: 0.61 - ETA: 23:52 - loss: 2.2647 - acc: 0.61 - ETA: 23:47 - loss: 2.2654 - acc: 0.61 - ETA: 23:41 - loss: 2.2665 - acc: 0.61 - ETA: 23:36 - loss: 2.2700 - acc: 0.61 - ETA: 23:31 - loss: 2.2680 - acc: 0.61 - ETA: 23:25 - loss: 2.2680 - acc: 0.61 - ETA: 23:20 - loss: 2.2678 - acc: 0.61 - ETA: 23:14 - loss: 2.2659 - acc: 0.61 - ETA: 23:09 - loss: 2.2670 - acc: 0.61 - ETA: 23:04 - loss: 2.2669 - acc: 0.61 - ETA: 22:58 - loss: 2.2666 - acc: 0.61 - ETA: 22:53 - loss: 2.2662 - acc: 0.61 - ETA: 22:48 - loss: 2.2663 - acc: 0.61 - ETA: 22:42 - loss: 2.2688 - acc: 0.61 - ETA: 22:37 - loss: 2.2693 - acc: 0.61 - ETA: 22:32 - loss: 2.2662 - acc: 0.61 - ETA: 22:26 - loss: 2.2633 - acc: 0.61 - ETA: 22:21 - loss: 2.2632 - acc: 0.61 - ETA: 22:16 - loss: 2.2658 - acc: 0.61 - ETA: 22:10 - loss: 2.2668 - acc: 0.61 - ETA: 22:05 - loss: 2.2661 - acc: 0.61 - ETA: 21:59 - loss: 2.2673 - acc: 0.61 - ETA: 21:54 - loss: 2.2643 - acc: 0.61 - ETA: 21:48 - loss: 2.2660 - acc: 0.61 - ETA: 21:43 - loss: 2.2672 - acc: 0.61 - ETA: 21:37 - loss: 2.2668 - acc: 0.61 - ETA: 21:32 - loss: 2.2682 - acc: 0.61 - ETA: 21:27 - loss: 2.2677 - acc: 0.61 - ETA: 21:22 - loss: 2.2680 - acc: 0.61 - ETA: 21:17 - loss: 2.2659 - acc: 0.61 - ETA: 21:11 - loss: 2.2662 - acc: 0.61 - ETA: 21:06 - loss: 2.2683 - acc: 0.61 - ETA: 21:00 - loss: 2.2688 - acc: 0.61 - ETA: 20:55 - loss: 2.2681 - acc: 0.61 - ETA: 20:49 - loss: 2.2663 - acc: 0.61 - ETA: 20:44 - loss: 2.2662 - acc: 0.61 - ETA: 20:39 - loss: 2.2655 - acc: 0.61 - ETA: 20:33 - loss: 2.2655 - acc: 0.61 - ETA: 20:28 - loss: 2.2645 - acc: 0.61 - ETA: 20:23 - loss: 2.2640 - acc: 0.61 - ETA: 20:18 - loss: 2.2624 - acc: 0.61 - ETA: 20:12 - loss: 2.2631 - acc: 0.61 - ETA: 20:07 - loss: 2.2657 - acc: 0.61 - ETA: 20:02 - loss: 2.2656 - acc: 0.61 - ETA: 19:56 - loss: 2.2665 - acc: 0.61 - ETA: 19:51 - loss: 2.2664 - acc: 0.61 - ETA: 19:45 - loss: 2.2671 - acc: 0.61 - ETA: 19:40 - loss: 2.2654 - acc: 0.61 - ETA: 19:35 - loss: 2.2644 - acc: 0.61 - ETA: 19:29 - loss: 2.2640 - acc: 0.61 - ETA: 19:24 - loss: 2.2638 - acc: 0.61 - ETA: 19:19 - loss: 2.2639 - acc: 0.61 - ETA: 19:14 - loss: 2.2633 - acc: 0.62 - ETA: 19:08 - loss: 2.2644 - acc: 0.61 - ETA: 19:03 - loss: 2.2640 - acc: 0.61 - ETA: 18:58 - loss: 2.2626 - acc: 0.62 - ETA: 18:53 - loss: 2.2616 - acc: 0.62 - ETA: 18:47 - loss: 2.2609 - acc: 0.62 - ETA: 18:42 - loss: 2.2601 - acc: 0.62 - ETA: 18:37 - loss: 2.2618 - acc: 0.62 - ETA: 18:32 - loss: 2.2612 - acc: 0.62 - ETA: 18:26 - loss: 2.2611 - acc: 0.62 - ETA: 18:21 - loss: 2.2600 - acc: 0.62 - ETA: 18:15 - loss: 2.2590 - acc: 0.62 - ETA: 18:10 - loss: 2.2581 - acc: 0.62 - ETA: 18:05 - loss: 2.2582 - acc: 0.62 - ETA: 18:00 - loss: 2.2579 - acc: 0.62 - ETA: 17:54 - loss: 2.2560 - acc: 0.62 - ETA: 17:49 - loss: 2.2554 - acc: 0.62 - ETA: 17:44 - loss: 2.2553 - acc: 0.62 - ETA: 17:38 - loss: 2.2538 - acc: 0.62 - ETA: 17:33 - loss: 2.2527 - acc: 0.62 - ETA: 17:28 - loss: 2.2530 - acc: 0.62 - ETA: 17:22 - loss: 2.2549 - acc: 0.62 - ETA: 17:17 - loss: 2.2531 - acc: 0.62 - ETA: 17:12 - loss: 2.2536 - acc: 0.62 - ETA: 17:07 - loss: 2.2534 - acc: 0.62 - ETA: 17:01 - loss: 2.2529 - acc: 0.62 - ETA: 16:56 - loss: 2.2517 - acc: 0.62 - ETA: 16:51 - loss: 2.2513 - acc: 0.62 - ETA: 16:45 - loss: 2.2516 - acc: 0.62 - ETA: 16:40 - loss: 2.2506 - acc: 0.62 - ETA: 16:35 - loss: 2.2511 - acc: 0.62 - ETA: 16:30 - loss: 2.2509 - acc: 0.62 - ETA: 16:24 - loss: 2.2515 - acc: 0.62 - ETA: 16:19 - loss: 2.2513 - acc: 0.62 - ETA: 16:14 - loss: 2.2511 - acc: 0.62 - ETA: 16:08 - loss: 2.2517 - acc: 0.62 - ETA: 16:03 - loss: 2.2530 - acc: 0.62 - ETA: 15:58 - loss: 2.2516 - acc: 0.62 - ETA: 15:52 - loss: 2.2510 - acc: 0.62 - ETA: 15:47 - loss: 2.2502 - acc: 0.62 - ETA: 15:42 - loss: 2.2498 - acc: 0.62 - ETA: 15:36 - loss: 2.2496 - acc: 0.62 - ETA: 15:31 - loss: 2.2497 - acc: 0.62 - ETA: 15:26 - loss: 2.2507 - acc: 0.62 - ETA: 15:21 - loss: 2.2516 - acc: 0.62 - ETA: 15:15 - loss: 2.2513 - acc: 0.62 - ETA: 15:10 - loss: 2.2507 - acc: 0.62 - ETA: 15:05 - loss: 2.2512 - acc: 0.62 - ETA: 14:59 - loss: 2.2524 - acc: 0.62 - ETA: 14:54 - loss: 2.2511 - acc: 0.62 - ETA: 14:49 - loss: 2.2504 - acc: 0.62 - ETA: 14:44 - loss: 2.2509 - acc: 0.62 - ETA: 14:38 - loss: 2.2505 - acc: 0.62 - ETA: 14:33 - loss: 2.2507 - acc: 0.62 - ETA: 14:28 - loss: 2.2503 - acc: 0.62 - ETA: 14:22 - loss: 2.2503 - acc: 0.62 - ETA: 14:17 - loss: 2.2511 - acc: 0.62 - ETA: 14:12 - loss: 2.2512 - acc: 0.62 - ETA: 14:07 - loss: 2.2517 - acc: 0.62 - ETA: 14:01 - loss: 2.2515 - acc: 0.62 - ETA: 13:56 - loss: 2.2508 - acc: 0.62 - ETA: 13:51 - loss: 2.2511 - acc: 0.62 - ETA: 13:45 - loss: 2.2510 - acc: 0.62 - ETA: 13:40 - loss: 2.2516 - acc: 0.62 - ETA: 13:35 - loss: 2.2512 - acc: 0.62 - ETA: 13:30 - loss: 2.2509 - acc: 0.62 - ETA: 13:25 - loss: 2.2513 - acc: 0.62 - ETA: 13:19 - loss: 2.2524 - acc: 0.62 - ETA: 13:14 - loss: 2.2521 - acc: 0.62 - ETA: 13:09 - loss: 2.2514 - acc: 0.62 - ETA: 13:04 - loss: 2.2512 - acc: 0.62 - ETA: 12:58 - loss: 2.2507 - acc: 0.62 - ETA: 12:53 - loss: 2.2513 - acc: 0.62 - ETA: 12:48 - loss: 2.2515 - acc: 0.62 - ETA: 12:43 - loss: 2.2521 - acc: 0.62 - ETA: 12:37 - loss: 2.2529 - acc: 0.62 - ETA: 12:32 - loss: 2.2540 - acc: 0.62 - ETA: 12:27 - loss: 2.2542 - acc: 0.62 - ETA: 12:22 - loss: 2.2538 - acc: 0.62 - ETA: 12:16 - loss: 2.2535 - acc: 0.62 - ETA: 12:11 - loss: 2.2529 - acc: 0.62 - ETA: 12:06 - loss: 2.2531 - acc: 0.62 - ETA: 12:01 - loss: 2.2529 - acc: 0.62 - ETA: 11:55 - loss: 2.2536 - acc: 0.62 - ETA: 11:50 - loss: 2.2540 - acc: 0.62 - ETA: 11:45 - loss: 2.2545 - acc: 0.62 - ETA: 11:39 - loss: 2.2546 - acc: 0.62 - ETA: 11:34 - loss: 2.2554 - acc: 0.62 - ETA: 11:29 - loss: 2.2553 - acc: 0.62 - ETA: 11:24 - loss: 2.2548 - acc: 0.62 - ETA: 11:18 - loss: 2.2546 - acc: 0.62 - ETA: 11:13 - loss: 2.2534 - acc: 0.62 - ETA: 11:08 - loss: 2.2535 - acc: 0.6219"
     ]
    },
    {
     "name": "stdout",
     "output_type": "stream",
     "text": [
      "42374/42374 [==============================] - ETA: 11:03 - loss: 2.2533 - acc: 0.62 - ETA: 10:57 - loss: 2.2549 - acc: 0.62 - ETA: 10:52 - loss: 2.2559 - acc: 0.62 - ETA: 10:47 - loss: 2.2560 - acc: 0.62 - ETA: 10:42 - loss: 2.2555 - acc: 0.62 - ETA: 10:36 - loss: 2.2558 - acc: 0.62 - ETA: 10:31 - loss: 2.2567 - acc: 0.62 - ETA: 10:26 - loss: 2.2568 - acc: 0.62 - ETA: 10:21 - loss: 2.2575 - acc: 0.62 - ETA: 10:15 - loss: 2.2580 - acc: 0.62 - ETA: 10:10 - loss: 2.2579 - acc: 0.62 - ETA: 10:05 - loss: 2.2577 - acc: 0.62 - ETA: 9:59 - loss: 2.2580 - acc: 0.6215 - ETA: 9:54 - loss: 2.2588 - acc: 0.621 - ETA: 9:49 - loss: 2.2590 - acc: 0.621 - ETA: 9:44 - loss: 2.2600 - acc: 0.621 - ETA: 9:38 - loss: 2.2602 - acc: 0.621 - ETA: 9:33 - loss: 2.2603 - acc: 0.621 - ETA: 9:28 - loss: 2.2606 - acc: 0.621 - ETA: 9:23 - loss: 2.2606 - acc: 0.621 - ETA: 9:17 - loss: 2.2602 - acc: 0.621 - ETA: 9:12 - loss: 2.2594 - acc: 0.621 - ETA: 9:07 - loss: 2.2603 - acc: 0.621 - ETA: 9:02 - loss: 2.2604 - acc: 0.621 - ETA: 8:56 - loss: 2.2615 - acc: 0.621 - ETA: 8:51 - loss: 2.2612 - acc: 0.621 - ETA: 8:46 - loss: 2.2611 - acc: 0.621 - ETA: 8:41 - loss: 2.2611 - acc: 0.621 - ETA: 8:35 - loss: 2.2614 - acc: 0.621 - ETA: 8:30 - loss: 2.2619 - acc: 0.621 - ETA: 8:25 - loss: 2.2623 - acc: 0.621 - ETA: 8:20 - loss: 2.2617 - acc: 0.621 - ETA: 8:14 - loss: 2.2626 - acc: 0.621 - ETA: 8:09 - loss: 2.2614 - acc: 0.621 - ETA: 8:04 - loss: 2.2618 - acc: 0.621 - ETA: 7:59 - loss: 2.2616 - acc: 0.621 - ETA: 7:54 - loss: 2.2614 - acc: 0.621 - ETA: 7:48 - loss: 2.2614 - acc: 0.621 - ETA: 7:43 - loss: 2.2617 - acc: 0.621 - ETA: 7:38 - loss: 2.2611 - acc: 0.621 - ETA: 7:33 - loss: 2.2614 - acc: 0.621 - ETA: 7:27 - loss: 2.2612 - acc: 0.621 - ETA: 7:22 - loss: 2.2613 - acc: 0.621 - ETA: 7:17 - loss: 2.2603 - acc: 0.621 - ETA: 7:11 - loss: 2.2603 - acc: 0.621 - ETA: 7:06 - loss: 2.2601 - acc: 0.621 - ETA: 7:01 - loss: 2.2591 - acc: 0.621 - ETA: 6:56 - loss: 2.2587 - acc: 0.621 - ETA: 6:50 - loss: 2.2583 - acc: 0.621 - ETA: 6:45 - loss: 2.2578 - acc: 0.621 - ETA: 6:40 - loss: 2.2581 - acc: 0.621 - ETA: 6:34 - loss: 2.2577 - acc: 0.621 - ETA: 6:29 - loss: 2.2575 - acc: 0.621 - ETA: 6:24 - loss: 2.2571 - acc: 0.621 - ETA: 6:19 - loss: 2.2568 - acc: 0.621 - ETA: 6:13 - loss: 2.2579 - acc: 0.621 - ETA: 6:08 - loss: 2.2582 - acc: 0.621 - ETA: 6:03 - loss: 2.2589 - acc: 0.621 - ETA: 5:58 - loss: 2.2592 - acc: 0.621 - ETA: 5:52 - loss: 2.2596 - acc: 0.621 - ETA: 5:47 - loss: 2.2591 - acc: 0.621 - ETA: 5:42 - loss: 2.2589 - acc: 0.621 - ETA: 5:37 - loss: 2.2584 - acc: 0.621 - ETA: 5:31 - loss: 2.2585 - acc: 0.621 - ETA: 5:26 - loss: 2.2584 - acc: 0.621 - ETA: 5:21 - loss: 2.2579 - acc: 0.621 - ETA: 5:16 - loss: 2.2571 - acc: 0.621 - ETA: 5:10 - loss: 2.2572 - acc: 0.621 - ETA: 5:05 - loss: 2.2569 - acc: 0.621 - ETA: 5:00 - loss: 2.2569 - acc: 0.621 - ETA: 4:55 - loss: 2.2571 - acc: 0.621 - ETA: 4:49 - loss: 2.2579 - acc: 0.621 - ETA: 4:44 - loss: 2.2578 - acc: 0.621 - ETA: 4:39 - loss: 2.2572 - acc: 0.621 - ETA: 4:34 - loss: 2.2569 - acc: 0.621 - ETA: 4:28 - loss: 2.2569 - acc: 0.621 - ETA: 4:23 - loss: 2.2568 - acc: 0.621 - ETA: 4:18 - loss: 2.2569 - acc: 0.621 - ETA: 4:12 - loss: 2.2570 - acc: 0.621 - ETA: 4:07 - loss: 2.2572 - acc: 0.621 - ETA: 4:02 - loss: 2.2574 - acc: 0.621 - ETA: 3:57 - loss: 2.2568 - acc: 0.621 - ETA: 3:51 - loss: 2.2571 - acc: 0.621 - ETA: 3:46 - loss: 2.2561 - acc: 0.622 - ETA: 3:41 - loss: 2.2562 - acc: 0.622 - ETA: 3:36 - loss: 2.2565 - acc: 0.622 - ETA: 3:30 - loss: 2.2565 - acc: 0.622 - ETA: 3:25 - loss: 2.2566 - acc: 0.622 - ETA: 3:20 - loss: 2.2556 - acc: 0.622 - ETA: 3:15 - loss: 2.2560 - acc: 0.622 - ETA: 3:09 - loss: 2.2560 - acc: 0.622 - ETA: 3:04 - loss: 2.2561 - acc: 0.622 - ETA: 2:59 - loss: 2.2564 - acc: 0.622 - ETA: 2:53 - loss: 2.2568 - acc: 0.621 - ETA: 2:48 - loss: 2.2568 - acc: 0.622 - ETA: 2:43 - loss: 2.2561 - acc: 0.622 - ETA: 2:38 - loss: 2.2563 - acc: 0.622 - ETA: 2:32 - loss: 2.2570 - acc: 0.621 - ETA: 2:27 - loss: 2.2574 - acc: 0.621 - ETA: 2:22 - loss: 2.2572 - acc: 0.621 - ETA: 2:17 - loss: 2.2572 - acc: 0.621 - ETA: 2:12 - loss: 2.2565 - acc: 0.622 - ETA: 2:06 - loss: 2.2570 - acc: 0.622 - ETA: 2:01 - loss: 2.2573 - acc: 0.622 - ETA: 1:56 - loss: 2.2569 - acc: 0.622 - ETA: 1:51 - loss: 2.2564 - acc: 0.622 - ETA: 1:45 - loss: 2.2564 - acc: 0.622 - ETA: 1:40 - loss: 2.2562 - acc: 0.622 - ETA: 1:35 - loss: 2.2563 - acc: 0.622 - ETA: 1:30 - loss: 2.2560 - acc: 0.622 - ETA: 1:24 - loss: 2.2560 - acc: 0.622 - ETA: 1:19 - loss: 2.2560 - acc: 0.622 - ETA: 1:14 - loss: 2.2561 - acc: 0.622 - ETA: 1:09 - loss: 2.2567 - acc: 0.622 - ETA: 1:03 - loss: 2.2571 - acc: 0.622 - ETA: 58s - loss: 2.2579 - acc: 0.621 - ETA: 53s - loss: 2.2579 - acc: 0.62 - ETA: 48s - loss: 2.2573 - acc: 0.62 - ETA: 42s - loss: 2.2570 - acc: 0.62 - ETA: 37s - loss: 2.2572 - acc: 0.62 - ETA: 32s - loss: 2.2566 - acc: 0.62 - ETA: 26s - loss: 2.2565 - acc: 0.62 - ETA: 21s - loss: 2.2566 - acc: 0.62 - ETA: 16s - loss: 2.2567 - acc: 0.62 - ETA: 10s - loss: 2.2561 - acc: 0.62 - ETA: 5s - loss: 2.2558 - acc: 0.6221 - ETA: 0s - loss: 2.2561 - acc: 0.622 - 1775s 42ms/sample - loss: 2.2560 - acc: 0.6221\n",
      "Epoch 5/30\n"
     ]
    },
    {
     "name": "stdout",
     "output_type": "stream",
     "text": [
      "26112/42374 [=================>............] - ETA: 37:44 - loss: 2.4846 - acc: 0.57 - ETA: 35:42 - loss: 2.3704 - acc: 0.60 - ETA: 33:12 - loss: 2.2963 - acc: 0.61 - ETA: 32:08 - loss: 2.2460 - acc: 0.62 - ETA: 31:28 - loss: 2.2533 - acc: 0.61 - ETA: 30:56 - loss: 2.2465 - acc: 0.61 - ETA: 30:30 - loss: 2.2200 - acc: 0.62 - ETA: 30:10 - loss: 2.2012 - acc: 0.62 - ETA: 30:39 - loss: 2.2035 - acc: 0.62 - ETA: 30:54 - loss: 2.2007 - acc: 0.62 - ETA: 31:08 - loss: 2.2118 - acc: 0.62 - ETA: 31:21 - loss: 2.2133 - acc: 0.62 - ETA: 31:34 - loss: 2.2065 - acc: 0.62 - ETA: 31:46 - loss: 2.1999 - acc: 0.62 - ETA: 31:38 - loss: 2.1906 - acc: 0.62 - ETA: 31:17 - loss: 2.1919 - acc: 0.62 - ETA: 30:56 - loss: 2.2018 - acc: 0.62 - ETA: 30:41 - loss: 2.1908 - acc: 0.62 - ETA: 30:24 - loss: 2.1821 - acc: 0.62 - ETA: 30:08 - loss: 2.1815 - acc: 0.62 - ETA: 29:56 - loss: 2.1867 - acc: 0.62 - ETA: 29:43 - loss: 2.1855 - acc: 0.62 - ETA: 29:30 - loss: 2.1900 - acc: 0.62 - ETA: 29:19 - loss: 2.1917 - acc: 0.62 - ETA: 29:07 - loss: 2.1883 - acc: 0.62 - ETA: 28:55 - loss: 2.1910 - acc: 0.62 - ETA: 28:46 - loss: 2.1928 - acc: 0.62 - ETA: 28:36 - loss: 2.1968 - acc: 0.62 - ETA: 28:26 - loss: 2.1957 - acc: 0.62 - ETA: 28:17 - loss: 2.1969 - acc: 0.62 - ETA: 28:07 - loss: 2.1843 - acc: 0.62 - ETA: 27:58 - loss: 2.1876 - acc: 0.62 - ETA: 27:52 - loss: 2.1918 - acc: 0.62 - ETA: 27:43 - loss: 2.1912 - acc: 0.62 - ETA: 27:34 - loss: 2.1933 - acc: 0.62 - ETA: 27:26 - loss: 2.1893 - acc: 0.62 - ETA: 27:18 - loss: 2.1896 - acc: 0.62 - ETA: 27:11 - loss: 2.1881 - acc: 0.62 - ETA: 27:04 - loss: 2.1844 - acc: 0.62 - ETA: 26:56 - loss: 2.1895 - acc: 0.62 - ETA: 26:49 - loss: 2.1863 - acc: 0.62 - ETA: 26:41 - loss: 2.1858 - acc: 0.62 - ETA: 26:33 - loss: 2.1865 - acc: 0.62 - ETA: 26:26 - loss: 2.1898 - acc: 0.62 - ETA: 26:19 - loss: 2.1911 - acc: 0.62 - ETA: 26:12 - loss: 2.1911 - acc: 0.62 - ETA: 26:05 - loss: 2.1932 - acc: 0.62 - ETA: 25:58 - loss: 2.1953 - acc: 0.62 - ETA: 25:52 - loss: 2.1960 - acc: 0.62 - ETA: 25:45 - loss: 2.1958 - acc: 0.62 - ETA: 25:39 - loss: 2.1935 - acc: 0.62 - ETA: 25:33 - loss: 2.1948 - acc: 0.62 - ETA: 25:25 - loss: 2.1937 - acc: 0.62 - ETA: 25:19 - loss: 2.1966 - acc: 0.62 - ETA: 25:13 - loss: 2.2003 - acc: 0.62 - ETA: 25:06 - loss: 2.2009 - acc: 0.62 - ETA: 24:59 - loss: 2.2019 - acc: 0.62 - ETA: 24:53 - loss: 2.2007 - acc: 0.62 - ETA: 24:47 - loss: 2.2010 - acc: 0.62 - ETA: 24:42 - loss: 2.1999 - acc: 0.62 - ETA: 24:36 - loss: 2.1986 - acc: 0.62 - ETA: 24:30 - loss: 2.1990 - acc: 0.62 - ETA: 24:24 - loss: 2.1977 - acc: 0.62 - ETA: 24:18 - loss: 2.1959 - acc: 0.62 - ETA: 24:12 - loss: 2.1992 - acc: 0.62 - ETA: 24:05 - loss: 2.1993 - acc: 0.62 - ETA: 23:59 - loss: 2.2011 - acc: 0.62 - ETA: 23:53 - loss: 2.1964 - acc: 0.62 - ETA: 23:47 - loss: 2.1977 - acc: 0.62 - ETA: 23:41 - loss: 2.2003 - acc: 0.62 - ETA: 23:35 - loss: 2.1999 - acc: 0.62 - ETA: 23:30 - loss: 2.1979 - acc: 0.62 - ETA: 23:24 - loss: 2.1976 - acc: 0.62 - ETA: 23:17 - loss: 2.1996 - acc: 0.62 - ETA: 23:11 - loss: 2.1983 - acc: 0.62 - ETA: 23:05 - loss: 2.1966 - acc: 0.62 - ETA: 23:00 - loss: 2.1947 - acc: 0.62 - ETA: 22:54 - loss: 2.1932 - acc: 0.62 - ETA: 22:48 - loss: 2.1930 - acc: 0.62 - ETA: 22:41 - loss: 2.1932 - acc: 0.62 - ETA: 22:35 - loss: 2.1949 - acc: 0.62 - ETA: 22:29 - loss: 2.1954 - acc: 0.62 - ETA: 22:23 - loss: 2.1951 - acc: 0.62 - ETA: 22:17 - loss: 2.1979 - acc: 0.62 - ETA: 22:11 - loss: 2.1979 - acc: 0.62 - ETA: 22:05 - loss: 2.1962 - acc: 0.62 - ETA: 21:59 - loss: 2.1973 - acc: 0.62 - ETA: 21:53 - loss: 2.1972 - acc: 0.62 - ETA: 21:47 - loss: 2.1985 - acc: 0.62 - ETA: 21:41 - loss: 2.1987 - acc: 0.62 - ETA: 21:35 - loss: 2.1989 - acc: 0.62 - ETA: 21:29 - loss: 2.1968 - acc: 0.62 - ETA: 21:24 - loss: 2.1953 - acc: 0.62 - ETA: 21:18 - loss: 2.1947 - acc: 0.62 - ETA: 21:12 - loss: 2.1945 - acc: 0.62 - ETA: 21:06 - loss: 2.1959 - acc: 0.62 - ETA: 21:01 - loss: 2.1963 - acc: 0.62 - ETA: 20:55 - loss: 2.1952 - acc: 0.62 - ETA: 20:49 - loss: 2.1950 - acc: 0.62 - ETA: 20:44 - loss: 2.1951 - acc: 0.62 - ETA: 20:38 - loss: 2.1970 - acc: 0.62 - ETA: 20:33 - loss: 2.1973 - acc: 0.62 - ETA: 20:28 - loss: 2.1974 - acc: 0.62 - ETA: 20:22 - loss: 2.1965 - acc: 0.62 - ETA: 20:16 - loss: 2.1974 - acc: 0.62 - ETA: 20:11 - loss: 2.1971 - acc: 0.62 - ETA: 20:05 - loss: 2.1969 - acc: 0.62 - ETA: 19:59 - loss: 2.1980 - acc: 0.62 - ETA: 19:54 - loss: 2.1956 - acc: 0.62 - ETA: 19:49 - loss: 2.1979 - acc: 0.62 - ETA: 19:43 - loss: 2.1995 - acc: 0.62 - ETA: 19:38 - loss: 2.1998 - acc: 0.62 - ETA: 19:32 - loss: 2.1994 - acc: 0.62 - ETA: 19:26 - loss: 2.1987 - acc: 0.62 - ETA: 19:21 - loss: 2.1992 - acc: 0.62 - ETA: 19:15 - loss: 2.1984 - acc: 0.62 - ETA: 19:10 - loss: 2.1967 - acc: 0.62 - ETA: 19:04 - loss: 2.1982 - acc: 0.62 - ETA: 18:59 - loss: 2.1982 - acc: 0.62 - ETA: 18:54 - loss: 2.1969 - acc: 0.62 - ETA: 18:48 - loss: 2.1947 - acc: 0.62 - ETA: 18:43 - loss: 2.1958 - acc: 0.62 - ETA: 18:37 - loss: 2.1961 - acc: 0.62 - ETA: 18:32 - loss: 2.1961 - acc: 0.62 - ETA: 18:26 - loss: 2.1970 - acc: 0.62 - ETA: 18:21 - loss: 2.1980 - acc: 0.62 - ETA: 18:15 - loss: 2.1993 - acc: 0.62 - ETA: 18:10 - loss: 2.1978 - acc: 0.62 - ETA: 18:04 - loss: 2.1972 - acc: 0.62 - ETA: 17:59 - loss: 2.1954 - acc: 0.62 - ETA: 17:53 - loss: 2.1953 - acc: 0.62 - ETA: 17:47 - loss: 2.1963 - acc: 0.62 - ETA: 17:42 - loss: 2.1963 - acc: 0.62 - ETA: 17:37 - loss: 2.1960 - acc: 0.62 - ETA: 17:33 - loss: 2.1961 - acc: 0.62 - ETA: 17:28 - loss: 2.1961 - acc: 0.62 - ETA: 17:23 - loss: 2.1965 - acc: 0.62 - ETA: 17:19 - loss: 2.1972 - acc: 0.62 - ETA: 17:15 - loss: 2.1976 - acc: 0.62 - ETA: 17:10 - loss: 2.1972 - acc: 0.62 - ETA: 17:05 - loss: 2.1973 - acc: 0.62 - ETA: 16:59 - loss: 2.1982 - acc: 0.62 - ETA: 16:54 - loss: 2.1979 - acc: 0.62 - ETA: 16:48 - loss: 2.1980 - acc: 0.62 - ETA: 16:43 - loss: 2.1985 - acc: 0.62 - ETA: 16:37 - loss: 2.1982 - acc: 0.62 - ETA: 16:32 - loss: 2.1971 - acc: 0.62 - ETA: 16:26 - loss: 2.1971 - acc: 0.62 - ETA: 16:21 - loss: 2.1961 - acc: 0.62 - ETA: 16:15 - loss: 2.1951 - acc: 0.62 - ETA: 16:10 - loss: 2.1951 - acc: 0.62 - ETA: 16:05 - loss: 2.1944 - acc: 0.62 - ETA: 16:01 - loss: 2.1945 - acc: 0.62 - ETA: 15:57 - loss: 2.1949 - acc: 0.62 - ETA: 15:52 - loss: 2.1952 - acc: 0.62 - ETA: 15:48 - loss: 2.1946 - acc: 0.62 - ETA: 15:42 - loss: 2.1946 - acc: 0.62 - ETA: 15:37 - loss: 2.1956 - acc: 0.62 - ETA: 15:31 - loss: 2.1955 - acc: 0.62 - ETA: 15:26 - loss: 2.1955 - acc: 0.62 - ETA: 15:21 - loss: 2.1964 - acc: 0.62 - ETA: 15:18 - loss: 2.1954 - acc: 0.62 - ETA: 15:12 - loss: 2.1948 - acc: 0.62 - ETA: 15:07 - loss: 2.1936 - acc: 0.62 - ETA: 15:02 - loss: 2.1944 - acc: 0.62 - ETA: 14:56 - loss: 2.1939 - acc: 0.62 - ETA: 14:51 - loss: 2.1947 - acc: 0.62 - ETA: 14:45 - loss: 2.1943 - acc: 0.62 - ETA: 14:39 - loss: 2.1944 - acc: 0.62 - ETA: 14:34 - loss: 2.1934 - acc: 0.62 - ETA: 14:28 - loss: 2.1929 - acc: 0.62 - ETA: 14:23 - loss: 2.1925 - acc: 0.62 - ETA: 14:17 - loss: 2.1930 - acc: 0.62 - ETA: 14:11 - loss: 2.1924 - acc: 0.62 - ETA: 14:06 - loss: 2.1915 - acc: 0.62 - ETA: 14:00 - loss: 2.1919 - acc: 0.62 - ETA: 13:55 - loss: 2.1904 - acc: 0.62 - ETA: 13:49 - loss: 2.1900 - acc: 0.62 - ETA: 13:44 - loss: 2.1901 - acc: 0.62 - ETA: 13:38 - loss: 2.1900 - acc: 0.62 - ETA: 13:33 - loss: 2.1888 - acc: 0.62 - ETA: 13:27 - loss: 2.1889 - acc: 0.62 - ETA: 13:22 - loss: 2.1886 - acc: 0.62 - ETA: 13:16 - loss: 2.1873 - acc: 0.62 - ETA: 13:11 - loss: 2.1877 - acc: 0.62 - ETA: 13:05 - loss: 2.1881 - acc: 0.62 - ETA: 13:00 - loss: 2.1881 - acc: 0.62 - ETA: 12:54 - loss: 2.1889 - acc: 0.62 - ETA: 12:49 - loss: 2.1895 - acc: 0.62 - ETA: 12:43 - loss: 2.1898 - acc: 0.62 - ETA: 12:38 - loss: 2.1902 - acc: 0.62 - ETA: 12:32 - loss: 2.1892 - acc: 0.62 - ETA: 12:27 - loss: 2.1887 - acc: 0.62 - ETA: 12:21 - loss: 2.1898 - acc: 0.62 - ETA: 12:16 - loss: 2.1889 - acc: 0.62 - ETA: 12:10 - loss: 2.1882 - acc: 0.62 - ETA: 12:05 - loss: 2.1880 - acc: 0.62 - ETA: 11:59 - loss: 2.1874 - acc: 0.62 - ETA: 11:54 - loss: 2.1876 - acc: 0.62 - ETA: 11:48 - loss: 2.1870 - acc: 0.62 - ETA: 11:43 - loss: 2.1865 - acc: 0.62 - ETA: 11:38 - loss: 2.1862 - acc: 0.62 - ETA: 11:32 - loss: 2.1852 - acc: 0.62 - ETA: 11:27 - loss: 2.1853 - acc: 0.6274"
     ]
    },
    {
     "name": "stdout",
     "output_type": "stream",
     "text": [
      "42374/42374 [==============================] - ETA: 11:21 - loss: 2.1856 - acc: 0.62 - ETA: 11:16 - loss: 2.1857 - acc: 0.62 - ETA: 11:10 - loss: 2.1859 - acc: 0.62 - ETA: 11:05 - loss: 2.1859 - acc: 0.62 - ETA: 10:59 - loss: 2.1859 - acc: 0.62 - ETA: 10:54 - loss: 2.1854 - acc: 0.62 - ETA: 10:48 - loss: 2.1861 - acc: 0.62 - ETA: 10:43 - loss: 2.1854 - acc: 0.62 - ETA: 10:37 - loss: 2.1852 - acc: 0.62 - ETA: 10:32 - loss: 2.1848 - acc: 0.62 - ETA: 10:26 - loss: 2.1856 - acc: 0.62 - ETA: 10:21 - loss: 2.1859 - acc: 0.62 - ETA: 10:15 - loss: 2.1861 - acc: 0.62 - ETA: 10:10 - loss: 2.1863 - acc: 0.62 - ETA: 10:05 - loss: 2.1866 - acc: 0.62 - ETA: 9:59 - loss: 2.1862 - acc: 0.6272 - ETA: 9:54 - loss: 2.1860 - acc: 0.627 - ETA: 9:48 - loss: 2.1863 - acc: 0.627 - ETA: 9:43 - loss: 2.1871 - acc: 0.627 - ETA: 9:37 - loss: 2.1870 - acc: 0.627 - ETA: 9:32 - loss: 2.1874 - acc: 0.626 - ETA: 9:26 - loss: 2.1879 - acc: 0.626 - ETA: 9:21 - loss: 2.1881 - acc: 0.626 - ETA: 9:16 - loss: 2.1877 - acc: 0.627 - ETA: 9:10 - loss: 2.1872 - acc: 0.627 - ETA: 9:05 - loss: 2.1870 - acc: 0.627 - ETA: 8:59 - loss: 2.1876 - acc: 0.626 - ETA: 8:54 - loss: 2.1878 - acc: 0.626 - ETA: 8:48 - loss: 2.1872 - acc: 0.627 - ETA: 8:43 - loss: 2.1867 - acc: 0.627 - ETA: 8:37 - loss: 2.1870 - acc: 0.627 - ETA: 8:32 - loss: 2.1868 - acc: 0.627 - ETA: 8:26 - loss: 2.1875 - acc: 0.627 - ETA: 8:21 - loss: 2.1866 - acc: 0.627 - ETA: 8:16 - loss: 2.1869 - acc: 0.627 - ETA: 8:10 - loss: 2.1870 - acc: 0.627 - ETA: 8:05 - loss: 2.1865 - acc: 0.627 - ETA: 8:00 - loss: 2.1871 - acc: 0.627 - ETA: 7:54 - loss: 2.1869 - acc: 0.627 - ETA: 7:49 - loss: 2.1874 - acc: 0.627 - ETA: 7:43 - loss: 2.1872 - acc: 0.627 - ETA: 7:38 - loss: 2.1871 - acc: 0.627 - ETA: 7:33 - loss: 2.1874 - acc: 0.627 - ETA: 7:28 - loss: 2.1871 - acc: 0.627 - ETA: 7:22 - loss: 2.1874 - acc: 0.627 - ETA: 7:17 - loss: 2.1870 - acc: 0.627 - ETA: 7:11 - loss: 2.1872 - acc: 0.627 - ETA: 7:06 - loss: 2.1865 - acc: 0.627 - ETA: 7:00 - loss: 2.1864 - acc: 0.627 - ETA: 6:55 - loss: 2.1867 - acc: 0.627 - ETA: 6:49 - loss: 2.1873 - acc: 0.627 - ETA: 6:44 - loss: 2.1868 - acc: 0.627 - ETA: 6:39 - loss: 2.1869 - acc: 0.627 - ETA: 6:33 - loss: 2.1866 - acc: 0.627 - ETA: 6:28 - loss: 2.1866 - acc: 0.627 - ETA: 6:22 - loss: 2.1868 - acc: 0.627 - ETA: 6:17 - loss: 2.1865 - acc: 0.627 - ETA: 6:12 - loss: 2.1864 - acc: 0.627 - ETA: 6:06 - loss: 2.1857 - acc: 0.627 - ETA: 6:01 - loss: 2.1855 - acc: 0.627 - ETA: 5:55 - loss: 2.1858 - acc: 0.627 - ETA: 5:50 - loss: 2.1860 - acc: 0.627 - ETA: 5:44 - loss: 2.1859 - acc: 0.627 - ETA: 5:39 - loss: 2.1856 - acc: 0.627 - ETA: 5:34 - loss: 2.1856 - acc: 0.627 - ETA: 5:28 - loss: 2.1861 - acc: 0.627 - ETA: 5:23 - loss: 2.1862 - acc: 0.627 - ETA: 5:17 - loss: 2.1862 - acc: 0.627 - ETA: 5:12 - loss: 2.1857 - acc: 0.627 - ETA: 5:07 - loss: 2.1853 - acc: 0.627 - ETA: 5:01 - loss: 2.1857 - acc: 0.627 - ETA: 4:56 - loss: 2.1853 - acc: 0.627 - ETA: 4:50 - loss: 2.1851 - acc: 0.627 - ETA: 4:45 - loss: 2.1854 - acc: 0.627 - ETA: 4:40 - loss: 2.1851 - acc: 0.627 - ETA: 4:34 - loss: 2.1852 - acc: 0.627 - ETA: 4:29 - loss: 2.1851 - acc: 0.627 - ETA: 4:23 - loss: 2.1852 - acc: 0.627 - ETA: 4:18 - loss: 2.1851 - acc: 0.627 - ETA: 4:13 - loss: 2.1855 - acc: 0.627 - ETA: 4:07 - loss: 2.1854 - acc: 0.627 - ETA: 4:02 - loss: 2.1855 - acc: 0.627 - ETA: 3:57 - loss: 2.1861 - acc: 0.627 - ETA: 3:52 - loss: 2.1863 - acc: 0.627 - ETA: 3:46 - loss: 2.1860 - acc: 0.627 - ETA: 3:41 - loss: 2.1859 - acc: 0.627 - ETA: 3:35 - loss: 2.1858 - acc: 0.627 - ETA: 3:30 - loss: 2.1856 - acc: 0.627 - ETA: 3:25 - loss: 2.1854 - acc: 0.627 - ETA: 3:19 - loss: 2.1858 - acc: 0.627 - ETA: 3:14 - loss: 2.1858 - acc: 0.627 - ETA: 3:08 - loss: 2.1859 - acc: 0.627 - ETA: 3:03 - loss: 2.1855 - acc: 0.627 - ETA: 2:58 - loss: 2.1853 - acc: 0.627 - ETA: 2:52 - loss: 2.1851 - acc: 0.627 - ETA: 2:47 - loss: 2.1848 - acc: 0.628 - ETA: 2:41 - loss: 2.1856 - acc: 0.627 - ETA: 2:36 - loss: 2.1851 - acc: 0.628 - ETA: 2:31 - loss: 2.1845 - acc: 0.628 - ETA: 2:25 - loss: 2.1847 - acc: 0.628 - ETA: 2:20 - loss: 2.1849 - acc: 0.628 - ETA: 2:14 - loss: 2.1852 - acc: 0.628 - ETA: 2:09 - loss: 2.1853 - acc: 0.628 - ETA: 2:04 - loss: 2.1849 - acc: 0.628 - ETA: 1:58 - loss: 2.1848 - acc: 0.628 - ETA: 1:53 - loss: 2.1854 - acc: 0.628 - ETA: 1:48 - loss: 2.1854 - acc: 0.628 - ETA: 1:42 - loss: 2.1854 - acc: 0.628 - ETA: 1:37 - loss: 2.1856 - acc: 0.628 - ETA: 1:31 - loss: 2.1858 - acc: 0.628 - ETA: 1:26 - loss: 2.1857 - acc: 0.628 - ETA: 1:21 - loss: 2.1853 - acc: 0.628 - ETA: 1:15 - loss: 2.1847 - acc: 0.628 - ETA: 1:10 - loss: 2.1839 - acc: 0.628 - ETA: 1:04 - loss: 2.1841 - acc: 0.628 - ETA: 59s - loss: 2.1844 - acc: 0.628 - ETA: 54s - loss: 2.1842 - acc: 0.62 - ETA: 48s - loss: 2.1844 - acc: 0.62 - ETA: 43s - loss: 2.1841 - acc: 0.62 - ETA: 37s - loss: 2.1842 - acc: 0.62 - ETA: 32s - loss: 2.1843 - acc: 0.62 - ETA: 27s - loss: 2.1846 - acc: 0.62 - ETA: 21s - loss: 2.1848 - acc: 0.62 - ETA: 16s - loss: 2.1846 - acc: 0.62 - ETA: 11s - loss: 2.1839 - acc: 0.62 - ETA: 5s - loss: 2.1842 - acc: 0.6282 - ETA: 0s - loss: 2.1839 - acc: 0.628 - 1786s 42ms/sample - loss: 2.1838 - acc: 0.6282\n",
      "Epoch 6/30\n"
     ]
    },
    {
     "name": "stdout",
     "output_type": "stream",
     "text": [
      "26112/42374 [=================>............] - ETA: 28:25 - loss: 2.2650 - acc: 0.60 - ETA: 28:32 - loss: 2.2490 - acc: 0.61 - ETA: 28:44 - loss: 2.1814 - acc: 0.62 - ETA: 28:40 - loss: 2.1498 - acc: 0.63 - ETA: 28:36 - loss: 2.1217 - acc: 0.63 - ETA: 28:35 - loss: 2.1174 - acc: 0.63 - ETA: 28:34 - loss: 2.0880 - acc: 0.63 - ETA: 28:26 - loss: 2.1060 - acc: 0.63 - ETA: 28:22 - loss: 2.0932 - acc: 0.63 - ETA: 28:20 - loss: 2.0948 - acc: 0.63 - ETA: 28:11 - loss: 2.0875 - acc: 0.63 - ETA: 28:08 - loss: 2.1010 - acc: 0.63 - ETA: 28:03 - loss: 2.0904 - acc: 0.63 - ETA: 27:55 - loss: 2.0879 - acc: 0.63 - ETA: 27:51 - loss: 2.0955 - acc: 0.63 - ETA: 27:46 - loss: 2.0861 - acc: 0.63 - ETA: 27:39 - loss: 2.0792 - acc: 0.63 - ETA: 27:34 - loss: 2.0870 - acc: 0.63 - ETA: 27:30 - loss: 2.0882 - acc: 0.63 - ETA: 27:23 - loss: 2.0895 - acc: 0.63 - ETA: 27:18 - loss: 2.0983 - acc: 0.63 - ETA: 27:12 - loss: 2.0991 - acc: 0.63 - ETA: 27:05 - loss: 2.1026 - acc: 0.63 - ETA: 27:01 - loss: 2.1041 - acc: 0.63 - ETA: 26:56 - loss: 2.1107 - acc: 0.63 - ETA: 26:51 - loss: 2.1061 - acc: 0.63 - ETA: 26:47 - loss: 2.1059 - acc: 0.63 - ETA: 26:41 - loss: 2.1085 - acc: 0.63 - ETA: 26:35 - loss: 2.1037 - acc: 0.63 - ETA: 26:34 - loss: 2.1030 - acc: 0.63 - ETA: 26:28 - loss: 2.1023 - acc: 0.63 - ETA: 26:22 - loss: 2.1091 - acc: 0.63 - ETA: 26:16 - loss: 2.1077 - acc: 0.63 - ETA: 26:11 - loss: 2.1116 - acc: 0.63 - ETA: 26:05 - loss: 2.1090 - acc: 0.63 - ETA: 26:00 - loss: 2.1188 - acc: 0.63 - ETA: 25:56 - loss: 2.1150 - acc: 0.63 - ETA: 25:51 - loss: 2.1162 - acc: 0.63 - ETA: 25:45 - loss: 2.1131 - acc: 0.63 - ETA: 25:39 - loss: 2.1064 - acc: 0.63 - ETA: 25:34 - loss: 2.1108 - acc: 0.63 - ETA: 25:28 - loss: 2.1134 - acc: 0.63 - ETA: 25:24 - loss: 2.1157 - acc: 0.63 - ETA: 25:20 - loss: 2.1159 - acc: 0.63 - ETA: 25:14 - loss: 2.1160 - acc: 0.63 - ETA: 25:09 - loss: 2.1201 - acc: 0.63 - ETA: 25:03 - loss: 2.1211 - acc: 0.63 - ETA: 24:57 - loss: 2.1225 - acc: 0.63 - ETA: 24:52 - loss: 2.1220 - acc: 0.63 - ETA: 24:46 - loss: 2.1226 - acc: 0.63 - ETA: 24:40 - loss: 2.1218 - acc: 0.63 - ETA: 24:35 - loss: 2.1229 - acc: 0.63 - ETA: 24:30 - loss: 2.1219 - acc: 0.63 - ETA: 24:24 - loss: 2.1230 - acc: 0.63 - ETA: 24:18 - loss: 2.1226 - acc: 0.63 - ETA: 24:13 - loss: 2.1214 - acc: 0.63 - ETA: 24:07 - loss: 2.1234 - acc: 0.63 - ETA: 24:02 - loss: 2.1212 - acc: 0.63 - ETA: 23:56 - loss: 2.1229 - acc: 0.63 - ETA: 23:50 - loss: 2.1214 - acc: 0.63 - ETA: 23:45 - loss: 2.1215 - acc: 0.63 - ETA: 23:40 - loss: 2.1235 - acc: 0.63 - ETA: 23:34 - loss: 2.1233 - acc: 0.63 - ETA: 23:29 - loss: 2.1217 - acc: 0.63 - ETA: 23:24 - loss: 2.1232 - acc: 0.63 - ETA: 23:18 - loss: 2.1233 - acc: 0.63 - ETA: 23:13 - loss: 2.1207 - acc: 0.63 - ETA: 23:08 - loss: 2.1223 - acc: 0.63 - ETA: 23:02 - loss: 2.1231 - acc: 0.63 - ETA: 22:57 - loss: 2.1220 - acc: 0.63 - ETA: 22:51 - loss: 2.1214 - acc: 0.63 - ETA: 22:46 - loss: 2.1240 - acc: 0.63 - ETA: 22:41 - loss: 2.1245 - acc: 0.63 - ETA: 22:35 - loss: 2.1242 - acc: 0.63 - ETA: 22:30 - loss: 2.1226 - acc: 0.63 - ETA: 22:25 - loss: 2.1226 - acc: 0.63 - ETA: 22:19 - loss: 2.1255 - acc: 0.63 - ETA: 22:14 - loss: 2.1248 - acc: 0.63 - ETA: 22:09 - loss: 2.1265 - acc: 0.63 - ETA: 22:03 - loss: 2.1264 - acc: 0.63 - ETA: 21:58 - loss: 2.1266 - acc: 0.63 - ETA: 21:53 - loss: 2.1262 - acc: 0.63 - ETA: 21:48 - loss: 2.1242 - acc: 0.63 - ETA: 21:42 - loss: 2.1267 - acc: 0.63 - ETA: 21:37 - loss: 2.1253 - acc: 0.63 - ETA: 21:32 - loss: 2.1249 - acc: 0.63 - ETA: 21:26 - loss: 2.1260 - acc: 0.63 - ETA: 21:21 - loss: 2.1265 - acc: 0.63 - ETA: 21:16 - loss: 2.1263 - acc: 0.63 - ETA: 21:11 - loss: 2.1266 - acc: 0.63 - ETA: 21:05 - loss: 2.1278 - acc: 0.63 - ETA: 21:00 - loss: 2.1268 - acc: 0.63 - ETA: 20:54 - loss: 2.1255 - acc: 0.63 - ETA: 20:49 - loss: 2.1247 - acc: 0.63 - ETA: 20:44 - loss: 2.1245 - acc: 0.63 - ETA: 20:39 - loss: 2.1234 - acc: 0.63 - ETA: 20:34 - loss: 2.1231 - acc: 0.63 - ETA: 20:28 - loss: 2.1246 - acc: 0.63 - ETA: 20:23 - loss: 2.1252 - acc: 0.63 - ETA: 20:18 - loss: 2.1259 - acc: 0.63 - ETA: 20:12 - loss: 2.1262 - acc: 0.63 - ETA: 20:07 - loss: 2.1264 - acc: 0.63 - ETA: 20:02 - loss: 2.1269 - acc: 0.63 - ETA: 19:57 - loss: 2.1253 - acc: 0.63 - ETA: 19:51 - loss: 2.1245 - acc: 0.63 - ETA: 19:46 - loss: 2.1244 - acc: 0.63 - ETA: 19:41 - loss: 2.1232 - acc: 0.63 - ETA: 19:35 - loss: 2.1228 - acc: 0.63 - ETA: 19:30 - loss: 2.1221 - acc: 0.63 - ETA: 19:25 - loss: 2.1223 - acc: 0.63 - ETA: 19:20 - loss: 2.1224 - acc: 0.63 - ETA: 19:14 - loss: 2.1234 - acc: 0.63 - ETA: 19:10 - loss: 2.1233 - acc: 0.63 - ETA: 19:06 - loss: 2.1233 - acc: 0.63 - ETA: 19:04 - loss: 2.1236 - acc: 0.63 - ETA: 19:02 - loss: 2.1239 - acc: 0.63 - ETA: 19:01 - loss: 2.1242 - acc: 0.63 - ETA: 18:57 - loss: 2.1240 - acc: 0.63 - ETA: 18:54 - loss: 2.1260 - acc: 0.63 - ETA: 18:53 - loss: 2.1264 - acc: 0.63 - ETA: 18:49 - loss: 2.1283 - acc: 0.63 - ETA: 18:47 - loss: 2.1288 - acc: 0.63 - ETA: 18:42 - loss: 2.1284 - acc: 0.63 - ETA: 18:36 - loss: 2.1285 - acc: 0.63 - ETA: 18:31 - loss: 2.1285 - acc: 0.63 - ETA: 18:25 - loss: 2.1303 - acc: 0.63 - ETA: 18:24 - loss: 2.1308 - acc: 0.63 - ETA: 18:19 - loss: 2.1312 - acc: 0.63 - ETA: 18:13 - loss: 2.1314 - acc: 0.63 - ETA: 18:08 - loss: 2.1329 - acc: 0.63 - ETA: 18:02 - loss: 2.1324 - acc: 0.63 - ETA: 17:56 - loss: 2.1325 - acc: 0.63 - ETA: 17:51 - loss: 2.1311 - acc: 0.63 - ETA: 17:45 - loss: 2.1301 - acc: 0.63 - ETA: 17:39 - loss: 2.1303 - acc: 0.63 - ETA: 17:34 - loss: 2.1305 - acc: 0.63 - ETA: 17:28 - loss: 2.1313 - acc: 0.63 - ETA: 17:22 - loss: 2.1307 - acc: 0.63 - ETA: 17:17 - loss: 2.1300 - acc: 0.63 - ETA: 17:11 - loss: 2.1294 - acc: 0.63 - ETA: 17:05 - loss: 2.1295 - acc: 0.63 - ETA: 17:00 - loss: 2.1290 - acc: 0.63 - ETA: 16:54 - loss: 2.1281 - acc: 0.63 - ETA: 16:49 - loss: 2.1280 - acc: 0.63 - ETA: 16:43 - loss: 2.1282 - acc: 0.63 - ETA: 16:38 - loss: 2.1269 - acc: 0.63 - ETA: 16:32 - loss: 2.1271 - acc: 0.63 - ETA: 16:27 - loss: 2.1275 - acc: 0.63 - ETA: 16:21 - loss: 2.1285 - acc: 0.63 - ETA: 16:15 - loss: 2.1294 - acc: 0.63 - ETA: 16:10 - loss: 2.1291 - acc: 0.63 - ETA: 16:04 - loss: 2.1290 - acc: 0.63 - ETA: 15:59 - loss: 2.1286 - acc: 0.63 - ETA: 15:54 - loss: 2.1283 - acc: 0.63 - ETA: 15:49 - loss: 2.1277 - acc: 0.63 - ETA: 15:43 - loss: 2.1291 - acc: 0.63 - ETA: 15:38 - loss: 2.1294 - acc: 0.63 - ETA: 15:32 - loss: 2.1301 - acc: 0.63 - ETA: 15:27 - loss: 2.1309 - acc: 0.63 - ETA: 15:21 - loss: 2.1324 - acc: 0.63 - ETA: 15:16 - loss: 2.1336 - acc: 0.63 - ETA: 15:10 - loss: 2.1355 - acc: 0.63 - ETA: 15:05 - loss: 2.1357 - acc: 0.63 - ETA: 14:59 - loss: 2.1355 - acc: 0.63 - ETA: 14:54 - loss: 2.1361 - acc: 0.63 - ETA: 14:48 - loss: 2.1356 - acc: 0.63 - ETA: 14:43 - loss: 2.1354 - acc: 0.63 - ETA: 14:37 - loss: 2.1355 - acc: 0.63 - ETA: 14:32 - loss: 2.1357 - acc: 0.63 - ETA: 14:26 - loss: 2.1354 - acc: 0.63 - ETA: 14:21 - loss: 2.1340 - acc: 0.63 - ETA: 14:15 - loss: 2.1347 - acc: 0.63 - ETA: 14:10 - loss: 2.1340 - acc: 0.63 - ETA: 14:04 - loss: 2.1334 - acc: 0.63 - ETA: 13:59 - loss: 2.1331 - acc: 0.63 - ETA: 13:53 - loss: 2.1327 - acc: 0.63 - ETA: 13:48 - loss: 2.1321 - acc: 0.63 - ETA: 13:42 - loss: 2.1310 - acc: 0.63 - ETA: 13:37 - loss: 2.1318 - acc: 0.63 - ETA: 13:31 - loss: 2.1314 - acc: 0.63 - ETA: 13:26 - loss: 2.1316 - acc: 0.63 - ETA: 13:20 - loss: 2.1314 - acc: 0.63 - ETA: 13:15 - loss: 2.1303 - acc: 0.63 - ETA: 13:09 - loss: 2.1297 - acc: 0.63 - ETA: 13:04 - loss: 2.1289 - acc: 0.63 - ETA: 12:58 - loss: 2.1282 - acc: 0.63 - ETA: 12:53 - loss: 2.1289 - acc: 0.63 - ETA: 12:47 - loss: 2.1288 - acc: 0.63 - ETA: 12:42 - loss: 2.1283 - acc: 0.63 - ETA: 12:36 - loss: 2.1284 - acc: 0.63 - ETA: 12:31 - loss: 2.1287 - acc: 0.63 - ETA: 12:25 - loss: 2.1291 - acc: 0.63 - ETA: 12:20 - loss: 2.1292 - acc: 0.63 - ETA: 12:15 - loss: 2.1305 - acc: 0.63 - ETA: 12:10 - loss: 2.1304 - acc: 0.63 - ETA: 12:04 - loss: 2.1302 - acc: 0.63 - ETA: 11:59 - loss: 2.1305 - acc: 0.63 - ETA: 11:53 - loss: 2.1305 - acc: 0.63 - ETA: 11:48 - loss: 2.1312 - acc: 0.63 - ETA: 11:42 - loss: 2.1303 - acc: 0.63 - ETA: 11:37 - loss: 2.1311 - acc: 0.63 - ETA: 11:32 - loss: 2.1316 - acc: 0.63 - ETA: 11:26 - loss: 2.1320 - acc: 0.63 - ETA: 11:21 - loss: 2.1321 - acc: 0.6321"
     ]
    },
    {
     "name": "stdout",
     "output_type": "stream",
     "text": [
      "42374/42374 [==============================] - ETA: 11:15 - loss: 2.1323 - acc: 0.63 - ETA: 11:10 - loss: 2.1330 - acc: 0.63 - ETA: 11:05 - loss: 2.1328 - acc: 0.63 - ETA: 10:59 - loss: 2.1319 - acc: 0.63 - ETA: 10:54 - loss: 2.1310 - acc: 0.63 - ETA: 10:49 - loss: 2.1308 - acc: 0.63 - ETA: 10:43 - loss: 2.1308 - acc: 0.63 - ETA: 10:38 - loss: 2.1301 - acc: 0.63 - ETA: 10:32 - loss: 2.1302 - acc: 0.63 - ETA: 10:27 - loss: 2.1293 - acc: 0.63 - ETA: 10:21 - loss: 2.1291 - acc: 0.63 - ETA: 10:16 - loss: 2.1279 - acc: 0.63 - ETA: 10:11 - loss: 2.1273 - acc: 0.63 - ETA: 10:05 - loss: 2.1274 - acc: 0.63 - ETA: 10:00 - loss: 2.1266 - acc: 0.63 - ETA: 9:54 - loss: 2.1268 - acc: 0.6328 - ETA: 9:49 - loss: 2.1268 - acc: 0.632 - ETA: 9:44 - loss: 2.1265 - acc: 0.632 - ETA: 9:38 - loss: 2.1268 - acc: 0.632 - ETA: 9:33 - loss: 2.1267 - acc: 0.632 - ETA: 9:27 - loss: 2.1269 - acc: 0.632 - ETA: 9:22 - loss: 2.1272 - acc: 0.632 - ETA: 9:17 - loss: 2.1272 - acc: 0.632 - ETA: 9:11 - loss: 2.1275 - acc: 0.632 - ETA: 9:06 - loss: 2.1273 - acc: 0.632 - ETA: 9:01 - loss: 2.1273 - acc: 0.632 - ETA: 8:55 - loss: 2.1270 - acc: 0.632 - ETA: 8:50 - loss: 2.1270 - acc: 0.632 - ETA: 8:45 - loss: 2.1268 - acc: 0.632 - ETA: 8:39 - loss: 2.1270 - acc: 0.632 - ETA: 8:34 - loss: 2.1277 - acc: 0.632 - ETA: 8:28 - loss: 2.1278 - acc: 0.632 - ETA: 8:23 - loss: 2.1272 - acc: 0.632 - ETA: 8:18 - loss: 2.1274 - acc: 0.632 - ETA: 8:12 - loss: 2.1268 - acc: 0.632 - ETA: 8:07 - loss: 2.1265 - acc: 0.632 - ETA: 8:01 - loss: 2.1269 - acc: 0.632 - ETA: 7:56 - loss: 2.1272 - acc: 0.632 - ETA: 7:51 - loss: 2.1270 - acc: 0.632 - ETA: 7:45 - loss: 2.1270 - acc: 0.632 - ETA: 7:40 - loss: 2.1271 - acc: 0.632 - ETA: 7:35 - loss: 2.1270 - acc: 0.632 - ETA: 7:29 - loss: 2.1281 - acc: 0.632 - ETA: 7:24 - loss: 2.1284 - acc: 0.632 - ETA: 7:18 - loss: 2.1280 - acc: 0.632 - ETA: 7:13 - loss: 2.1278 - acc: 0.632 - ETA: 7:08 - loss: 2.1273 - acc: 0.632 - ETA: 7:02 - loss: 2.1275 - acc: 0.632 - ETA: 6:57 - loss: 2.1274 - acc: 0.632 - ETA: 6:52 - loss: 2.1271 - acc: 0.632 - ETA: 6:46 - loss: 2.1268 - acc: 0.632 - ETA: 6:41 - loss: 2.1273 - acc: 0.632 - ETA: 6:36 - loss: 2.1282 - acc: 0.632 - ETA: 6:30 - loss: 2.1285 - acc: 0.632 - ETA: 6:25 - loss: 2.1287 - acc: 0.632 - ETA: 6:19 - loss: 2.1278 - acc: 0.632 - ETA: 6:14 - loss: 2.1275 - acc: 0.632 - ETA: 6:09 - loss: 2.1272 - acc: 0.632 - ETA: 6:03 - loss: 2.1267 - acc: 0.632 - ETA: 5:58 - loss: 2.1265 - acc: 0.632 - ETA: 5:53 - loss: 2.1270 - acc: 0.632 - ETA: 5:47 - loss: 2.1273 - acc: 0.632 - ETA: 5:42 - loss: 2.1273 - acc: 0.632 - ETA: 5:36 - loss: 2.1281 - acc: 0.632 - ETA: 5:31 - loss: 2.1280 - acc: 0.632 - ETA: 5:26 - loss: 2.1285 - acc: 0.632 - ETA: 5:20 - loss: 2.1286 - acc: 0.632 - ETA: 5:15 - loss: 2.1293 - acc: 0.632 - ETA: 5:10 - loss: 2.1299 - acc: 0.632 - ETA: 5:04 - loss: 2.1294 - acc: 0.632 - ETA: 4:59 - loss: 2.1287 - acc: 0.632 - ETA: 4:54 - loss: 2.1285 - acc: 0.632 - ETA: 4:48 - loss: 2.1278 - acc: 0.632 - ETA: 4:43 - loss: 2.1275 - acc: 0.632 - ETA: 4:38 - loss: 2.1277 - acc: 0.632 - ETA: 4:32 - loss: 2.1274 - acc: 0.632 - ETA: 4:27 - loss: 2.1276 - acc: 0.632 - ETA: 4:22 - loss: 2.1279 - acc: 0.632 - ETA: 4:16 - loss: 2.1281 - acc: 0.632 - ETA: 4:12 - loss: 2.1282 - acc: 0.632 - ETA: 4:07 - loss: 2.1290 - acc: 0.632 - ETA: 4:01 - loss: 2.1294 - acc: 0.632 - ETA: 3:56 - loss: 2.1300 - acc: 0.632 - ETA: 3:51 - loss: 2.1300 - acc: 0.632 - ETA: 3:46 - loss: 2.1299 - acc: 0.632 - ETA: 3:40 - loss: 2.1300 - acc: 0.632 - ETA: 3:35 - loss: 2.1296 - acc: 0.632 - ETA: 3:30 - loss: 2.1296 - acc: 0.632 - ETA: 3:24 - loss: 2.1293 - acc: 0.632 - ETA: 3:19 - loss: 2.1293 - acc: 0.632 - ETA: 3:14 - loss: 2.1295 - acc: 0.632 - ETA: 3:08 - loss: 2.1288 - acc: 0.632 - ETA: 3:03 - loss: 2.1288 - acc: 0.632 - ETA: 2:58 - loss: 2.1291 - acc: 0.632 - ETA: 2:52 - loss: 2.1294 - acc: 0.632 - ETA: 2:47 - loss: 2.1289 - acc: 0.632 - ETA: 2:42 - loss: 2.1288 - acc: 0.632 - ETA: 2:36 - loss: 2.1293 - acc: 0.632 - ETA: 2:31 - loss: 2.1294 - acc: 0.632 - ETA: 2:25 - loss: 2.1292 - acc: 0.632 - ETA: 2:20 - loss: 2.1290 - acc: 0.632 - ETA: 2:15 - loss: 2.1285 - acc: 0.632 - ETA: 2:09 - loss: 2.1290 - acc: 0.632 - ETA: 2:04 - loss: 2.1290 - acc: 0.632 - ETA: 1:59 - loss: 2.1289 - acc: 0.632 - ETA: 1:53 - loss: 2.1290 - acc: 0.632 - ETA: 1:48 - loss: 2.1286 - acc: 0.632 - ETA: 1:43 - loss: 2.1285 - acc: 0.632 - ETA: 1:37 - loss: 2.1279 - acc: 0.632 - ETA: 1:32 - loss: 2.1282 - acc: 0.632 - ETA: 1:26 - loss: 2.1281 - acc: 0.632 - ETA: 1:21 - loss: 2.1279 - acc: 0.632 - ETA: 1:16 - loss: 2.1281 - acc: 0.632 - ETA: 1:10 - loss: 2.1277 - acc: 0.632 - ETA: 1:05 - loss: 2.1274 - acc: 0.632 - ETA: 59s - loss: 2.1267 - acc: 0.632 - ETA: 54s - loss: 2.1258 - acc: 0.63 - ETA: 49s - loss: 2.1264 - acc: 0.63 - ETA: 43s - loss: 2.1268 - acc: 0.63 - ETA: 38s - loss: 2.1261 - acc: 0.63 - ETA: 32s - loss: 2.1261 - acc: 0.63 - ETA: 27s - loss: 2.1254 - acc: 0.63 - ETA: 21s - loss: 2.1254 - acc: 0.63 - ETA: 16s - loss: 2.1255 - acc: 0.63 - ETA: 11s - loss: 2.1248 - acc: 0.63 - ETA: 5s - loss: 2.1245 - acc: 0.6331 - ETA: 0s - loss: 2.1248 - acc: 0.633 - 1801s 43ms/sample - loss: 2.1249 - acc: 0.6332\n",
      "Epoch 7/30\n"
     ]
    },
    {
     "name": "stdout",
     "output_type": "stream",
     "text": [
      "26112/42374 [=================>............] - ETA: 32:26 - loss: 2.1071 - acc: 0.63 - ETA: 32:39 - loss: 2.2011 - acc: 0.61 - ETA: 31:39 - loss: 2.1919 - acc: 0.62 - ETA: 31:42 - loss: 2.2095 - acc: 0.61 - ETA: 31:33 - loss: 2.1954 - acc: 0.61 - ETA: 31:21 - loss: 2.1555 - acc: 0.62 - ETA: 31:16 - loss: 2.1256 - acc: 0.62 - ETA: 31:00 - loss: 2.1251 - acc: 0.62 - ETA: 31:00 - loss: 2.1198 - acc: 0.62 - ETA: 31:20 - loss: 2.1131 - acc: 0.62 - ETA: 31:13 - loss: 2.1169 - acc: 0.62 - ETA: 31:06 - loss: 2.1020 - acc: 0.62 - ETA: 31:05 - loss: 2.1082 - acc: 0.62 - ETA: 31:12 - loss: 2.0992 - acc: 0.62 - ETA: 30:54 - loss: 2.0924 - acc: 0.63 - ETA: 30:36 - loss: 2.0896 - acc: 0.63 - ETA: 30:18 - loss: 2.0863 - acc: 0.63 - ETA: 30:04 - loss: 2.0886 - acc: 0.63 - ETA: 29:50 - loss: 2.0798 - acc: 0.63 - ETA: 29:37 - loss: 2.0826 - acc: 0.63 - ETA: 29:26 - loss: 2.0767 - acc: 0.63 - ETA: 29:14 - loss: 2.0808 - acc: 0.63 - ETA: 29:02 - loss: 2.0817 - acc: 0.63 - ETA: 28:53 - loss: 2.0764 - acc: 0.63 - ETA: 28:43 - loss: 2.0820 - acc: 0.63 - ETA: 28:33 - loss: 2.0804 - acc: 0.63 - ETA: 28:25 - loss: 2.0808 - acc: 0.63 - ETA: 28:15 - loss: 2.0815 - acc: 0.63 - ETA: 28:06 - loss: 2.0848 - acc: 0.63 - ETA: 27:58 - loss: 2.0889 - acc: 0.63 - ETA: 27:50 - loss: 2.0962 - acc: 0.62 - ETA: 27:42 - loss: 2.0926 - acc: 0.63 - ETA: 27:36 - loss: 2.0893 - acc: 0.63 - ETA: 27:28 - loss: 2.0913 - acc: 0.63 - ETA: 27:21 - loss: 2.0925 - acc: 0.63 - ETA: 27:19 - loss: 2.0854 - acc: 0.63 - ETA: 27:11 - loss: 2.0826 - acc: 0.63 - ETA: 27:04 - loss: 2.0785 - acc: 0.63 - ETA: 26:57 - loss: 2.0763 - acc: 0.63 - ETA: 26:49 - loss: 2.0758 - acc: 0.63 - ETA: 26:42 - loss: 2.0776 - acc: 0.63 - ETA: 26:35 - loss: 2.0818 - acc: 0.63 - ETA: 26:27 - loss: 2.0823 - acc: 0.63 - ETA: 26:19 - loss: 2.0837 - acc: 0.63 - ETA: 26:13 - loss: 2.0860 - acc: 0.63 - ETA: 26:06 - loss: 2.0857 - acc: 0.63 - ETA: 25:59 - loss: 2.0834 - acc: 0.63 - ETA: 25:53 - loss: 2.0811 - acc: 0.63 - ETA: 25:46 - loss: 2.0826 - acc: 0.63 - ETA: 25:39 - loss: 2.0804 - acc: 0.63 - ETA: 25:34 - loss: 2.0802 - acc: 0.63 - ETA: 25:27 - loss: 2.0840 - acc: 0.63 - ETA: 25:20 - loss: 2.0860 - acc: 0.63 - ETA: 25:14 - loss: 2.0887 - acc: 0.63 - ETA: 25:07 - loss: 2.0902 - acc: 0.63 - ETA: 25:01 - loss: 2.0874 - acc: 0.63 - ETA: 24:56 - loss: 2.0878 - acc: 0.63 - ETA: 24:51 - loss: 2.0887 - acc: 0.63 - ETA: 24:45 - loss: 2.0879 - acc: 0.63 - ETA: 24:40 - loss: 2.0910 - acc: 0.63 - ETA: 24:33 - loss: 2.0893 - acc: 0.63 - ETA: 24:27 - loss: 2.0906 - acc: 0.63 - ETA: 24:22 - loss: 2.0891 - acc: 0.63 - ETA: 24:15 - loss: 2.0863 - acc: 0.63 - ETA: 24:10 - loss: 2.0853 - acc: 0.63 - ETA: 24:04 - loss: 2.0844 - acc: 0.63 - ETA: 23:58 - loss: 2.0873 - acc: 0.63 - ETA: 23:51 - loss: 2.0856 - acc: 0.63 - ETA: 23:46 - loss: 2.0858 - acc: 0.63 - ETA: 23:40 - loss: 2.0854 - acc: 0.63 - ETA: 23:34 - loss: 2.0832 - acc: 0.63 - ETA: 23:28 - loss: 2.0819 - acc: 0.63 - ETA: 23:22 - loss: 2.0841 - acc: 0.63 - ETA: 23:17 - loss: 2.0865 - acc: 0.63 - ETA: 23:11 - loss: 2.0883 - acc: 0.63 - ETA: 23:05 - loss: 2.0894 - acc: 0.63 - ETA: 22:59 - loss: 2.0929 - acc: 0.63 - ETA: 22:53 - loss: 2.0924 - acc: 0.63 - ETA: 22:47 - loss: 2.0908 - acc: 0.63 - ETA: 22:41 - loss: 2.0917 - acc: 0.63 - ETA: 22:36 - loss: 2.0892 - acc: 0.63 - ETA: 22:30 - loss: 2.0893 - acc: 0.63 - ETA: 22:24 - loss: 2.0896 - acc: 0.63 - ETA: 22:19 - loss: 2.0894 - acc: 0.63 - ETA: 22:13 - loss: 2.0898 - acc: 0.63 - ETA: 22:06 - loss: 2.0905 - acc: 0.63 - ETA: 22:01 - loss: 2.0907 - acc: 0.63 - ETA: 21:55 - loss: 2.0904 - acc: 0.63 - ETA: 21:49 - loss: 2.0899 - acc: 0.63 - ETA: 21:43 - loss: 2.0886 - acc: 0.63 - ETA: 21:38 - loss: 2.0907 - acc: 0.63 - ETA: 21:32 - loss: 2.0927 - acc: 0.63 - ETA: 21:26 - loss: 2.0931 - acc: 0.63 - ETA: 21:21 - loss: 2.0922 - acc: 0.63 - ETA: 21:15 - loss: 2.0935 - acc: 0.63 - ETA: 21:09 - loss: 2.0938 - acc: 0.63 - ETA: 21:03 - loss: 2.0945 - acc: 0.63 - ETA: 20:58 - loss: 2.0956 - acc: 0.63 - ETA: 20:52 - loss: 2.0951 - acc: 0.63 - ETA: 20:46 - loss: 2.0949 - acc: 0.63 - ETA: 20:41 - loss: 2.0942 - acc: 0.63 - ETA: 20:35 - loss: 2.0936 - acc: 0.63 - ETA: 20:29 - loss: 2.0949 - acc: 0.63 - ETA: 20:23 - loss: 2.0931 - acc: 0.63 - ETA: 20:18 - loss: 2.0933 - acc: 0.63 - ETA: 20:12 - loss: 2.0943 - acc: 0.63 - ETA: 20:06 - loss: 2.0927 - acc: 0.63 - ETA: 20:01 - loss: 2.0917 - acc: 0.63 - ETA: 19:55 - loss: 2.0901 - acc: 0.63 - ETA: 19:49 - loss: 2.0908 - acc: 0.63 - ETA: 19:44 - loss: 2.0902 - acc: 0.63 - ETA: 19:38 - loss: 2.0896 - acc: 0.63 - ETA: 19:33 - loss: 2.0897 - acc: 0.63 - ETA: 19:27 - loss: 2.0901 - acc: 0.63 - ETA: 19:22 - loss: 2.0899 - acc: 0.63 - ETA: 19:16 - loss: 2.0891 - acc: 0.63 - ETA: 19:11 - loss: 2.0886 - acc: 0.63 - ETA: 19:05 - loss: 2.0886 - acc: 0.63 - ETA: 19:00 - loss: 2.0881 - acc: 0.63 - ETA: 18:54 - loss: 2.0865 - acc: 0.63 - ETA: 18:49 - loss: 2.0859 - acc: 0.63 - ETA: 18:43 - loss: 2.0855 - acc: 0.63 - ETA: 18:38 - loss: 2.0864 - acc: 0.63 - ETA: 18:32 - loss: 2.0855 - acc: 0.63 - ETA: 18:27 - loss: 2.0835 - acc: 0.63 - ETA: 18:21 - loss: 2.0826 - acc: 0.63 - ETA: 18:16 - loss: 2.0832 - acc: 0.63 - ETA: 18:10 - loss: 2.0841 - acc: 0.63 - ETA: 18:04 - loss: 2.0841 - acc: 0.63 - ETA: 17:59 - loss: 2.0850 - acc: 0.63 - ETA: 17:53 - loss: 2.0854 - acc: 0.63 - ETA: 17:48 - loss: 2.0851 - acc: 0.63 - ETA: 17:42 - loss: 2.0845 - acc: 0.63 - ETA: 17:37 - loss: 2.0850 - acc: 0.63 - ETA: 17:31 - loss: 2.0850 - acc: 0.63 - ETA: 17:26 - loss: 2.0842 - acc: 0.63 - ETA: 17:20 - loss: 2.0845 - acc: 0.63 - ETA: 17:15 - loss: 2.0828 - acc: 0.63 - ETA: 17:09 - loss: 2.0845 - acc: 0.63 - ETA: 17:04 - loss: 2.0853 - acc: 0.63 - ETA: 16:58 - loss: 2.0851 - acc: 0.63 - ETA: 16:52 - loss: 2.0850 - acc: 0.63 - ETA: 16:47 - loss: 2.0850 - acc: 0.63 - ETA: 16:41 - loss: 2.0836 - acc: 0.63 - ETA: 16:36 - loss: 2.0847 - acc: 0.63 - ETA: 16:30 - loss: 2.0834 - acc: 0.63 - ETA: 16:25 - loss: 2.0829 - acc: 0.63 - ETA: 16:20 - loss: 2.0831 - acc: 0.63 - ETA: 16:14 - loss: 2.0835 - acc: 0.63 - ETA: 16:08 - loss: 2.0846 - acc: 0.63 - ETA: 16:03 - loss: 2.0840 - acc: 0.63 - ETA: 15:58 - loss: 2.0838 - acc: 0.63 - ETA: 15:52 - loss: 2.0832 - acc: 0.63 - ETA: 15:47 - loss: 2.0833 - acc: 0.63 - ETA: 15:41 - loss: 2.0834 - acc: 0.63 - ETA: 15:36 - loss: 2.0830 - acc: 0.63 - ETA: 15:30 - loss: 2.0835 - acc: 0.63 - ETA: 15:25 - loss: 2.0837 - acc: 0.63 - ETA: 15:20 - loss: 2.0832 - acc: 0.63 - ETA: 15:14 - loss: 2.0827 - acc: 0.63 - ETA: 15:09 - loss: 2.0815 - acc: 0.63 - ETA: 15:03 - loss: 2.0822 - acc: 0.63 - ETA: 14:58 - loss: 2.0831 - acc: 0.63 - ETA: 14:53 - loss: 2.0817 - acc: 0.63 - ETA: 14:47 - loss: 2.0817 - acc: 0.63 - ETA: 14:42 - loss: 2.0802 - acc: 0.63 - ETA: 14:36 - loss: 2.0796 - acc: 0.63 - ETA: 14:31 - loss: 2.0799 - acc: 0.63 - ETA: 14:26 - loss: 2.0791 - acc: 0.63 - ETA: 14:20 - loss: 2.0794 - acc: 0.63 - ETA: 14:15 - loss: 2.0787 - acc: 0.63 - ETA: 14:09 - loss: 2.0786 - acc: 0.63 - ETA: 14:04 - loss: 2.0785 - acc: 0.63 - ETA: 13:59 - loss: 2.0788 - acc: 0.63 - ETA: 13:53 - loss: 2.0796 - acc: 0.63 - ETA: 13:48 - loss: 2.0787 - acc: 0.63 - ETA: 13:42 - loss: 2.0772 - acc: 0.63 - ETA: 13:37 - loss: 2.0784 - acc: 0.63 - ETA: 13:32 - loss: 2.0792 - acc: 0.63 - ETA: 13:26 - loss: 2.0784 - acc: 0.63 - ETA: 13:21 - loss: 2.0789 - acc: 0.63 - ETA: 13:15 - loss: 2.0782 - acc: 0.63 - ETA: 13:10 - loss: 2.0773 - acc: 0.63 - ETA: 13:05 - loss: 2.0768 - acc: 0.63 - ETA: 12:59 - loss: 2.0766 - acc: 0.63 - ETA: 12:54 - loss: 2.0763 - acc: 0.63 - ETA: 12:49 - loss: 2.0761 - acc: 0.63 - ETA: 12:43 - loss: 2.0757 - acc: 0.63 - ETA: 12:38 - loss: 2.0752 - acc: 0.63 - ETA: 12:32 - loss: 2.0748 - acc: 0.63 - ETA: 12:27 - loss: 2.0735 - acc: 0.63 - ETA: 12:22 - loss: 2.0725 - acc: 0.63 - ETA: 12:16 - loss: 2.0730 - acc: 0.63 - ETA: 12:11 - loss: 2.0731 - acc: 0.63 - ETA: 12:05 - loss: 2.0732 - acc: 0.63 - ETA: 12:00 - loss: 2.0739 - acc: 0.63 - ETA: 11:55 - loss: 2.0739 - acc: 0.63 - ETA: 11:49 - loss: 2.0742 - acc: 0.63 - ETA: 11:44 - loss: 2.0754 - acc: 0.63 - ETA: 11:38 - loss: 2.0748 - acc: 0.63 - ETA: 11:33 - loss: 2.0744 - acc: 0.63 - ETA: 11:28 - loss: 2.0741 - acc: 0.63 - ETA: 11:22 - loss: 2.0744 - acc: 0.63 - ETA: 11:17 - loss: 2.0744 - acc: 0.6366"
     ]
    },
    {
     "name": "stdout",
     "output_type": "stream",
     "text": [
      "42374/42374 [==============================] - ETA: 11:11 - loss: 2.0763 - acc: 0.63 - ETA: 11:06 - loss: 2.0763 - acc: 0.63 - ETA: 11:01 - loss: 2.0763 - acc: 0.63 - ETA: 10:55 - loss: 2.0765 - acc: 0.63 - ETA: 10:50 - loss: 2.0761 - acc: 0.63 - ETA: 10:45 - loss: 2.0763 - acc: 0.63 - ETA: 10:39 - loss: 2.0765 - acc: 0.63 - ETA: 10:34 - loss: 2.0765 - acc: 0.63 - ETA: 10:29 - loss: 2.0771 - acc: 0.63 - ETA: 10:23 - loss: 2.0767 - acc: 0.63 - ETA: 10:18 - loss: 2.0759 - acc: 0.63 - ETA: 10:12 - loss: 2.0752 - acc: 0.63 - ETA: 10:07 - loss: 2.0745 - acc: 0.63 - ETA: 10:02 - loss: 2.0745 - acc: 0.63 - ETA: 9:56 - loss: 2.0740 - acc: 0.6367 - ETA: 9:51 - loss: 2.0734 - acc: 0.636 - ETA: 9:45 - loss: 2.0739 - acc: 0.636 - ETA: 9:40 - loss: 2.0738 - acc: 0.636 - ETA: 9:35 - loss: 2.0742 - acc: 0.636 - ETA: 9:29 - loss: 2.0749 - acc: 0.636 - ETA: 9:24 - loss: 2.0745 - acc: 0.636 - ETA: 9:18 - loss: 2.0746 - acc: 0.636 - ETA: 9:13 - loss: 2.0748 - acc: 0.636 - ETA: 9:08 - loss: 2.0742 - acc: 0.636 - ETA: 9:02 - loss: 2.0745 - acc: 0.636 - ETA: 8:57 - loss: 2.0745 - acc: 0.636 - ETA: 8:52 - loss: 2.0746 - acc: 0.636 - ETA: 8:46 - loss: 2.0750 - acc: 0.636 - ETA: 8:41 - loss: 2.0751 - acc: 0.636 - ETA: 8:36 - loss: 2.0750 - acc: 0.636 - ETA: 8:30 - loss: 2.0752 - acc: 0.636 - ETA: 8:25 - loss: 2.0760 - acc: 0.636 - ETA: 8:20 - loss: 2.0759 - acc: 0.636 - ETA: 8:14 - loss: 2.0764 - acc: 0.636 - ETA: 8:09 - loss: 2.0767 - acc: 0.636 - ETA: 8:04 - loss: 2.0764 - acc: 0.636 - ETA: 7:58 - loss: 2.0755 - acc: 0.636 - ETA: 7:53 - loss: 2.0752 - acc: 0.636 - ETA: 7:48 - loss: 2.0748 - acc: 0.636 - ETA: 7:42 - loss: 2.0744 - acc: 0.636 - ETA: 7:37 - loss: 2.0738 - acc: 0.637 - ETA: 7:32 - loss: 2.0731 - acc: 0.637 - ETA: 7:26 - loss: 2.0731 - acc: 0.637 - ETA: 7:21 - loss: 2.0731 - acc: 0.637 - ETA: 7:16 - loss: 2.0731 - acc: 0.637 - ETA: 7:10 - loss: 2.0734 - acc: 0.637 - ETA: 7:05 - loss: 2.0734 - acc: 0.637 - ETA: 7:00 - loss: 2.0737 - acc: 0.637 - ETA: 6:54 - loss: 2.0735 - acc: 0.637 - ETA: 6:49 - loss: 2.0734 - acc: 0.637 - ETA: 6:44 - loss: 2.0740 - acc: 0.637 - ETA: 6:38 - loss: 2.0736 - acc: 0.637 - ETA: 6:33 - loss: 2.0730 - acc: 0.637 - ETA: 6:28 - loss: 2.0730 - acc: 0.637 - ETA: 6:22 - loss: 2.0742 - acc: 0.637 - ETA: 6:17 - loss: 2.0745 - acc: 0.637 - ETA: 6:12 - loss: 2.0744 - acc: 0.637 - ETA: 6:06 - loss: 2.0746 - acc: 0.637 - ETA: 6:01 - loss: 2.0749 - acc: 0.636 - ETA: 5:56 - loss: 2.0746 - acc: 0.637 - ETA: 5:50 - loss: 2.0744 - acc: 0.637 - ETA: 5:45 - loss: 2.0740 - acc: 0.637 - ETA: 5:40 - loss: 2.0733 - acc: 0.637 - ETA: 5:34 - loss: 2.0732 - acc: 0.637 - ETA: 5:29 - loss: 2.0734 - acc: 0.637 - ETA: 5:24 - loss: 2.0728 - acc: 0.637 - ETA: 5:18 - loss: 2.0725 - acc: 0.637 - ETA: 5:13 - loss: 2.0721 - acc: 0.637 - ETA: 5:08 - loss: 2.0722 - acc: 0.637 - ETA: 5:02 - loss: 2.0722 - acc: 0.637 - ETA: 4:57 - loss: 2.0720 - acc: 0.637 - ETA: 4:52 - loss: 2.0715 - acc: 0.637 - ETA: 4:46 - loss: 2.0706 - acc: 0.637 - ETA: 4:41 - loss: 2.0711 - acc: 0.637 - ETA: 4:36 - loss: 2.0697 - acc: 0.637 - ETA: 4:31 - loss: 2.0694 - acc: 0.637 - ETA: 4:25 - loss: 2.0696 - acc: 0.637 - ETA: 4:20 - loss: 2.0693 - acc: 0.637 - ETA: 4:15 - loss: 2.0694 - acc: 0.637 - ETA: 4:09 - loss: 2.0702 - acc: 0.637 - ETA: 4:04 - loss: 2.0703 - acc: 0.637 - ETA: 3:59 - loss: 2.0704 - acc: 0.637 - ETA: 3:53 - loss: 2.0703 - acc: 0.637 - ETA: 3:48 - loss: 2.0705 - acc: 0.637 - ETA: 3:43 - loss: 2.0706 - acc: 0.637 - ETA: 3:37 - loss: 2.0702 - acc: 0.637 - ETA: 3:32 - loss: 2.0706 - acc: 0.637 - ETA: 3:27 - loss: 2.0708 - acc: 0.637 - ETA: 3:21 - loss: 2.0704 - acc: 0.637 - ETA: 3:16 - loss: 2.0709 - acc: 0.637 - ETA: 3:11 - loss: 2.0709 - acc: 0.637 - ETA: 3:05 - loss: 2.0711 - acc: 0.637 - ETA: 3:00 - loss: 2.0711 - acc: 0.637 - ETA: 2:55 - loss: 2.0715 - acc: 0.637 - ETA: 2:49 - loss: 2.0716 - acc: 0.637 - ETA: 2:44 - loss: 2.0715 - acc: 0.637 - ETA: 2:39 - loss: 2.0712 - acc: 0.637 - ETA: 2:34 - loss: 2.0712 - acc: 0.637 - ETA: 2:28 - loss: 2.0715 - acc: 0.637 - ETA: 2:23 - loss: 2.0717 - acc: 0.637 - ETA: 2:18 - loss: 2.0718 - acc: 0.637 - ETA: 2:12 - loss: 2.0724 - acc: 0.637 - ETA: 2:07 - loss: 2.0720 - acc: 0.637 - ETA: 2:02 - loss: 2.0719 - acc: 0.637 - ETA: 1:56 - loss: 2.0720 - acc: 0.637 - ETA: 1:51 - loss: 2.0721 - acc: 0.637 - ETA: 1:46 - loss: 2.0718 - acc: 0.637 - ETA: 1:41 - loss: 2.0729 - acc: 0.637 - ETA: 1:35 - loss: 2.0734 - acc: 0.637 - ETA: 1:30 - loss: 2.0734 - acc: 0.637 - ETA: 1:25 - loss: 2.0735 - acc: 0.637 - ETA: 1:19 - loss: 2.0734 - acc: 0.637 - ETA: 1:14 - loss: 2.0733 - acc: 0.637 - ETA: 1:09 - loss: 2.0729 - acc: 0.637 - ETA: 1:03 - loss: 2.0728 - acc: 0.637 - ETA: 58s - loss: 2.0728 - acc: 0.637 - ETA: 53s - loss: 2.0730 - acc: 0.63 - ETA: 47s - loss: 2.0729 - acc: 0.63 - ETA: 42s - loss: 2.0727 - acc: 0.63 - ETA: 37s - loss: 2.0731 - acc: 0.63 - ETA: 32s - loss: 2.0727 - acc: 0.63 - ETA: 26s - loss: 2.0729 - acc: 0.63 - ETA: 21s - loss: 2.0729 - acc: 0.63 - ETA: 16s - loss: 2.0733 - acc: 0.63 - ETA: 10s - loss: 2.0733 - acc: 0.63 - ETA: 5s - loss: 2.0736 - acc: 0.6376 - ETA: 0s - loss: 2.0733 - acc: 0.637 - 1756s 41ms/sample - loss: 2.0734 - acc: 0.6376\n",
      "Epoch 8/30\n"
     ]
    },
    {
     "name": "stdout",
     "output_type": "stream",
     "text": [
      "26112/42374 [=================>............] - ETA: 28:32 - loss: 1.8553 - acc: 0.65 - ETA: 28:38 - loss: 1.9667 - acc: 0.63 - ETA: 28:42 - loss: 1.9925 - acc: 0.63 - ETA: 28:35 - loss: 1.9434 - acc: 0.64 - ETA: 28:35 - loss: 1.9671 - acc: 0.64 - ETA: 28:39 - loss: 2.0155 - acc: 0.63 - ETA: 28:30 - loss: 2.0043 - acc: 0.63 - ETA: 28:26 - loss: 1.9831 - acc: 0.64 - ETA: 28:20 - loss: 1.9792 - acc: 0.64 - ETA: 28:10 - loss: 1.9959 - acc: 0.64 - ETA: 28:05 - loss: 2.0049 - acc: 0.64 - ETA: 28:02 - loss: 2.0100 - acc: 0.64 - ETA: 27:55 - loss: 2.0008 - acc: 0.64 - ETA: 27:52 - loss: 2.0040 - acc: 0.64 - ETA: 27:45 - loss: 1.9997 - acc: 0.64 - ETA: 27:40 - loss: 2.0030 - acc: 0.64 - ETA: 27:33 - loss: 2.0018 - acc: 0.64 - ETA: 27:28 - loss: 2.0046 - acc: 0.64 - ETA: 27:22 - loss: 2.0151 - acc: 0.64 - ETA: 27:16 - loss: 2.0190 - acc: 0.63 - ETA: 27:13 - loss: 2.0127 - acc: 0.64 - ETA: 27:06 - loss: 2.0134 - acc: 0.64 - ETA: 27:01 - loss: 2.0101 - acc: 0.64 - ETA: 26:55 - loss: 2.0084 - acc: 0.64 - ETA: 26:49 - loss: 2.0056 - acc: 0.64 - ETA: 26:44 - loss: 2.0022 - acc: 0.64 - ETA: 26:40 - loss: 2.0089 - acc: 0.64 - ETA: 26:34 - loss: 2.0079 - acc: 0.64 - ETA: 26:29 - loss: 2.0063 - acc: 0.64 - ETA: 26:23 - loss: 2.0028 - acc: 0.64 - ETA: 26:17 - loss: 2.0036 - acc: 0.64 - ETA: 26:12 - loss: 2.0030 - acc: 0.64 - ETA: 26:07 - loss: 1.9984 - acc: 0.64 - ETA: 26:01 - loss: 1.9978 - acc: 0.64 - ETA: 25:57 - loss: 1.9984 - acc: 0.64 - ETA: 25:51 - loss: 2.0028 - acc: 0.64 - ETA: 25:45 - loss: 1.9999 - acc: 0.64 - ETA: 25:40 - loss: 1.9994 - acc: 0.64 - ETA: 25:35 - loss: 1.9985 - acc: 0.64 - ETA: 25:29 - loss: 1.9990 - acc: 0.64 - ETA: 25:23 - loss: 1.9965 - acc: 0.64 - ETA: 25:17 - loss: 1.9962 - acc: 0.64 - ETA: 25:12 - loss: 1.9971 - acc: 0.64 - ETA: 25:06 - loss: 1.9974 - acc: 0.64 - ETA: 25:01 - loss: 2.0003 - acc: 0.64 - ETA: 24:55 - loss: 1.9964 - acc: 0.64 - ETA: 24:50 - loss: 1.9977 - acc: 0.64 - ETA: 24:45 - loss: 1.9955 - acc: 0.64 - ETA: 24:40 - loss: 1.9973 - acc: 0.64 - ETA: 24:34 - loss: 1.9930 - acc: 0.64 - ETA: 24:30 - loss: 1.9896 - acc: 0.64 - ETA: 24:24 - loss: 1.9908 - acc: 0.64 - ETA: 24:19 - loss: 1.9929 - acc: 0.64 - ETA: 24:14 - loss: 1.9932 - acc: 0.64 - ETA: 24:09 - loss: 1.9953 - acc: 0.64 - ETA: 24:03 - loss: 1.9963 - acc: 0.64 - ETA: 23:59 - loss: 1.9987 - acc: 0.64 - ETA: 23:54 - loss: 1.9978 - acc: 0.64 - ETA: 23:48 - loss: 1.9954 - acc: 0.64 - ETA: 23:43 - loss: 1.9960 - acc: 0.64 - ETA: 23:38 - loss: 1.9940 - acc: 0.64 - ETA: 23:33 - loss: 1.9965 - acc: 0.64 - ETA: 23:28 - loss: 1.9964 - acc: 0.64 - ETA: 23:23 - loss: 1.9968 - acc: 0.64 - ETA: 23:17 - loss: 1.9955 - acc: 0.64 - ETA: 23:12 - loss: 1.9942 - acc: 0.64 - ETA: 23:07 - loss: 1.9939 - acc: 0.64 - ETA: 23:01 - loss: 1.9943 - acc: 0.64 - ETA: 22:56 - loss: 1.9955 - acc: 0.64 - ETA: 22:51 - loss: 1.9943 - acc: 0.64 - ETA: 22:46 - loss: 1.9940 - acc: 0.64 - ETA: 22:41 - loss: 1.9911 - acc: 0.64 - ETA: 22:36 - loss: 1.9954 - acc: 0.64 - ETA: 22:30 - loss: 1.9946 - acc: 0.64 - ETA: 22:25 - loss: 1.9964 - acc: 0.64 - ETA: 22:20 - loss: 1.9966 - acc: 0.64 - ETA: 22:15 - loss: 1.9990 - acc: 0.64 - ETA: 22:10 - loss: 2.0009 - acc: 0.64 - ETA: 22:05 - loss: 2.0036 - acc: 0.64 - ETA: 21:59 - loss: 2.0020 - acc: 0.64 - ETA: 21:54 - loss: 2.0022 - acc: 0.64 - ETA: 21:49 - loss: 2.0034 - acc: 0.64 - ETA: 21:44 - loss: 2.0015 - acc: 0.64 - ETA: 21:38 - loss: 2.0020 - acc: 0.64 - ETA: 21:33 - loss: 2.0000 - acc: 0.64 - ETA: 21:28 - loss: 1.9999 - acc: 0.64 - ETA: 21:22 - loss: 1.9989 - acc: 0.64 - ETA: 21:17 - loss: 1.9984 - acc: 0.64 - ETA: 21:11 - loss: 2.0008 - acc: 0.64 - ETA: 21:06 - loss: 2.0023 - acc: 0.64 - ETA: 21:00 - loss: 2.0028 - acc: 0.64 - ETA: 20:55 - loss: 2.0052 - acc: 0.64 - ETA: 20:49 - loss: 2.0079 - acc: 0.64 - ETA: 20:44 - loss: 2.0081 - acc: 0.64 - ETA: 20:38 - loss: 2.0069 - acc: 0.64 - ETA: 20:33 - loss: 2.0065 - acc: 0.64 - ETA: 20:27 - loss: 2.0056 - acc: 0.64 - ETA: 20:22 - loss: 2.0070 - acc: 0.64 - ETA: 20:17 - loss: 2.0053 - acc: 0.64 - ETA: 20:11 - loss: 2.0059 - acc: 0.64 - ETA: 20:06 - loss: 2.0058 - acc: 0.64 - ETA: 20:00 - loss: 2.0060 - acc: 0.64 - ETA: 19:55 - loss: 2.0071 - acc: 0.64 - ETA: 19:50 - loss: 2.0072 - acc: 0.64 - ETA: 19:45 - loss: 2.0082 - acc: 0.64 - ETA: 19:40 - loss: 2.0084 - acc: 0.64 - ETA: 19:34 - loss: 2.0077 - acc: 0.64 - ETA: 19:29 - loss: 2.0082 - acc: 0.64 - ETA: 19:24 - loss: 2.0077 - acc: 0.64 - ETA: 19:19 - loss: 2.0064 - acc: 0.64 - ETA: 19:13 - loss: 2.0062 - acc: 0.64 - ETA: 19:08 - loss: 2.0059 - acc: 0.64 - ETA: 19:03 - loss: 2.0082 - acc: 0.64 - ETA: 18:57 - loss: 2.0096 - acc: 0.64 - ETA: 18:52 - loss: 2.0103 - acc: 0.64 - ETA: 18:47 - loss: 2.0094 - acc: 0.64 - ETA: 18:42 - loss: 2.0092 - acc: 0.64 - ETA: 18:37 - loss: 2.0091 - acc: 0.64 - ETA: 18:31 - loss: 2.0094 - acc: 0.64 - ETA: 18:26 - loss: 2.0092 - acc: 0.64 - ETA: 18:21 - loss: 2.0093 - acc: 0.64 - ETA: 18:16 - loss: 2.0085 - acc: 0.64 - ETA: 18:11 - loss: 2.0102 - acc: 0.64 - ETA: 18:05 - loss: 2.0108 - acc: 0.64 - ETA: 18:00 - loss: 2.0111 - acc: 0.64 - ETA: 17:55 - loss: 2.0116 - acc: 0.64 - ETA: 17:50 - loss: 2.0119 - acc: 0.64 - ETA: 17:45 - loss: 2.0112 - acc: 0.64 - ETA: 17:39 - loss: 2.0107 - acc: 0.64 - ETA: 17:34 - loss: 2.0110 - acc: 0.64 - ETA: 17:29 - loss: 2.0112 - acc: 0.64 - ETA: 17:23 - loss: 2.0125 - acc: 0.64 - ETA: 17:18 - loss: 2.0122 - acc: 0.64 - ETA: 17:13 - loss: 2.0123 - acc: 0.64 - ETA: 17:07 - loss: 2.0100 - acc: 0.64 - ETA: 17:02 - loss: 2.0099 - acc: 0.64 - ETA: 16:57 - loss: 2.0104 - acc: 0.64 - ETA: 16:52 - loss: 2.0098 - acc: 0.64 - ETA: 16:46 - loss: 2.0093 - acc: 0.64 - ETA: 16:41 - loss: 2.0110 - acc: 0.64 - ETA: 16:36 - loss: 2.0106 - acc: 0.64 - ETA: 16:31 - loss: 2.0102 - acc: 0.64 - ETA: 16:25 - loss: 2.0090 - acc: 0.64 - ETA: 16:20 - loss: 2.0104 - acc: 0.64 - ETA: 16:15 - loss: 2.0098 - acc: 0.64 - ETA: 16:09 - loss: 2.0100 - acc: 0.64 - ETA: 16:04 - loss: 2.0096 - acc: 0.64 - ETA: 15:59 - loss: 2.0094 - acc: 0.64 - ETA: 15:54 - loss: 2.0100 - acc: 0.64 - ETA: 15:48 - loss: 2.0112 - acc: 0.64 - ETA: 15:43 - loss: 2.0127 - acc: 0.64 - ETA: 15:38 - loss: 2.0126 - acc: 0.64 - ETA: 15:33 - loss: 2.0124 - acc: 0.64 - ETA: 15:27 - loss: 2.0123 - acc: 0.64 - ETA: 15:22 - loss: 2.0119 - acc: 0.64 - ETA: 15:17 - loss: 2.0123 - acc: 0.64 - ETA: 15:12 - loss: 2.0136 - acc: 0.64 - ETA: 15:06 - loss: 2.0137 - acc: 0.64 - ETA: 15:01 - loss: 2.0131 - acc: 0.64 - ETA: 14:56 - loss: 2.0118 - acc: 0.64 - ETA: 14:51 - loss: 2.0125 - acc: 0.64 - ETA: 14:45 - loss: 2.0128 - acc: 0.64 - ETA: 14:40 - loss: 2.0135 - acc: 0.64 - ETA: 14:35 - loss: 2.0133 - acc: 0.64 - ETA: 14:30 - loss: 2.0134 - acc: 0.64 - ETA: 14:24 - loss: 2.0137 - acc: 0.64 - ETA: 14:19 - loss: 2.0134 - acc: 0.64 - ETA: 14:14 - loss: 2.0138 - acc: 0.64 - ETA: 14:09 - loss: 2.0130 - acc: 0.64 - ETA: 14:04 - loss: 2.0123 - acc: 0.64 - ETA: 13:58 - loss: 2.0128 - acc: 0.64 - ETA: 13:53 - loss: 2.0128 - acc: 0.64 - ETA: 13:48 - loss: 2.0128 - acc: 0.64 - ETA: 13:43 - loss: 2.0130 - acc: 0.64 - ETA: 13:38 - loss: 2.0128 - acc: 0.64 - ETA: 13:32 - loss: 2.0131 - acc: 0.64 - ETA: 13:27 - loss: 2.0134 - acc: 0.64 - ETA: 13:22 - loss: 2.0138 - acc: 0.64 - ETA: 13:17 - loss: 2.0140 - acc: 0.64 - ETA: 13:11 - loss: 2.0158 - acc: 0.64 - ETA: 13:06 - loss: 2.0166 - acc: 0.64 - ETA: 13:01 - loss: 2.0168 - acc: 0.64 - ETA: 12:56 - loss: 2.0165 - acc: 0.64 - ETA: 12:50 - loss: 2.0169 - acc: 0.64 - ETA: 12:45 - loss: 2.0162 - acc: 0.64 - ETA: 12:40 - loss: 2.0179 - acc: 0.64 - ETA: 12:35 - loss: 2.0177 - acc: 0.64 - ETA: 12:29 - loss: 2.0179 - acc: 0.64 - ETA: 12:24 - loss: 2.0180 - acc: 0.64 - ETA: 12:19 - loss: 2.0182 - acc: 0.64 - ETA: 12:14 - loss: 2.0176 - acc: 0.64 - ETA: 12:09 - loss: 2.0185 - acc: 0.64 - ETA: 12:03 - loss: 2.0185 - acc: 0.64 - ETA: 11:58 - loss: 2.0176 - acc: 0.64 - ETA: 11:53 - loss: 2.0180 - acc: 0.64 - ETA: 11:48 - loss: 2.0177 - acc: 0.64 - ETA: 11:42 - loss: 2.0178 - acc: 0.64 - ETA: 11:37 - loss: 2.0180 - acc: 0.64 - ETA: 11:32 - loss: 2.0174 - acc: 0.64 - ETA: 11:27 - loss: 2.0171 - acc: 0.64 - ETA: 11:21 - loss: 2.0175 - acc: 0.64 - ETA: 11:16 - loss: 2.0178 - acc: 0.64 - ETA: 11:11 - loss: 2.0177 - acc: 0.64 - ETA: 11:06 - loss: 2.0174 - acc: 0.6419"
     ]
    },
    {
     "name": "stdout",
     "output_type": "stream",
     "text": [
      "42374/42374 [==============================] - ETA: 11:00 - loss: 2.0170 - acc: 0.64 - ETA: 10:55 - loss: 2.0178 - acc: 0.64 - ETA: 10:50 - loss: 2.0172 - acc: 0.64 - ETA: 10:44 - loss: 2.0181 - acc: 0.64 - ETA: 10:39 - loss: 2.0187 - acc: 0.64 - ETA: 10:34 - loss: 2.0187 - acc: 0.64 - ETA: 10:29 - loss: 2.0190 - acc: 0.64 - ETA: 10:23 - loss: 2.0192 - acc: 0.64 - ETA: 10:18 - loss: 2.0188 - acc: 0.64 - ETA: 10:13 - loss: 2.0184 - acc: 0.64 - ETA: 10:08 - loss: 2.0187 - acc: 0.64 - ETA: 10:02 - loss: 2.0188 - acc: 0.64 - ETA: 9:57 - loss: 2.0193 - acc: 0.6418 - ETA: 9:52 - loss: 2.0186 - acc: 0.641 - ETA: 9:47 - loss: 2.0184 - acc: 0.641 - ETA: 9:41 - loss: 2.0187 - acc: 0.642 - ETA: 9:36 - loss: 2.0183 - acc: 0.642 - ETA: 9:31 - loss: 2.0187 - acc: 0.642 - ETA: 9:26 - loss: 2.0190 - acc: 0.642 - ETA: 9:21 - loss: 2.0196 - acc: 0.641 - ETA: 9:15 - loss: 2.0195 - acc: 0.641 - ETA: 9:10 - loss: 2.0209 - acc: 0.641 - ETA: 9:05 - loss: 2.0202 - acc: 0.641 - ETA: 9:00 - loss: 2.0196 - acc: 0.642 - ETA: 8:54 - loss: 2.0193 - acc: 0.642 - ETA: 8:49 - loss: 2.0189 - acc: 0.642 - ETA: 8:44 - loss: 2.0190 - acc: 0.642 - ETA: 8:39 - loss: 2.0191 - acc: 0.642 - ETA: 8:33 - loss: 2.0198 - acc: 0.641 - ETA: 8:28 - loss: 2.0189 - acc: 0.641 - ETA: 8:23 - loss: 2.0188 - acc: 0.642 - ETA: 8:18 - loss: 2.0189 - acc: 0.642 - ETA: 8:12 - loss: 2.0190 - acc: 0.642 - ETA: 8:07 - loss: 2.0187 - acc: 0.642 - ETA: 8:02 - loss: 2.0192 - acc: 0.642 - ETA: 7:57 - loss: 2.0198 - acc: 0.641 - ETA: 7:52 - loss: 2.0199 - acc: 0.641 - ETA: 7:46 - loss: 2.0201 - acc: 0.641 - ETA: 7:41 - loss: 2.0201 - acc: 0.641 - ETA: 7:36 - loss: 2.0208 - acc: 0.641 - ETA: 7:31 - loss: 2.0204 - acc: 0.641 - ETA: 7:25 - loss: 2.0206 - acc: 0.641 - ETA: 7:20 - loss: 2.0209 - acc: 0.641 - ETA: 7:15 - loss: 2.0217 - acc: 0.641 - ETA: 7:10 - loss: 2.0212 - acc: 0.641 - ETA: 7:04 - loss: 2.0214 - acc: 0.641 - ETA: 6:59 - loss: 2.0212 - acc: 0.641 - ETA: 6:54 - loss: 2.0215 - acc: 0.641 - ETA: 6:49 - loss: 2.0219 - acc: 0.641 - ETA: 6:43 - loss: 2.0219 - acc: 0.641 - ETA: 6:38 - loss: 2.0223 - acc: 0.641 - ETA: 6:33 - loss: 2.0223 - acc: 0.641 - ETA: 6:28 - loss: 2.0221 - acc: 0.641 - ETA: 6:22 - loss: 2.0227 - acc: 0.641 - ETA: 6:17 - loss: 2.0230 - acc: 0.641 - ETA: 6:12 - loss: 2.0235 - acc: 0.641 - ETA: 6:07 - loss: 2.0237 - acc: 0.641 - ETA: 6:01 - loss: 2.0232 - acc: 0.641 - ETA: 5:56 - loss: 2.0225 - acc: 0.641 - ETA: 5:51 - loss: 2.0225 - acc: 0.641 - ETA: 5:46 - loss: 2.0224 - acc: 0.641 - ETA: 5:40 - loss: 2.0228 - acc: 0.641 - ETA: 5:35 - loss: 2.0225 - acc: 0.641 - ETA: 5:30 - loss: 2.0224 - acc: 0.641 - ETA: 5:25 - loss: 2.0221 - acc: 0.641 - ETA: 5:19 - loss: 2.0218 - acc: 0.642 - ETA: 5:14 - loss: 2.0218 - acc: 0.641 - ETA: 5:09 - loss: 2.0226 - acc: 0.641 - ETA: 5:04 - loss: 2.0220 - acc: 0.641 - ETA: 4:59 - loss: 2.0228 - acc: 0.641 - ETA: 4:53 - loss: 2.0227 - acc: 0.641 - ETA: 4:48 - loss: 2.0232 - acc: 0.641 - ETA: 4:43 - loss: 2.0229 - acc: 0.641 - ETA: 4:38 - loss: 2.0232 - acc: 0.641 - ETA: 4:32 - loss: 2.0242 - acc: 0.641 - ETA: 4:27 - loss: 2.0242 - acc: 0.641 - ETA: 4:22 - loss: 2.0248 - acc: 0.641 - ETA: 4:17 - loss: 2.0249 - acc: 0.641 - ETA: 4:11 - loss: 2.0245 - acc: 0.641 - ETA: 4:06 - loss: 2.0249 - acc: 0.641 - ETA: 4:01 - loss: 2.0248 - acc: 0.641 - ETA: 3:56 - loss: 2.0250 - acc: 0.641 - ETA: 3:50 - loss: 2.0251 - acc: 0.641 - ETA: 3:45 - loss: 2.0247 - acc: 0.641 - ETA: 3:40 - loss: 2.0251 - acc: 0.641 - ETA: 3:35 - loss: 2.0250 - acc: 0.641 - ETA: 3:29 - loss: 2.0249 - acc: 0.641 - ETA: 3:24 - loss: 2.0247 - acc: 0.641 - ETA: 3:19 - loss: 2.0245 - acc: 0.641 - ETA: 3:14 - loss: 2.0251 - acc: 0.641 - ETA: 3:09 - loss: 2.0252 - acc: 0.641 - ETA: 3:03 - loss: 2.0251 - acc: 0.641 - ETA: 2:58 - loss: 2.0250 - acc: 0.641 - ETA: 2:53 - loss: 2.0249 - acc: 0.641 - ETA: 2:48 - loss: 2.0252 - acc: 0.641 - ETA: 2:42 - loss: 2.0257 - acc: 0.641 - ETA: 2:37 - loss: 2.0261 - acc: 0.641 - ETA: 2:32 - loss: 2.0260 - acc: 0.641 - ETA: 2:27 - loss: 2.0257 - acc: 0.641 - ETA: 2:21 - loss: 2.0259 - acc: 0.641 - ETA: 2:16 - loss: 2.0259 - acc: 0.641 - ETA: 2:11 - loss: 2.0258 - acc: 0.641 - ETA: 2:06 - loss: 2.0254 - acc: 0.641 - ETA: 2:00 - loss: 2.0259 - acc: 0.641 - ETA: 1:55 - loss: 2.0262 - acc: 0.641 - ETA: 1:50 - loss: 2.0269 - acc: 0.641 - ETA: 1:45 - loss: 2.0270 - acc: 0.641 - ETA: 1:39 - loss: 2.0274 - acc: 0.641 - ETA: 1:34 - loss: 2.0273 - acc: 0.641 - ETA: 1:29 - loss: 2.0274 - acc: 0.641 - ETA: 1:24 - loss: 2.0273 - acc: 0.641 - ETA: 1:18 - loss: 2.0275 - acc: 0.641 - ETA: 1:13 - loss: 2.0274 - acc: 0.641 - ETA: 1:08 - loss: 2.0271 - acc: 0.641 - ETA: 1:03 - loss: 2.0277 - acc: 0.641 - ETA: 57s - loss: 2.0276 - acc: 0.641 - ETA: 52s - loss: 2.0275 - acc: 0.64 - ETA: 47s - loss: 2.0281 - acc: 0.64 - ETA: 42s - loss: 2.0287 - acc: 0.64 - ETA: 36s - loss: 2.0286 - acc: 0.64 - ETA: 31s - loss: 2.0287 - acc: 0.64 - ETA: 26s - loss: 2.0286 - acc: 0.64 - ETA: 21s - loss: 2.0289 - acc: 0.64 - ETA: 15s - loss: 2.0291 - acc: 0.64 - ETA: 10s - loss: 2.0291 - acc: 0.64 - ETA: 5s - loss: 2.0291 - acc: 0.6413 - ETA: 0s - loss: 2.0285 - acc: 0.641 - 1738s 41ms/sample - loss: 2.0286 - acc: 0.6413\n",
      "Epoch 9/30\n"
     ]
    },
    {
     "name": "stdout",
     "output_type": "stream",
     "text": [
      "26112/42374 [=================>............] - ETA: 29:39 - loss: 1.7168 - acc: 0.68 - ETA: 29:00 - loss: 1.8747 - acc: 0.65 - ETA: 28:42 - loss: 1.9109 - acc: 0.64 - ETA: 28:31 - loss: 1.8964 - acc: 0.65 - ETA: 28:22 - loss: 1.9495 - acc: 0.64 - ETA: 28:09 - loss: 1.9257 - acc: 0.64 - ETA: 28:04 - loss: 1.9266 - acc: 0.64 - ETA: 27:57 - loss: 1.9102 - acc: 0.64 - ETA: 27:53 - loss: 1.9019 - acc: 0.65 - ETA: 27:49 - loss: 1.9068 - acc: 0.64 - ETA: 27:43 - loss: 1.8995 - acc: 0.64 - ETA: 27:38 - loss: 1.9123 - acc: 0.64 - ETA: 27:32 - loss: 1.9087 - acc: 0.64 - ETA: 27:26 - loss: 1.9075 - acc: 0.65 - ETA: 27:20 - loss: 1.9036 - acc: 0.65 - ETA: 27:17 - loss: 1.9142 - acc: 0.65 - ETA: 27:11 - loss: 1.9157 - acc: 0.65 - ETA: 27:05 - loss: 1.9234 - acc: 0.64 - ETA: 27:00 - loss: 1.9240 - acc: 0.64 - ETA: 26:54 - loss: 1.9274 - acc: 0.64 - ETA: 26:48 - loss: 1.9264 - acc: 0.64 - ETA: 26:45 - loss: 1.9324 - acc: 0.64 - ETA: 26:40 - loss: 1.9326 - acc: 0.64 - ETA: 26:35 - loss: 1.9336 - acc: 0.64 - ETA: 26:31 - loss: 1.9388 - acc: 0.64 - ETA: 26:28 - loss: 1.9349 - acc: 0.64 - ETA: 26:23 - loss: 1.9358 - acc: 0.64 - ETA: 26:19 - loss: 1.9432 - acc: 0.64 - ETA: 26:13 - loss: 1.9431 - acc: 0.64 - ETA: 26:07 - loss: 1.9410 - acc: 0.64 - ETA: 26:04 - loss: 1.9420 - acc: 0.64 - ETA: 25:59 - loss: 1.9426 - acc: 0.64 - ETA: 25:54 - loss: 1.9401 - acc: 0.64 - ETA: 25:50 - loss: 1.9401 - acc: 0.64 - ETA: 25:45 - loss: 1.9395 - acc: 0.64 - ETA: 25:39 - loss: 1.9391 - acc: 0.64 - ETA: 25:34 - loss: 1.9389 - acc: 0.64 - ETA: 25:29 - loss: 1.9408 - acc: 0.64 - ETA: 25:23 - loss: 1.9410 - acc: 0.64 - ETA: 25:19 - loss: 1.9390 - acc: 0.64 - ETA: 25:14 - loss: 1.9416 - acc: 0.64 - ETA: 25:08 - loss: 1.9412 - acc: 0.64 - ETA: 25:03 - loss: 1.9377 - acc: 0.64 - ETA: 24:58 - loss: 1.9332 - acc: 0.64 - ETA: 24:53 - loss: 1.9365 - acc: 0.64 - ETA: 24:48 - loss: 1.9346 - acc: 0.64 - ETA: 24:43 - loss: 1.9321 - acc: 0.64 - ETA: 24:37 - loss: 1.9344 - acc: 0.64 - ETA: 24:32 - loss: 1.9319 - acc: 0.64 - ETA: 24:27 - loss: 1.9286 - acc: 0.64 - ETA: 24:21 - loss: 1.9310 - acc: 0.64 - ETA: 24:15 - loss: 1.9326 - acc: 0.64 - ETA: 24:10 - loss: 1.9357 - acc: 0.64 - ETA: 24:04 - loss: 1.9372 - acc: 0.64 - ETA: 23:59 - loss: 1.9361 - acc: 0.64 - ETA: 23:54 - loss: 1.9359 - acc: 0.64 - ETA: 23:48 - loss: 1.9369 - acc: 0.64 - ETA: 23:43 - loss: 1.9377 - acc: 0.64 - ETA: 23:37 - loss: 1.9393 - acc: 0.64 - ETA: 23:32 - loss: 1.9397 - acc: 0.64 - ETA: 23:27 - loss: 1.9391 - acc: 0.64 - ETA: 23:22 - loss: 1.9375 - acc: 0.64 - ETA: 23:17 - loss: 1.9381 - acc: 0.64 - ETA: 23:11 - loss: 1.9411 - acc: 0.64 - ETA: 23:06 - loss: 1.9404 - acc: 0.64 - ETA: 23:01 - loss: 1.9412 - acc: 0.64 - ETA: 22:56 - loss: 1.9414 - acc: 0.64 - ETA: 22:51 - loss: 1.9416 - acc: 0.64 - ETA: 22:46 - loss: 1.9431 - acc: 0.64 - ETA: 22:41 - loss: 1.9454 - acc: 0.64 - ETA: 22:36 - loss: 1.9465 - acc: 0.64 - ETA: 22:31 - loss: 1.9463 - acc: 0.64 - ETA: 22:25 - loss: 1.9467 - acc: 0.64 - ETA: 22:20 - loss: 1.9487 - acc: 0.64 - ETA: 22:15 - loss: 1.9472 - acc: 0.64 - ETA: 22:10 - loss: 1.9462 - acc: 0.64 - ETA: 22:05 - loss: 1.9465 - acc: 0.64 - ETA: 22:00 - loss: 1.9480 - acc: 0.64 - ETA: 21:54 - loss: 1.9525 - acc: 0.64 - ETA: 21:49 - loss: 1.9530 - acc: 0.64 - ETA: 21:44 - loss: 1.9535 - acc: 0.64 - ETA: 21:39 - loss: 1.9526 - acc: 0.64 - ETA: 21:34 - loss: 1.9538 - acc: 0.64 - ETA: 21:29 - loss: 1.9549 - acc: 0.64 - ETA: 21:24 - loss: 1.9550 - acc: 0.64 - ETA: 21:19 - loss: 1.9553 - acc: 0.64 - ETA: 21:14 - loss: 1.9563 - acc: 0.64 - ETA: 21:09 - loss: 1.9552 - acc: 0.64 - ETA: 21:04 - loss: 1.9589 - acc: 0.64 - ETA: 20:58 - loss: 1.9587 - acc: 0.64 - ETA: 20:53 - loss: 1.9578 - acc: 0.64 - ETA: 20:48 - loss: 1.9568 - acc: 0.64 - ETA: 20:44 - loss: 1.9568 - acc: 0.64 - ETA: 20:38 - loss: 1.9571 - acc: 0.64 - ETA: 20:33 - loss: 1.9577 - acc: 0.64 - ETA: 20:28 - loss: 1.9573 - acc: 0.64 - ETA: 20:23 - loss: 1.9577 - acc: 0.64 - ETA: 20:17 - loss: 1.9578 - acc: 0.64 - ETA: 20:12 - loss: 1.9563 - acc: 0.64 - ETA: 20:07 - loss: 1.9560 - acc: 0.64 - ETA: 20:02 - loss: 1.9544 - acc: 0.64 - ETA: 19:57 - loss: 1.9543 - acc: 0.64 - ETA: 19:52 - loss: 1.9547 - acc: 0.64 - ETA: 19:46 - loss: 1.9555 - acc: 0.64 - ETA: 19:41 - loss: 1.9553 - acc: 0.64 - ETA: 19:36 - loss: 1.9577 - acc: 0.64 - ETA: 19:31 - loss: 1.9596 - acc: 0.64 - ETA: 19:25 - loss: 1.9596 - acc: 0.64 - ETA: 19:20 - loss: 1.9590 - acc: 0.64 - ETA: 19:15 - loss: 1.9611 - acc: 0.64 - ETA: 19:09 - loss: 1.9610 - acc: 0.64 - ETA: 19:04 - loss: 1.9610 - acc: 0.64 - ETA: 18:59 - loss: 1.9607 - acc: 0.64 - ETA: 18:54 - loss: 1.9613 - acc: 0.64 - ETA: 18:48 - loss: 1.9606 - acc: 0.64 - ETA: 18:43 - loss: 1.9614 - acc: 0.64 - ETA: 18:38 - loss: 1.9612 - acc: 0.64 - ETA: 18:33 - loss: 1.9600 - acc: 0.64 - ETA: 18:27 - loss: 1.9591 - acc: 0.64 - ETA: 18:22 - loss: 1.9593 - acc: 0.64 - ETA: 18:17 - loss: 1.9592 - acc: 0.64 - ETA: 18:11 - loss: 1.9597 - acc: 0.64 - ETA: 18:06 - loss: 1.9596 - acc: 0.64 - ETA: 18:01 - loss: 1.9601 - acc: 0.64 - ETA: 17:56 - loss: 1.9606 - acc: 0.64 - ETA: 17:51 - loss: 1.9604 - acc: 0.64 - ETA: 17:45 - loss: 1.9609 - acc: 0.64 - ETA: 17:40 - loss: 1.9610 - acc: 0.64 - ETA: 17:35 - loss: 1.9614 - acc: 0.64 - ETA: 17:30 - loss: 1.9622 - acc: 0.64 - ETA: 17:24 - loss: 1.9635 - acc: 0.64 - ETA: 17:19 - loss: 1.9619 - acc: 0.64 - ETA: 17:14 - loss: 1.9621 - acc: 0.64 - ETA: 17:09 - loss: 1.9631 - acc: 0.64 - ETA: 17:03 - loss: 1.9622 - acc: 0.64 - ETA: 16:58 - loss: 1.9626 - acc: 0.64 - ETA: 16:53 - loss: 1.9624 - acc: 0.64 - ETA: 16:48 - loss: 1.9626 - acc: 0.64 - ETA: 16:42 - loss: 1.9625 - acc: 0.64 - ETA: 16:37 - loss: 1.9620 - acc: 0.64 - ETA: 16:32 - loss: 1.9611 - acc: 0.64 - ETA: 16:27 - loss: 1.9621 - acc: 0.64 - ETA: 16:22 - loss: 1.9619 - acc: 0.64 - ETA: 16:17 - loss: 1.9637 - acc: 0.64 - ETA: 16:12 - loss: 1.9641 - acc: 0.64 - ETA: 16:06 - loss: 1.9648 - acc: 0.64 - ETA: 16:01 - loss: 1.9656 - acc: 0.64 - ETA: 15:56 - loss: 1.9674 - acc: 0.64 - ETA: 15:50 - loss: 1.9684 - acc: 0.64 - ETA: 15:45 - loss: 1.9687 - acc: 0.64 - ETA: 15:40 - loss: 1.9678 - acc: 0.64 - ETA: 15:35 - loss: 1.9682 - acc: 0.64 - ETA: 15:29 - loss: 1.9687 - acc: 0.64 - ETA: 15:24 - loss: 1.9688 - acc: 0.64 - ETA: 15:19 - loss: 1.9692 - acc: 0.64 - ETA: 15:14 - loss: 1.9688 - acc: 0.64 - ETA: 15:08 - loss: 1.9687 - acc: 0.64 - ETA: 15:03 - loss: 1.9694 - acc: 0.64 - ETA: 14:58 - loss: 1.9700 - acc: 0.64 - ETA: 14:53 - loss: 1.9698 - acc: 0.64 - ETA: 14:47 - loss: 1.9696 - acc: 0.64 - ETA: 14:42 - loss: 1.9690 - acc: 0.64 - ETA: 14:37 - loss: 1.9696 - acc: 0.64 - ETA: 14:32 - loss: 1.9695 - acc: 0.64 - ETA: 14:26 - loss: 1.9698 - acc: 0.64 - ETA: 14:21 - loss: 1.9710 - acc: 0.64 - ETA: 14:16 - loss: 1.9706 - acc: 0.64 - ETA: 14:11 - loss: 1.9712 - acc: 0.64 - ETA: 14:06 - loss: 1.9712 - acc: 0.64 - ETA: 14:00 - loss: 1.9706 - acc: 0.64 - ETA: 13:55 - loss: 1.9713 - acc: 0.64 - ETA: 13:50 - loss: 1.9712 - acc: 0.64 - ETA: 13:45 - loss: 1.9716 - acc: 0.64 - ETA: 13:39 - loss: 1.9706 - acc: 0.64 - ETA: 13:34 - loss: 1.9704 - acc: 0.64 - ETA: 13:29 - loss: 1.9719 - acc: 0.64 - ETA: 13:24 - loss: 1.9725 - acc: 0.64 - ETA: 13:18 - loss: 1.9724 - acc: 0.64 - ETA: 13:13 - loss: 1.9715 - acc: 0.64 - ETA: 13:08 - loss: 1.9724 - acc: 0.64 - ETA: 13:03 - loss: 1.9733 - acc: 0.64 - ETA: 12:57 - loss: 1.9733 - acc: 0.64 - ETA: 12:52 - loss: 1.9752 - acc: 0.64 - ETA: 12:47 - loss: 1.9753 - acc: 0.64 - ETA: 12:42 - loss: 1.9748 - acc: 0.64 - ETA: 12:36 - loss: 1.9741 - acc: 0.64 - ETA: 12:31 - loss: 1.9751 - acc: 0.64 - ETA: 12:26 - loss: 1.9756 - acc: 0.64 - ETA: 12:21 - loss: 1.9758 - acc: 0.64 - ETA: 12:16 - loss: 1.9764 - acc: 0.64 - ETA: 12:10 - loss: 1.9766 - acc: 0.64 - ETA: 12:05 - loss: 1.9768 - acc: 0.64 - ETA: 12:00 - loss: 1.9765 - acc: 0.64 - ETA: 11:55 - loss: 1.9769 - acc: 0.64 - ETA: 11:49 - loss: 1.9762 - acc: 0.64 - ETA: 11:44 - loss: 1.9752 - acc: 0.64 - ETA: 11:39 - loss: 1.9754 - acc: 0.64 - ETA: 11:34 - loss: 1.9756 - acc: 0.64 - ETA: 11:28 - loss: 1.9760 - acc: 0.64 - ETA: 11:23 - loss: 1.9767 - acc: 0.64 - ETA: 11:18 - loss: 1.9770 - acc: 0.64 - ETA: 11:13 - loss: 1.9770 - acc: 0.64 - ETA: 11:08 - loss: 1.9761 - acc: 0.64 - ETA: 11:02 - loss: 1.9748 - acc: 0.6455"
     ]
    },
    {
     "name": "stdout",
     "output_type": "stream",
     "text": [
      "42374/42374 [==============================] - ETA: 10:57 - loss: 1.9744 - acc: 0.64 - ETA: 10:52 - loss: 1.9744 - acc: 0.64 - ETA: 10:47 - loss: 1.9753 - acc: 0.64 - ETA: 10:41 - loss: 1.9747 - acc: 0.64 - ETA: 10:36 - loss: 1.9756 - acc: 0.64 - ETA: 10:31 - loss: 1.9757 - acc: 0.64 - ETA: 10:26 - loss: 1.9761 - acc: 0.64 - ETA: 10:21 - loss: 1.9755 - acc: 0.64 - ETA: 10:15 - loss: 1.9762 - acc: 0.64 - ETA: 10:10 - loss: 1.9756 - acc: 0.64 - ETA: 10:05 - loss: 1.9760 - acc: 0.64 - ETA: 10:00 - loss: 1.9764 - acc: 0.64 - ETA: 9:55 - loss: 1.9762 - acc: 0.6454 - ETA: 9:49 - loss: 1.9758 - acc: 0.645 - ETA: 9:44 - loss: 1.9763 - acc: 0.645 - ETA: 9:39 - loss: 1.9767 - acc: 0.645 - ETA: 9:34 - loss: 1.9764 - acc: 0.645 - ETA: 9:28 - loss: 1.9759 - acc: 0.645 - ETA: 9:23 - loss: 1.9760 - acc: 0.645 - ETA: 9:18 - loss: 1.9761 - acc: 0.645 - ETA: 9:13 - loss: 1.9761 - acc: 0.645 - ETA: 9:08 - loss: 1.9761 - acc: 0.645 - ETA: 9:02 - loss: 1.9764 - acc: 0.645 - ETA: 8:57 - loss: 1.9764 - acc: 0.645 - ETA: 8:52 - loss: 1.9770 - acc: 0.645 - ETA: 8:47 - loss: 1.9768 - acc: 0.645 - ETA: 8:41 - loss: 1.9772 - acc: 0.645 - ETA: 8:36 - loss: 1.9767 - acc: 0.645 - ETA: 8:31 - loss: 1.9765 - acc: 0.645 - ETA: 8:26 - loss: 1.9765 - acc: 0.645 - ETA: 8:21 - loss: 1.9769 - acc: 0.645 - ETA: 8:15 - loss: 1.9774 - acc: 0.645 - ETA: 8:10 - loss: 1.9771 - acc: 0.645 - ETA: 8:05 - loss: 1.9766 - acc: 0.645 - ETA: 8:00 - loss: 1.9767 - acc: 0.645 - ETA: 7:55 - loss: 1.9769 - acc: 0.645 - ETA: 7:49 - loss: 1.9771 - acc: 0.645 - ETA: 7:44 - loss: 1.9773 - acc: 0.645 - ETA: 7:39 - loss: 1.9766 - acc: 0.645 - ETA: 7:34 - loss: 1.9766 - acc: 0.645 - ETA: 7:28 - loss: 1.9764 - acc: 0.645 - ETA: 7:23 - loss: 1.9766 - acc: 0.645 - ETA: 7:18 - loss: 1.9770 - acc: 0.645 - ETA: 7:13 - loss: 1.9771 - acc: 0.645 - ETA: 7:07 - loss: 1.9777 - acc: 0.645 - ETA: 7:02 - loss: 1.9783 - acc: 0.645 - ETA: 6:57 - loss: 1.9786 - acc: 0.645 - ETA: 6:52 - loss: 1.9789 - acc: 0.645 - ETA: 6:47 - loss: 1.9786 - acc: 0.645 - ETA: 6:41 - loss: 1.9784 - acc: 0.645 - ETA: 6:36 - loss: 1.9788 - acc: 0.645 - ETA: 6:31 - loss: 1.9794 - acc: 0.645 - ETA: 6:26 - loss: 1.9794 - acc: 0.645 - ETA: 6:21 - loss: 1.9791 - acc: 0.645 - ETA: 6:15 - loss: 1.9792 - acc: 0.645 - ETA: 6:10 - loss: 1.9796 - acc: 0.645 - ETA: 6:05 - loss: 1.9792 - acc: 0.645 - ETA: 6:00 - loss: 1.9794 - acc: 0.645 - ETA: 5:55 - loss: 1.9801 - acc: 0.644 - ETA: 5:49 - loss: 1.9800 - acc: 0.644 - ETA: 5:44 - loss: 1.9802 - acc: 0.644 - ETA: 5:39 - loss: 1.9802 - acc: 0.644 - ETA: 5:34 - loss: 1.9802 - acc: 0.644 - ETA: 5:29 - loss: 1.9802 - acc: 0.644 - ETA: 5:23 - loss: 1.9802 - acc: 0.644 - ETA: 5:18 - loss: 1.9803 - acc: 0.644 - ETA: 5:13 - loss: 1.9798 - acc: 0.645 - ETA: 5:08 - loss: 1.9796 - acc: 0.645 - ETA: 5:02 - loss: 1.9796 - acc: 0.645 - ETA: 4:57 - loss: 1.9795 - acc: 0.645 - ETA: 4:52 - loss: 1.9795 - acc: 0.645 - ETA: 4:47 - loss: 1.9794 - acc: 0.645 - ETA: 4:42 - loss: 1.9797 - acc: 0.645 - ETA: 4:36 - loss: 1.9799 - acc: 0.645 - ETA: 4:31 - loss: 1.9802 - acc: 0.645 - ETA: 4:26 - loss: 1.9805 - acc: 0.644 - ETA: 4:21 - loss: 1.9808 - acc: 0.644 - ETA: 4:15 - loss: 1.9814 - acc: 0.644 - ETA: 4:10 - loss: 1.9814 - acc: 0.644 - ETA: 4:05 - loss: 1.9821 - acc: 0.644 - ETA: 4:00 - loss: 1.9823 - acc: 0.644 - ETA: 3:55 - loss: 1.9820 - acc: 0.644 - ETA: 3:49 - loss: 1.9821 - acc: 0.644 - ETA: 3:44 - loss: 1.9821 - acc: 0.644 - ETA: 3:39 - loss: 1.9824 - acc: 0.644 - ETA: 3:34 - loss: 1.9827 - acc: 0.644 - ETA: 3:28 - loss: 1.9827 - acc: 0.644 - ETA: 3:23 - loss: 1.9824 - acc: 0.645 - ETA: 3:18 - loss: 1.9822 - acc: 0.645 - ETA: 3:13 - loss: 1.9823 - acc: 0.645 - ETA: 3:08 - loss: 1.9822 - acc: 0.645 - ETA: 3:02 - loss: 1.9821 - acc: 0.645 - ETA: 2:57 - loss: 1.9823 - acc: 0.645 - ETA: 2:52 - loss: 1.9825 - acc: 0.644 - ETA: 2:47 - loss: 1.9820 - acc: 0.645 - ETA: 2:41 - loss: 1.9827 - acc: 0.644 - ETA: 2:36 - loss: 1.9827 - acc: 0.644 - ETA: 2:31 - loss: 1.9827 - acc: 0.645 - ETA: 2:26 - loss: 1.9819 - acc: 0.645 - ETA: 2:21 - loss: 1.9820 - acc: 0.645 - ETA: 2:15 - loss: 1.9815 - acc: 0.645 - ETA: 2:10 - loss: 1.9818 - acc: 0.645 - ETA: 2:05 - loss: 1.9822 - acc: 0.645 - ETA: 2:00 - loss: 1.9824 - acc: 0.645 - ETA: 1:55 - loss: 1.9830 - acc: 0.644 - ETA: 1:49 - loss: 1.9834 - acc: 0.644 - ETA: 1:44 - loss: 1.9835 - acc: 0.644 - ETA: 1:39 - loss: 1.9839 - acc: 0.644 - ETA: 1:34 - loss: 1.9836 - acc: 0.644 - ETA: 1:28 - loss: 1.9837 - acc: 0.644 - ETA: 1:23 - loss: 1.9832 - acc: 0.644 - ETA: 1:18 - loss: 1.9834 - acc: 0.644 - ETA: 1:13 - loss: 1.9832 - acc: 0.644 - ETA: 1:08 - loss: 1.9836 - acc: 0.644 - ETA: 1:02 - loss: 1.9839 - acc: 0.644 - ETA: 57s - loss: 1.9841 - acc: 0.644 - ETA: 52s - loss: 1.9841 - acc: 0.64 - ETA: 47s - loss: 1.9839 - acc: 0.64 - ETA: 41s - loss: 1.9837 - acc: 0.64 - ETA: 36s - loss: 1.9838 - acc: 0.64 - ETA: 31s - loss: 1.9835 - acc: 0.64 - ETA: 26s - loss: 1.9839 - acc: 0.64 - ETA: 21s - loss: 1.9841 - acc: 0.64 - ETA: 15s - loss: 1.9842 - acc: 0.64 - ETA: 10s - loss: 1.9843 - acc: 0.64 - ETA: 5s - loss: 1.9841 - acc: 0.6449 - ETA: 0s - loss: 1.9844 - acc: 0.644 - 1730s 41ms/sample - loss: 1.9845 - acc: 0.6449\n",
      "Epoch 10/30\n"
     ]
    },
    {
     "name": "stdout",
     "output_type": "stream",
     "text": [
      "26112/42374 [=================>............] - ETA: 28:39 - loss: 1.9532 - acc: 0.66 - ETA: 28:29 - loss: 1.8867 - acc: 0.65 - ETA: 28:27 - loss: 1.8827 - acc: 0.65 - ETA: 28:26 - loss: 1.9010 - acc: 0.65 - ETA: 28:19 - loss: 1.9091 - acc: 0.65 - ETA: 28:14 - loss: 1.9197 - acc: 0.65 - ETA: 28:10 - loss: 1.9245 - acc: 0.64 - ETA: 28:02 - loss: 1.9256 - acc: 0.64 - ETA: 27:57 - loss: 1.9091 - acc: 0.65 - ETA: 27:51 - loss: 1.9016 - acc: 0.65 - ETA: 27:46 - loss: 1.8994 - acc: 0.65 - ETA: 27:40 - loss: 1.8965 - acc: 0.65 - ETA: 27:37 - loss: 1.9051 - acc: 0.65 - ETA: 27:32 - loss: 1.8983 - acc: 0.65 - ETA: 27:26 - loss: 1.8950 - acc: 0.65 - ETA: 27:21 - loss: 1.8964 - acc: 0.65 - ETA: 27:16 - loss: 1.8954 - acc: 0.65 - ETA: 27:09 - loss: 1.8964 - acc: 0.65 - ETA: 27:05 - loss: 1.8991 - acc: 0.65 - ETA: 26:59 - loss: 1.9014 - acc: 0.65 - ETA: 26:54 - loss: 1.9014 - acc: 0.65 - ETA: 26:50 - loss: 1.9113 - acc: 0.65 - ETA: 26:45 - loss: 1.9140 - acc: 0.65 - ETA: 26:41 - loss: 1.9118 - acc: 0.65 - ETA: 26:35 - loss: 1.9132 - acc: 0.65 - ETA: 26:29 - loss: 1.9149 - acc: 0.65 - ETA: 26:23 - loss: 1.9132 - acc: 0.65 - ETA: 26:18 - loss: 1.9118 - acc: 0.65 - ETA: 26:12 - loss: 1.9105 - acc: 0.65 - ETA: 26:08 - loss: 1.9129 - acc: 0.65 - ETA: 26:03 - loss: 1.9116 - acc: 0.65 - ETA: 25:57 - loss: 1.9169 - acc: 0.65 - ETA: 25:51 - loss: 1.9186 - acc: 0.65 - ETA: 25:47 - loss: 1.9146 - acc: 0.65 - ETA: 25:42 - loss: 1.9205 - acc: 0.65 - ETA: 25:37 - loss: 1.9210 - acc: 0.65 - ETA: 25:33 - loss: 1.9193 - acc: 0.65 - ETA: 25:28 - loss: 1.9155 - acc: 0.65 - ETA: 25:22 - loss: 1.9120 - acc: 0.65 - ETA: 25:18 - loss: 1.9106 - acc: 0.65 - ETA: 25:14 - loss: 1.9127 - acc: 0.65 - ETA: 25:09 - loss: 1.9123 - acc: 0.65 - ETA: 25:05 - loss: 1.9113 - acc: 0.65 - ETA: 25:00 - loss: 1.9168 - acc: 0.65 - ETA: 24:55 - loss: 1.9153 - acc: 0.65 - ETA: 24:51 - loss: 1.9171 - acc: 0.65 - ETA: 24:46 - loss: 1.9182 - acc: 0.65 - ETA: 24:40 - loss: 1.9219 - acc: 0.65 - ETA: 24:35 - loss: 1.9218 - acc: 0.65 - ETA: 24:30 - loss: 1.9220 - acc: 0.65 - ETA: 24:24 - loss: 1.9202 - acc: 0.65 - ETA: 24:19 - loss: 1.9186 - acc: 0.65 - ETA: 24:15 - loss: 1.9191 - acc: 0.65 - ETA: 24:09 - loss: 1.9185 - acc: 0.65 - ETA: 24:04 - loss: 1.9176 - acc: 0.65 - ETA: 23:59 - loss: 1.9130 - acc: 0.65 - ETA: 23:54 - loss: 1.9162 - acc: 0.65 - ETA: 23:49 - loss: 1.9133 - acc: 0.65 - ETA: 23:44 - loss: 1.9164 - acc: 0.65 - ETA: 23:38 - loss: 1.9175 - acc: 0.65 - ETA: 23:34 - loss: 1.9156 - acc: 0.65 - ETA: 23:28 - loss: 1.9168 - acc: 0.65 - ETA: 23:23 - loss: 1.9186 - acc: 0.65 - ETA: 23:18 - loss: 1.9184 - acc: 0.65 - ETA: 23:12 - loss: 1.9207 - acc: 0.65 - ETA: 23:07 - loss: 1.9218 - acc: 0.65 - ETA: 23:01 - loss: 1.9198 - acc: 0.65 - ETA: 22:56 - loss: 1.9178 - acc: 0.65 - ETA: 22:50 - loss: 1.9201 - acc: 0.65 - ETA: 22:45 - loss: 1.9183 - acc: 0.65 - ETA: 22:39 - loss: 1.9185 - acc: 0.65 - ETA: 22:34 - loss: 1.9160 - acc: 0.65 - ETA: 22:28 - loss: 1.9172 - acc: 0.65 - ETA: 22:23 - loss: 1.9173 - acc: 0.65 - ETA: 22:18 - loss: 1.9171 - acc: 0.65 - ETA: 22:13 - loss: 1.9167 - acc: 0.65 - ETA: 22:07 - loss: 1.9156 - acc: 0.65 - ETA: 22:02 - loss: 1.9163 - acc: 0.65 - ETA: 21:56 - loss: 1.9158 - acc: 0.65 - ETA: 21:51 - loss: 1.9159 - acc: 0.65 - ETA: 21:45 - loss: 1.9163 - acc: 0.65 - ETA: 21:40 - loss: 1.9167 - acc: 0.65 - ETA: 21:35 - loss: 1.9158 - acc: 0.65 - ETA: 21:30 - loss: 1.9156 - acc: 0.65 - ETA: 21:25 - loss: 1.9149 - acc: 0.65 - ETA: 21:20 - loss: 1.9132 - acc: 0.65 - ETA: 21:14 - loss: 1.9132 - acc: 0.65 - ETA: 21:09 - loss: 1.9126 - acc: 0.65 - ETA: 21:04 - loss: 1.9143 - acc: 0.65 - ETA: 20:59 - loss: 1.9150 - acc: 0.65 - ETA: 20:53 - loss: 1.9165 - acc: 0.65 - ETA: 20:48 - loss: 1.9165 - acc: 0.65 - ETA: 20:43 - loss: 1.9164 - acc: 0.65 - ETA: 20:38 - loss: 1.9173 - acc: 0.65 - ETA: 20:33 - loss: 1.9176 - acc: 0.65 - ETA: 20:28 - loss: 1.9186 - acc: 0.65 - ETA: 20:22 - loss: 1.9188 - acc: 0.65 - ETA: 20:17 - loss: 1.9201 - acc: 0.65 - ETA: 20:12 - loss: 1.9220 - acc: 0.65 - ETA: 20:07 - loss: 1.9228 - acc: 0.65 - ETA: 20:02 - loss: 1.9224 - acc: 0.65 - ETA: 19:57 - loss: 1.9213 - acc: 0.65 - ETA: 19:52 - loss: 1.9199 - acc: 0.65 - ETA: 19:47 - loss: 1.9193 - acc: 0.65 - ETA: 19:41 - loss: 1.9204 - acc: 0.65 - ETA: 19:36 - loss: 1.9207 - acc: 0.65 - ETA: 19:31 - loss: 1.9224 - acc: 0.65 - ETA: 19:26 - loss: 1.9231 - acc: 0.65 - ETA: 19:21 - loss: 1.9235 - acc: 0.65 - ETA: 19:16 - loss: 1.9233 - acc: 0.65 - ETA: 19:10 - loss: 1.9242 - acc: 0.65 - ETA: 19:05 - loss: 1.9259 - acc: 0.65 - ETA: 19:00 - loss: 1.9273 - acc: 0.65 - ETA: 18:55 - loss: 1.9283 - acc: 0.65 - ETA: 18:49 - loss: 1.9286 - acc: 0.65 - ETA: 18:44 - loss: 1.9291 - acc: 0.65 - ETA: 18:39 - loss: 1.9290 - acc: 0.65 - ETA: 18:33 - loss: 1.9296 - acc: 0.65 - ETA: 18:28 - loss: 1.9298 - acc: 0.65 - ETA: 18:23 - loss: 1.9291 - acc: 0.65 - ETA: 18:17 - loss: 1.9287 - acc: 0.65 - ETA: 18:12 - loss: 1.9301 - acc: 0.65 - ETA: 18:07 - loss: 1.9303 - acc: 0.65 - ETA: 18:01 - loss: 1.9309 - acc: 0.65 - ETA: 17:56 - loss: 1.9319 - acc: 0.64 - ETA: 17:51 - loss: 1.9330 - acc: 0.64 - ETA: 17:45 - loss: 1.9335 - acc: 0.64 - ETA: 17:40 - loss: 1.9353 - acc: 0.64 - ETA: 17:35 - loss: 1.9350 - acc: 0.64 - ETA: 17:33 - loss: 1.9366 - acc: 0.64 - ETA: 17:30 - loss: 1.9373 - acc: 0.64 - ETA: 17:26 - loss: 1.9382 - acc: 0.64 - ETA: 17:21 - loss: 1.9390 - acc: 0.64 - ETA: 17:18 - loss: 1.9368 - acc: 0.64 - ETA: 17:14 - loss: 1.9382 - acc: 0.64 - ETA: 17:10 - loss: 1.9379 - acc: 0.64 - ETA: 17:05 - loss: 1.9379 - acc: 0.64 - ETA: 16:59 - loss: 1.9370 - acc: 0.64 - ETA: 16:54 - loss: 1.9358 - acc: 0.64 - ETA: 16:49 - loss: 1.9357 - acc: 0.64 - ETA: 16:43 - loss: 1.9355 - acc: 0.64 - ETA: 16:40 - loss: 1.9352 - acc: 0.64 - ETA: 16:35 - loss: 1.9355 - acc: 0.64 - ETA: 16:30 - loss: 1.9362 - acc: 0.64 - ETA: 16:25 - loss: 1.9363 - acc: 0.64 - ETA: 16:19 - loss: 1.9365 - acc: 0.64 - ETA: 16:14 - loss: 1.9360 - acc: 0.64 - ETA: 16:09 - loss: 1.9373 - acc: 0.64 - ETA: 16:03 - loss: 1.9368 - acc: 0.64 - ETA: 15:58 - loss: 1.9358 - acc: 0.64 - ETA: 15:55 - loss: 1.9357 - acc: 0.64 - ETA: 15:54 - loss: 1.9353 - acc: 0.64 - ETA: 15:50 - loss: 1.9343 - acc: 0.64 - ETA: 15:46 - loss: 1.9347 - acc: 0.64 - ETA: 15:44 - loss: 1.9358 - acc: 0.64 - ETA: 15:42 - loss: 1.9353 - acc: 0.64 - ETA: 15:38 - loss: 1.9363 - acc: 0.64 - ETA: 15:35 - loss: 1.9355 - acc: 0.64 - ETA: 15:33 - loss: 1.9355 - acc: 0.64 - ETA: 15:30 - loss: 1.9352 - acc: 0.64 - ETA: 15:26 - loss: 1.9351 - acc: 0.64 - ETA: 15:21 - loss: 1.9354 - acc: 0.64 - ETA: 15:17 - loss: 1.9358 - acc: 0.64 - ETA: 15:14 - loss: 1.9344 - acc: 0.64 - ETA: 15:11 - loss: 1.9341 - acc: 0.64 - ETA: 15:09 - loss: 1.9337 - acc: 0.64 - ETA: 15:06 - loss: 1.9336 - acc: 0.64 - ETA: 15:03 - loss: 1.9341 - acc: 0.64 - ETA: 14:59 - loss: 1.9354 - acc: 0.64 - ETA: 14:56 - loss: 1.9352 - acc: 0.64 - ETA: 14:52 - loss: 1.9353 - acc: 0.64 - ETA: 14:47 - loss: 1.9350 - acc: 0.64 - ETA: 14:43 - loss: 1.9358 - acc: 0.64 - ETA: 14:38 - loss: 1.9352 - acc: 0.64 - ETA: 14:33 - loss: 1.9349 - acc: 0.64 - ETA: 14:28 - loss: 1.9349 - acc: 0.64 - ETA: 14:23 - loss: 1.9348 - acc: 0.64 - ETA: 14:19 - loss: 1.9359 - acc: 0.64 - ETA: 14:15 - loss: 1.9361 - acc: 0.64 - ETA: 14:12 - loss: 1.9360 - acc: 0.64 - ETA: 14:07 - loss: 1.9354 - acc: 0.64 - ETA: 14:02 - loss: 1.9358 - acc: 0.64 - ETA: 13:56 - loss: 1.9356 - acc: 0.64 - ETA: 13:51 - loss: 1.9364 - acc: 0.64 - ETA: 13:46 - loss: 1.9359 - acc: 0.64 - ETA: 13:41 - loss: 1.9358 - acc: 0.64 - ETA: 13:36 - loss: 1.9354 - acc: 0.64 - ETA: 13:32 - loss: 1.9365 - acc: 0.64 - ETA: 13:28 - loss: 1.9369 - acc: 0.64 - ETA: 13:24 - loss: 1.9376 - acc: 0.64 - ETA: 13:19 - loss: 1.9370 - acc: 0.64 - ETA: 13:16 - loss: 1.9366 - acc: 0.64 - ETA: 13:13 - loss: 1.9378 - acc: 0.64 - ETA: 13:10 - loss: 1.9371 - acc: 0.64 - ETA: 13:07 - loss: 1.9375 - acc: 0.64 - ETA: 13:04 - loss: 1.9383 - acc: 0.64 - ETA: 13:00 - loss: 1.9383 - acc: 0.64 - ETA: 12:57 - loss: 1.9385 - acc: 0.64 - ETA: 12:53 - loss: 1.9383 - acc: 0.64 - ETA: 12:49 - loss: 1.9378 - acc: 0.64 - ETA: 12:45 - loss: 1.9370 - acc: 0.64 - ETA: 12:41 - loss: 1.9369 - acc: 0.64 - ETA: 12:36 - loss: 1.9367 - acc: 0.64 - ETA: 12:31 - loss: 1.9372 - acc: 0.6489"
     ]
    },
    {
     "name": "stdout",
     "output_type": "stream",
     "text": [
      "42374/42374 [==============================] - ETA: 12:26 - loss: 1.9376 - acc: 0.64 - ETA: 12:22 - loss: 1.9375 - acc: 0.64 - ETA: 12:16 - loss: 1.9377 - acc: 0.64 - ETA: 12:12 - loss: 1.9373 - acc: 0.64 - ETA: 12:07 - loss: 1.9363 - acc: 0.64 - ETA: 12:02 - loss: 1.9348 - acc: 0.64 - ETA: 11:57 - loss: 1.9352 - acc: 0.64 - ETA: 11:52 - loss: 1.9345 - acc: 0.64 - ETA: 11:47 - loss: 1.9340 - acc: 0.64 - ETA: 11:42 - loss: 1.9336 - acc: 0.64 - ETA: 11:37 - loss: 1.9342 - acc: 0.64 - ETA: 11:32 - loss: 1.9337 - acc: 0.64 - ETA: 11:28 - loss: 1.9339 - acc: 0.64 - ETA: 11:23 - loss: 1.9333 - acc: 0.64 - ETA: 11:17 - loss: 1.9333 - acc: 0.64 - ETA: 11:11 - loss: 1.9333 - acc: 0.64 - ETA: 11:05 - loss: 1.9329 - acc: 0.64 - ETA: 11:00 - loss: 1.9330 - acc: 0.64 - ETA: 10:54 - loss: 1.9338 - acc: 0.64 - ETA: 10:48 - loss: 1.9332 - acc: 0.64 - ETA: 10:43 - loss: 1.9334 - acc: 0.64 - ETA: 10:37 - loss: 1.9343 - acc: 0.64 - ETA: 10:32 - loss: 1.9347 - acc: 0.64 - ETA: 10:26 - loss: 1.9353 - acc: 0.64 - ETA: 10:20 - loss: 1.9362 - acc: 0.64 - ETA: 10:14 - loss: 1.9364 - acc: 0.64 - ETA: 10:08 - loss: 1.9368 - acc: 0.64 - ETA: 10:03 - loss: 1.9364 - acc: 0.64 - ETA: 9:56 - loss: 1.9358 - acc: 0.6495 - ETA: 9:50 - loss: 1.9361 - acc: 0.649 - ETA: 9:44 - loss: 1.9362 - acc: 0.649 - ETA: 9:38 - loss: 1.9364 - acc: 0.649 - ETA: 9:31 - loss: 1.9364 - acc: 0.649 - ETA: 9:25 - loss: 1.9367 - acc: 0.649 - ETA: 9:19 - loss: 1.9368 - acc: 0.649 - ETA: 9:13 - loss: 1.9371 - acc: 0.649 - ETA: 9:07 - loss: 1.9373 - acc: 0.649 - ETA: 9:01 - loss: 1.9373 - acc: 0.649 - ETA: 8:55 - loss: 1.9374 - acc: 0.649 - ETA: 8:49 - loss: 1.9383 - acc: 0.649 - ETA: 8:43 - loss: 1.9393 - acc: 0.649 - ETA: 8:37 - loss: 1.9393 - acc: 0.649 - ETA: 8:31 - loss: 1.9397 - acc: 0.648 - ETA: 8:26 - loss: 1.9395 - acc: 0.649 - ETA: 8:20 - loss: 1.9391 - acc: 0.649 - ETA: 8:14 - loss: 1.9393 - acc: 0.649 - ETA: 8:08 - loss: 1.9403 - acc: 0.648 - ETA: 8:02 - loss: 1.9407 - acc: 0.648 - ETA: 7:57 - loss: 1.9405 - acc: 0.648 - ETA: 7:51 - loss: 1.9404 - acc: 0.648 - ETA: 7:45 - loss: 1.9396 - acc: 0.648 - ETA: 7:40 - loss: 1.9394 - acc: 0.648 - ETA: 7:34 - loss: 1.9392 - acc: 0.648 - ETA: 7:28 - loss: 1.9396 - acc: 0.648 - ETA: 7:23 - loss: 1.9396 - acc: 0.649 - ETA: 7:17 - loss: 1.9393 - acc: 0.649 - ETA: 7:11 - loss: 1.9395 - acc: 0.649 - ETA: 7:06 - loss: 1.9399 - acc: 0.648 - ETA: 7:00 - loss: 1.9408 - acc: 0.648 - ETA: 6:54 - loss: 1.9411 - acc: 0.648 - ETA: 6:48 - loss: 1.9414 - acc: 0.648 - ETA: 6:42 - loss: 1.9417 - acc: 0.648 - ETA: 6:37 - loss: 1.9411 - acc: 0.648 - ETA: 6:31 - loss: 1.9414 - acc: 0.648 - ETA: 6:25 - loss: 1.9414 - acc: 0.648 - ETA: 6:19 - loss: 1.9420 - acc: 0.648 - ETA: 6:13 - loss: 1.9428 - acc: 0.648 - ETA: 6:07 - loss: 1.9422 - acc: 0.648 - ETA: 6:01 - loss: 1.9420 - acc: 0.648 - ETA: 5:55 - loss: 1.9420 - acc: 0.648 - ETA: 5:49 - loss: 1.9421 - acc: 0.648 - ETA: 5:43 - loss: 1.9419 - acc: 0.648 - ETA: 5:37 - loss: 1.9421 - acc: 0.648 - ETA: 5:31 - loss: 1.9426 - acc: 0.648 - ETA: 5:25 - loss: 1.9418 - acc: 0.648 - ETA: 5:19 - loss: 1.9421 - acc: 0.648 - ETA: 5:13 - loss: 1.9419 - acc: 0.648 - ETA: 5:07 - loss: 1.9421 - acc: 0.648 - ETA: 5:01 - loss: 1.9426 - acc: 0.648 - ETA: 4:55 - loss: 1.9425 - acc: 0.648 - ETA: 4:49 - loss: 1.9425 - acc: 0.648 - ETA: 4:43 - loss: 1.9429 - acc: 0.648 - ETA: 4:37 - loss: 1.9427 - acc: 0.648 - ETA: 4:31 - loss: 1.9422 - acc: 0.648 - ETA: 4:25 - loss: 1.9418 - acc: 0.648 - ETA: 4:19 - loss: 1.9418 - acc: 0.648 - ETA: 4:13 - loss: 1.9419 - acc: 0.648 - ETA: 4:07 - loss: 1.9423 - acc: 0.648 - ETA: 4:01 - loss: 1.9422 - acc: 0.648 - ETA: 3:55 - loss: 1.9422 - acc: 0.648 - ETA: 3:49 - loss: 1.9420 - acc: 0.648 - ETA: 3:43 - loss: 1.9420 - acc: 0.648 - ETA: 3:37 - loss: 1.9422 - acc: 0.648 - ETA: 3:31 - loss: 1.9417 - acc: 0.648 - ETA: 3:25 - loss: 1.9413 - acc: 0.648 - ETA: 3:18 - loss: 1.9409 - acc: 0.648 - ETA: 3:12 - loss: 1.9411 - acc: 0.648 - ETA: 3:06 - loss: 1.9415 - acc: 0.648 - ETA: 3:00 - loss: 1.9419 - acc: 0.648 - ETA: 2:54 - loss: 1.9414 - acc: 0.648 - ETA: 2:47 - loss: 1.9419 - acc: 0.648 - ETA: 2:41 - loss: 1.9416 - acc: 0.648 - ETA: 2:35 - loss: 1.9415 - acc: 0.648 - ETA: 2:28 - loss: 1.9411 - acc: 0.648 - ETA: 2:22 - loss: 1.9414 - acc: 0.648 - ETA: 2:15 - loss: 1.9413 - acc: 0.648 - ETA: 2:09 - loss: 1.9411 - acc: 0.648 - ETA: 2:02 - loss: 1.9413 - acc: 0.648 - ETA: 1:56 - loss: 1.9413 - acc: 0.648 - ETA: 1:49 - loss: 1.9418 - acc: 0.648 - ETA: 1:43 - loss: 1.9423 - acc: 0.648 - ETA: 1:36 - loss: 1.9421 - acc: 0.648 - ETA: 1:30 - loss: 1.9421 - acc: 0.648 - ETA: 1:23 - loss: 1.9425 - acc: 0.648 - ETA: 1:17 - loss: 1.9426 - acc: 0.648 - ETA: 1:10 - loss: 1.9428 - acc: 0.648 - ETA: 1:04 - loss: 1.9425 - acc: 0.648 - ETA: 57s - loss: 1.9430 - acc: 0.648 - ETA: 51s - loss: 1.9431 - acc: 0.64 - ETA: 45s - loss: 1.9430 - acc: 0.64 - ETA: 38s - loss: 1.9431 - acc: 0.64 - ETA: 32s - loss: 1.9430 - acc: 0.64 - ETA: 25s - loss: 1.9432 - acc: 0.64 - ETA: 19s - loss: 1.9436 - acc: 0.64 - ETA: 13s - loss: 1.9439 - acc: 0.64 - ETA: 6s - loss: 1.9437 - acc: 0.6486 - ETA: 0s - loss: 1.9440 - acc: 0.648 - 2118s 50ms/sample - loss: 1.9440 - acc: 0.6485\n",
      "Epoch 11/30\n"
     ]
    },
    {
     "name": "stdout",
     "output_type": "stream",
     "text": [
      "26112/42374 [=================>............] - ETA: 31:19 - loss: 1.8520 - acc: 0.65 - ETA: 30:18 - loss: 1.8328 - acc: 0.65 - ETA: 29:55 - loss: 1.8058 - acc: 0.66 - ETA: 29:32 - loss: 1.8344 - acc: 0.65 - ETA: 29:32 - loss: 1.8730 - acc: 0.64 - ETA: 29:30 - loss: 1.8897 - acc: 0.64 - ETA: 29:33 - loss: 1.9089 - acc: 0.64 - ETA: 30:47 - loss: 1.9196 - acc: 0.64 - ETA: 31:19 - loss: 1.9322 - acc: 0.63 - ETA: 31:32 - loss: 1.9281 - acc: 0.64 - ETA: 31:17 - loss: 1.9288 - acc: 0.64 - ETA: 30:53 - loss: 1.9229 - acc: 0.64 - ETA: 30:51 - loss: 1.9265 - acc: 0.64 - ETA: 30:45 - loss: 1.9221 - acc: 0.64 - ETA: 30:42 - loss: 1.9093 - acc: 0.64 - ETA: 30:41 - loss: 1.9036 - acc: 0.64 - ETA: 30:34 - loss: 1.9031 - acc: 0.64 - ETA: 30:35 - loss: 1.8931 - acc: 0.64 - ETA: 30:28 - loss: 1.8970 - acc: 0.64 - ETA: 30:20 - loss: 1.8961 - acc: 0.64 - ETA: 30:15 - loss: 1.9035 - acc: 0.64 - ETA: 30:21 - loss: 1.8988 - acc: 0.64 - ETA: 30:28 - loss: 1.9020 - acc: 0.64 - ETA: 30:19 - loss: 1.9025 - acc: 0.64 - ETA: 30:10 - loss: 1.9069 - acc: 0.64 - ETA: 30:04 - loss: 1.9050 - acc: 0.64 - ETA: 29:57 - loss: 1.8997 - acc: 0.64 - ETA: 29:44 - loss: 1.9027 - acc: 0.64 - ETA: 29:31 - loss: 1.9038 - acc: 0.64 - ETA: 29:18 - loss: 1.9048 - acc: 0.64 - ETA: 29:07 - loss: 1.9085 - acc: 0.64 - ETA: 28:57 - loss: 1.9045 - acc: 0.64 - ETA: 28:45 - loss: 1.9039 - acc: 0.64 - ETA: 28:35 - loss: 1.9032 - acc: 0.64 - ETA: 28:25 - loss: 1.9087 - acc: 0.64 - ETA: 28:16 - loss: 1.9102 - acc: 0.64 - ETA: 28:06 - loss: 1.9162 - acc: 0.64 - ETA: 27:58 - loss: 1.9168 - acc: 0.64 - ETA: 27:48 - loss: 1.9147 - acc: 0.64 - ETA: 27:39 - loss: 1.9145 - acc: 0.64 - ETA: 27:31 - loss: 1.9113 - acc: 0.64 - ETA: 27:23 - loss: 1.9095 - acc: 0.64 - ETA: 27:13 - loss: 1.9070 - acc: 0.64 - ETA: 27:05 - loss: 1.9079 - acc: 0.64 - ETA: 26:57 - loss: 1.9081 - acc: 0.64 - ETA: 26:49 - loss: 1.9072 - acc: 0.64 - ETA: 26:40 - loss: 1.9091 - acc: 0.64 - ETA: 26:32 - loss: 1.9080 - acc: 0.64 - ETA: 26:25 - loss: 1.9103 - acc: 0.64 - ETA: 26:16 - loss: 1.9086 - acc: 0.64 - ETA: 26:09 - loss: 1.9030 - acc: 0.64 - ETA: 26:01 - loss: 1.9037 - acc: 0.64 - ETA: 25:53 - loss: 1.9022 - acc: 0.64 - ETA: 25:45 - loss: 1.9009 - acc: 0.64 - ETA: 25:38 - loss: 1.9012 - acc: 0.64 - ETA: 25:31 - loss: 1.9003 - acc: 0.64 - ETA: 25:24 - loss: 1.8988 - acc: 0.64 - ETA: 25:17 - loss: 1.8977 - acc: 0.64 - ETA: 25:09 - loss: 1.8970 - acc: 0.64 - ETA: 25:02 - loss: 1.9003 - acc: 0.64 - ETA: 24:55 - loss: 1.9022 - acc: 0.64 - ETA: 24:48 - loss: 1.9017 - acc: 0.64 - ETA: 24:41 - loss: 1.9013 - acc: 0.64 - ETA: 24:34 - loss: 1.8994 - acc: 0.64 - ETA: 24:27 - loss: 1.8994 - acc: 0.64 - ETA: 24:21 - loss: 1.8999 - acc: 0.64 - ETA: 24:14 - loss: 1.8995 - acc: 0.64 - ETA: 24:07 - loss: 1.8968 - acc: 0.65 - ETA: 24:01 - loss: 1.8982 - acc: 0.64 - ETA: 23:55 - loss: 1.8974 - acc: 0.65 - ETA: 23:48 - loss: 1.8996 - acc: 0.64 - ETA: 23:42 - loss: 1.8998 - acc: 0.64 - ETA: 23:35 - loss: 1.8993 - acc: 0.64 - ETA: 23:29 - loss: 1.8980 - acc: 0.65 - ETA: 23:23 - loss: 1.8962 - acc: 0.65 - ETA: 23:17 - loss: 1.8952 - acc: 0.65 - ETA: 23:12 - loss: 1.8956 - acc: 0.65 - ETA: 23:06 - loss: 1.8945 - acc: 0.65 - ETA: 22:59 - loss: 1.8930 - acc: 0.65 - ETA: 22:53 - loss: 1.8942 - acc: 0.65 - ETA: 22:47 - loss: 1.8927 - acc: 0.65 - ETA: 22:41 - loss: 1.8925 - acc: 0.65 - ETA: 22:35 - loss: 1.8914 - acc: 0.65 - ETA: 22:32 - loss: 1.8915 - acc: 0.65 - ETA: 22:29 - loss: 1.8917 - acc: 0.65 - ETA: 22:29 - loss: 1.8920 - acc: 0.65 - ETA: 22:28 - loss: 1.8912 - acc: 0.65 - ETA: 22:23 - loss: 1.8929 - acc: 0.65 - ETA: 22:18 - loss: 1.8923 - acc: 0.65 - ETA: 22:13 - loss: 1.8906 - acc: 0.65 - ETA: 22:08 - loss: 1.8902 - acc: 0.65 - ETA: 22:02 - loss: 1.8912 - acc: 0.65 - ETA: 21:57 - loss: 1.8901 - acc: 0.65 - ETA: 21:52 - loss: 1.8893 - acc: 0.65 - ETA: 21:46 - loss: 1.8883 - acc: 0.65 - ETA: 21:40 - loss: 1.8876 - acc: 0.65 - ETA: 21:35 - loss: 1.8871 - acc: 0.65 - ETA: 21:29 - loss: 1.8860 - acc: 0.65 - ETA: 21:24 - loss: 1.8862 - acc: 0.65 - ETA: 21:18 - loss: 1.8880 - acc: 0.65 - ETA: 21:13 - loss: 1.8874 - acc: 0.65 - ETA: 21:07 - loss: 1.8858 - acc: 0.65 - ETA: 21:01 - loss: 1.8859 - acc: 0.65 - ETA: 20:56 - loss: 1.8864 - acc: 0.65 - ETA: 20:50 - loss: 1.8877 - acc: 0.65 - ETA: 20:45 - loss: 1.8885 - acc: 0.65 - ETA: 20:39 - loss: 1.8882 - acc: 0.65 - ETA: 20:33 - loss: 1.8900 - acc: 0.65 - ETA: 20:27 - loss: 1.8892 - acc: 0.65 - ETA: 20:22 - loss: 1.8887 - acc: 0.65 - ETA: 20:17 - loss: 1.8878 - acc: 0.65 - ETA: 20:12 - loss: 1.8868 - acc: 0.65 - ETA: 20:07 - loss: 1.8853 - acc: 0.65 - ETA: 20:01 - loss: 1.8851 - acc: 0.65 - ETA: 19:55 - loss: 1.8846 - acc: 0.65 - ETA: 19:49 - loss: 1.8848 - acc: 0.65 - ETA: 19:44 - loss: 1.8856 - acc: 0.65 - ETA: 19:39 - loss: 1.8865 - acc: 0.65 - ETA: 19:35 - loss: 1.8864 - acc: 0.65 - ETA: 19:31 - loss: 1.8863 - acc: 0.65 - ETA: 19:26 - loss: 1.8864 - acc: 0.65 - ETA: 19:22 - loss: 1.8869 - acc: 0.65 - ETA: 19:18 - loss: 1.8874 - acc: 0.65 - ETA: 19:12 - loss: 1.8879 - acc: 0.65 - ETA: 19:07 - loss: 1.8893 - acc: 0.65 - ETA: 19:03 - loss: 1.8897 - acc: 0.65 - ETA: 18:58 - loss: 1.8911 - acc: 0.65 - ETA: 18:54 - loss: 1.8907 - acc: 0.65 - ETA: 18:50 - loss: 1.8914 - acc: 0.65 - ETA: 18:45 - loss: 1.8922 - acc: 0.65 - ETA: 18:39 - loss: 1.8916 - acc: 0.65 - ETA: 18:34 - loss: 1.8915 - acc: 0.65 - ETA: 18:29 - loss: 1.8916 - acc: 0.65 - ETA: 18:23 - loss: 1.8926 - acc: 0.65 - ETA: 18:17 - loss: 1.8933 - acc: 0.65 - ETA: 18:11 - loss: 1.8930 - acc: 0.65 - ETA: 18:07 - loss: 1.8942 - acc: 0.65 - ETA: 18:02 - loss: 1.8939 - acc: 0.65 - ETA: 17:57 - loss: 1.8932 - acc: 0.65 - ETA: 17:52 - loss: 1.8931 - acc: 0.65 - ETA: 17:46 - loss: 1.8925 - acc: 0.65 - ETA: 17:41 - loss: 1.8940 - acc: 0.65 - ETA: 17:35 - loss: 1.8930 - acc: 0.65 - ETA: 17:29 - loss: 1.8927 - acc: 0.65 - ETA: 17:24 - loss: 1.8918 - acc: 0.65 - ETA: 17:20 - loss: 1.8901 - acc: 0.65 - ETA: 17:16 - loss: 1.8900 - acc: 0.65 - ETA: 17:11 - loss: 1.8902 - acc: 0.65 - ETA: 17:06 - loss: 1.8906 - acc: 0.65 - ETA: 17:01 - loss: 1.8905 - acc: 0.65 - ETA: 16:56 - loss: 1.8906 - acc: 0.65 - ETA: 16:51 - loss: 1.8905 - acc: 0.65 - ETA: 16:46 - loss: 1.8909 - acc: 0.65 - ETA: 16:41 - loss: 1.8921 - acc: 0.65 - ETA: 16:36 - loss: 1.8919 - acc: 0.65 - ETA: 16:31 - loss: 1.8929 - acc: 0.65 - ETA: 16:25 - loss: 1.8934 - acc: 0.65 - ETA: 16:20 - loss: 1.8946 - acc: 0.65 - ETA: 16:15 - loss: 1.8946 - acc: 0.65 - ETA: 16:10 - loss: 1.8941 - acc: 0.65 - ETA: 16:04 - loss: 1.8947 - acc: 0.65 - ETA: 15:59 - loss: 1.8946 - acc: 0.65 - ETA: 15:53 - loss: 1.8948 - acc: 0.65 - ETA: 15:47 - loss: 1.8946 - acc: 0.65 - ETA: 15:42 - loss: 1.8945 - acc: 0.65 - ETA: 15:37 - loss: 1.8932 - acc: 0.65 - ETA: 15:32 - loss: 1.8927 - acc: 0.65 - ETA: 15:27 - loss: 1.8931 - acc: 0.65 - ETA: 15:22 - loss: 1.8932 - acc: 0.65 - ETA: 15:18 - loss: 1.8928 - acc: 0.65 - ETA: 15:13 - loss: 1.8916 - acc: 0.65 - ETA: 15:07 - loss: 1.8915 - acc: 0.65 - ETA: 15:02 - loss: 1.8914 - acc: 0.65 - ETA: 14:57 - loss: 1.8916 - acc: 0.65 - ETA: 14:51 - loss: 1.8928 - acc: 0.65 - ETA: 14:46 - loss: 1.8937 - acc: 0.65 - ETA: 14:40 - loss: 1.8932 - acc: 0.65 - ETA: 14:34 - loss: 1.8934 - acc: 0.65 - ETA: 14:29 - loss: 1.8927 - acc: 0.65 - ETA: 14:23 - loss: 1.8930 - acc: 0.65 - ETA: 14:17 - loss: 1.8940 - acc: 0.65 - ETA: 14:12 - loss: 1.8940 - acc: 0.65 - ETA: 14:07 - loss: 1.8944 - acc: 0.65 - ETA: 14:02 - loss: 1.8940 - acc: 0.65 - ETA: 13:58 - loss: 1.8951 - acc: 0.65 - ETA: 13:52 - loss: 1.8940 - acc: 0.65 - ETA: 13:47 - loss: 1.8934 - acc: 0.65 - ETA: 13:41 - loss: 1.8932 - acc: 0.65 - ETA: 13:36 - loss: 1.8927 - acc: 0.65 - ETA: 13:31 - loss: 1.8926 - acc: 0.65 - ETA: 13:25 - loss: 1.8928 - acc: 0.65 - ETA: 13:20 - loss: 1.8931 - acc: 0.65 - ETA: 13:14 - loss: 1.8937 - acc: 0.65 - ETA: 13:09 - loss: 1.8940 - acc: 0.65 - ETA: 13:04 - loss: 1.8946 - acc: 0.65 - ETA: 12:58 - loss: 1.8948 - acc: 0.65 - ETA: 12:53 - loss: 1.8943 - acc: 0.65 - ETA: 12:48 - loss: 1.8950 - acc: 0.65 - ETA: 12:42 - loss: 1.8954 - acc: 0.65 - ETA: 12:37 - loss: 1.8949 - acc: 0.65 - ETA: 12:31 - loss: 1.8948 - acc: 0.65 - ETA: 12:25 - loss: 1.8953 - acc: 0.65 - ETA: 12:19 - loss: 1.8946 - acc: 0.65 - ETA: 12:14 - loss: 1.8949 - acc: 0.6524"
     ]
    },
    {
     "name": "stdout",
     "output_type": "stream",
     "text": [
      "42374/42374 [==============================] - ETA: 12:08 - loss: 1.8959 - acc: 0.65 - ETA: 12:02 - loss: 1.8958 - acc: 0.65 - ETA: 11:56 - loss: 1.8965 - acc: 0.65 - ETA: 11:50 - loss: 1.8970 - acc: 0.65 - ETA: 11:44 - loss: 1.8971 - acc: 0.65 - ETA: 11:39 - loss: 1.8973 - acc: 0.65 - ETA: 11:33 - loss: 1.8977 - acc: 0.65 - ETA: 11:27 - loss: 1.8973 - acc: 0.65 - ETA: 11:22 - loss: 1.8984 - acc: 0.65 - ETA: 11:16 - loss: 1.8987 - acc: 0.65 - ETA: 11:10 - loss: 1.8986 - acc: 0.65 - ETA: 11:05 - loss: 1.8986 - acc: 0.65 - ETA: 10:59 - loss: 1.8983 - acc: 0.65 - ETA: 10:53 - loss: 1.8979 - acc: 0.65 - ETA: 10:47 - loss: 1.8978 - acc: 0.65 - ETA: 10:41 - loss: 1.8979 - acc: 0.65 - ETA: 10:35 - loss: 1.8981 - acc: 0.65 - ETA: 10:30 - loss: 1.8980 - acc: 0.65 - ETA: 10:24 - loss: 1.8976 - acc: 0.65 - ETA: 10:18 - loss: 1.8979 - acc: 0.65 - ETA: 10:13 - loss: 1.8986 - acc: 0.65 - ETA: 10:07 - loss: 1.8988 - acc: 0.65 - ETA: 10:01 - loss: 1.8998 - acc: 0.65 - ETA: 9:56 - loss: 1.9002 - acc: 0.6522 - ETA: 9:50 - loss: 1.9002 - acc: 0.652 - ETA: 9:44 - loss: 1.9004 - acc: 0.652 - ETA: 9:38 - loss: 1.8992 - acc: 0.652 - ETA: 9:33 - loss: 1.8991 - acc: 0.652 - ETA: 9:27 - loss: 1.8986 - acc: 0.652 - ETA: 9:22 - loss: 1.8983 - acc: 0.652 - ETA: 9:18 - loss: 1.8991 - acc: 0.652 - ETA: 9:13 - loss: 1.8991 - acc: 0.652 - ETA: 9:07 - loss: 1.8992 - acc: 0.652 - ETA: 9:02 - loss: 1.8991 - acc: 0.652 - ETA: 8:57 - loss: 1.8991 - acc: 0.652 - ETA: 8:52 - loss: 1.8989 - acc: 0.652 - ETA: 8:47 - loss: 1.8989 - acc: 0.652 - ETA: 8:42 - loss: 1.8998 - acc: 0.652 - ETA: 8:37 - loss: 1.9002 - acc: 0.652 - ETA: 8:32 - loss: 1.9005 - acc: 0.652 - ETA: 8:26 - loss: 1.9001 - acc: 0.652 - ETA: 8:21 - loss: 1.9003 - acc: 0.652 - ETA: 8:16 - loss: 1.9009 - acc: 0.652 - ETA: 8:11 - loss: 1.9002 - acc: 0.652 - ETA: 8:06 - loss: 1.9010 - acc: 0.652 - ETA: 8:01 - loss: 1.9008 - acc: 0.652 - ETA: 7:56 - loss: 1.9007 - acc: 0.652 - ETA: 7:51 - loss: 1.9013 - acc: 0.652 - ETA: 7:45 - loss: 1.9013 - acc: 0.652 - ETA: 7:39 - loss: 1.9012 - acc: 0.652 - ETA: 7:33 - loss: 1.9016 - acc: 0.652 - ETA: 7:27 - loss: 1.9016 - acc: 0.652 - ETA: 7:22 - loss: 1.9018 - acc: 0.652 - ETA: 7:16 - loss: 1.9018 - acc: 0.652 - ETA: 7:11 - loss: 1.9023 - acc: 0.652 - ETA: 7:05 - loss: 1.9031 - acc: 0.652 - ETA: 7:00 - loss: 1.9033 - acc: 0.651 - ETA: 6:54 - loss: 1.9031 - acc: 0.651 - ETA: 6:48 - loss: 1.9032 - acc: 0.651 - ETA: 6:43 - loss: 1.9034 - acc: 0.651 - ETA: 6:37 - loss: 1.9035 - acc: 0.651 - ETA: 6:32 - loss: 1.9029 - acc: 0.652 - ETA: 6:26 - loss: 1.9028 - acc: 0.652 - ETA: 6:21 - loss: 1.9032 - acc: 0.651 - ETA: 6:17 - loss: 1.9036 - acc: 0.651 - ETA: 6:11 - loss: 1.9038 - acc: 0.651 - ETA: 6:05 - loss: 1.9034 - acc: 0.652 - ETA: 5:59 - loss: 1.9040 - acc: 0.651 - ETA: 5:53 - loss: 1.9039 - acc: 0.651 - ETA: 5:47 - loss: 1.9036 - acc: 0.651 - ETA: 5:41 - loss: 1.9036 - acc: 0.651 - ETA: 5:35 - loss: 1.9037 - acc: 0.651 - ETA: 5:28 - loss: 1.9036 - acc: 0.651 - ETA: 5:22 - loss: 1.9036 - acc: 0.651 - ETA: 5:16 - loss: 1.9037 - acc: 0.651 - ETA: 5:10 - loss: 1.9043 - acc: 0.651 - ETA: 5:04 - loss: 1.9047 - acc: 0.651 - ETA: 4:59 - loss: 1.9046 - acc: 0.651 - ETA: 4:53 - loss: 1.9053 - acc: 0.651 - ETA: 4:47 - loss: 1.9049 - acc: 0.651 - ETA: 4:41 - loss: 1.9050 - acc: 0.651 - ETA: 4:35 - loss: 1.9054 - acc: 0.651 - ETA: 4:29 - loss: 1.9059 - acc: 0.651 - ETA: 4:23 - loss: 1.9062 - acc: 0.651 - ETA: 4:17 - loss: 1.9065 - acc: 0.651 - ETA: 4:11 - loss: 1.9061 - acc: 0.651 - ETA: 4:04 - loss: 1.9064 - acc: 0.651 - ETA: 3:58 - loss: 1.9066 - acc: 0.651 - ETA: 3:52 - loss: 1.9066 - acc: 0.651 - ETA: 3:46 - loss: 1.9071 - acc: 0.651 - ETA: 3:40 - loss: 1.9076 - acc: 0.651 - ETA: 3:33 - loss: 1.9080 - acc: 0.651 - ETA: 3:27 - loss: 1.9080 - acc: 0.651 - ETA: 3:21 - loss: 1.9079 - acc: 0.651 - ETA: 3:15 - loss: 1.9077 - acc: 0.651 - ETA: 3:09 - loss: 1.9077 - acc: 0.651 - ETA: 3:03 - loss: 1.9075 - acc: 0.651 - ETA: 2:56 - loss: 1.9077 - acc: 0.651 - ETA: 2:50 - loss: 1.9080 - acc: 0.651 - ETA: 2:44 - loss: 1.9082 - acc: 0.651 - ETA: 2:38 - loss: 1.9082 - acc: 0.651 - ETA: 2:32 - loss: 1.9079 - acc: 0.651 - ETA: 2:26 - loss: 1.9084 - acc: 0.651 - ETA: 2:20 - loss: 1.9086 - acc: 0.651 - ETA: 2:14 - loss: 1.9091 - acc: 0.651 - ETA: 2:08 - loss: 1.9093 - acc: 0.651 - ETA: 2:02 - loss: 1.9094 - acc: 0.651 - ETA: 1:56 - loss: 1.9092 - acc: 0.651 - ETA: 1:50 - loss: 1.9098 - acc: 0.651 - ETA: 1:44 - loss: 1.9095 - acc: 0.651 - ETA: 1:38 - loss: 1.9096 - acc: 0.651 - ETA: 1:32 - loss: 1.9093 - acc: 0.651 - ETA: 1:26 - loss: 1.9093 - acc: 0.651 - ETA: 1:19 - loss: 1.9096 - acc: 0.651 - ETA: 1:13 - loss: 1.9099 - acc: 0.651 - ETA: 1:07 - loss: 1.9100 - acc: 0.651 - ETA: 1:01 - loss: 1.9095 - acc: 0.651 - ETA: 55s - loss: 1.9094 - acc: 0.651 - ETA: 49s - loss: 1.9094 - acc: 0.65 - ETA: 43s - loss: 1.9096 - acc: 0.65 - ETA: 37s - loss: 1.9098 - acc: 0.65 - ETA: 31s - loss: 1.9098 - acc: 0.65 - ETA: 24s - loss: 1.9097 - acc: 0.65 - ETA: 18s - loss: 1.9101 - acc: 0.65 - ETA: 12s - loss: 1.9096 - acc: 0.65 - ETA: 6s - loss: 1.9098 - acc: 0.6514 - ETA: 0s - loss: 1.9098 - acc: 0.651 - 2055s 48ms/sample - loss: 1.9097 - acc: 0.6515\n",
      "Epoch 12/30\n"
     ]
    },
    {
     "name": "stdout",
     "output_type": "stream",
     "text": [
      "26112/42374 [=================>............] - ETA: 43:15 - loss: 1.8209 - acc: 0.65 - ETA: 42:19 - loss: 1.7928 - acc: 0.66 - ETA: 42:35 - loss: 1.8371 - acc: 0.65 - ETA: 42:05 - loss: 1.8637 - acc: 0.65 - ETA: 41:53 - loss: 1.8424 - acc: 0.65 - ETA: 41:36 - loss: 1.8335 - acc: 0.65 - ETA: 41:38 - loss: 1.8281 - acc: 0.66 - ETA: 41:23 - loss: 1.8424 - acc: 0.65 - ETA: 41:22 - loss: 1.8544 - acc: 0.65 - ETA: 41:10 - loss: 1.8437 - acc: 0.65 - ETA: 41:01 - loss: 1.8647 - acc: 0.65 - ETA: 40:46 - loss: 1.8549 - acc: 0.65 - ETA: 40:46 - loss: 1.8417 - acc: 0.65 - ETA: 40:47 - loss: 1.8342 - acc: 0.65 - ETA: 40:49 - loss: 1.8413 - acc: 0.65 - ETA: 40:42 - loss: 1.8299 - acc: 0.65 - ETA: 40:42 - loss: 1.8294 - acc: 0.65 - ETA: 40:34 - loss: 1.8332 - acc: 0.65 - ETA: 40:30 - loss: 1.8327 - acc: 0.65 - ETA: 40:23 - loss: 1.8247 - acc: 0.65 - ETA: 40:15 - loss: 1.8268 - acc: 0.65 - ETA: 40:09 - loss: 1.8262 - acc: 0.65 - ETA: 39:59 - loss: 1.8211 - acc: 0.65 - ETA: 39:51 - loss: 1.8216 - acc: 0.65 - ETA: 39:42 - loss: 1.8250 - acc: 0.65 - ETA: 39:34 - loss: 1.8228 - acc: 0.65 - ETA: 39:24 - loss: 1.8252 - acc: 0.65 - ETA: 39:22 - loss: 1.8195 - acc: 0.66 - ETA: 39:22 - loss: 1.8163 - acc: 0.66 - ETA: 39:16 - loss: 1.8169 - acc: 0.66 - ETA: 39:03 - loss: 1.8228 - acc: 0.65 - ETA: 38:49 - loss: 1.8237 - acc: 0.65 - ETA: 38:34 - loss: 1.8228 - acc: 0.65 - ETA: 38:19 - loss: 1.8228 - acc: 0.65 - ETA: 38:05 - loss: 1.8234 - acc: 0.65 - ETA: 37:55 - loss: 1.8255 - acc: 0.65 - ETA: 37:44 - loss: 1.8261 - acc: 0.65 - ETA: 37:34 - loss: 1.8289 - acc: 0.65 - ETA: 37:22 - loss: 1.8282 - acc: 0.65 - ETA: 37:09 - loss: 1.8288 - acc: 0.65 - ETA: 36:58 - loss: 1.8332 - acc: 0.65 - ETA: 36:47 - loss: 1.8374 - acc: 0.65 - ETA: 36:36 - loss: 1.8396 - acc: 0.65 - ETA: 36:24 - loss: 1.8437 - acc: 0.65 - ETA: 36:13 - loss: 1.8452 - acc: 0.65 - ETA: 36:02 - loss: 1.8483 - acc: 0.65 - ETA: 35:52 - loss: 1.8504 - acc: 0.65 - ETA: 35:41 - loss: 1.8505 - acc: 0.65 - ETA: 35:31 - loss: 1.8492 - acc: 0.65 - ETA: 35:21 - loss: 1.8515 - acc: 0.65 - ETA: 35:10 - loss: 1.8503 - acc: 0.65 - ETA: 35:00 - loss: 1.8488 - acc: 0.65 - ETA: 34:49 - loss: 1.8485 - acc: 0.65 - ETA: 34:40 - loss: 1.8466 - acc: 0.65 - ETA: 34:31 - loss: 1.8497 - acc: 0.65 - ETA: 34:22 - loss: 1.8492 - acc: 0.65 - ETA: 34:13 - loss: 1.8504 - acc: 0.65 - ETA: 34:04 - loss: 1.8517 - acc: 0.65 - ETA: 33:58 - loss: 1.8515 - acc: 0.65 - ETA: 33:51 - loss: 1.8508 - acc: 0.65 - ETA: 33:43 - loss: 1.8530 - acc: 0.65 - ETA: 33:36 - loss: 1.8532 - acc: 0.65 - ETA: 33:31 - loss: 1.8560 - acc: 0.65 - ETA: 33:24 - loss: 1.8572 - acc: 0.65 - ETA: 33:18 - loss: 1.8587 - acc: 0.65 - ETA: 33:12 - loss: 1.8601 - acc: 0.65 - ETA: 33:07 - loss: 1.8599 - acc: 0.65 - ETA: 33:00 - loss: 1.8572 - acc: 0.65 - ETA: 32:54 - loss: 1.8586 - acc: 0.65 - ETA: 32:46 - loss: 1.8590 - acc: 0.65 - ETA: 32:40 - loss: 1.8571 - acc: 0.65 - ETA: 32:33 - loss: 1.8571 - acc: 0.65 - ETA: 32:27 - loss: 1.8578 - acc: 0.65 - ETA: 32:19 - loss: 1.8573 - acc: 0.65 - ETA: 32:13 - loss: 1.8560 - acc: 0.65 - ETA: 32:06 - loss: 1.8555 - acc: 0.65 - ETA: 31:59 - loss: 1.8536 - acc: 0.65 - ETA: 31:52 - loss: 1.8550 - acc: 0.65 - ETA: 31:46 - loss: 1.8543 - acc: 0.65 - ETA: 31:38 - loss: 1.8539 - acc: 0.65 - ETA: 31:32 - loss: 1.8552 - acc: 0.65 - ETA: 31:25 - loss: 1.8545 - acc: 0.65 - ETA: 31:19 - loss: 1.8566 - acc: 0.65 - ETA: 31:11 - loss: 1.8562 - acc: 0.65 - ETA: 31:04 - loss: 1.8579 - acc: 0.65 - ETA: 30:57 - loss: 1.8589 - acc: 0.65 - ETA: 30:50 - loss: 1.8578 - acc: 0.65 - ETA: 30:43 - loss: 1.8572 - acc: 0.65 - ETA: 30:35 - loss: 1.8567 - acc: 0.65 - ETA: 30:28 - loss: 1.8563 - acc: 0.65 - ETA: 30:20 - loss: 1.8558 - acc: 0.65 - ETA: 30:14 - loss: 1.8559 - acc: 0.65 - ETA: 30:07 - loss: 1.8548 - acc: 0.65 - ETA: 30:01 - loss: 1.8547 - acc: 0.65 - ETA: 29:56 - loss: 1.8565 - acc: 0.65 - ETA: 29:50 - loss: 1.8557 - acc: 0.65 - ETA: 29:44 - loss: 1.8550 - acc: 0.65 - ETA: 29:37 - loss: 1.8525 - acc: 0.65 - ETA: 29:30 - loss: 1.8536 - acc: 0.65 - ETA: 29:23 - loss: 1.8550 - acc: 0.65 - ETA: 29:15 - loss: 1.8568 - acc: 0.65 - ETA: 29:09 - loss: 1.8574 - acc: 0.65 - ETA: 29:02 - loss: 1.8568 - acc: 0.65 - ETA: 28:56 - loss: 1.8564 - acc: 0.65 - ETA: 28:48 - loss: 1.8569 - acc: 0.65 - ETA: 28:41 - loss: 1.8574 - acc: 0.65 - ETA: 28:34 - loss: 1.8576 - acc: 0.65 - ETA: 28:26 - loss: 1.8586 - acc: 0.65 - ETA: 28:18 - loss: 1.8584 - acc: 0.65 - ETA: 28:11 - loss: 1.8578 - acc: 0.65 - ETA: 28:04 - loss: 1.8574 - acc: 0.65 - ETA: 27:57 - loss: 1.8579 - acc: 0.65 - ETA: 27:50 - loss: 1.8577 - acc: 0.65 - ETA: 27:42 - loss: 1.8581 - acc: 0.65 - ETA: 27:35 - loss: 1.8593 - acc: 0.65 - ETA: 27:27 - loss: 1.8588 - acc: 0.65 - ETA: 27:19 - loss: 1.8590 - acc: 0.65 - ETA: 27:12 - loss: 1.8595 - acc: 0.65 - ETA: 27:04 - loss: 1.8603 - acc: 0.65 - ETA: 26:57 - loss: 1.8601 - acc: 0.65 - ETA: 26:49 - loss: 1.8595 - acc: 0.65 - ETA: 26:41 - loss: 1.8594 - acc: 0.65 - ETA: 26:34 - loss: 1.8595 - acc: 0.65 - ETA: 26:26 - loss: 1.8593 - acc: 0.65 - ETA: 26:19 - loss: 1.8586 - acc: 0.65 - ETA: 26:12 - loss: 1.8583 - acc: 0.65 - ETA: 26:05 - loss: 1.8576 - acc: 0.65 - ETA: 25:57 - loss: 1.8569 - acc: 0.65 - ETA: 25:50 - loss: 1.8553 - acc: 0.65 - ETA: 25:43 - loss: 1.8560 - acc: 0.65 - ETA: 25:35 - loss: 1.8557 - acc: 0.65 - ETA: 25:28 - loss: 1.8565 - acc: 0.65 - ETA: 25:19 - loss: 1.8562 - acc: 0.65 - ETA: 25:12 - loss: 1.8566 - acc: 0.65 - ETA: 25:03 - loss: 1.8560 - acc: 0.65 - ETA: 24:55 - loss: 1.8560 - acc: 0.65 - ETA: 24:46 - loss: 1.8562 - acc: 0.65 - ETA: 24:38 - loss: 1.8559 - acc: 0.65 - ETA: 24:30 - loss: 1.8566 - acc: 0.65 - ETA: 24:23 - loss: 1.8572 - acc: 0.65 - ETA: 24:18 - loss: 1.8591 - acc: 0.65 - ETA: 24:12 - loss: 1.8600 - acc: 0.65 - ETA: 24:05 - loss: 1.8597 - acc: 0.65 - ETA: 23:59 - loss: 1.8600 - acc: 0.65 - ETA: 23:54 - loss: 1.8586 - acc: 0.65 - ETA: 23:48 - loss: 1.8591 - acc: 0.65 - ETA: 23:42 - loss: 1.8583 - acc: 0.65 - ETA: 23:36 - loss: 1.8582 - acc: 0.65 - ETA: 23:30 - loss: 1.8590 - acc: 0.65 - ETA: 23:24 - loss: 1.8590 - acc: 0.65 - ETA: 23:17 - loss: 1.8600 - acc: 0.65 - ETA: 23:11 - loss: 1.8601 - acc: 0.65 - ETA: 23:04 - loss: 1.8595 - acc: 0.65 - ETA: 22:59 - loss: 1.8595 - acc: 0.65 - ETA: 22:52 - loss: 1.8586 - acc: 0.65 - ETA: 22:46 - loss: 1.8586 - acc: 0.65 - ETA: 22:39 - loss: 1.8582 - acc: 0.65 - ETA: 22:33 - loss: 1.8582 - acc: 0.65 - ETA: 22:26 - loss: 1.8582 - acc: 0.65 - ETA: 22:19 - loss: 1.8588 - acc: 0.65 - ETA: 22:13 - loss: 1.8588 - acc: 0.65 - ETA: 22:06 - loss: 1.8586 - acc: 0.65 - ETA: 21:59 - loss: 1.8585 - acc: 0.65 - ETA: 21:53 - loss: 1.8581 - acc: 0.65 - ETA: 21:46 - loss: 1.8580 - acc: 0.65 - ETA: 21:40 - loss: 1.8579 - acc: 0.65 - ETA: 21:33 - loss: 1.8573 - acc: 0.65 - ETA: 21:26 - loss: 1.8569 - acc: 0.65 - ETA: 21:20 - loss: 1.8571 - acc: 0.65 - ETA: 21:13 - loss: 1.8576 - acc: 0.65 - ETA: 21:05 - loss: 1.8579 - acc: 0.65 - ETA: 20:57 - loss: 1.8574 - acc: 0.65 - ETA: 20:49 - loss: 1.8573 - acc: 0.65 - ETA: 20:42 - loss: 1.8581 - acc: 0.65 - ETA: 20:36 - loss: 1.8586 - acc: 0.65 - ETA: 20:29 - loss: 1.8581 - acc: 0.65 - ETA: 20:22 - loss: 1.8581 - acc: 0.65 - ETA: 20:15 - loss: 1.8583 - acc: 0.65 - ETA: 20:09 - loss: 1.8578 - acc: 0.65 - ETA: 20:01 - loss: 1.8582 - acc: 0.65 - ETA: 19:53 - loss: 1.8577 - acc: 0.65 - ETA: 19:44 - loss: 1.8591 - acc: 0.65 - ETA: 19:36 - loss: 1.8605 - acc: 0.65 - ETA: 19:29 - loss: 1.8604 - acc: 0.65 - ETA: 19:20 - loss: 1.8591 - acc: 0.65 - ETA: 19:12 - loss: 1.8596 - acc: 0.65 - ETA: 19:04 - loss: 1.8595 - acc: 0.65 - ETA: 18:56 - loss: 1.8600 - acc: 0.65 - ETA: 18:48 - loss: 1.8605 - acc: 0.65 - ETA: 18:40 - loss: 1.8607 - acc: 0.65 - ETA: 18:32 - loss: 1.8606 - acc: 0.65 - ETA: 18:24 - loss: 1.8610 - acc: 0.65 - ETA: 18:15 - loss: 1.8614 - acc: 0.65 - ETA: 18:07 - loss: 1.8617 - acc: 0.65 - ETA: 17:59 - loss: 1.8616 - acc: 0.65 - ETA: 17:51 - loss: 1.8611 - acc: 0.65 - ETA: 17:43 - loss: 1.8616 - acc: 0.65 - ETA: 17:35 - loss: 1.8616 - acc: 0.65 - ETA: 17:27 - loss: 1.8630 - acc: 0.65 - ETA: 17:19 - loss: 1.8636 - acc: 0.65 - ETA: 17:11 - loss: 1.8634 - acc: 0.65 - ETA: 17:03 - loss: 1.8641 - acc: 0.65 - ETA: 16:55 - loss: 1.8647 - acc: 0.65 - ETA: 16:47 - loss: 1.8640 - acc: 0.6551"
     ]
    },
    {
     "name": "stdout",
     "output_type": "stream",
     "text": [
      "42374/42374 [==============================] - ETA: 16:39 - loss: 1.8644 - acc: 0.65 - ETA: 16:30 - loss: 1.8650 - acc: 0.65 - ETA: 16:23 - loss: 1.8641 - acc: 0.65 - ETA: 16:14 - loss: 1.8641 - acc: 0.65 - ETA: 16:07 - loss: 1.8642 - acc: 0.65 - ETA: 15:59 - loss: 1.8652 - acc: 0.65 - ETA: 15:51 - loss: 1.8658 - acc: 0.65 - ETA: 15:42 - loss: 1.8662 - acc: 0.65 - ETA: 15:34 - loss: 1.8659 - acc: 0.65 - ETA: 15:26 - loss: 1.8665 - acc: 0.65 - ETA: 15:18 - loss: 1.8668 - acc: 0.65 - ETA: 15:10 - loss: 1.8674 - acc: 0.65 - ETA: 15:02 - loss: 1.8679 - acc: 0.65 - ETA: 14:54 - loss: 1.8689 - acc: 0.65 - ETA: 14:46 - loss: 1.8690 - acc: 0.65 - ETA: 14:38 - loss: 1.8681 - acc: 0.65 - ETA: 14:30 - loss: 1.8680 - acc: 0.65 - ETA: 14:22 - loss: 1.8679 - acc: 0.65 - ETA: 14:15 - loss: 1.8682 - acc: 0.65 - ETA: 14:07 - loss: 1.8676 - acc: 0.65 - ETA: 13:59 - loss: 1.8680 - acc: 0.65 - ETA: 13:51 - loss: 1.8678 - acc: 0.65 - ETA: 13:43 - loss: 1.8679 - acc: 0.65 - ETA: 13:35 - loss: 1.8676 - acc: 0.65 - ETA: 13:28 - loss: 1.8680 - acc: 0.65 - ETA: 13:19 - loss: 1.8682 - acc: 0.65 - ETA: 13:10 - loss: 1.8676 - acc: 0.65 - ETA: 13:02 - loss: 1.8681 - acc: 0.65 - ETA: 12:53 - loss: 1.8681 - acc: 0.65 - ETA: 12:44 - loss: 1.8682 - acc: 0.65 - ETA: 12:36 - loss: 1.8674 - acc: 0.65 - ETA: 12:28 - loss: 1.8679 - acc: 0.65 - ETA: 12:21 - loss: 1.8684 - acc: 0.65 - ETA: 12:12 - loss: 1.8690 - acc: 0.65 - ETA: 12:04 - loss: 1.8695 - acc: 0.65 - ETA: 11:55 - loss: 1.8697 - acc: 0.65 - ETA: 11:46 - loss: 1.8699 - acc: 0.65 - ETA: 11:39 - loss: 1.8701 - acc: 0.65 - ETA: 11:31 - loss: 1.8707 - acc: 0.65 - ETA: 11:24 - loss: 1.8702 - acc: 0.65 - ETA: 11:16 - loss: 1.8697 - acc: 0.65 - ETA: 11:08 - loss: 1.8693 - acc: 0.65 - ETA: 11:01 - loss: 1.8694 - acc: 0.65 - ETA: 10:53 - loss: 1.8692 - acc: 0.65 - ETA: 10:45 - loss: 1.8692 - acc: 0.65 - ETA: 10:37 - loss: 1.8692 - acc: 0.65 - ETA: 10:29 - loss: 1.8691 - acc: 0.65 - ETA: 10:21 - loss: 1.8691 - acc: 0.65 - ETA: 10:14 - loss: 1.8693 - acc: 0.65 - ETA: 10:06 - loss: 1.8698 - acc: 0.65 - ETA: 9:58 - loss: 1.8692 - acc: 0.6550 - ETA: 9:50 - loss: 1.8692 - acc: 0.655 - ETA: 9:42 - loss: 1.8688 - acc: 0.655 - ETA: 9:35 - loss: 1.8683 - acc: 0.655 - ETA: 9:27 - loss: 1.8682 - acc: 0.655 - ETA: 9:19 - loss: 1.8688 - acc: 0.655 - ETA: 9:11 - loss: 1.8692 - acc: 0.655 - ETA: 9:03 - loss: 1.8697 - acc: 0.655 - ETA: 8:55 - loss: 1.8700 - acc: 0.655 - ETA: 8:47 - loss: 1.8701 - acc: 0.655 - ETA: 8:39 - loss: 1.8705 - acc: 0.654 - ETA: 8:32 - loss: 1.8703 - acc: 0.655 - ETA: 8:24 - loss: 1.8704 - acc: 0.654 - ETA: 8:16 - loss: 1.8703 - acc: 0.655 - ETA: 8:08 - loss: 1.8701 - acc: 0.655 - ETA: 8:00 - loss: 1.8699 - acc: 0.655 - ETA: 7:52 - loss: 1.8695 - acc: 0.655 - ETA: 7:44 - loss: 1.8697 - acc: 0.655 - ETA: 7:37 - loss: 1.8699 - acc: 0.655 - ETA: 7:29 - loss: 1.8697 - acc: 0.655 - ETA: 7:21 - loss: 1.8701 - acc: 0.655 - ETA: 7:13 - loss: 1.8701 - acc: 0.655 - ETA: 7:05 - loss: 1.8697 - acc: 0.655 - ETA: 6:57 - loss: 1.8702 - acc: 0.655 - ETA: 6:50 - loss: 1.8704 - acc: 0.655 - ETA: 6:42 - loss: 1.8707 - acc: 0.655 - ETA: 6:34 - loss: 1.8709 - acc: 0.655 - ETA: 6:27 - loss: 1.8711 - acc: 0.655 - ETA: 6:19 - loss: 1.8711 - acc: 0.655 - ETA: 6:11 - loss: 1.8714 - acc: 0.655 - ETA: 6:03 - loss: 1.8712 - acc: 0.655 - ETA: 5:56 - loss: 1.8717 - acc: 0.655 - ETA: 5:48 - loss: 1.8718 - acc: 0.655 - ETA: 5:40 - loss: 1.8719 - acc: 0.655 - ETA: 5:32 - loss: 1.8721 - acc: 0.655 - ETA: 5:25 - loss: 1.8718 - acc: 0.655 - ETA: 5:17 - loss: 1.8719 - acc: 0.655 - ETA: 5:09 - loss: 1.8719 - acc: 0.655 - ETA: 5:01 - loss: 1.8722 - acc: 0.655 - ETA: 4:54 - loss: 1.8728 - acc: 0.654 - ETA: 4:46 - loss: 1.8726 - acc: 0.654 - ETA: 4:38 - loss: 1.8722 - acc: 0.655 - ETA: 4:30 - loss: 1.8725 - acc: 0.655 - ETA: 4:22 - loss: 1.8729 - acc: 0.654 - ETA: 4:14 - loss: 1.8733 - acc: 0.654 - ETA: 4:06 - loss: 1.8731 - acc: 0.654 - ETA: 3:59 - loss: 1.8733 - acc: 0.654 - ETA: 3:51 - loss: 1.8733 - acc: 0.654 - ETA: 3:43 - loss: 1.8728 - acc: 0.655 - ETA: 3:35 - loss: 1.8732 - acc: 0.655 - ETA: 3:27 - loss: 1.8733 - acc: 0.655 - ETA: 3:19 - loss: 1.8735 - acc: 0.654 - ETA: 3:11 - loss: 1.8739 - acc: 0.654 - ETA: 3:03 - loss: 1.8746 - acc: 0.654 - ETA: 2:55 - loss: 1.8749 - acc: 0.654 - ETA: 2:48 - loss: 1.8752 - acc: 0.654 - ETA: 2:40 - loss: 1.8752 - acc: 0.654 - ETA: 2:32 - loss: 1.8751 - acc: 0.654 - ETA: 2:24 - loss: 1.8749 - acc: 0.654 - ETA: 2:16 - loss: 1.8751 - acc: 0.654 - ETA: 2:08 - loss: 1.8749 - acc: 0.654 - ETA: 2:00 - loss: 1.8749 - acc: 0.654 - ETA: 1:52 - loss: 1.8748 - acc: 0.654 - ETA: 1:44 - loss: 1.8752 - acc: 0.654 - ETA: 1:36 - loss: 1.8751 - acc: 0.654 - ETA: 1:28 - loss: 1.8753 - acc: 0.654 - ETA: 1:20 - loss: 1.8755 - acc: 0.654 - ETA: 1:12 - loss: 1.8757 - acc: 0.654 - ETA: 1:04 - loss: 1.8756 - acc: 0.654 - ETA: 56s - loss: 1.8754 - acc: 0.654 - ETA: 48s - loss: 1.8758 - acc: 0.65 - ETA: 40s - loss: 1.8761 - acc: 0.65 - ETA: 32s - loss: 1.8763 - acc: 0.65 - ETA: 24s - loss: 1.8767 - acc: 0.65 - ETA: 16s - loss: 1.8767 - acc: 0.65 - ETA: 8s - loss: 1.8771 - acc: 0.6544 - ETA: 0s - loss: 1.8771 - acc: 0.654 - 2672s 63ms/sample - loss: 1.8771 - acc: 0.6544\n",
      "Epoch 13/30\n"
     ]
    },
    {
     "name": "stdout",
     "output_type": "stream",
     "text": [
      "26112/42374 [=================>............] - ETA: 51:18 - loss: 1.8581 - acc: 0.64 - ETA: 49:58 - loss: 1.8345 - acc: 0.64 - ETA: 50:40 - loss: 1.8206 - acc: 0.65 - ETA: 50:16 - loss: 1.7791 - acc: 0.65 - ETA: 49:50 - loss: 1.7859 - acc: 0.65 - ETA: 49:35 - loss: 1.8009 - acc: 0.65 - ETA: 49:20 - loss: 1.7898 - acc: 0.65 - ETA: 49:11 - loss: 1.7942 - acc: 0.65 - ETA: 48:52 - loss: 1.8002 - acc: 0.65 - ETA: 48:36 - loss: 1.7955 - acc: 0.65 - ETA: 48:17 - loss: 1.7869 - acc: 0.65 - ETA: 47:59 - loss: 1.7930 - acc: 0.65 - ETA: 47:47 - loss: 1.7925 - acc: 0.65 - ETA: 47:29 - loss: 1.7830 - acc: 0.66 - ETA: 47:16 - loss: 1.7898 - acc: 0.66 - ETA: 47:02 - loss: 1.7968 - acc: 0.65 - ETA: 46:51 - loss: 1.7942 - acc: 0.66 - ETA: 46:38 - loss: 1.7946 - acc: 0.66 - ETA: 46:31 - loss: 1.7981 - acc: 0.66 - ETA: 46:20 - loss: 1.7970 - acc: 0.66 - ETA: 46:07 - loss: 1.8011 - acc: 0.66 - ETA: 45:24 - loss: 1.8067 - acc: 0.66 - ETA: 45:05 - loss: 1.8062 - acc: 0.65 - ETA: 44:30 - loss: 1.8027 - acc: 0.65 - ETA: 43:44 - loss: 1.8035 - acc: 0.65 - ETA: 43:05 - loss: 1.8063 - acc: 0.65 - ETA: 42:24 - loss: 1.8068 - acc: 0.65 - ETA: 41:43 - loss: 1.7999 - acc: 0.66 - ETA: 41:05 - loss: 1.8018 - acc: 0.65 - ETA: 40:30 - loss: 1.8011 - acc: 0.66 - ETA: 39:56 - loss: 1.8011 - acc: 0.66 - ETA: 39:23 - loss: 1.8012 - acc: 0.66 - ETA: 38:53 - loss: 1.8073 - acc: 0.65 - ETA: 38:24 - loss: 1.8065 - acc: 0.65 - ETA: 37:57 - loss: 1.8054 - acc: 0.65 - ETA: 37:31 - loss: 1.8058 - acc: 0.65 - ETA: 37:05 - loss: 1.8073 - acc: 0.65 - ETA: 36:42 - loss: 1.8073 - acc: 0.65 - ETA: 36:20 - loss: 1.8084 - acc: 0.65 - ETA: 35:58 - loss: 1.8097 - acc: 0.65 - ETA: 35:35 - loss: 1.8121 - acc: 0.65 - ETA: 35:15 - loss: 1.8087 - acc: 0.65 - ETA: 34:54 - loss: 1.8091 - acc: 0.65 - ETA: 34:34 - loss: 1.8084 - acc: 0.65 - ETA: 34:14 - loss: 1.8075 - acc: 0.65 - ETA: 33:58 - loss: 1.8059 - acc: 0.65 - ETA: 33:40 - loss: 1.8080 - acc: 0.65 - ETA: 33:25 - loss: 1.8052 - acc: 0.65 - ETA: 33:10 - loss: 1.8041 - acc: 0.65 - ETA: 32:57 - loss: 1.8030 - acc: 0.65 - ETA: 32:45 - loss: 1.8036 - acc: 0.65 - ETA: 32:32 - loss: 1.8043 - acc: 0.65 - ETA: 32:25 - loss: 1.8061 - acc: 0.65 - ETA: 32:21 - loss: 1.8083 - acc: 0.65 - ETA: 32:08 - loss: 1.8077 - acc: 0.65 - ETA: 31:54 - loss: 1.8095 - acc: 0.65 - ETA: 31:38 - loss: 1.8123 - acc: 0.65 - ETA: 31:24 - loss: 1.8120 - acc: 0.65 - ETA: 31:10 - loss: 1.8101 - acc: 0.65 - ETA: 30:56 - loss: 1.8109 - acc: 0.65 - ETA: 30:42 - loss: 1.8087 - acc: 0.65 - ETA: 30:31 - loss: 1.8087 - acc: 0.65 - ETA: 30:20 - loss: 1.8064 - acc: 0.65 - ETA: 30:07 - loss: 1.8070 - acc: 0.65 - ETA: 29:55 - loss: 1.8103 - acc: 0.65 - ETA: 29:43 - loss: 1.8104 - acc: 0.65 - ETA: 29:32 - loss: 1.8114 - acc: 0.65 - ETA: 29:20 - loss: 1.8118 - acc: 0.65 - ETA: 29:10 - loss: 1.8110 - acc: 0.65 - ETA: 28:58 - loss: 1.8107 - acc: 0.65 - ETA: 28:47 - loss: 1.8124 - acc: 0.65 - ETA: 28:36 - loss: 1.8135 - acc: 0.65 - ETA: 28:25 - loss: 1.8142 - acc: 0.65 - ETA: 28:14 - loss: 1.8149 - acc: 0.65 - ETA: 28:03 - loss: 1.8134 - acc: 0.65 - ETA: 27:52 - loss: 1.8149 - acc: 0.65 - ETA: 27:42 - loss: 1.8141 - acc: 0.65 - ETA: 27:32 - loss: 1.8133 - acc: 0.65 - ETA: 27:24 - loss: 1.8120 - acc: 0.65 - ETA: 27:18 - loss: 1.8120 - acc: 0.65 - ETA: 27:15 - loss: 1.8116 - acc: 0.65 - ETA: 27:10 - loss: 1.8137 - acc: 0.65 - ETA: 27:04 - loss: 1.8129 - acc: 0.65 - ETA: 26:59 - loss: 1.8114 - acc: 0.65 - ETA: 26:54 - loss: 1.8103 - acc: 0.66 - ETA: 26:51 - loss: 1.8102 - acc: 0.66 - ETA: 26:45 - loss: 1.8087 - acc: 0.66 - ETA: 26:41 - loss: 1.8099 - acc: 0.66 - ETA: 26:35 - loss: 1.8103 - acc: 0.66 - ETA: 26:29 - loss: 1.8094 - acc: 0.66 - ETA: 26:24 - loss: 1.8086 - acc: 0.66 - ETA: 26:18 - loss: 1.8085 - acc: 0.66 - ETA: 26:11 - loss: 1.8084 - acc: 0.66 - ETA: 26:03 - loss: 1.8080 - acc: 0.66 - ETA: 25:56 - loss: 1.8077 - acc: 0.66 - ETA: 25:48 - loss: 1.8079 - acc: 0.66 - ETA: 25:40 - loss: 1.8089 - acc: 0.66 - ETA: 25:37 - loss: 1.8087 - acc: 0.66 - ETA: 25:31 - loss: 1.8101 - acc: 0.66 - ETA: 25:25 - loss: 1.8090 - acc: 0.66 - ETA: 25:17 - loss: 1.8076 - acc: 0.66 - ETA: 25:10 - loss: 1.8083 - acc: 0.66 - ETA: 25:03 - loss: 1.8083 - acc: 0.66 - ETA: 24:58 - loss: 1.8072 - acc: 0.66 - ETA: 24:54 - loss: 1.8061 - acc: 0.66 - ETA: 24:51 - loss: 1.8050 - acc: 0.66 - ETA: 24:48 - loss: 1.8051 - acc: 0.66 - ETA: 24:43 - loss: 1.8063 - acc: 0.66 - ETA: 24:39 - loss: 1.8073 - acc: 0.66 - ETA: 24:35 - loss: 1.8060 - acc: 0.66 - ETA: 24:31 - loss: 1.8063 - acc: 0.66 - ETA: 24:26 - loss: 1.8066 - acc: 0.66 - ETA: 24:23 - loss: 1.8077 - acc: 0.66 - ETA: 24:20 - loss: 1.8081 - acc: 0.66 - ETA: 24:19 - loss: 1.8086 - acc: 0.66 - ETA: 24:16 - loss: 1.8084 - acc: 0.66 - ETA: 24:14 - loss: 1.8078 - acc: 0.66 - ETA: 24:11 - loss: 1.8089 - acc: 0.66 - ETA: 24:08 - loss: 1.8099 - acc: 0.66 - ETA: 24:05 - loss: 1.8103 - acc: 0.66 - ETA: 24:02 - loss: 1.8100 - acc: 0.66 - ETA: 23:59 - loss: 1.8106 - acc: 0.66 - ETA: 23:55 - loss: 1.8105 - acc: 0.66 - ETA: 23:50 - loss: 1.8102 - acc: 0.66 - ETA: 23:45 - loss: 1.8102 - acc: 0.66 - ETA: 23:40 - loss: 1.8094 - acc: 0.66 - ETA: 23:34 - loss: 1.8101 - acc: 0.66 - ETA: 23:29 - loss: 1.8095 - acc: 0.66 - ETA: 23:23 - loss: 1.8107 - acc: 0.66 - ETA: 23:17 - loss: 1.8108 - acc: 0.66 - ETA: 23:10 - loss: 1.8107 - acc: 0.66 - ETA: 23:03 - loss: 1.8107 - acc: 0.66 - ETA: 22:56 - loss: 1.8108 - acc: 0.66 - ETA: 22:49 - loss: 1.8121 - acc: 0.66 - ETA: 22:42 - loss: 1.8132 - acc: 0.66 - ETA: 22:36 - loss: 1.8127 - acc: 0.66 - ETA: 22:30 - loss: 1.8125 - acc: 0.66 - ETA: 22:24 - loss: 1.8120 - acc: 0.66 - ETA: 22:18 - loss: 1.8122 - acc: 0.66 - ETA: 22:12 - loss: 1.8122 - acc: 0.66 - ETA: 22:06 - loss: 1.8125 - acc: 0.66 - ETA: 22:00 - loss: 1.8128 - acc: 0.66 - ETA: 21:54 - loss: 1.8137 - acc: 0.66 - ETA: 21:47 - loss: 1.8147 - acc: 0.66 - ETA: 21:41 - loss: 1.8152 - acc: 0.66 - ETA: 21:35 - loss: 1.8157 - acc: 0.66 - ETA: 21:29 - loss: 1.8158 - acc: 0.66 - ETA: 21:22 - loss: 1.8163 - acc: 0.66 - ETA: 21:16 - loss: 1.8159 - acc: 0.66 - ETA: 21:10 - loss: 1.8167 - acc: 0.66 - ETA: 21:04 - loss: 1.8167 - acc: 0.66 - ETA: 20:58 - loss: 1.8161 - acc: 0.66 - ETA: 20:52 - loss: 1.8159 - acc: 0.66 - ETA: 20:46 - loss: 1.8159 - acc: 0.66 - ETA: 20:39 - loss: 1.8161 - acc: 0.66 - ETA: 20:33 - loss: 1.8165 - acc: 0.66 - ETA: 20:27 - loss: 1.8167 - acc: 0.66 - ETA: 20:21 - loss: 1.8169 - acc: 0.66 - ETA: 20:15 - loss: 1.8168 - acc: 0.66 - ETA: 20:08 - loss: 1.8169 - acc: 0.66 - ETA: 20:02 - loss: 1.8166 - acc: 0.66 - ETA: 19:56 - loss: 1.8167 - acc: 0.66 - ETA: 19:49 - loss: 1.8170 - acc: 0.66 - ETA: 19:43 - loss: 1.8172 - acc: 0.66 - ETA: 19:38 - loss: 1.8181 - acc: 0.66 - ETA: 19:32 - loss: 1.8179 - acc: 0.66 - ETA: 19:27 - loss: 1.8189 - acc: 0.66 - ETA: 19:22 - loss: 1.8193 - acc: 0.65 - ETA: 19:17 - loss: 1.8195 - acc: 0.66 - ETA: 19:11 - loss: 1.8188 - acc: 0.66 - ETA: 19:06 - loss: 1.8194 - acc: 0.66 - ETA: 19:01 - loss: 1.8194 - acc: 0.66 - ETA: 18:56 - loss: 1.8192 - acc: 0.66 - ETA: 18:50 - loss: 1.8202 - acc: 0.65 - ETA: 18:45 - loss: 1.8204 - acc: 0.65 - ETA: 18:43 - loss: 1.8204 - acc: 0.65 - ETA: 18:44 - loss: 1.8202 - acc: 0.65 - ETA: 18:44 - loss: 1.8199 - acc: 0.65 - ETA: 18:44 - loss: 1.8198 - acc: 0.65 - ETA: 18:44 - loss: 1.8197 - acc: 0.65 - ETA: 18:44 - loss: 1.8199 - acc: 0.65 - ETA: 18:45 - loss: 1.8198 - acc: 0.65 - ETA: 18:44 - loss: 1.8198 - acc: 0.66 - ETA: 18:38 - loss: 1.8192 - acc: 0.66 - ETA: 18:32 - loss: 1.8194 - acc: 0.66 - ETA: 18:26 - loss: 1.8199 - acc: 0.65 - ETA: 18:20 - loss: 1.8194 - acc: 0.66 - ETA: 18:13 - loss: 1.8198 - acc: 0.66 - ETA: 18:07 - loss: 1.8202 - acc: 0.65 - ETA: 18:01 - loss: 1.8208 - acc: 0.65 - ETA: 17:55 - loss: 1.8214 - acc: 0.65 - ETA: 17:48 - loss: 1.8212 - acc: 0.65 - ETA: 17:41 - loss: 1.8219 - acc: 0.65 - ETA: 17:32 - loss: 1.8226 - acc: 0.65 - ETA: 17:23 - loss: 1.8241 - acc: 0.65 - ETA: 17:14 - loss: 1.8247 - acc: 0.65 - ETA: 17:05 - loss: 1.8249 - acc: 0.65 - ETA: 16:56 - loss: 1.8249 - acc: 0.65 - ETA: 16:49 - loss: 1.8251 - acc: 0.65 - ETA: 16:41 - loss: 1.8253 - acc: 0.65 - ETA: 16:33 - loss: 1.8252 - acc: 0.65 - ETA: 16:26 - loss: 1.8253 - acc: 0.65 - ETA: 16:17 - loss: 1.8252 - acc: 0.65 - ETA: 16:09 - loss: 1.8251 - acc: 0.6593"
     ]
    },
    {
     "name": "stdout",
     "output_type": "stream",
     "text": [
      "42374/42374 [==============================] - ETA: 16:00 - loss: 1.8257 - acc: 0.65 - ETA: 15:52 - loss: 1.8257 - acc: 0.65 - ETA: 15:43 - loss: 1.8252 - acc: 0.65 - ETA: 15:34 - loss: 1.8259 - acc: 0.65 - ETA: 15:26 - loss: 1.8261 - acc: 0.65 - ETA: 15:17 - loss: 1.8257 - acc: 0.65 - ETA: 15:09 - loss: 1.8263 - acc: 0.65 - ETA: 15:01 - loss: 1.8269 - acc: 0.65 - ETA: 14:52 - loss: 1.8272 - acc: 0.65 - ETA: 14:44 - loss: 1.8279 - acc: 0.65 - ETA: 14:35 - loss: 1.8279 - acc: 0.65 - ETA: 14:27 - loss: 1.8283 - acc: 0.65 - ETA: 14:19 - loss: 1.8289 - acc: 0.65 - ETA: 14:12 - loss: 1.8291 - acc: 0.65 - ETA: 14:05 - loss: 1.8292 - acc: 0.65 - ETA: 13:57 - loss: 1.8294 - acc: 0.65 - ETA: 13:50 - loss: 1.8287 - acc: 0.65 - ETA: 13:43 - loss: 1.8288 - acc: 0.65 - ETA: 13:36 - loss: 1.8291 - acc: 0.65 - ETA: 13:28 - loss: 1.8296 - acc: 0.65 - ETA: 13:21 - loss: 1.8303 - acc: 0.65 - ETA: 13:14 - loss: 1.8302 - acc: 0.65 - ETA: 13:07 - loss: 1.8301 - acc: 0.65 - ETA: 12:59 - loss: 1.8305 - acc: 0.65 - ETA: 12:52 - loss: 1.8307 - acc: 0.65 - ETA: 12:44 - loss: 1.8313 - acc: 0.65 - ETA: 12:37 - loss: 1.8307 - acc: 0.65 - ETA: 12:30 - loss: 1.8305 - acc: 0.65 - ETA: 12:22 - loss: 1.8309 - acc: 0.65 - ETA: 12:15 - loss: 1.8316 - acc: 0.65 - ETA: 12:08 - loss: 1.8317 - acc: 0.65 - ETA: 12:00 - loss: 1.8321 - acc: 0.65 - ETA: 11:53 - loss: 1.8319 - acc: 0.65 - ETA: 11:45 - loss: 1.8330 - acc: 0.65 - ETA: 11:37 - loss: 1.8332 - acc: 0.65 - ETA: 11:30 - loss: 1.8332 - acc: 0.65 - ETA: 11:22 - loss: 1.8331 - acc: 0.65 - ETA: 11:15 - loss: 1.8327 - acc: 0.65 - ETA: 11:08 - loss: 1.8324 - acc: 0.65 - ETA: 11:01 - loss: 1.8327 - acc: 0.65 - ETA: 10:54 - loss: 1.8334 - acc: 0.65 - ETA: 10:47 - loss: 1.8333 - acc: 0.65 - ETA: 10:41 - loss: 1.8341 - acc: 0.65 - ETA: 10:33 - loss: 1.8345 - acc: 0.65 - ETA: 10:25 - loss: 1.8347 - acc: 0.65 - ETA: 10:17 - loss: 1.8349 - acc: 0.65 - ETA: 10:09 - loss: 1.8355 - acc: 0.65 - ETA: 10:01 - loss: 1.8362 - acc: 0.65 - ETA: 9:52 - loss: 1.8364 - acc: 0.6578 - ETA: 9:44 - loss: 1.8366 - acc: 0.657 - ETA: 9:36 - loss: 1.8372 - acc: 0.657 - ETA: 9:28 - loss: 1.8375 - acc: 0.657 - ETA: 9:20 - loss: 1.8381 - acc: 0.657 - ETA: 9:12 - loss: 1.8380 - acc: 0.657 - ETA: 9:04 - loss: 1.8380 - acc: 0.657 - ETA: 8:56 - loss: 1.8379 - acc: 0.657 - ETA: 8:48 - loss: 1.8379 - acc: 0.657 - ETA: 8:40 - loss: 1.8379 - acc: 0.657 - ETA: 8:31 - loss: 1.8376 - acc: 0.657 - ETA: 8:24 - loss: 1.8372 - acc: 0.657 - ETA: 8:15 - loss: 1.8367 - acc: 0.657 - ETA: 8:07 - loss: 1.8371 - acc: 0.657 - ETA: 8:00 - loss: 1.8372 - acc: 0.657 - ETA: 7:52 - loss: 1.8370 - acc: 0.657 - ETA: 7:43 - loss: 1.8366 - acc: 0.657 - ETA: 7:35 - loss: 1.8370 - acc: 0.657 - ETA: 7:28 - loss: 1.8375 - acc: 0.657 - ETA: 7:20 - loss: 1.8377 - acc: 0.657 - ETA: 7:12 - loss: 1.8378 - acc: 0.657 - ETA: 7:04 - loss: 1.8384 - acc: 0.657 - ETA: 6:56 - loss: 1.8388 - acc: 0.657 - ETA: 6:48 - loss: 1.8390 - acc: 0.657 - ETA: 6:41 - loss: 1.8390 - acc: 0.657 - ETA: 6:33 - loss: 1.8393 - acc: 0.657 - ETA: 6:25 - loss: 1.8390 - acc: 0.657 - ETA: 6:17 - loss: 1.8392 - acc: 0.657 - ETA: 6:10 - loss: 1.8396 - acc: 0.657 - ETA: 6:02 - loss: 1.8400 - acc: 0.657 - ETA: 5:54 - loss: 1.8400 - acc: 0.657 - ETA: 5:47 - loss: 1.8399 - acc: 0.657 - ETA: 5:39 - loss: 1.8397 - acc: 0.657 - ETA: 5:31 - loss: 1.8399 - acc: 0.657 - ETA: 5:24 - loss: 1.8411 - acc: 0.657 - ETA: 5:16 - loss: 1.8410 - acc: 0.657 - ETA: 5:09 - loss: 1.8410 - acc: 0.657 - ETA: 5:01 - loss: 1.8411 - acc: 0.657 - ETA: 4:54 - loss: 1.8414 - acc: 0.657 - ETA: 4:46 - loss: 1.8415 - acc: 0.657 - ETA: 4:38 - loss: 1.8417 - acc: 0.657 - ETA: 4:31 - loss: 1.8423 - acc: 0.657 - ETA: 4:24 - loss: 1.8423 - acc: 0.657 - ETA: 4:16 - loss: 1.8426 - acc: 0.657 - ETA: 4:09 - loss: 1.8426 - acc: 0.657 - ETA: 4:01 - loss: 1.8426 - acc: 0.657 - ETA: 3:54 - loss: 1.8428 - acc: 0.657 - ETA: 3:46 - loss: 1.8432 - acc: 0.657 - ETA: 3:39 - loss: 1.8434 - acc: 0.657 - ETA: 3:32 - loss: 1.8431 - acc: 0.657 - ETA: 3:24 - loss: 1.8434 - acc: 0.657 - ETA: 3:17 - loss: 1.8434 - acc: 0.657 - ETA: 3:09 - loss: 1.8437 - acc: 0.657 - ETA: 3:02 - loss: 1.8438 - acc: 0.657 - ETA: 2:55 - loss: 1.8433 - acc: 0.657 - ETA: 2:47 - loss: 1.8431 - acc: 0.657 - ETA: 2:40 - loss: 1.8436 - acc: 0.657 - ETA: 2:32 - loss: 1.8438 - acc: 0.657 - ETA: 2:25 - loss: 1.8434 - acc: 0.657 - ETA: 2:18 - loss: 1.8432 - acc: 0.657 - ETA: 2:10 - loss: 1.8435 - acc: 0.657 - ETA: 2:03 - loss: 1.8431 - acc: 0.657 - ETA: 1:56 - loss: 1.8433 - acc: 0.657 - ETA: 1:48 - loss: 1.8430 - acc: 0.657 - ETA: 1:41 - loss: 1.8429 - acc: 0.657 - ETA: 1:34 - loss: 1.8432 - acc: 0.657 - ETA: 1:26 - loss: 1.8433 - acc: 0.657 - ETA: 1:19 - loss: 1.8431 - acc: 0.657 - ETA: 1:12 - loss: 1.8435 - acc: 0.657 - ETA: 1:05 - loss: 1.8436 - acc: 0.657 - ETA: 57s - loss: 1.8439 - acc: 0.657 - ETA: 50s - loss: 1.8442 - acc: 0.65 - ETA: 43s - loss: 1.8444 - acc: 0.65 - ETA: 36s - loss: 1.8445 - acc: 0.65 - ETA: 29s - loss: 1.8447 - acc: 0.65 - ETA: 21s - loss: 1.8443 - acc: 0.65 - ETA: 14s - loss: 1.8446 - acc: 0.65 - ETA: 7s - loss: 1.8448 - acc: 0.6568 - ETA: 0s - loss: 1.8449 - acc: 0.656 - 2372s 56ms/sample - loss: 1.8448 - acc: 0.6569\n",
      "Epoch 14/30\n"
     ]
    },
    {
     "name": "stdout",
     "output_type": "stream",
     "text": [
      "26112/42374 [=================>............] - ETA: 29:09 - loss: 1.7513 - acc: 0.66 - ETA: 30:48 - loss: 1.7771 - acc: 0.66 - ETA: 31:35 - loss: 1.8053 - acc: 0.66 - ETA: 31:37 - loss: 1.7911 - acc: 0.66 - ETA: 31:44 - loss: 1.7983 - acc: 0.66 - ETA: 31:31 - loss: 1.7834 - acc: 0.66 - ETA: 31:09 - loss: 1.7737 - acc: 0.66 - ETA: 31:40 - loss: 1.7845 - acc: 0.66 - ETA: 31:23 - loss: 1.7774 - acc: 0.66 - ETA: 31:08 - loss: 1.7678 - acc: 0.66 - ETA: 31:27 - loss: 1.7672 - acc: 0.66 - ETA: 31:06 - loss: 1.7694 - acc: 0.66 - ETA: 30:49 - loss: 1.7710 - acc: 0.66 - ETA: 30:35 - loss: 1.7783 - acc: 0.66 - ETA: 30:22 - loss: 1.7905 - acc: 0.66 - ETA: 30:11 - loss: 1.7883 - acc: 0.66 - ETA: 30:15 - loss: 1.7884 - acc: 0.66 - ETA: 30:11 - loss: 1.7861 - acc: 0.66 - ETA: 30:08 - loss: 1.7793 - acc: 0.66 - ETA: 29:59 - loss: 1.7843 - acc: 0.66 - ETA: 29:49 - loss: 1.7785 - acc: 0.66 - ETA: 29:39 - loss: 1.7768 - acc: 0.66 - ETA: 29:34 - loss: 1.7774 - acc: 0.66 - ETA: 29:28 - loss: 1.7737 - acc: 0.66 - ETA: 29:23 - loss: 1.7688 - acc: 0.66 - ETA: 29:13 - loss: 1.7689 - acc: 0.66 - ETA: 29:04 - loss: 1.7641 - acc: 0.66 - ETA: 28:59 - loss: 1.7660 - acc: 0.66 - ETA: 28:53 - loss: 1.7660 - acc: 0.66 - ETA: 28:48 - loss: 1.7668 - acc: 0.66 - ETA: 28:40 - loss: 1.7703 - acc: 0.66 - ETA: 28:37 - loss: 1.7696 - acc: 0.66 - ETA: 28:31 - loss: 1.7702 - acc: 0.66 - ETA: 28:23 - loss: 1.7665 - acc: 0.66 - ETA: 28:17 - loss: 1.7697 - acc: 0.66 - ETA: 28:07 - loss: 1.7712 - acc: 0.66 - ETA: 28:02 - loss: 1.7723 - acc: 0.66 - ETA: 27:57 - loss: 1.7754 - acc: 0.66 - ETA: 27:49 - loss: 1.7778 - acc: 0.66 - ETA: 27:44 - loss: 1.7798 - acc: 0.66 - ETA: 27:39 - loss: 1.7806 - acc: 0.66 - ETA: 27:32 - loss: 1.7782 - acc: 0.66 - ETA: 27:27 - loss: 1.7797 - acc: 0.66 - ETA: 27:22 - loss: 1.7803 - acc: 0.66 - ETA: 27:14 - loss: 1.7762 - acc: 0.66 - ETA: 27:09 - loss: 1.7799 - acc: 0.66 - ETA: 27:02 - loss: 1.7839 - acc: 0.66 - ETA: 26:54 - loss: 1.7834 - acc: 0.66 - ETA: 26:46 - loss: 1.7823 - acc: 0.66 - ETA: 26:44 - loss: 1.7801 - acc: 0.66 - ETA: 26:39 - loss: 1.7788 - acc: 0.66 - ETA: 26:33 - loss: 1.7762 - acc: 0.66 - ETA: 26:27 - loss: 1.7761 - acc: 0.66 - ETA: 26:21 - loss: 1.7749 - acc: 0.66 - ETA: 26:13 - loss: 1.7737 - acc: 0.66 - ETA: 26:08 - loss: 1.7750 - acc: 0.66 - ETA: 26:03 - loss: 1.7748 - acc: 0.66 - ETA: 25:57 - loss: 1.7757 - acc: 0.66 - ETA: 25:54 - loss: 1.7775 - acc: 0.66 - ETA: 25:48 - loss: 1.7794 - acc: 0.66 - ETA: 25:44 - loss: 1.7805 - acc: 0.66 - ETA: 25:41 - loss: 1.7806 - acc: 0.66 - ETA: 25:35 - loss: 1.7803 - acc: 0.66 - ETA: 25:27 - loss: 1.7802 - acc: 0.66 - ETA: 25:21 - loss: 1.7810 - acc: 0.66 - ETA: 25:13 - loss: 1.7801 - acc: 0.66 - ETA: 25:07 - loss: 1.7796 - acc: 0.66 - ETA: 25:01 - loss: 1.7791 - acc: 0.66 - ETA: 24:54 - loss: 1.7779 - acc: 0.66 - ETA: 24:50 - loss: 1.7758 - acc: 0.66 - ETA: 24:47 - loss: 1.7738 - acc: 0.66 - ETA: 24:41 - loss: 1.7734 - acc: 0.66 - ETA: 24:35 - loss: 1.7738 - acc: 0.66 - ETA: 24:29 - loss: 1.7752 - acc: 0.66 - ETA: 24:22 - loss: 1.7739 - acc: 0.66 - ETA: 24:14 - loss: 1.7769 - acc: 0.66 - ETA: 24:08 - loss: 1.7768 - acc: 0.66 - ETA: 24:02 - loss: 1.7784 - acc: 0.66 - ETA: 23:57 - loss: 1.7788 - acc: 0.66 - ETA: 23:50 - loss: 1.7804 - acc: 0.66 - ETA: 23:45 - loss: 1.7800 - acc: 0.66 - ETA: 23:39 - loss: 1.7809 - acc: 0.66 - ETA: 23:33 - loss: 1.7808 - acc: 0.66 - ETA: 23:26 - loss: 1.7800 - acc: 0.66 - ETA: 23:19 - loss: 1.7776 - acc: 0.66 - ETA: 23:12 - loss: 1.7779 - acc: 0.66 - ETA: 23:05 - loss: 1.7778 - acc: 0.66 - ETA: 22:59 - loss: 1.7779 - acc: 0.66 - ETA: 22:52 - loss: 1.7781 - acc: 0.66 - ETA: 22:46 - loss: 1.7783 - acc: 0.66 - ETA: 22:40 - loss: 1.7782 - acc: 0.66 - ETA: 22:35 - loss: 1.7779 - acc: 0.66 - ETA: 22:29 - loss: 1.7776 - acc: 0.66 - ETA: 22:23 - loss: 1.7787 - acc: 0.66 - ETA: 22:17 - loss: 1.7779 - acc: 0.66 - ETA: 22:11 - loss: 1.7766 - acc: 0.66 - ETA: 22:05 - loss: 1.7768 - acc: 0.66 - ETA: 21:58 - loss: 1.7760 - acc: 0.66 - ETA: 21:53 - loss: 1.7761 - acc: 0.66 - ETA: 21:48 - loss: 1.7762 - acc: 0.66 - ETA: 21:42 - loss: 1.7766 - acc: 0.66 - ETA: 21:37 - loss: 1.7769 - acc: 0.66 - ETA: 21:32 - loss: 1.7773 - acc: 0.66 - ETA: 21:28 - loss: 1.7780 - acc: 0.66 - ETA: 21:22 - loss: 1.7784 - acc: 0.66 - ETA: 21:17 - loss: 1.7782 - acc: 0.66 - ETA: 21:11 - loss: 1.7802 - acc: 0.66 - ETA: 21:06 - loss: 1.7801 - acc: 0.66 - ETA: 21:03 - loss: 1.7805 - acc: 0.66 - ETA: 20:57 - loss: 1.7818 - acc: 0.66 - ETA: 20:51 - loss: 1.7823 - acc: 0.66 - ETA: 20:46 - loss: 1.7821 - acc: 0.66 - ETA: 20:40 - loss: 1.7823 - acc: 0.66 - ETA: 20:34 - loss: 1.7830 - acc: 0.66 - ETA: 20:30 - loss: 1.7837 - acc: 0.66 - ETA: 20:25 - loss: 1.7833 - acc: 0.66 - ETA: 20:19 - loss: 1.7834 - acc: 0.66 - ETA: 20:13 - loss: 1.7827 - acc: 0.66 - ETA: 20:06 - loss: 1.7825 - acc: 0.66 - ETA: 20:00 - loss: 1.7840 - acc: 0.66 - ETA: 19:55 - loss: 1.7834 - acc: 0.66 - ETA: 19:50 - loss: 1.7841 - acc: 0.66 - ETA: 19:46 - loss: 1.7843 - acc: 0.66 - ETA: 19:43 - loss: 1.7848 - acc: 0.66 - ETA: 19:38 - loss: 1.7852 - acc: 0.66 - ETA: 19:34 - loss: 1.7846 - acc: 0.66 - ETA: 19:28 - loss: 1.7849 - acc: 0.66 - ETA: 19:22 - loss: 1.7852 - acc: 0.66 - ETA: 19:17 - loss: 1.7860 - acc: 0.66 - ETA: 19:11 - loss: 1.7861 - acc: 0.66 - ETA: 19:06 - loss: 1.7859 - acc: 0.66 - ETA: 19:01 - loss: 1.7858 - acc: 0.66 - ETA: 18:56 - loss: 1.7857 - acc: 0.66 - ETA: 18:50 - loss: 1.7854 - acc: 0.66 - ETA: 18:44 - loss: 1.7857 - acc: 0.66 - ETA: 18:39 - loss: 1.7861 - acc: 0.66 - ETA: 18:33 - loss: 1.7856 - acc: 0.66 - ETA: 18:27 - loss: 1.7851 - acc: 0.66 - ETA: 18:20 - loss: 1.7856 - acc: 0.66 - ETA: 18:14 - loss: 1.7856 - acc: 0.66 - ETA: 18:08 - loss: 1.7872 - acc: 0.66 - ETA: 18:02 - loss: 1.7867 - acc: 0.66 - ETA: 17:56 - loss: 1.7867 - acc: 0.66 - ETA: 17:49 - loss: 1.7859 - acc: 0.66 - ETA: 17:43 - loss: 1.7863 - acc: 0.66 - ETA: 17:37 - loss: 1.7866 - acc: 0.66 - ETA: 17:31 - loss: 1.7878 - acc: 0.66 - ETA: 17:24 - loss: 1.7878 - acc: 0.66 - ETA: 17:18 - loss: 1.7884 - acc: 0.66 - ETA: 17:12 - loss: 1.7883 - acc: 0.66 - ETA: 17:06 - loss: 1.7886 - acc: 0.66 - ETA: 17:00 - loss: 1.7895 - acc: 0.66 - ETA: 16:54 - loss: 1.7896 - acc: 0.66 - ETA: 16:48 - loss: 1.7898 - acc: 0.66 - ETA: 16:42 - loss: 1.7901 - acc: 0.66 - ETA: 16:36 - loss: 1.7901 - acc: 0.66 - ETA: 16:31 - loss: 1.7904 - acc: 0.66 - ETA: 16:26 - loss: 1.7907 - acc: 0.66 - ETA: 16:21 - loss: 1.7916 - acc: 0.66 - ETA: 16:17 - loss: 1.7922 - acc: 0.66 - ETA: 16:12 - loss: 1.7929 - acc: 0.66 - ETA: 16:07 - loss: 1.7930 - acc: 0.66 - ETA: 16:01 - loss: 1.7934 - acc: 0.66 - ETA: 15:55 - loss: 1.7935 - acc: 0.66 - ETA: 15:49 - loss: 1.7936 - acc: 0.66 - ETA: 15:43 - loss: 1.7938 - acc: 0.66 - ETA: 15:37 - loss: 1.7944 - acc: 0.66 - ETA: 15:31 - loss: 1.7938 - acc: 0.66 - ETA: 15:25 - loss: 1.7933 - acc: 0.66 - ETA: 15:19 - loss: 1.7937 - acc: 0.66 - ETA: 15:14 - loss: 1.7938 - acc: 0.66 - ETA: 15:08 - loss: 1.7938 - acc: 0.66 - ETA: 15:02 - loss: 1.7929 - acc: 0.66 - ETA: 14:57 - loss: 1.7929 - acc: 0.66 - ETA: 14:51 - loss: 1.7924 - acc: 0.66 - ETA: 14:45 - loss: 1.7923 - acc: 0.66 - ETA: 14:39 - loss: 1.7932 - acc: 0.66 - ETA: 14:33 - loss: 1.7927 - acc: 0.66 - ETA: 14:27 - loss: 1.7930 - acc: 0.66 - ETA: 14:21 - loss: 1.7930 - acc: 0.66 - ETA: 14:15 - loss: 1.7930 - acc: 0.66 - ETA: 14:10 - loss: 1.7922 - acc: 0.66 - ETA: 14:04 - loss: 1.7925 - acc: 0.66 - ETA: 13:58 - loss: 1.7929 - acc: 0.66 - ETA: 13:52 - loss: 1.7926 - acc: 0.66 - ETA: 13:46 - loss: 1.7924 - acc: 0.66 - ETA: 13:41 - loss: 1.7922 - acc: 0.66 - ETA: 13:35 - loss: 1.7932 - acc: 0.66 - ETA: 13:29 - loss: 1.7935 - acc: 0.66 - ETA: 13:23 - loss: 1.7940 - acc: 0.66 - ETA: 13:18 - loss: 1.7942 - acc: 0.66 - ETA: 13:13 - loss: 1.7944 - acc: 0.66 - ETA: 13:08 - loss: 1.7948 - acc: 0.66 - ETA: 13:02 - loss: 1.7942 - acc: 0.66 - ETA: 12:56 - loss: 1.7949 - acc: 0.66 - ETA: 12:50 - loss: 1.7956 - acc: 0.66 - ETA: 12:45 - loss: 1.7947 - acc: 0.66 - ETA: 12:39 - loss: 1.7959 - acc: 0.66 - ETA: 12:33 - loss: 1.7960 - acc: 0.66 - ETA: 12:28 - loss: 1.7966 - acc: 0.66 - ETA: 12:23 - loss: 1.7971 - acc: 0.66 - ETA: 12:17 - loss: 1.7964 - acc: 0.66 - ETA: 12:11 - loss: 1.7963 - acc: 0.66 - ETA: 12:05 - loss: 1.7963 - acc: 0.6622"
     ]
    },
    {
     "name": "stdout",
     "output_type": "stream",
     "text": [
      "42374/42374 [==============================] - ETA: 11:59 - loss: 1.7961 - acc: 0.66 - ETA: 11:53 - loss: 1.7967 - acc: 0.66 - ETA: 11:47 - loss: 1.7965 - acc: 0.66 - ETA: 11:41 - loss: 1.7973 - acc: 0.66 - ETA: 11:36 - loss: 1.7977 - acc: 0.66 - ETA: 11:30 - loss: 1.7976 - acc: 0.66 - ETA: 11:24 - loss: 1.7981 - acc: 0.66 - ETA: 11:19 - loss: 1.7988 - acc: 0.66 - ETA: 11:13 - loss: 1.7998 - acc: 0.66 - ETA: 11:08 - loss: 1.7995 - acc: 0.66 - ETA: 11:02 - loss: 1.7990 - acc: 0.66 - ETA: 10:56 - loss: 1.8003 - acc: 0.66 - ETA: 10:51 - loss: 1.8008 - acc: 0.66 - ETA: 10:45 - loss: 1.8007 - acc: 0.66 - ETA: 10:40 - loss: 1.8006 - acc: 0.66 - ETA: 10:34 - loss: 1.8001 - acc: 0.66 - ETA: 10:28 - loss: 1.8004 - acc: 0.66 - ETA: 10:22 - loss: 1.7999 - acc: 0.66 - ETA: 10:16 - loss: 1.7993 - acc: 0.66 - ETA: 10:10 - loss: 1.7993 - acc: 0.66 - ETA: 10:04 - loss: 1.7990 - acc: 0.66 - ETA: 9:58 - loss: 1.7994 - acc: 0.6623 - ETA: 9:52 - loss: 1.7994 - acc: 0.662 - ETA: 9:47 - loss: 1.8001 - acc: 0.662 - ETA: 9:41 - loss: 1.7999 - acc: 0.662 - ETA: 9:35 - loss: 1.8008 - acc: 0.662 - ETA: 9:29 - loss: 1.8013 - acc: 0.662 - ETA: 9:23 - loss: 1.8012 - acc: 0.662 - ETA: 9:17 - loss: 1.8005 - acc: 0.662 - ETA: 9:11 - loss: 1.8010 - acc: 0.662 - ETA: 9:05 - loss: 1.8010 - acc: 0.662 - ETA: 8:59 - loss: 1.8009 - acc: 0.662 - ETA: 8:53 - loss: 1.8010 - acc: 0.662 - ETA: 8:48 - loss: 1.8009 - acc: 0.662 - ETA: 8:42 - loss: 1.8007 - acc: 0.662 - ETA: 8:36 - loss: 1.8002 - acc: 0.662 - ETA: 8:30 - loss: 1.8005 - acc: 0.662 - ETA: 8:24 - loss: 1.8011 - acc: 0.662 - ETA: 8:18 - loss: 1.8016 - acc: 0.662 - ETA: 8:13 - loss: 1.8017 - acc: 0.662 - ETA: 8:07 - loss: 1.8021 - acc: 0.662 - ETA: 8:01 - loss: 1.8018 - acc: 0.662 - ETA: 7:55 - loss: 1.8020 - acc: 0.662 - ETA: 7:49 - loss: 1.8024 - acc: 0.662 - ETA: 7:44 - loss: 1.8028 - acc: 0.661 - ETA: 7:38 - loss: 1.8035 - acc: 0.661 - ETA: 7:32 - loss: 1.8042 - acc: 0.661 - ETA: 7:26 - loss: 1.8038 - acc: 0.661 - ETA: 7:21 - loss: 1.8040 - acc: 0.661 - ETA: 7:15 - loss: 1.8044 - acc: 0.661 - ETA: 7:09 - loss: 1.8052 - acc: 0.661 - ETA: 7:03 - loss: 1.8057 - acc: 0.661 - ETA: 6:58 - loss: 1.8060 - acc: 0.661 - ETA: 6:52 - loss: 1.8063 - acc: 0.661 - ETA: 6:46 - loss: 1.8063 - acc: 0.661 - ETA: 6:40 - loss: 1.8061 - acc: 0.661 - ETA: 6:35 - loss: 1.8065 - acc: 0.661 - ETA: 6:29 - loss: 1.8069 - acc: 0.661 - ETA: 6:23 - loss: 1.8073 - acc: 0.661 - ETA: 6:17 - loss: 1.8079 - acc: 0.661 - ETA: 6:12 - loss: 1.8084 - acc: 0.661 - ETA: 6:06 - loss: 1.8082 - acc: 0.661 - ETA: 6:00 - loss: 1.8084 - acc: 0.661 - ETA: 5:55 - loss: 1.8088 - acc: 0.661 - ETA: 5:49 - loss: 1.8090 - acc: 0.661 - ETA: 5:43 - loss: 1.8095 - acc: 0.661 - ETA: 5:37 - loss: 1.8098 - acc: 0.660 - ETA: 5:32 - loss: 1.8101 - acc: 0.660 - ETA: 5:26 - loss: 1.8098 - acc: 0.661 - ETA: 5:20 - loss: 1.8099 - acc: 0.661 - ETA: 5:15 - loss: 1.8097 - acc: 0.661 - ETA: 5:09 - loss: 1.8100 - acc: 0.661 - ETA: 5:03 - loss: 1.8106 - acc: 0.660 - ETA: 4:58 - loss: 1.8108 - acc: 0.660 - ETA: 4:52 - loss: 1.8108 - acc: 0.660 - ETA: 4:46 - loss: 1.8113 - acc: 0.660 - ETA: 4:41 - loss: 1.8112 - acc: 0.660 - ETA: 4:35 - loss: 1.8111 - acc: 0.660 - ETA: 4:29 - loss: 1.8116 - acc: 0.660 - ETA: 4:24 - loss: 1.8113 - acc: 0.660 - ETA: 4:18 - loss: 1.8114 - acc: 0.660 - ETA: 4:13 - loss: 1.8113 - acc: 0.660 - ETA: 4:07 - loss: 1.8119 - acc: 0.660 - ETA: 4:01 - loss: 1.8121 - acc: 0.660 - ETA: 3:56 - loss: 1.8120 - acc: 0.660 - ETA: 3:50 - loss: 1.8122 - acc: 0.660 - ETA: 3:44 - loss: 1.8123 - acc: 0.660 - ETA: 3:39 - loss: 1.8122 - acc: 0.660 - ETA: 3:33 - loss: 1.8120 - acc: 0.660 - ETA: 3:27 - loss: 1.8121 - acc: 0.660 - ETA: 3:22 - loss: 1.8121 - acc: 0.660 - ETA: 3:16 - loss: 1.8120 - acc: 0.660 - ETA: 3:10 - loss: 1.8122 - acc: 0.660 - ETA: 3:05 - loss: 1.8124 - acc: 0.660 - ETA: 2:59 - loss: 1.8119 - acc: 0.660 - ETA: 2:54 - loss: 1.8119 - acc: 0.661 - ETA: 2:48 - loss: 1.8117 - acc: 0.661 - ETA: 2:42 - loss: 1.8123 - acc: 0.660 - ETA: 2:37 - loss: 1.8123 - acc: 0.660 - ETA: 2:31 - loss: 1.8122 - acc: 0.660 - ETA: 2:25 - loss: 1.8130 - acc: 0.660 - ETA: 2:20 - loss: 1.8126 - acc: 0.661 - ETA: 2:14 - loss: 1.8125 - acc: 0.661 - ETA: 2:08 - loss: 1.8122 - acc: 0.661 - ETA: 2:03 - loss: 1.8129 - acc: 0.660 - ETA: 1:57 - loss: 1.8129 - acc: 0.661 - ETA: 1:52 - loss: 1.8135 - acc: 0.661 - ETA: 1:46 - loss: 1.8141 - acc: 0.660 - ETA: 1:41 - loss: 1.8142 - acc: 0.660 - ETA: 1:35 - loss: 1.8142 - acc: 0.660 - ETA: 1:29 - loss: 1.8149 - acc: 0.660 - ETA: 1:24 - loss: 1.8156 - acc: 0.660 - ETA: 1:18 - loss: 1.8161 - acc: 0.660 - ETA: 1:13 - loss: 1.8163 - acc: 0.660 - ETA: 1:07 - loss: 1.8158 - acc: 0.660 - ETA: 1:01 - loss: 1.8161 - acc: 0.660 - ETA: 56s - loss: 1.8163 - acc: 0.660 - ETA: 50s - loss: 1.8161 - acc: 0.66 - ETA: 45s - loss: 1.8164 - acc: 0.66 - ETA: 39s - loss: 1.8161 - acc: 0.66 - ETA: 33s - loss: 1.8161 - acc: 0.66 - ETA: 28s - loss: 1.8161 - acc: 0.66 - ETA: 22s - loss: 1.8161 - acc: 0.66 - ETA: 17s - loss: 1.8162 - acc: 0.66 - ETA: 11s - loss: 1.8162 - acc: 0.66 - ETA: 5s - loss: 1.8162 - acc: 0.6605 - ETA: 0s - loss: 1.8162 - acc: 0.660 - 1853s 44ms/sample - loss: 1.8161 - acc: 0.6605\n",
      "Epoch 15/30\n"
     ]
    },
    {
     "name": "stdout",
     "output_type": "stream",
     "text": [
      "26112/42374 [=================>............] - ETA: 29:20 - loss: 1.7154 - acc: 0.67 - ETA: 29:00 - loss: 1.7228 - acc: 0.66 - ETA: 28:53 - loss: 1.6971 - acc: 0.66 - ETA: 28:48 - loss: 1.7101 - acc: 0.66 - ETA: 28:43 - loss: 1.6991 - acc: 0.66 - ETA: 28:34 - loss: 1.7110 - acc: 0.66 - ETA: 28:26 - loss: 1.7241 - acc: 0.66 - ETA: 28:21 - loss: 1.7247 - acc: 0.66 - ETA: 28:13 - loss: 1.7069 - acc: 0.66 - ETA: 28:08 - loss: 1.7038 - acc: 0.66 - ETA: 28:01 - loss: 1.7193 - acc: 0.66 - ETA: 27:55 - loss: 1.7108 - acc: 0.67 - ETA: 27:51 - loss: 1.7091 - acc: 0.67 - ETA: 27:47 - loss: 1.7246 - acc: 0.66 - ETA: 27:40 - loss: 1.7321 - acc: 0.66 - ETA: 27:37 - loss: 1.7307 - acc: 0.66 - ETA: 27:30 - loss: 1.7277 - acc: 0.66 - ETA: 27:24 - loss: 1.7237 - acc: 0.66 - ETA: 27:21 - loss: 1.7279 - acc: 0.66 - ETA: 27:16 - loss: 1.7291 - acc: 0.66 - ETA: 27:10 - loss: 1.7315 - acc: 0.66 - ETA: 27:07 - loss: 1.7345 - acc: 0.66 - ETA: 27:00 - loss: 1.7333 - acc: 0.66 - ETA: 26:54 - loss: 1.7308 - acc: 0.66 - ETA: 26:51 - loss: 1.7348 - acc: 0.66 - ETA: 26:45 - loss: 1.7367 - acc: 0.66 - ETA: 26:40 - loss: 1.7432 - acc: 0.66 - ETA: 26:36 - loss: 1.7381 - acc: 0.66 - ETA: 26:31 - loss: 1.7427 - acc: 0.66 - ETA: 26:24 - loss: 1.7469 - acc: 0.66 - ETA: 26:20 - loss: 1.7502 - acc: 0.66 - ETA: 26:15 - loss: 1.7506 - acc: 0.66 - ETA: 26:09 - loss: 1.7487 - acc: 0.66 - ETA: 26:04 - loss: 1.7471 - acc: 0.66 - ETA: 25:59 - loss: 1.7438 - acc: 0.66 - ETA: 25:53 - loss: 1.7444 - acc: 0.66 - ETA: 25:49 - loss: 1.7444 - acc: 0.66 - ETA: 25:43 - loss: 1.7441 - acc: 0.66 - ETA: 25:38 - loss: 1.7436 - acc: 0.66 - ETA: 25:33 - loss: 1.7435 - acc: 0.66 - ETA: 25:27 - loss: 1.7445 - acc: 0.66 - ETA: 25:22 - loss: 1.7473 - acc: 0.66 - ETA: 25:19 - loss: 1.7450 - acc: 0.66 - ETA: 25:20 - loss: 1.7459 - acc: 0.66 - ETA: 25:21 - loss: 1.7487 - acc: 0.66 - ETA: 25:16 - loss: 1.7499 - acc: 0.66 - ETA: 25:10 - loss: 1.7507 - acc: 0.66 - ETA: 25:04 - loss: 1.7507 - acc: 0.66 - ETA: 24:59 - loss: 1.7506 - acc: 0.66 - ETA: 24:53 - loss: 1.7515 - acc: 0.66 - ETA: 24:47 - loss: 1.7539 - acc: 0.66 - ETA: 24:42 - loss: 1.7546 - acc: 0.66 - ETA: 24:37 - loss: 1.7577 - acc: 0.66 - ETA: 24:31 - loss: 1.7568 - acc: 0.66 - ETA: 24:26 - loss: 1.7562 - acc: 0.66 - ETA: 24:21 - loss: 1.7558 - acc: 0.66 - ETA: 24:15 - loss: 1.7565 - acc: 0.66 - ETA: 24:10 - loss: 1.7564 - acc: 0.66 - ETA: 24:04 - loss: 1.7558 - acc: 0.66 - ETA: 23:58 - loss: 1.7568 - acc: 0.66 - ETA: 23:53 - loss: 1.7576 - acc: 0.66 - ETA: 23:47 - loss: 1.7575 - acc: 0.66 - ETA: 23:42 - loss: 1.7603 - acc: 0.66 - ETA: 23:37 - loss: 1.7602 - acc: 0.66 - ETA: 23:31 - loss: 1.7616 - acc: 0.66 - ETA: 23:25 - loss: 1.7614 - acc: 0.66 - ETA: 23:20 - loss: 1.7623 - acc: 0.66 - ETA: 23:15 - loss: 1.7640 - acc: 0.66 - ETA: 23:09 - loss: 1.7652 - acc: 0.66 - ETA: 23:04 - loss: 1.7663 - acc: 0.66 - ETA: 22:59 - loss: 1.7691 - acc: 0.66 - ETA: 22:54 - loss: 1.7687 - acc: 0.66 - ETA: 22:49 - loss: 1.7683 - acc: 0.66 - ETA: 22:43 - loss: 1.7666 - acc: 0.66 - ETA: 22:37 - loss: 1.7651 - acc: 0.66 - ETA: 22:32 - loss: 1.7634 - acc: 0.66 - ETA: 22:27 - loss: 1.7631 - acc: 0.66 - ETA: 22:21 - loss: 1.7627 - acc: 0.66 - ETA: 22:16 - loss: 1.7623 - acc: 0.66 - ETA: 22:11 - loss: 1.7623 - acc: 0.66 - ETA: 22:05 - loss: 1.7607 - acc: 0.66 - ETA: 22:00 - loss: 1.7598 - acc: 0.66 - ETA: 21:54 - loss: 1.7621 - acc: 0.66 - ETA: 21:48 - loss: 1.7623 - acc: 0.66 - ETA: 21:43 - loss: 1.7640 - acc: 0.66 - ETA: 21:38 - loss: 1.7639 - acc: 0.66 - ETA: 21:32 - loss: 1.7629 - acc: 0.66 - ETA: 21:27 - loss: 1.7646 - acc: 0.66 - ETA: 21:22 - loss: 1.7634 - acc: 0.66 - ETA: 21:17 - loss: 1.7650 - acc: 0.66 - ETA: 21:12 - loss: 1.7652 - acc: 0.66 - ETA: 21:06 - loss: 1.7654 - acc: 0.66 - ETA: 21:01 - loss: 1.7658 - acc: 0.66 - ETA: 20:56 - loss: 1.7651 - acc: 0.66 - ETA: 20:50 - loss: 1.7642 - acc: 0.66 - ETA: 20:45 - loss: 1.7633 - acc: 0.66 - ETA: 20:40 - loss: 1.7639 - acc: 0.66 - ETA: 20:34 - loss: 1.7628 - acc: 0.66 - ETA: 20:29 - loss: 1.7621 - acc: 0.66 - ETA: 20:24 - loss: 1.7606 - acc: 0.66 - ETA: 20:18 - loss: 1.7618 - acc: 0.66 - ETA: 20:13 - loss: 1.7624 - acc: 0.66 - ETA: 20:08 - loss: 1.7624 - acc: 0.66 - ETA: 20:02 - loss: 1.7620 - acc: 0.66 - ETA: 19:57 - loss: 1.7614 - acc: 0.66 - ETA: 19:52 - loss: 1.7618 - acc: 0.66 - ETA: 19:47 - loss: 1.7635 - acc: 0.66 - ETA: 19:41 - loss: 1.7644 - acc: 0.66 - ETA: 19:37 - loss: 1.7637 - acc: 0.66 - ETA: 19:31 - loss: 1.7649 - acc: 0.66 - ETA: 19:26 - loss: 1.7662 - acc: 0.66 - ETA: 19:21 - loss: 1.7649 - acc: 0.66 - ETA: 19:15 - loss: 1.7649 - acc: 0.66 - ETA: 19:10 - loss: 1.7635 - acc: 0.66 - ETA: 19:05 - loss: 1.7641 - acc: 0.66 - ETA: 19:00 - loss: 1.7644 - acc: 0.66 - ETA: 18:54 - loss: 1.7637 - acc: 0.66 - ETA: 18:48 - loss: 1.7621 - acc: 0.66 - ETA: 18:43 - loss: 1.7622 - acc: 0.66 - ETA: 18:38 - loss: 1.7609 - acc: 0.66 - ETA: 18:33 - loss: 1.7621 - acc: 0.66 - ETA: 18:28 - loss: 1.7627 - acc: 0.66 - ETA: 18:22 - loss: 1.7626 - acc: 0.66 - ETA: 18:17 - loss: 1.7628 - acc: 0.66 - ETA: 18:12 - loss: 1.7641 - acc: 0.66 - ETA: 18:06 - loss: 1.7640 - acc: 0.66 - ETA: 18:01 - loss: 1.7648 - acc: 0.66 - ETA: 17:55 - loss: 1.7643 - acc: 0.66 - ETA: 17:50 - loss: 1.7646 - acc: 0.66 - ETA: 17:45 - loss: 1.7645 - acc: 0.66 - ETA: 17:39 - loss: 1.7653 - acc: 0.66 - ETA: 17:34 - loss: 1.7649 - acc: 0.66 - ETA: 17:28 - loss: 1.7647 - acc: 0.66 - ETA: 17:23 - loss: 1.7646 - acc: 0.66 - ETA: 17:17 - loss: 1.7642 - acc: 0.66 - ETA: 17:12 - loss: 1.7648 - acc: 0.66 - ETA: 17:07 - loss: 1.7640 - acc: 0.66 - ETA: 17:01 - loss: 1.7640 - acc: 0.66 - ETA: 16:56 - loss: 1.7639 - acc: 0.66 - ETA: 16:51 - loss: 1.7641 - acc: 0.66 - ETA: 16:45 - loss: 1.7641 - acc: 0.66 - ETA: 16:40 - loss: 1.7642 - acc: 0.66 - ETA: 16:35 - loss: 1.7643 - acc: 0.66 - ETA: 16:29 - loss: 1.7641 - acc: 0.66 - ETA: 16:24 - loss: 1.7645 - acc: 0.66 - ETA: 16:19 - loss: 1.7649 - acc: 0.66 - ETA: 16:13 - loss: 1.7657 - acc: 0.66 - ETA: 16:08 - loss: 1.7658 - acc: 0.66 - ETA: 16:03 - loss: 1.7660 - acc: 0.66 - ETA: 15:57 - loss: 1.7652 - acc: 0.66 - ETA: 15:52 - loss: 1.7656 - acc: 0.66 - ETA: 15:46 - loss: 1.7652 - acc: 0.66 - ETA: 15:41 - loss: 1.7651 - acc: 0.66 - ETA: 15:36 - loss: 1.7645 - acc: 0.66 - ETA: 15:31 - loss: 1.7653 - acc: 0.66 - ETA: 15:25 - loss: 1.7645 - acc: 0.66 - ETA: 15:20 - loss: 1.7650 - acc: 0.66 - ETA: 15:15 - loss: 1.7656 - acc: 0.66 - ETA: 15:09 - loss: 1.7652 - acc: 0.66 - ETA: 15:04 - loss: 1.7651 - acc: 0.66 - ETA: 14:59 - loss: 1.7652 - acc: 0.66 - ETA: 14:53 - loss: 1.7654 - acc: 0.66 - ETA: 14:48 - loss: 1.7654 - acc: 0.66 - ETA: 14:43 - loss: 1.7663 - acc: 0.66 - ETA: 14:37 - loss: 1.7673 - acc: 0.66 - ETA: 14:32 - loss: 1.7677 - acc: 0.66 - ETA: 14:27 - loss: 1.7672 - acc: 0.66 - ETA: 14:22 - loss: 1.7671 - acc: 0.66 - ETA: 14:16 - loss: 1.7668 - acc: 0.66 - ETA: 14:11 - loss: 1.7669 - acc: 0.66 - ETA: 14:06 - loss: 1.7670 - acc: 0.66 - ETA: 14:00 - loss: 1.7665 - acc: 0.66 - ETA: 13:55 - loss: 1.7664 - acc: 0.66 - ETA: 13:50 - loss: 1.7667 - acc: 0.66 - ETA: 13:44 - loss: 1.7657 - acc: 0.66 - ETA: 13:39 - loss: 1.7655 - acc: 0.66 - ETA: 13:34 - loss: 1.7663 - acc: 0.66 - ETA: 13:28 - loss: 1.7665 - acc: 0.66 - ETA: 13:23 - loss: 1.7663 - acc: 0.66 - ETA: 13:18 - loss: 1.7662 - acc: 0.66 - ETA: 13:12 - loss: 1.7665 - acc: 0.66 - ETA: 13:07 - loss: 1.7664 - acc: 0.66 - ETA: 13:02 - loss: 1.7661 - acc: 0.66 - ETA: 12:56 - loss: 1.7657 - acc: 0.66 - ETA: 12:51 - loss: 1.7660 - acc: 0.66 - ETA: 12:46 - loss: 1.7652 - acc: 0.66 - ETA: 12:40 - loss: 1.7649 - acc: 0.66 - ETA: 12:35 - loss: 1.7645 - acc: 0.66 - ETA: 12:30 - loss: 1.7644 - acc: 0.66 - ETA: 12:25 - loss: 1.7656 - acc: 0.66 - ETA: 12:19 - loss: 1.7665 - acc: 0.66 - ETA: 12:14 - loss: 1.7663 - acc: 0.66 - ETA: 12:09 - loss: 1.7673 - acc: 0.66 - ETA: 12:03 - loss: 1.7675 - acc: 0.66 - ETA: 11:58 - loss: 1.7674 - acc: 0.66 - ETA: 11:53 - loss: 1.7683 - acc: 0.66 - ETA: 11:47 - loss: 1.7681 - acc: 0.66 - ETA: 11:42 - loss: 1.7685 - acc: 0.66 - ETA: 11:37 - loss: 1.7687 - acc: 0.66 - ETA: 11:31 - loss: 1.7693 - acc: 0.66 - ETA: 11:26 - loss: 1.7700 - acc: 0.66 - ETA: 11:21 - loss: 1.7702 - acc: 0.66 - ETA: 11:15 - loss: 1.7715 - acc: 0.66 - ETA: 11:10 - loss: 1.7720 - acc: 0.6641"
     ]
    },
    {
     "name": "stdout",
     "output_type": "stream",
     "text": [
      "42374/42374 [==============================] - ETA: 11:05 - loss: 1.7721 - acc: 0.66 - ETA: 10:59 - loss: 1.7724 - acc: 0.66 - ETA: 10:54 - loss: 1.7724 - acc: 0.66 - ETA: 10:49 - loss: 1.7717 - acc: 0.66 - ETA: 10:43 - loss: 1.7717 - acc: 0.66 - ETA: 10:38 - loss: 1.7715 - acc: 0.66 - ETA: 10:33 - loss: 1.7716 - acc: 0.66 - ETA: 10:27 - loss: 1.7721 - acc: 0.66 - ETA: 10:22 - loss: 1.7724 - acc: 0.66 - ETA: 10:17 - loss: 1.7726 - acc: 0.66 - ETA: 10:12 - loss: 1.7729 - acc: 0.66 - ETA: 10:06 - loss: 1.7722 - acc: 0.66 - ETA: 10:01 - loss: 1.7722 - acc: 0.66 - ETA: 9:56 - loss: 1.7720 - acc: 0.6644 - ETA: 9:51 - loss: 1.7726 - acc: 0.664 - ETA: 9:45 - loss: 1.7726 - acc: 0.664 - ETA: 9:40 - loss: 1.7722 - acc: 0.664 - ETA: 9:35 - loss: 1.7724 - acc: 0.664 - ETA: 9:30 - loss: 1.7726 - acc: 0.664 - ETA: 9:24 - loss: 1.7731 - acc: 0.664 - ETA: 9:19 - loss: 1.7737 - acc: 0.664 - ETA: 9:14 - loss: 1.7745 - acc: 0.664 - ETA: 9:08 - loss: 1.7742 - acc: 0.664 - ETA: 9:03 - loss: 1.7748 - acc: 0.664 - ETA: 8:58 - loss: 1.7751 - acc: 0.664 - ETA: 8:52 - loss: 1.7755 - acc: 0.664 - ETA: 8:47 - loss: 1.7754 - acc: 0.664 - ETA: 8:42 - loss: 1.7761 - acc: 0.664 - ETA: 8:37 - loss: 1.7762 - acc: 0.664 - ETA: 8:31 - loss: 1.7767 - acc: 0.663 - ETA: 8:26 - loss: 1.7776 - acc: 0.663 - ETA: 8:21 - loss: 1.7778 - acc: 0.663 - ETA: 8:15 - loss: 1.7775 - acc: 0.663 - ETA: 8:10 - loss: 1.7774 - acc: 0.663 - ETA: 8:05 - loss: 1.7779 - acc: 0.663 - ETA: 8:00 - loss: 1.7773 - acc: 0.663 - ETA: 7:54 - loss: 1.7777 - acc: 0.663 - ETA: 7:49 - loss: 1.7780 - acc: 0.663 - ETA: 7:44 - loss: 1.7785 - acc: 0.663 - ETA: 7:38 - loss: 1.7785 - acc: 0.663 - ETA: 7:33 - loss: 1.7791 - acc: 0.663 - ETA: 7:28 - loss: 1.7790 - acc: 0.663 - ETA: 7:23 - loss: 1.7790 - acc: 0.663 - ETA: 7:17 - loss: 1.7788 - acc: 0.663 - ETA: 7:12 - loss: 1.7789 - acc: 0.663 - ETA: 7:07 - loss: 1.7795 - acc: 0.663 - ETA: 7:01 - loss: 1.7794 - acc: 0.663 - ETA: 6:56 - loss: 1.7792 - acc: 0.663 - ETA: 6:51 - loss: 1.7788 - acc: 0.663 - ETA: 6:46 - loss: 1.7790 - acc: 0.663 - ETA: 6:40 - loss: 1.7791 - acc: 0.663 - ETA: 6:35 - loss: 1.7790 - acc: 0.663 - ETA: 6:30 - loss: 1.7789 - acc: 0.663 - ETA: 6:24 - loss: 1.7789 - acc: 0.663 - ETA: 6:19 - loss: 1.7794 - acc: 0.663 - ETA: 6:14 - loss: 1.7796 - acc: 0.663 - ETA: 6:09 - loss: 1.7805 - acc: 0.663 - ETA: 6:03 - loss: 1.7804 - acc: 0.663 - ETA: 5:58 - loss: 1.7802 - acc: 0.663 - ETA: 5:53 - loss: 1.7807 - acc: 0.663 - ETA: 5:47 - loss: 1.7806 - acc: 0.663 - ETA: 5:42 - loss: 1.7809 - acc: 0.663 - ETA: 5:37 - loss: 1.7808 - acc: 0.663 - ETA: 5:32 - loss: 1.7805 - acc: 0.663 - ETA: 5:26 - loss: 1.7808 - acc: 0.663 - ETA: 5:21 - loss: 1.7809 - acc: 0.663 - ETA: 5:16 - loss: 1.7816 - acc: 0.663 - ETA: 5:11 - loss: 1.7815 - acc: 0.663 - ETA: 5:05 - loss: 1.7816 - acc: 0.663 - ETA: 5:00 - loss: 1.7814 - acc: 0.663 - ETA: 4:55 - loss: 1.7812 - acc: 0.663 - ETA: 4:49 - loss: 1.7809 - acc: 0.663 - ETA: 4:44 - loss: 1.7806 - acc: 0.663 - ETA: 4:39 - loss: 1.7807 - acc: 0.663 - ETA: 4:34 - loss: 1.7810 - acc: 0.663 - ETA: 4:28 - loss: 1.7810 - acc: 0.663 - ETA: 4:23 - loss: 1.7814 - acc: 0.663 - ETA: 4:18 - loss: 1.7819 - acc: 0.663 - ETA: 4:13 - loss: 1.7816 - acc: 0.663 - ETA: 4:07 - loss: 1.7818 - acc: 0.663 - ETA: 4:02 - loss: 1.7815 - acc: 0.663 - ETA: 3:57 - loss: 1.7814 - acc: 0.663 - ETA: 3:52 - loss: 1.7813 - acc: 0.663 - ETA: 3:46 - loss: 1.7814 - acc: 0.663 - ETA: 3:41 - loss: 1.7815 - acc: 0.663 - ETA: 3:36 - loss: 1.7817 - acc: 0.663 - ETA: 3:30 - loss: 1.7815 - acc: 0.663 - ETA: 3:25 - loss: 1.7819 - acc: 0.663 - ETA: 3:20 - loss: 1.7819 - acc: 0.663 - ETA: 3:15 - loss: 1.7818 - acc: 0.663 - ETA: 3:09 - loss: 1.7821 - acc: 0.663 - ETA: 3:04 - loss: 1.7823 - acc: 0.663 - ETA: 2:59 - loss: 1.7820 - acc: 0.663 - ETA: 2:54 - loss: 1.7818 - acc: 0.663 - ETA: 2:49 - loss: 1.7817 - acc: 0.663 - ETA: 2:44 - loss: 1.7817 - acc: 0.663 - ETA: 2:38 - loss: 1.7820 - acc: 0.663 - ETA: 2:33 - loss: 1.7824 - acc: 0.663 - ETA: 2:28 - loss: 1.7818 - acc: 0.663 - ETA: 2:23 - loss: 1.7817 - acc: 0.663 - ETA: 2:17 - loss: 1.7817 - acc: 0.663 - ETA: 2:12 - loss: 1.7818 - acc: 0.663 - ETA: 2:07 - loss: 1.7817 - acc: 0.663 - ETA: 2:01 - loss: 1.7819 - acc: 0.663 - ETA: 1:56 - loss: 1.7822 - acc: 0.663 - ETA: 1:51 - loss: 1.7826 - acc: 0.663 - ETA: 1:46 - loss: 1.7830 - acc: 0.663 - ETA: 1:40 - loss: 1.7833 - acc: 0.663 - ETA: 1:35 - loss: 1.7832 - acc: 0.663 - ETA: 1:30 - loss: 1.7830 - acc: 0.663 - ETA: 1:24 - loss: 1.7829 - acc: 0.663 - ETA: 1:19 - loss: 1.7829 - acc: 0.663 - ETA: 1:14 - loss: 1.7830 - acc: 0.663 - ETA: 1:09 - loss: 1.7833 - acc: 0.663 - ETA: 1:03 - loss: 1.7830 - acc: 0.663 - ETA: 58s - loss: 1.7830 - acc: 0.663 - ETA: 53s - loss: 1.7836 - acc: 0.66 - ETA: 47s - loss: 1.7839 - acc: 0.66 - ETA: 42s - loss: 1.7838 - acc: 0.66 - ETA: 37s - loss: 1.7837 - acc: 0.66 - ETA: 31s - loss: 1.7835 - acc: 0.66 - ETA: 26s - loss: 1.7838 - acc: 0.66 - ETA: 21s - loss: 1.7838 - acc: 0.66 - ETA: 16s - loss: 1.7842 - acc: 0.66 - ETA: 10s - loss: 1.7844 - acc: 0.66 - ETA: 5s - loss: 1.7848 - acc: 0.6635 - ETA: 0s - loss: 1.7847 - acc: 0.663 - 1753s 41ms/sample - loss: 1.7848 - acc: 0.6635\n",
      "Epoch 16/30\n"
     ]
    },
    {
     "name": "stdout",
     "output_type": "stream",
     "text": [
      "26112/42374 [=================>............] - ETA: 31:01 - loss: 1.6082 - acc: 0.69 - ETA: 30:05 - loss: 1.6715 - acc: 0.68 - ETA: 29:29 - loss: 1.6882 - acc: 0.67 - ETA: 29:11 - loss: 1.7188 - acc: 0.66 - ETA: 29:07 - loss: 1.7148 - acc: 0.67 - ETA: 28:50 - loss: 1.7005 - acc: 0.67 - ETA: 28:40 - loss: 1.7152 - acc: 0.67 - ETA: 28:40 - loss: 1.7132 - acc: 0.67 - ETA: 28:34 - loss: 1.7221 - acc: 0.67 - ETA: 28:29 - loss: 1.7133 - acc: 0.67 - ETA: 28:39 - loss: 1.7151 - acc: 0.67 - ETA: 28:42 - loss: 1.7109 - acc: 0.67 - ETA: 28:36 - loss: 1.7083 - acc: 0.67 - ETA: 28:31 - loss: 1.7040 - acc: 0.67 - ETA: 28:23 - loss: 1.7068 - acc: 0.67 - ETA: 28:21 - loss: 1.7021 - acc: 0.67 - ETA: 28:17 - loss: 1.6953 - acc: 0.67 - ETA: 28:07 - loss: 1.7039 - acc: 0.67 - ETA: 27:58 - loss: 1.6958 - acc: 0.67 - ETA: 27:50 - loss: 1.6973 - acc: 0.67 - ETA: 27:42 - loss: 1.6984 - acc: 0.67 - ETA: 27:34 - loss: 1.7013 - acc: 0.67 - ETA: 27:28 - loss: 1.7005 - acc: 0.67 - ETA: 27:20 - loss: 1.6948 - acc: 0.67 - ETA: 27:14 - loss: 1.6971 - acc: 0.67 - ETA: 27:09 - loss: 1.7006 - acc: 0.67 - ETA: 27:02 - loss: 1.7036 - acc: 0.67 - ETA: 26:56 - loss: 1.7017 - acc: 0.67 - ETA: 26:51 - loss: 1.7012 - acc: 0.67 - ETA: 26:43 - loss: 1.7069 - acc: 0.67 - ETA: 26:36 - loss: 1.7068 - acc: 0.67 - ETA: 26:31 - loss: 1.7083 - acc: 0.67 - ETA: 26:25 - loss: 1.7103 - acc: 0.67 - ETA: 26:18 - loss: 1.7105 - acc: 0.67 - ETA: 26:13 - loss: 1.7117 - acc: 0.66 - ETA: 26:07 - loss: 1.7115 - acc: 0.67 - ETA: 26:01 - loss: 1.7136 - acc: 0.66 - ETA: 25:56 - loss: 1.7126 - acc: 0.67 - ETA: 25:50 - loss: 1.7134 - acc: 0.67 - ETA: 25:44 - loss: 1.7132 - acc: 0.67 - ETA: 25:39 - loss: 1.7144 - acc: 0.66 - ETA: 25:34 - loss: 1.7144 - acc: 0.67 - ETA: 25:28 - loss: 1.7158 - acc: 0.67 - ETA: 25:22 - loss: 1.7154 - acc: 0.67 - ETA: 25:17 - loss: 1.7169 - acc: 0.66 - ETA: 25:11 - loss: 1.7179 - acc: 0.66 - ETA: 25:06 - loss: 1.7192 - acc: 0.66 - ETA: 25:00 - loss: 1.7161 - acc: 0.66 - ETA: 24:54 - loss: 1.7197 - acc: 0.66 - ETA: 24:49 - loss: 1.7212 - acc: 0.66 - ETA: 24:43 - loss: 1.7222 - acc: 0.66 - ETA: 24:37 - loss: 1.7229 - acc: 0.66 - ETA: 24:32 - loss: 1.7234 - acc: 0.66 - ETA: 24:26 - loss: 1.7254 - acc: 0.66 - ETA: 24:21 - loss: 1.7256 - acc: 0.66 - ETA: 24:15 - loss: 1.7255 - acc: 0.66 - ETA: 24:09 - loss: 1.7278 - acc: 0.66 - ETA: 24:04 - loss: 1.7252 - acc: 0.66 - ETA: 23:58 - loss: 1.7255 - acc: 0.66 - ETA: 23:53 - loss: 1.7234 - acc: 0.66 - ETA: 23:47 - loss: 1.7215 - acc: 0.66 - ETA: 23:42 - loss: 1.7187 - acc: 0.66 - ETA: 23:37 - loss: 1.7204 - acc: 0.66 - ETA: 23:32 - loss: 1.7206 - acc: 0.66 - ETA: 23:26 - loss: 1.7187 - acc: 0.66 - ETA: 23:21 - loss: 1.7184 - acc: 0.66 - ETA: 23:15 - loss: 1.7190 - acc: 0.66 - ETA: 23:09 - loss: 1.7187 - acc: 0.66 - ETA: 23:04 - loss: 1.7178 - acc: 0.67 - ETA: 22:58 - loss: 1.7176 - acc: 0.67 - ETA: 22:53 - loss: 1.7198 - acc: 0.66 - ETA: 22:47 - loss: 1.7180 - acc: 0.66 - ETA: 22:42 - loss: 1.7167 - acc: 0.67 - ETA: 22:36 - loss: 1.7179 - acc: 0.67 - ETA: 22:31 - loss: 1.7192 - acc: 0.66 - ETA: 22:25 - loss: 1.7165 - acc: 0.67 - ETA: 22:20 - loss: 1.7182 - acc: 0.66 - ETA: 22:14 - loss: 1.7183 - acc: 0.66 - ETA: 22:09 - loss: 1.7180 - acc: 0.66 - ETA: 22:03 - loss: 1.7170 - acc: 0.67 - ETA: 21:58 - loss: 1.7195 - acc: 0.66 - ETA: 21:53 - loss: 1.7187 - acc: 0.66 - ETA: 21:47 - loss: 1.7180 - acc: 0.66 - ETA: 21:42 - loss: 1.7191 - acc: 0.66 - ETA: 21:37 - loss: 1.7179 - acc: 0.66 - ETA: 21:31 - loss: 1.7176 - acc: 0.66 - ETA: 21:26 - loss: 1.7189 - acc: 0.66 - ETA: 21:21 - loss: 1.7196 - acc: 0.66 - ETA: 21:15 - loss: 1.7177 - acc: 0.66 - ETA: 21:10 - loss: 1.7180 - acc: 0.66 - ETA: 21:05 - loss: 1.7192 - acc: 0.66 - ETA: 20:59 - loss: 1.7189 - acc: 0.66 - ETA: 20:54 - loss: 1.7188 - acc: 0.66 - ETA: 20:49 - loss: 1.7181 - acc: 0.66 - ETA: 20:43 - loss: 1.7195 - acc: 0.66 - ETA: 20:38 - loss: 1.7215 - acc: 0.66 - ETA: 20:33 - loss: 1.7202 - acc: 0.66 - ETA: 20:27 - loss: 1.7208 - acc: 0.66 - ETA: 20:22 - loss: 1.7215 - acc: 0.66 - ETA: 20:17 - loss: 1.7217 - acc: 0.66 - ETA: 20:11 - loss: 1.7218 - acc: 0.66 - ETA: 20:06 - loss: 1.7221 - acc: 0.66 - ETA: 20:01 - loss: 1.7235 - acc: 0.66 - ETA: 19:56 - loss: 1.7236 - acc: 0.66 - ETA: 19:50 - loss: 1.7234 - acc: 0.66 - ETA: 19:45 - loss: 1.7250 - acc: 0.66 - ETA: 19:39 - loss: 1.7238 - acc: 0.66 - ETA: 19:34 - loss: 1.7234 - acc: 0.66 - ETA: 19:29 - loss: 1.7243 - acc: 0.66 - ETA: 19:23 - loss: 1.7241 - acc: 0.66 - ETA: 19:18 - loss: 1.7241 - acc: 0.66 - ETA: 19:13 - loss: 1.7237 - acc: 0.66 - ETA: 19:07 - loss: 1.7231 - acc: 0.66 - ETA: 19:02 - loss: 1.7246 - acc: 0.66 - ETA: 18:57 - loss: 1.7259 - acc: 0.66 - ETA: 18:51 - loss: 1.7261 - acc: 0.66 - ETA: 18:46 - loss: 1.7266 - acc: 0.66 - ETA: 18:41 - loss: 1.7267 - acc: 0.66 - ETA: 18:36 - loss: 1.7268 - acc: 0.66 - ETA: 18:30 - loss: 1.7268 - acc: 0.66 - ETA: 18:25 - loss: 1.7274 - acc: 0.66 - ETA: 18:19 - loss: 1.7271 - acc: 0.66 - ETA: 18:14 - loss: 1.7282 - acc: 0.66 - ETA: 18:09 - loss: 1.7292 - acc: 0.66 - ETA: 18:03 - loss: 1.7291 - acc: 0.66 - ETA: 17:58 - loss: 1.7300 - acc: 0.66 - ETA: 17:53 - loss: 1.7296 - acc: 0.66 - ETA: 17:47 - loss: 1.7307 - acc: 0.66 - ETA: 17:42 - loss: 1.7319 - acc: 0.66 - ETA: 17:36 - loss: 1.7317 - acc: 0.66 - ETA: 17:31 - loss: 1.7324 - acc: 0.66 - ETA: 17:25 - loss: 1.7333 - acc: 0.66 - ETA: 17:20 - loss: 1.7346 - acc: 0.66 - ETA: 17:15 - loss: 1.7358 - acc: 0.66 - ETA: 17:10 - loss: 1.7357 - acc: 0.66 - ETA: 17:04 - loss: 1.7361 - acc: 0.66 - ETA: 16:59 - loss: 1.7361 - acc: 0.66 - ETA: 16:54 - loss: 1.7359 - acc: 0.66 - ETA: 16:49 - loss: 1.7359 - acc: 0.66 - ETA: 16:44 - loss: 1.7374 - acc: 0.66 - ETA: 16:39 - loss: 1.7372 - acc: 0.66 - ETA: 16:35 - loss: 1.7369 - acc: 0.66 - ETA: 16:29 - loss: 1.7366 - acc: 0.66 - ETA: 16:24 - loss: 1.7366 - acc: 0.66 - ETA: 16:19 - loss: 1.7371 - acc: 0.66 - ETA: 16:13 - loss: 1.7372 - acc: 0.66 - ETA: 16:08 - loss: 1.7372 - acc: 0.66 - ETA: 16:03 - loss: 1.7371 - acc: 0.66 - ETA: 15:57 - loss: 1.7365 - acc: 0.66 - ETA: 15:52 - loss: 1.7367 - acc: 0.66 - ETA: 15:47 - loss: 1.7373 - acc: 0.66 - ETA: 15:41 - loss: 1.7369 - acc: 0.66 - ETA: 15:36 - loss: 1.7375 - acc: 0.66 - ETA: 15:31 - loss: 1.7381 - acc: 0.66 - ETA: 15:26 - loss: 1.7386 - acc: 0.66 - ETA: 15:20 - loss: 1.7380 - acc: 0.66 - ETA: 15:15 - loss: 1.7376 - acc: 0.66 - ETA: 15:10 - loss: 1.7373 - acc: 0.66 - ETA: 15:04 - loss: 1.7376 - acc: 0.66 - ETA: 14:59 - loss: 1.7380 - acc: 0.66 - ETA: 14:54 - loss: 1.7370 - acc: 0.66 - ETA: 14:49 - loss: 1.7373 - acc: 0.66 - ETA: 14:43 - loss: 1.7365 - acc: 0.66 - ETA: 14:38 - loss: 1.7371 - acc: 0.66 - ETA: 14:33 - loss: 1.7371 - acc: 0.66 - ETA: 14:27 - loss: 1.7377 - acc: 0.66 - ETA: 14:22 - loss: 1.7377 - acc: 0.66 - ETA: 14:17 - loss: 1.7376 - acc: 0.66 - ETA: 14:11 - loss: 1.7370 - acc: 0.66 - ETA: 14:06 - loss: 1.7380 - acc: 0.66 - ETA: 14:01 - loss: 1.7384 - acc: 0.66 - ETA: 13:56 - loss: 1.7389 - acc: 0.66 - ETA: 13:50 - loss: 1.7393 - acc: 0.66 - ETA: 13:45 - loss: 1.7392 - acc: 0.66 - ETA: 13:40 - loss: 1.7387 - acc: 0.66 - ETA: 13:35 - loss: 1.7392 - acc: 0.66 - ETA: 13:29 - loss: 1.7387 - acc: 0.66 - ETA: 13:24 - loss: 1.7379 - acc: 0.66 - ETA: 13:19 - loss: 1.7387 - acc: 0.66 - ETA: 13:13 - loss: 1.7390 - acc: 0.66 - ETA: 13:08 - loss: 1.7399 - acc: 0.66 - ETA: 13:03 - loss: 1.7395 - acc: 0.66 - ETA: 12:58 - loss: 1.7401 - acc: 0.66 - ETA: 12:52 - loss: 1.7400 - acc: 0.66 - ETA: 12:47 - loss: 1.7405 - acc: 0.66 - ETA: 12:42 - loss: 1.7406 - acc: 0.66 - ETA: 12:36 - loss: 1.7412 - acc: 0.66 - ETA: 12:31 - loss: 1.7413 - acc: 0.66 - ETA: 12:26 - loss: 1.7402 - acc: 0.66 - ETA: 12:21 - loss: 1.7410 - acc: 0.66 - ETA: 12:15 - loss: 1.7409 - acc: 0.66 - ETA: 12:10 - loss: 1.7410 - acc: 0.66 - ETA: 12:05 - loss: 1.7408 - acc: 0.66 - ETA: 11:59 - loss: 1.7406 - acc: 0.66 - ETA: 11:54 - loss: 1.7411 - acc: 0.66 - ETA: 11:49 - loss: 1.7411 - acc: 0.66 - ETA: 11:44 - loss: 1.7418 - acc: 0.66 - ETA: 11:38 - loss: 1.7422 - acc: 0.66 - ETA: 11:33 - loss: 1.7435 - acc: 0.66 - ETA: 11:28 - loss: 1.7434 - acc: 0.66 - ETA: 11:23 - loss: 1.7430 - acc: 0.66 - ETA: 11:17 - loss: 1.7434 - acc: 0.66 - ETA: 11:12 - loss: 1.7434 - acc: 0.66 - ETA: 11:07 - loss: 1.7437 - acc: 0.6672"
     ]
    },
    {
     "name": "stdout",
     "output_type": "stream",
     "text": [
      "42374/42374 [==============================] - ETA: 11:01 - loss: 1.7433 - acc: 0.66 - ETA: 10:56 - loss: 1.7435 - acc: 0.66 - ETA: 10:51 - loss: 1.7441 - acc: 0.66 - ETA: 10:46 - loss: 1.7441 - acc: 0.66 - ETA: 10:40 - loss: 1.7437 - acc: 0.66 - ETA: 10:35 - loss: 1.7434 - acc: 0.66 - ETA: 10:30 - loss: 1.7434 - acc: 0.66 - ETA: 10:25 - loss: 1.7429 - acc: 0.66 - ETA: 10:19 - loss: 1.7431 - acc: 0.66 - ETA: 10:14 - loss: 1.7431 - acc: 0.66 - ETA: 10:09 - loss: 1.7426 - acc: 0.66 - ETA: 10:03 - loss: 1.7427 - acc: 0.66 - ETA: 9:58 - loss: 1.7428 - acc: 0.6673 - ETA: 9:53 - loss: 1.7429 - acc: 0.667 - ETA: 9:48 - loss: 1.7441 - acc: 0.667 - ETA: 9:42 - loss: 1.7445 - acc: 0.667 - ETA: 9:37 - loss: 1.7446 - acc: 0.667 - ETA: 9:32 - loss: 1.7449 - acc: 0.667 - ETA: 9:27 - loss: 1.7440 - acc: 0.667 - ETA: 9:21 - loss: 1.7437 - acc: 0.667 - ETA: 9:16 - loss: 1.7450 - acc: 0.667 - ETA: 9:11 - loss: 1.7447 - acc: 0.667 - ETA: 9:05 - loss: 1.7441 - acc: 0.667 - ETA: 9:00 - loss: 1.7446 - acc: 0.667 - ETA: 8:55 - loss: 1.7448 - acc: 0.667 - ETA: 8:50 - loss: 1.7447 - acc: 0.667 - ETA: 8:44 - loss: 1.7446 - acc: 0.667 - ETA: 8:39 - loss: 1.7451 - acc: 0.667 - ETA: 8:34 - loss: 1.7459 - acc: 0.667 - ETA: 8:29 - loss: 1.7462 - acc: 0.667 - ETA: 8:23 - loss: 1.7469 - acc: 0.667 - ETA: 8:18 - loss: 1.7470 - acc: 0.667 - ETA: 8:13 - loss: 1.7478 - acc: 0.666 - ETA: 8:08 - loss: 1.7475 - acc: 0.667 - ETA: 8:02 - loss: 1.7483 - acc: 0.666 - ETA: 7:57 - loss: 1.7482 - acc: 0.666 - ETA: 7:52 - loss: 1.7484 - acc: 0.666 - ETA: 7:47 - loss: 1.7482 - acc: 0.666 - ETA: 7:41 - loss: 1.7486 - acc: 0.666 - ETA: 7:36 - loss: 1.7490 - acc: 0.666 - ETA: 7:31 - loss: 1.7487 - acc: 0.666 - ETA: 7:26 - loss: 1.7488 - acc: 0.666 - ETA: 7:20 - loss: 1.7490 - acc: 0.666 - ETA: 7:15 - loss: 1.7488 - acc: 0.666 - ETA: 7:10 - loss: 1.7489 - acc: 0.666 - ETA: 7:05 - loss: 1.7488 - acc: 0.666 - ETA: 6:59 - loss: 1.7492 - acc: 0.666 - ETA: 6:54 - loss: 1.7493 - acc: 0.666 - ETA: 6:49 - loss: 1.7493 - acc: 0.666 - ETA: 6:44 - loss: 1.7498 - acc: 0.666 - ETA: 6:38 - loss: 1.7501 - acc: 0.666 - ETA: 6:33 - loss: 1.7498 - acc: 0.666 - ETA: 6:28 - loss: 1.7501 - acc: 0.666 - ETA: 6:23 - loss: 1.7506 - acc: 0.666 - ETA: 6:17 - loss: 1.7511 - acc: 0.666 - ETA: 6:12 - loss: 1.7513 - acc: 0.666 - ETA: 6:07 - loss: 1.7515 - acc: 0.666 - ETA: 6:02 - loss: 1.7508 - acc: 0.666 - ETA: 5:56 - loss: 1.7505 - acc: 0.666 - ETA: 5:51 - loss: 1.7511 - acc: 0.666 - ETA: 5:46 - loss: 1.7509 - acc: 0.666 - ETA: 5:41 - loss: 1.7513 - acc: 0.666 - ETA: 5:35 - loss: 1.7509 - acc: 0.666 - ETA: 5:30 - loss: 1.7515 - acc: 0.666 - ETA: 5:25 - loss: 1.7518 - acc: 0.666 - ETA: 5:20 - loss: 1.7516 - acc: 0.666 - ETA: 5:14 - loss: 1.7519 - acc: 0.666 - ETA: 5:09 - loss: 1.7518 - acc: 0.666 - ETA: 5:04 - loss: 1.7513 - acc: 0.666 - ETA: 4:59 - loss: 1.7516 - acc: 0.666 - ETA: 4:53 - loss: 1.7518 - acc: 0.666 - ETA: 4:48 - loss: 1.7523 - acc: 0.666 - ETA: 4:43 - loss: 1.7524 - acc: 0.666 - ETA: 4:38 - loss: 1.7528 - acc: 0.666 - ETA: 4:32 - loss: 1.7527 - acc: 0.666 - ETA: 4:27 - loss: 1.7524 - acc: 0.666 - ETA: 4:22 - loss: 1.7522 - acc: 0.666 - ETA: 4:17 - loss: 1.7526 - acc: 0.666 - ETA: 4:11 - loss: 1.7527 - acc: 0.666 - ETA: 4:06 - loss: 1.7529 - acc: 0.666 - ETA: 4:01 - loss: 1.7533 - acc: 0.666 - ETA: 3:56 - loss: 1.7530 - acc: 0.666 - ETA: 3:50 - loss: 1.7532 - acc: 0.666 - ETA: 3:45 - loss: 1.7534 - acc: 0.666 - ETA: 3:40 - loss: 1.7538 - acc: 0.666 - ETA: 3:35 - loss: 1.7542 - acc: 0.666 - ETA: 3:29 - loss: 1.7545 - acc: 0.666 - ETA: 3:24 - loss: 1.7551 - acc: 0.666 - ETA: 3:19 - loss: 1.7552 - acc: 0.666 - ETA: 3:14 - loss: 1.7547 - acc: 0.666 - ETA: 3:08 - loss: 1.7549 - acc: 0.666 - ETA: 3:03 - loss: 1.7548 - acc: 0.666 - ETA: 2:58 - loss: 1.7550 - acc: 0.666 - ETA: 2:53 - loss: 1.7551 - acc: 0.666 - ETA: 2:48 - loss: 1.7553 - acc: 0.666 - ETA: 2:42 - loss: 1.7556 - acc: 0.666 - ETA: 2:37 - loss: 1.7557 - acc: 0.666 - ETA: 2:32 - loss: 1.7554 - acc: 0.666 - ETA: 2:27 - loss: 1.7557 - acc: 0.666 - ETA: 2:22 - loss: 1.7558 - acc: 0.666 - ETA: 2:16 - loss: 1.7559 - acc: 0.666 - ETA: 2:11 - loss: 1.7562 - acc: 0.666 - ETA: 2:06 - loss: 1.7561 - acc: 0.666 - ETA: 2:01 - loss: 1.7565 - acc: 0.666 - ETA: 1:56 - loss: 1.7566 - acc: 0.666 - ETA: 1:51 - loss: 1.7567 - acc: 0.666 - ETA: 1:45 - loss: 1.7569 - acc: 0.666 - ETA: 1:40 - loss: 1.7571 - acc: 0.666 - ETA: 1:35 - loss: 1.7568 - acc: 0.666 - ETA: 1:30 - loss: 1.7571 - acc: 0.666 - ETA: 1:24 - loss: 1.7572 - acc: 0.666 - ETA: 1:19 - loss: 1.7576 - acc: 0.666 - ETA: 1:14 - loss: 1.7579 - acc: 0.666 - ETA: 1:08 - loss: 1.7583 - acc: 0.666 - ETA: 1:03 - loss: 1.7583 - acc: 0.666 - ETA: 58s - loss: 1.7586 - acc: 0.666 - ETA: 53s - loss: 1.7591 - acc: 0.66 - ETA: 47s - loss: 1.7592 - acc: 0.66 - ETA: 42s - loss: 1.7597 - acc: 0.66 - ETA: 37s - loss: 1.7594 - acc: 0.66 - ETA: 31s - loss: 1.7600 - acc: 0.66 - ETA: 26s - loss: 1.7599 - acc: 0.66 - ETA: 21s - loss: 1.7596 - acc: 0.66 - ETA: 16s - loss: 1.7599 - acc: 0.66 - ETA: 10s - loss: 1.7596 - acc: 0.66 - ETA: 5s - loss: 1.7597 - acc: 0.6662 - ETA: 0s - loss: 1.7597 - acc: 0.666 - 1753s 41ms/sample - loss: 1.7596 - acc: 0.6661\n",
      "Epoch 17/30\n"
     ]
    },
    {
     "name": "stdout",
     "output_type": "stream",
     "text": [
      "26112/42374 [=================>............] - ETA: 29:14 - loss: 1.8397 - acc: 0.66 - ETA: 28:41 - loss: 1.7072 - acc: 0.67 - ETA: 28:41 - loss: 1.7353 - acc: 0.67 - ETA: 28:42 - loss: 1.7557 - acc: 0.66 - ETA: 28:30 - loss: 1.7324 - acc: 0.66 - ETA: 28:34 - loss: 1.7159 - acc: 0.66 - ETA: 28:32 - loss: 1.7022 - acc: 0.67 - ETA: 28:23 - loss: 1.6994 - acc: 0.67 - ETA: 28:20 - loss: 1.7106 - acc: 0.66 - ETA: 28:15 - loss: 1.7019 - acc: 0.67 - ETA: 28:07 - loss: 1.6993 - acc: 0.66 - ETA: 28:01 - loss: 1.7051 - acc: 0.66 - ETA: 27:55 - loss: 1.7066 - acc: 0.66 - ETA: 27:48 - loss: 1.7116 - acc: 0.66 - ETA: 27:43 - loss: 1.7136 - acc: 0.66 - ETA: 27:37 - loss: 1.7009 - acc: 0.66 - ETA: 27:33 - loss: 1.7061 - acc: 0.66 - ETA: 27:28 - loss: 1.6997 - acc: 0.66 - ETA: 27:24 - loss: 1.6975 - acc: 0.67 - ETA: 27:17 - loss: 1.7021 - acc: 0.66 - ETA: 27:10 - loss: 1.7034 - acc: 0.66 - ETA: 27:05 - loss: 1.7044 - acc: 0.66 - ETA: 26:58 - loss: 1.7092 - acc: 0.66 - ETA: 26:52 - loss: 1.7112 - acc: 0.66 - ETA: 26:49 - loss: 1.7093 - acc: 0.66 - ETA: 26:44 - loss: 1.7086 - acc: 0.66 - ETA: 26:38 - loss: 1.7051 - acc: 0.66 - ETA: 26:32 - loss: 1.7045 - acc: 0.66 - ETA: 26:26 - loss: 1.6997 - acc: 0.66 - ETA: 26:20 - loss: 1.7029 - acc: 0.66 - ETA: 26:18 - loss: 1.7056 - acc: 0.66 - ETA: 26:13 - loss: 1.7010 - acc: 0.67 - ETA: 26:07 - loss: 1.6993 - acc: 0.67 - ETA: 26:02 - loss: 1.7002 - acc: 0.67 - ETA: 25:56 - loss: 1.7013 - acc: 0.67 - ETA: 25:50 - loss: 1.7009 - acc: 0.67 - ETA: 25:45 - loss: 1.6998 - acc: 0.67 - ETA: 25:40 - loss: 1.7043 - acc: 0.66 - ETA: 25:34 - loss: 1.7046 - acc: 0.66 - ETA: 25:30 - loss: 1.7039 - acc: 0.67 - ETA: 25:25 - loss: 1.7013 - acc: 0.67 - ETA: 25:19 - loss: 1.7014 - acc: 0.67 - ETA: 25:14 - loss: 1.7005 - acc: 0.67 - ETA: 25:09 - loss: 1.7003 - acc: 0.67 - ETA: 25:03 - loss: 1.6972 - acc: 0.67 - ETA: 24:59 - loss: 1.6951 - acc: 0.67 - ETA: 24:53 - loss: 1.6974 - acc: 0.67 - ETA: 24:47 - loss: 1.6982 - acc: 0.67 - ETA: 24:43 - loss: 1.6962 - acc: 0.67 - ETA: 24:37 - loss: 1.6974 - acc: 0.67 - ETA: 24:32 - loss: 1.7012 - acc: 0.67 - ETA: 24:29 - loss: 1.6994 - acc: 0.67 - ETA: 24:24 - loss: 1.6974 - acc: 0.67 - ETA: 24:18 - loss: 1.6961 - acc: 0.67 - ETA: 24:14 - loss: 1.6966 - acc: 0.67 - ETA: 24:08 - loss: 1.6945 - acc: 0.67 - ETA: 24:03 - loss: 1.6953 - acc: 0.67 - ETA: 23:58 - loss: 1.6957 - acc: 0.67 - ETA: 23:52 - loss: 1.6946 - acc: 0.67 - ETA: 23:47 - loss: 1.6940 - acc: 0.67 - ETA: 23:42 - loss: 1.6932 - acc: 0.67 - ETA: 23:37 - loss: 1.6931 - acc: 0.67 - ETA: 23:31 - loss: 1.6934 - acc: 0.67 - ETA: 23:26 - loss: 1.6964 - acc: 0.67 - ETA: 23:21 - loss: 1.6971 - acc: 0.67 - ETA: 23:15 - loss: 1.6960 - acc: 0.67 - ETA: 23:10 - loss: 1.6960 - acc: 0.67 - ETA: 23:04 - loss: 1.6962 - acc: 0.67 - ETA: 22:59 - loss: 1.6957 - acc: 0.67 - ETA: 22:53 - loss: 1.6963 - acc: 0.67 - ETA: 22:48 - loss: 1.6985 - acc: 0.67 - ETA: 22:43 - loss: 1.6993 - acc: 0.67 - ETA: 22:38 - loss: 1.6997 - acc: 0.67 - ETA: 22:33 - loss: 1.6999 - acc: 0.67 - ETA: 22:27 - loss: 1.7024 - acc: 0.67 - ETA: 22:22 - loss: 1.7042 - acc: 0.67 - ETA: 22:16 - loss: 1.7047 - acc: 0.67 - ETA: 22:11 - loss: 1.7057 - acc: 0.67 - ETA: 22:06 - loss: 1.7054 - acc: 0.67 - ETA: 22:01 - loss: 1.7065 - acc: 0.67 - ETA: 21:55 - loss: 1.7062 - acc: 0.67 - ETA: 21:49 - loss: 1.7063 - acc: 0.67 - ETA: 21:44 - loss: 1.7060 - acc: 0.67 - ETA: 21:38 - loss: 1.7047 - acc: 0.67 - ETA: 21:33 - loss: 1.7034 - acc: 0.67 - ETA: 21:28 - loss: 1.7041 - acc: 0.67 - ETA: 21:22 - loss: 1.7042 - acc: 0.67 - ETA: 21:17 - loss: 1.7072 - acc: 0.67 - ETA: 21:12 - loss: 1.7081 - acc: 0.67 - ETA: 21:06 - loss: 1.7083 - acc: 0.67 - ETA: 21:01 - loss: 1.7099 - acc: 0.67 - ETA: 20:55 - loss: 1.7095 - acc: 0.67 - ETA: 20:50 - loss: 1.7087 - acc: 0.67 - ETA: 20:44 - loss: 1.7102 - acc: 0.67 - ETA: 20:39 - loss: 1.7106 - acc: 0.67 - ETA: 20:34 - loss: 1.7109 - acc: 0.67 - ETA: 20:28 - loss: 1.7106 - acc: 0.67 - ETA: 20:23 - loss: 1.7092 - acc: 0.67 - ETA: 20:18 - loss: 1.7085 - acc: 0.67 - ETA: 20:12 - loss: 1.7094 - acc: 0.67 - ETA: 20:07 - loss: 1.7098 - acc: 0.67 - ETA: 20:02 - loss: 1.7097 - acc: 0.67 - ETA: 19:56 - loss: 1.7093 - acc: 0.67 - ETA: 19:51 - loss: 1.7104 - acc: 0.67 - ETA: 19:46 - loss: 1.7100 - acc: 0.67 - ETA: 19:41 - loss: 1.7090 - acc: 0.67 - ETA: 19:36 - loss: 1.7094 - acc: 0.67 - ETA: 19:30 - loss: 1.7100 - acc: 0.67 - ETA: 19:25 - loss: 1.7090 - acc: 0.67 - ETA: 19:20 - loss: 1.7091 - acc: 0.67 - ETA: 19:14 - loss: 1.7081 - acc: 0.67 - ETA: 19:09 - loss: 1.7084 - acc: 0.67 - ETA: 19:03 - loss: 1.7079 - acc: 0.67 - ETA: 18:58 - loss: 1.7063 - acc: 0.67 - ETA: 18:53 - loss: 1.7056 - acc: 0.67 - ETA: 18:48 - loss: 1.7056 - acc: 0.67 - ETA: 18:42 - loss: 1.7052 - acc: 0.67 - ETA: 18:37 - loss: 1.7054 - acc: 0.67 - ETA: 18:32 - loss: 1.7073 - acc: 0.67 - ETA: 18:27 - loss: 1.7072 - acc: 0.67 - ETA: 18:21 - loss: 1.7074 - acc: 0.67 - ETA: 18:16 - loss: 1.7072 - acc: 0.67 - ETA: 18:11 - loss: 1.7066 - acc: 0.67 - ETA: 18:05 - loss: 1.7064 - acc: 0.67 - ETA: 18:00 - loss: 1.7056 - acc: 0.67 - ETA: 17:55 - loss: 1.7050 - acc: 0.67 - ETA: 17:49 - loss: 1.7049 - acc: 0.67 - ETA: 17:44 - loss: 1.7055 - acc: 0.67 - ETA: 17:39 - loss: 1.7053 - acc: 0.67 - ETA: 17:34 - loss: 1.7056 - acc: 0.67 - ETA: 17:28 - loss: 1.7056 - acc: 0.67 - ETA: 17:23 - loss: 1.7059 - acc: 0.67 - ETA: 17:18 - loss: 1.7062 - acc: 0.67 - ETA: 17:13 - loss: 1.7072 - acc: 0.67 - ETA: 17:07 - loss: 1.7077 - acc: 0.67 - ETA: 17:03 - loss: 1.7078 - acc: 0.67 - ETA: 16:58 - loss: 1.7080 - acc: 0.67 - ETA: 16:53 - loss: 1.7088 - acc: 0.67 - ETA: 16:48 - loss: 1.7091 - acc: 0.67 - ETA: 16:42 - loss: 1.7100 - acc: 0.67 - ETA: 16:37 - loss: 1.7107 - acc: 0.67 - ETA: 16:32 - loss: 1.7110 - acc: 0.67 - ETA: 16:26 - loss: 1.7114 - acc: 0.67 - ETA: 16:21 - loss: 1.7109 - acc: 0.67 - ETA: 16:16 - loss: 1.7110 - acc: 0.67 - ETA: 16:11 - loss: 1.7107 - acc: 0.67 - ETA: 16:05 - loss: 1.7115 - acc: 0.67 - ETA: 16:00 - loss: 1.7117 - acc: 0.67 - ETA: 15:55 - loss: 1.7112 - acc: 0.67 - ETA: 15:49 - loss: 1.7122 - acc: 0.66 - ETA: 15:44 - loss: 1.7111 - acc: 0.67 - ETA: 15:39 - loss: 1.7113 - acc: 0.67 - ETA: 15:34 - loss: 1.7119 - acc: 0.66 - ETA: 15:28 - loss: 1.7126 - acc: 0.66 - ETA: 15:23 - loss: 1.7128 - acc: 0.66 - ETA: 15:18 - loss: 1.7128 - acc: 0.67 - ETA: 15:13 - loss: 1.7119 - acc: 0.67 - ETA: 15:07 - loss: 1.7112 - acc: 0.67 - ETA: 15:02 - loss: 1.7111 - acc: 0.67 - ETA: 14:57 - loss: 1.7119 - acc: 0.67 - ETA: 14:52 - loss: 1.7129 - acc: 0.66 - ETA: 14:46 - loss: 1.7131 - acc: 0.66 - ETA: 14:41 - loss: 1.7121 - acc: 0.67 - ETA: 14:36 - loss: 1.7134 - acc: 0.66 - ETA: 14:31 - loss: 1.7134 - acc: 0.66 - ETA: 14:26 - loss: 1.7136 - acc: 0.66 - ETA: 14:20 - loss: 1.7146 - acc: 0.66 - ETA: 14:15 - loss: 1.7143 - acc: 0.66 - ETA: 14:10 - loss: 1.7139 - acc: 0.66 - ETA: 14:05 - loss: 1.7135 - acc: 0.66 - ETA: 13:59 - loss: 1.7145 - acc: 0.66 - ETA: 13:54 - loss: 1.7153 - acc: 0.66 - ETA: 13:49 - loss: 1.7156 - acc: 0.66 - ETA: 13:44 - loss: 1.7151 - acc: 0.66 - ETA: 13:38 - loss: 1.7150 - acc: 0.66 - ETA: 13:33 - loss: 1.7156 - acc: 0.66 - ETA: 13:28 - loss: 1.7158 - acc: 0.66 - ETA: 13:23 - loss: 1.7155 - acc: 0.66 - ETA: 13:17 - loss: 1.7157 - acc: 0.66 - ETA: 13:12 - loss: 1.7159 - acc: 0.66 - ETA: 13:07 - loss: 1.7162 - acc: 0.66 - ETA: 13:01 - loss: 1.7169 - acc: 0.66 - ETA: 12:56 - loss: 1.7171 - acc: 0.66 - ETA: 12:51 - loss: 1.7180 - acc: 0.66 - ETA: 12:46 - loss: 1.7177 - acc: 0.66 - ETA: 12:40 - loss: 1.7182 - acc: 0.66 - ETA: 12:35 - loss: 1.7181 - acc: 0.66 - ETA: 12:30 - loss: 1.7183 - acc: 0.66 - ETA: 12:24 - loss: 1.7190 - acc: 0.66 - ETA: 12:19 - loss: 1.7194 - acc: 0.66 - ETA: 12:14 - loss: 1.7188 - acc: 0.66 - ETA: 12:09 - loss: 1.7192 - acc: 0.66 - ETA: 12:03 - loss: 1.7194 - acc: 0.66 - ETA: 11:58 - loss: 1.7189 - acc: 0.66 - ETA: 11:53 - loss: 1.7198 - acc: 0.66 - ETA: 11:47 - loss: 1.7198 - acc: 0.66 - ETA: 11:42 - loss: 1.7203 - acc: 0.66 - ETA: 11:37 - loss: 1.7207 - acc: 0.66 - ETA: 11:32 - loss: 1.7209 - acc: 0.66 - ETA: 11:26 - loss: 1.7213 - acc: 0.66 - ETA: 11:21 - loss: 1.7208 - acc: 0.66 - ETA: 11:16 - loss: 1.7216 - acc: 0.66 - ETA: 11:11 - loss: 1.7217 - acc: 0.66 - ETA: 11:05 - loss: 1.7210 - acc: 0.6695"
     ]
    },
    {
     "name": "stdout",
     "output_type": "stream",
     "text": [
      "42374/42374 [==============================] - ETA: 11:00 - loss: 1.7208 - acc: 0.66 - ETA: 10:55 - loss: 1.7202 - acc: 0.66 - ETA: 10:50 - loss: 1.7203 - acc: 0.66 - ETA: 10:44 - loss: 1.7199 - acc: 0.66 - ETA: 10:39 - loss: 1.7192 - acc: 0.66 - ETA: 10:34 - loss: 1.7194 - acc: 0.66 - ETA: 10:29 - loss: 1.7192 - acc: 0.66 - ETA: 10:23 - loss: 1.7190 - acc: 0.66 - ETA: 10:18 - loss: 1.7193 - acc: 0.66 - ETA: 10:13 - loss: 1.7185 - acc: 0.66 - ETA: 10:08 - loss: 1.7183 - acc: 0.67 - ETA: 10:02 - loss: 1.7176 - acc: 0.67 - ETA: 9:57 - loss: 1.7180 - acc: 0.6700 - ETA: 9:52 - loss: 1.7182 - acc: 0.670 - ETA: 9:47 - loss: 1.7185 - acc: 0.669 - ETA: 9:41 - loss: 1.7181 - acc: 0.670 - ETA: 9:36 - loss: 1.7181 - acc: 0.670 - ETA: 9:31 - loss: 1.7181 - acc: 0.670 - ETA: 9:26 - loss: 1.7186 - acc: 0.670 - ETA: 9:20 - loss: 1.7193 - acc: 0.669 - ETA: 9:15 - loss: 1.7198 - acc: 0.669 - ETA: 9:10 - loss: 1.7201 - acc: 0.669 - ETA: 9:05 - loss: 1.7198 - acc: 0.669 - ETA: 8:59 - loss: 1.7201 - acc: 0.669 - ETA: 8:54 - loss: 1.7203 - acc: 0.669 - ETA: 8:49 - loss: 1.7201 - acc: 0.669 - ETA: 8:44 - loss: 1.7198 - acc: 0.669 - ETA: 8:38 - loss: 1.7199 - acc: 0.669 - ETA: 8:33 - loss: 1.7199 - acc: 0.669 - ETA: 8:28 - loss: 1.7197 - acc: 0.669 - ETA: 8:23 - loss: 1.7202 - acc: 0.669 - ETA: 8:18 - loss: 1.7201 - acc: 0.669 - ETA: 8:12 - loss: 1.7202 - acc: 0.669 - ETA: 8:07 - loss: 1.7200 - acc: 0.669 - ETA: 8:02 - loss: 1.7197 - acc: 0.669 - ETA: 7:57 - loss: 1.7197 - acc: 0.669 - ETA: 7:51 - loss: 1.7204 - acc: 0.669 - ETA: 7:46 - loss: 1.7210 - acc: 0.669 - ETA: 7:41 - loss: 1.7220 - acc: 0.669 - ETA: 7:36 - loss: 1.7222 - acc: 0.669 - ETA: 7:31 - loss: 1.7226 - acc: 0.669 - ETA: 7:25 - loss: 1.7232 - acc: 0.669 - ETA: 7:20 - loss: 1.7236 - acc: 0.669 - ETA: 7:15 - loss: 1.7240 - acc: 0.669 - ETA: 7:10 - loss: 1.7232 - acc: 0.669 - ETA: 7:04 - loss: 1.7229 - acc: 0.669 - ETA: 6:59 - loss: 1.7231 - acc: 0.669 - ETA: 6:54 - loss: 1.7235 - acc: 0.669 - ETA: 6:48 - loss: 1.7233 - acc: 0.669 - ETA: 6:43 - loss: 1.7234 - acc: 0.669 - ETA: 6:38 - loss: 1.7237 - acc: 0.669 - ETA: 6:33 - loss: 1.7243 - acc: 0.669 - ETA: 6:28 - loss: 1.7244 - acc: 0.669 - ETA: 6:22 - loss: 1.7240 - acc: 0.669 - ETA: 6:17 - loss: 1.7246 - acc: 0.669 - ETA: 6:12 - loss: 1.7247 - acc: 0.669 - ETA: 6:07 - loss: 1.7250 - acc: 0.669 - ETA: 6:01 - loss: 1.7253 - acc: 0.669 - ETA: 5:56 - loss: 1.7250 - acc: 0.669 - ETA: 5:51 - loss: 1.7252 - acc: 0.669 - ETA: 5:46 - loss: 1.7252 - acc: 0.669 - ETA: 5:40 - loss: 1.7254 - acc: 0.669 - ETA: 5:35 - loss: 1.7255 - acc: 0.669 - ETA: 5:30 - loss: 1.7257 - acc: 0.669 - ETA: 5:25 - loss: 1.7253 - acc: 0.669 - ETA: 5:19 - loss: 1.7258 - acc: 0.669 - ETA: 5:14 - loss: 1.7258 - acc: 0.669 - ETA: 5:09 - loss: 1.7260 - acc: 0.669 - ETA: 5:04 - loss: 1.7263 - acc: 0.669 - ETA: 4:58 - loss: 1.7272 - acc: 0.669 - ETA: 4:53 - loss: 1.7269 - acc: 0.669 - ETA: 4:48 - loss: 1.7269 - acc: 0.669 - ETA: 4:43 - loss: 1.7270 - acc: 0.669 - ETA: 4:37 - loss: 1.7270 - acc: 0.669 - ETA: 4:32 - loss: 1.7276 - acc: 0.669 - ETA: 4:27 - loss: 1.7279 - acc: 0.669 - ETA: 4:22 - loss: 1.7282 - acc: 0.668 - ETA: 4:16 - loss: 1.7288 - acc: 0.668 - ETA: 4:11 - loss: 1.7290 - acc: 0.668 - ETA: 4:06 - loss: 1.7292 - acc: 0.668 - ETA: 4:01 - loss: 1.7296 - acc: 0.668 - ETA: 3:55 - loss: 1.7294 - acc: 0.668 - ETA: 3:50 - loss: 1.7296 - acc: 0.668 - ETA: 3:45 - loss: 1.7298 - acc: 0.668 - ETA: 3:40 - loss: 1.7299 - acc: 0.668 - ETA: 3:35 - loss: 1.7307 - acc: 0.668 - ETA: 3:29 - loss: 1.7304 - acc: 0.668 - ETA: 3:24 - loss: 1.7308 - acc: 0.668 - ETA: 3:19 - loss: 1.7311 - acc: 0.668 - ETA: 3:14 - loss: 1.7313 - acc: 0.668 - ETA: 3:08 - loss: 1.7316 - acc: 0.668 - ETA: 3:03 - loss: 1.7319 - acc: 0.668 - ETA: 2:58 - loss: 1.7317 - acc: 0.668 - ETA: 2:53 - loss: 1.7315 - acc: 0.668 - ETA: 2:47 - loss: 1.7316 - acc: 0.668 - ETA: 2:42 - loss: 1.7323 - acc: 0.668 - ETA: 2:37 - loss: 1.7326 - acc: 0.668 - ETA: 2:32 - loss: 1.7328 - acc: 0.668 - ETA: 2:26 - loss: 1.7327 - acc: 0.668 - ETA: 2:21 - loss: 1.7330 - acc: 0.668 - ETA: 2:16 - loss: 1.7332 - acc: 0.668 - ETA: 2:11 - loss: 1.7332 - acc: 0.668 - ETA: 2:05 - loss: 1.7336 - acc: 0.668 - ETA: 2:00 - loss: 1.7337 - acc: 0.668 - ETA: 1:55 - loss: 1.7337 - acc: 0.668 - ETA: 1:50 - loss: 1.7340 - acc: 0.668 - ETA: 1:45 - loss: 1.7340 - acc: 0.668 - ETA: 1:39 - loss: 1.7338 - acc: 0.668 - ETA: 1:34 - loss: 1.7336 - acc: 0.668 - ETA: 1:29 - loss: 1.7341 - acc: 0.668 - ETA: 1:24 - loss: 1.7346 - acc: 0.668 - ETA: 1:18 - loss: 1.7343 - acc: 0.668 - ETA: 1:13 - loss: 1.7341 - acc: 0.668 - ETA: 1:08 - loss: 1.7342 - acc: 0.668 - ETA: 1:03 - loss: 1.7339 - acc: 0.668 - ETA: 57s - loss: 1.7335 - acc: 0.668 - ETA: 52s - loss: 1.7337 - acc: 0.66 - ETA: 47s - loss: 1.7337 - acc: 0.66 - ETA: 42s - loss: 1.7336 - acc: 0.66 - ETA: 36s - loss: 1.7339 - acc: 0.66 - ETA: 31s - loss: 1.7337 - acc: 0.66 - ETA: 26s - loss: 1.7338 - acc: 0.66 - ETA: 21s - loss: 1.7336 - acc: 0.66 - ETA: 15s - loss: 1.7335 - acc: 0.66 - ETA: 10s - loss: 1.7337 - acc: 0.66 - ETA: 5s - loss: 1.7337 - acc: 0.6682 - ETA: 0s - loss: 1.7340 - acc: 0.668 - 1736s 41ms/sample - loss: 1.7340 - acc: 0.6682\n",
      "Epoch 18/30\n"
     ]
    },
    {
     "name": "stdout",
     "output_type": "stream",
     "text": [
      "26112/42374 [=================>............] - ETA: 28:48 - loss: 1.7232 - acc: 0.65 - ETA: 29:03 - loss: 1.7187 - acc: 0.66 - ETA: 28:45 - loss: 1.6469 - acc: 0.67 - ETA: 28:32 - loss: 1.6532 - acc: 0.67 - ETA: 28:32 - loss: 1.6426 - acc: 0.67 - ETA: 28:20 - loss: 1.6566 - acc: 0.67 - ETA: 28:10 - loss: 1.6406 - acc: 0.67 - ETA: 28:10 - loss: 1.6384 - acc: 0.67 - ETA: 28:02 - loss: 1.6379 - acc: 0.67 - ETA: 27:54 - loss: 1.6426 - acc: 0.67 - ETA: 27:52 - loss: 1.6365 - acc: 0.67 - ETA: 27:47 - loss: 1.6392 - acc: 0.67 - ETA: 27:40 - loss: 1.6540 - acc: 0.67 - ETA: 27:37 - loss: 1.6490 - acc: 0.67 - ETA: 27:32 - loss: 1.6511 - acc: 0.67 - ETA: 27:27 - loss: 1.6569 - acc: 0.67 - ETA: 27:21 - loss: 1.6563 - acc: 0.67 - ETA: 27:17 - loss: 1.6633 - acc: 0.67 - ETA: 27:10 - loss: 1.6665 - acc: 0.67 - ETA: 27:03 - loss: 1.6646 - acc: 0.67 - ETA: 26:58 - loss: 1.6634 - acc: 0.67 - ETA: 26:53 - loss: 1.6646 - acc: 0.67 - ETA: 26:47 - loss: 1.6668 - acc: 0.67 - ETA: 26:43 - loss: 1.6627 - acc: 0.67 - ETA: 26:37 - loss: 1.6605 - acc: 0.67 - ETA: 26:31 - loss: 1.6577 - acc: 0.67 - ETA: 26:26 - loss: 1.6570 - acc: 0.67 - ETA: 26:20 - loss: 1.6554 - acc: 0.67 - ETA: 26:15 - loss: 1.6555 - acc: 0.67 - ETA: 26:09 - loss: 1.6585 - acc: 0.67 - ETA: 26:04 - loss: 1.6576 - acc: 0.67 - ETA: 25:59 - loss: 1.6581 - acc: 0.67 - ETA: 25:53 - loss: 1.6555 - acc: 0.67 - ETA: 25:48 - loss: 1.6565 - acc: 0.67 - ETA: 25:42 - loss: 1.6583 - acc: 0.67 - ETA: 25:37 - loss: 1.6584 - acc: 0.67 - ETA: 25:32 - loss: 1.6591 - acc: 0.67 - ETA: 25:26 - loss: 1.6548 - acc: 0.67 - ETA: 25:22 - loss: 1.6566 - acc: 0.67 - ETA: 25:17 - loss: 1.6593 - acc: 0.67 - ETA: 25:11 - loss: 1.6580 - acc: 0.67 - ETA: 25:07 - loss: 1.6577 - acc: 0.67 - ETA: 25:02 - loss: 1.6580 - acc: 0.67 - ETA: 24:57 - loss: 1.6585 - acc: 0.67 - ETA: 24:52 - loss: 1.6570 - acc: 0.67 - ETA: 24:47 - loss: 1.6585 - acc: 0.67 - ETA: 24:41 - loss: 1.6576 - acc: 0.67 - ETA: 24:37 - loss: 1.6559 - acc: 0.67 - ETA: 24:32 - loss: 1.6571 - acc: 0.67 - ETA: 24:26 - loss: 1.6577 - acc: 0.67 - ETA: 24:22 - loss: 1.6563 - acc: 0.67 - ETA: 24:16 - loss: 1.6569 - acc: 0.67 - ETA: 24:11 - loss: 1.6568 - acc: 0.67 - ETA: 24:06 - loss: 1.6593 - acc: 0.67 - ETA: 24:01 - loss: 1.6583 - acc: 0.67 - ETA: 23:56 - loss: 1.6591 - acc: 0.67 - ETA: 23:51 - loss: 1.6605 - acc: 0.67 - ETA: 23:46 - loss: 1.6583 - acc: 0.67 - ETA: 23:41 - loss: 1.6608 - acc: 0.67 - ETA: 23:36 - loss: 1.6622 - acc: 0.67 - ETA: 23:31 - loss: 1.6633 - acc: 0.67 - ETA: 23:26 - loss: 1.6626 - acc: 0.67 - ETA: 23:21 - loss: 1.6600 - acc: 0.67 - ETA: 23:15 - loss: 1.6592 - acc: 0.67 - ETA: 23:10 - loss: 1.6582 - acc: 0.67 - ETA: 23:05 - loss: 1.6604 - acc: 0.67 - ETA: 23:00 - loss: 1.6608 - acc: 0.67 - ETA: 22:55 - loss: 1.6602 - acc: 0.67 - ETA: 22:50 - loss: 1.6598 - acc: 0.67 - ETA: 22:44 - loss: 1.6594 - acc: 0.67 - ETA: 22:39 - loss: 1.6595 - acc: 0.67 - ETA: 22:34 - loss: 1.6587 - acc: 0.67 - ETA: 22:29 - loss: 1.6609 - acc: 0.67 - ETA: 22:24 - loss: 1.6624 - acc: 0.67 - ETA: 22:18 - loss: 1.6610 - acc: 0.67 - ETA: 22:13 - loss: 1.6605 - acc: 0.67 - ETA: 22:08 - loss: 1.6617 - acc: 0.67 - ETA: 22:03 - loss: 1.6629 - acc: 0.67 - ETA: 21:58 - loss: 1.6625 - acc: 0.67 - ETA: 21:52 - loss: 1.6628 - acc: 0.67 - ETA: 21:47 - loss: 1.6639 - acc: 0.67 - ETA: 21:42 - loss: 1.6646 - acc: 0.67 - ETA: 21:36 - loss: 1.6654 - acc: 0.67 - ETA: 21:31 - loss: 1.6653 - acc: 0.67 - ETA: 21:26 - loss: 1.6650 - acc: 0.67 - ETA: 21:20 - loss: 1.6634 - acc: 0.67 - ETA: 21:15 - loss: 1.6637 - acc: 0.67 - ETA: 21:10 - loss: 1.6643 - acc: 0.67 - ETA: 21:05 - loss: 1.6654 - acc: 0.67 - ETA: 20:59 - loss: 1.6661 - acc: 0.67 - ETA: 20:54 - loss: 1.6658 - acc: 0.67 - ETA: 20:49 - loss: 1.6660 - acc: 0.67 - ETA: 20:44 - loss: 1.6674 - acc: 0.67 - ETA: 20:39 - loss: 1.6669 - acc: 0.67 - ETA: 20:33 - loss: 1.6686 - acc: 0.67 - ETA: 20:28 - loss: 1.6689 - acc: 0.67 - ETA: 20:23 - loss: 1.6700 - acc: 0.67 - ETA: 20:18 - loss: 1.6705 - acc: 0.67 - ETA: 20:12 - loss: 1.6703 - acc: 0.67 - ETA: 20:07 - loss: 1.6702 - acc: 0.67 - ETA: 20:02 - loss: 1.6706 - acc: 0.67 - ETA: 19:57 - loss: 1.6701 - acc: 0.67 - ETA: 19:52 - loss: 1.6702 - acc: 0.67 - ETA: 19:46 - loss: 1.6695 - acc: 0.67 - ETA: 19:41 - loss: 1.6697 - acc: 0.67 - ETA: 19:36 - loss: 1.6701 - acc: 0.67 - ETA: 19:30 - loss: 1.6696 - acc: 0.67 - ETA: 19:25 - loss: 1.6691 - acc: 0.67 - ETA: 19:20 - loss: 1.6692 - acc: 0.67 - ETA: 19:15 - loss: 1.6689 - acc: 0.67 - ETA: 19:09 - loss: 1.6708 - acc: 0.67 - ETA: 19:04 - loss: 1.6718 - acc: 0.67 - ETA: 18:59 - loss: 1.6728 - acc: 0.67 - ETA: 18:54 - loss: 1.6731 - acc: 0.67 - ETA: 18:48 - loss: 1.6734 - acc: 0.67 - ETA: 18:43 - loss: 1.6747 - acc: 0.67 - ETA: 18:38 - loss: 1.6743 - acc: 0.67 - ETA: 18:33 - loss: 1.6758 - acc: 0.67 - ETA: 18:28 - loss: 1.6757 - acc: 0.67 - ETA: 18:22 - loss: 1.6759 - acc: 0.67 - ETA: 18:17 - loss: 1.6756 - acc: 0.67 - ETA: 18:12 - loss: 1.6766 - acc: 0.67 - ETA: 18:06 - loss: 1.6763 - acc: 0.67 - ETA: 18:01 - loss: 1.6783 - acc: 0.67 - ETA: 17:56 - loss: 1.6797 - acc: 0.67 - ETA: 17:50 - loss: 1.6796 - acc: 0.67 - ETA: 17:45 - loss: 1.6798 - acc: 0.67 - ETA: 17:40 - loss: 1.6797 - acc: 0.67 - ETA: 17:35 - loss: 1.6797 - acc: 0.67 - ETA: 17:29 - loss: 1.6804 - acc: 0.67 - ETA: 17:24 - loss: 1.6812 - acc: 0.67 - ETA: 17:19 - loss: 1.6811 - acc: 0.67 - ETA: 17:14 - loss: 1.6806 - acc: 0.67 - ETA: 17:09 - loss: 1.6813 - acc: 0.67 - ETA: 17:03 - loss: 1.6798 - acc: 0.67 - ETA: 16:58 - loss: 1.6800 - acc: 0.67 - ETA: 16:53 - loss: 1.6791 - acc: 0.67 - ETA: 16:47 - loss: 1.6788 - acc: 0.67 - ETA: 16:42 - loss: 1.6796 - acc: 0.67 - ETA: 16:37 - loss: 1.6794 - acc: 0.67 - ETA: 16:32 - loss: 1.6796 - acc: 0.67 - ETA: 16:27 - loss: 1.6787 - acc: 0.67 - ETA: 16:22 - loss: 1.6779 - acc: 0.67 - ETA: 16:16 - loss: 1.6782 - acc: 0.67 - ETA: 16:11 - loss: 1.6783 - acc: 0.67 - ETA: 16:06 - loss: 1.6793 - acc: 0.67 - ETA: 16:01 - loss: 1.6789 - acc: 0.67 - ETA: 15:56 - loss: 1.6787 - acc: 0.67 - ETA: 15:50 - loss: 1.6788 - acc: 0.67 - ETA: 15:45 - loss: 1.6791 - acc: 0.67 - ETA: 15:40 - loss: 1.6795 - acc: 0.67 - ETA: 15:35 - loss: 1.6800 - acc: 0.67 - ETA: 15:30 - loss: 1.6798 - acc: 0.67 - ETA: 15:24 - loss: 1.6790 - acc: 0.67 - ETA: 15:19 - loss: 1.6785 - acc: 0.67 - ETA: 15:14 - loss: 1.6791 - acc: 0.67 - ETA: 15:09 - loss: 1.6787 - acc: 0.67 - ETA: 15:04 - loss: 1.6791 - acc: 0.67 - ETA: 14:58 - loss: 1.6786 - acc: 0.67 - ETA: 14:53 - loss: 1.6779 - acc: 0.67 - ETA: 14:48 - loss: 1.6778 - acc: 0.67 - ETA: 14:43 - loss: 1.6778 - acc: 0.67 - ETA: 14:38 - loss: 1.6779 - acc: 0.67 - ETA: 14:32 - loss: 1.6775 - acc: 0.67 - ETA: 14:27 - loss: 1.6775 - acc: 0.67 - ETA: 14:22 - loss: 1.6787 - acc: 0.67 - ETA: 14:17 - loss: 1.6792 - acc: 0.67 - ETA: 14:12 - loss: 1.6795 - acc: 0.67 - ETA: 14:06 - loss: 1.6806 - acc: 0.67 - ETA: 14:01 - loss: 1.6810 - acc: 0.67 - ETA: 13:56 - loss: 1.6816 - acc: 0.67 - ETA: 13:51 - loss: 1.6822 - acc: 0.67 - ETA: 13:45 - loss: 1.6814 - acc: 0.67 - ETA: 13:40 - loss: 1.6813 - acc: 0.67 - ETA: 13:35 - loss: 1.6821 - acc: 0.67 - ETA: 13:30 - loss: 1.6829 - acc: 0.67 - ETA: 13:24 - loss: 1.6833 - acc: 0.67 - ETA: 13:19 - loss: 1.6834 - acc: 0.67 - ETA: 13:14 - loss: 1.6828 - acc: 0.67 - ETA: 13:09 - loss: 1.6826 - acc: 0.67 - ETA: 13:03 - loss: 1.6825 - acc: 0.67 - ETA: 12:58 - loss: 1.6824 - acc: 0.67 - ETA: 12:53 - loss: 1.6825 - acc: 0.67 - ETA: 12:48 - loss: 1.6823 - acc: 0.67 - ETA: 12:42 - loss: 1.6824 - acc: 0.67 - ETA: 12:37 - loss: 1.6829 - acc: 0.67 - ETA: 12:32 - loss: 1.6831 - acc: 0.67 - ETA: 12:27 - loss: 1.6825 - acc: 0.67 - ETA: 12:21 - loss: 1.6819 - acc: 0.67 - ETA: 12:16 - loss: 1.6829 - acc: 0.67 - ETA: 12:11 - loss: 1.6827 - acc: 0.67 - ETA: 12:06 - loss: 1.6823 - acc: 0.67 - ETA: 12:00 - loss: 1.6820 - acc: 0.67 - ETA: 11:55 - loss: 1.6824 - acc: 0.67 - ETA: 11:50 - loss: 1.6832 - acc: 0.67 - ETA: 11:45 - loss: 1.6832 - acc: 0.67 - ETA: 11:40 - loss: 1.6833 - acc: 0.67 - ETA: 11:34 - loss: 1.6835 - acc: 0.67 - ETA: 11:29 - loss: 1.6839 - acc: 0.67 - ETA: 11:24 - loss: 1.6838 - acc: 0.67 - ETA: 11:19 - loss: 1.6844 - acc: 0.67 - ETA: 11:14 - loss: 1.6846 - acc: 0.67 - ETA: 11:08 - loss: 1.6861 - acc: 0.67 - ETA: 11:03 - loss: 1.6861 - acc: 0.6735"
     ]
    },
    {
     "name": "stdout",
     "output_type": "stream",
     "text": [
      "42374/42374 [==============================] - ETA: 10:58 - loss: 1.6865 - acc: 0.67 - ETA: 10:53 - loss: 1.6866 - acc: 0.67 - ETA: 10:47 - loss: 1.6867 - acc: 0.67 - ETA: 10:42 - loss: 1.6870 - acc: 0.67 - ETA: 10:37 - loss: 1.6871 - acc: 0.67 - ETA: 10:32 - loss: 1.6872 - acc: 0.67 - ETA: 10:27 - loss: 1.6869 - acc: 0.67 - ETA: 10:21 - loss: 1.6874 - acc: 0.67 - ETA: 10:16 - loss: 1.6877 - acc: 0.67 - ETA: 10:11 - loss: 1.6885 - acc: 0.67 - ETA: 10:06 - loss: 1.6882 - acc: 0.67 - ETA: 10:00 - loss: 1.6886 - acc: 0.67 - ETA: 9:55 - loss: 1.6884 - acc: 0.6732 - ETA: 9:50 - loss: 1.6884 - acc: 0.673 - ETA: 9:45 - loss: 1.6887 - acc: 0.673 - ETA: 9:39 - loss: 1.6889 - acc: 0.673 - ETA: 9:34 - loss: 1.6890 - acc: 0.673 - ETA: 9:29 - loss: 1.6887 - acc: 0.673 - ETA: 9:24 - loss: 1.6886 - acc: 0.673 - ETA: 9:18 - loss: 1.6884 - acc: 0.673 - ETA: 9:13 - loss: 1.6891 - acc: 0.673 - ETA: 9:08 - loss: 1.6888 - acc: 0.673 - ETA: 9:03 - loss: 1.6890 - acc: 0.673 - ETA: 8:58 - loss: 1.6896 - acc: 0.673 - ETA: 8:52 - loss: 1.6897 - acc: 0.673 - ETA: 8:47 - loss: 1.6906 - acc: 0.673 - ETA: 8:42 - loss: 1.6907 - acc: 0.673 - ETA: 8:37 - loss: 1.6910 - acc: 0.673 - ETA: 8:31 - loss: 1.6911 - acc: 0.673 - ETA: 8:26 - loss: 1.6910 - acc: 0.673 - ETA: 8:21 - loss: 1.6910 - acc: 0.673 - ETA: 8:16 - loss: 1.6905 - acc: 0.673 - ETA: 8:11 - loss: 1.6906 - acc: 0.673 - ETA: 8:05 - loss: 1.6904 - acc: 0.673 - ETA: 8:00 - loss: 1.6908 - acc: 0.673 - ETA: 7:55 - loss: 1.6914 - acc: 0.673 - ETA: 7:50 - loss: 1.6918 - acc: 0.673 - ETA: 7:44 - loss: 1.6926 - acc: 0.672 - ETA: 7:39 - loss: 1.6927 - acc: 0.672 - ETA: 7:34 - loss: 1.6932 - acc: 0.672 - ETA: 7:29 - loss: 1.6934 - acc: 0.672 - ETA: 7:24 - loss: 1.6941 - acc: 0.672 - ETA: 7:18 - loss: 1.6946 - acc: 0.672 - ETA: 7:13 - loss: 1.6948 - acc: 0.672 - ETA: 7:08 - loss: 1.6948 - acc: 0.672 - ETA: 7:03 - loss: 1.6951 - acc: 0.672 - ETA: 6:58 - loss: 1.6955 - acc: 0.672 - ETA: 6:52 - loss: 1.6957 - acc: 0.672 - ETA: 6:47 - loss: 1.6953 - acc: 0.672 - ETA: 6:42 - loss: 1.6955 - acc: 0.672 - ETA: 6:37 - loss: 1.6957 - acc: 0.672 - ETA: 6:32 - loss: 1.6959 - acc: 0.672 - ETA: 6:26 - loss: 1.6958 - acc: 0.672 - ETA: 6:21 - loss: 1.6958 - acc: 0.672 - ETA: 6:16 - loss: 1.6956 - acc: 0.672 - ETA: 6:11 - loss: 1.6961 - acc: 0.672 - ETA: 6:05 - loss: 1.6969 - acc: 0.672 - ETA: 6:00 - loss: 1.6972 - acc: 0.672 - ETA: 5:55 - loss: 1.6971 - acc: 0.672 - ETA: 5:50 - loss: 1.6970 - acc: 0.672 - ETA: 5:45 - loss: 1.6968 - acc: 0.672 - ETA: 5:39 - loss: 1.6972 - acc: 0.672 - ETA: 5:34 - loss: 1.6976 - acc: 0.672 - ETA: 5:29 - loss: 1.6977 - acc: 0.672 - ETA: 5:24 - loss: 1.6985 - acc: 0.672 - ETA: 5:18 - loss: 1.6985 - acc: 0.672 - ETA: 5:13 - loss: 1.6985 - acc: 0.672 - ETA: 5:08 - loss: 1.6986 - acc: 0.672 - ETA: 5:03 - loss: 1.6988 - acc: 0.672 - ETA: 4:57 - loss: 1.6991 - acc: 0.672 - ETA: 4:52 - loss: 1.6991 - acc: 0.672 - ETA: 4:47 - loss: 1.6989 - acc: 0.672 - ETA: 4:42 - loss: 1.6990 - acc: 0.672 - ETA: 4:37 - loss: 1.6997 - acc: 0.672 - ETA: 4:31 - loss: 1.6995 - acc: 0.672 - ETA: 4:26 - loss: 1.6996 - acc: 0.672 - ETA: 4:21 - loss: 1.6999 - acc: 0.672 - ETA: 4:16 - loss: 1.7003 - acc: 0.672 - ETA: 4:10 - loss: 1.7007 - acc: 0.672 - ETA: 4:05 - loss: 1.7004 - acc: 0.672 - ETA: 4:00 - loss: 1.7005 - acc: 0.672 - ETA: 3:55 - loss: 1.7009 - acc: 0.672 - ETA: 3:50 - loss: 1.7013 - acc: 0.672 - ETA: 3:44 - loss: 1.7018 - acc: 0.672 - ETA: 3:39 - loss: 1.7019 - acc: 0.672 - ETA: 3:34 - loss: 1.7019 - acc: 0.672 - ETA: 3:29 - loss: 1.7019 - acc: 0.672 - ETA: 3:23 - loss: 1.7020 - acc: 0.672 - ETA: 3:18 - loss: 1.7022 - acc: 0.672 - ETA: 3:13 - loss: 1.7026 - acc: 0.671 - ETA: 3:08 - loss: 1.7022 - acc: 0.672 - ETA: 3:03 - loss: 1.7025 - acc: 0.672 - ETA: 2:57 - loss: 1.7031 - acc: 0.671 - ETA: 2:52 - loss: 1.7032 - acc: 0.671 - ETA: 2:47 - loss: 1.7039 - acc: 0.671 - ETA: 2:42 - loss: 1.7042 - acc: 0.671 - ETA: 2:36 - loss: 1.7045 - acc: 0.671 - ETA: 2:31 - loss: 1.7051 - acc: 0.671 - ETA: 2:26 - loss: 1.7052 - acc: 0.671 - ETA: 2:21 - loss: 1.7055 - acc: 0.671 - ETA: 2:16 - loss: 1.7054 - acc: 0.671 - ETA: 2:10 - loss: 1.7054 - acc: 0.671 - ETA: 2:05 - loss: 1.7052 - acc: 0.671 - ETA: 2:00 - loss: 1.7052 - acc: 0.671 - ETA: 1:55 - loss: 1.7050 - acc: 0.671 - ETA: 1:49 - loss: 1.7046 - acc: 0.671 - ETA: 1:44 - loss: 1.7044 - acc: 0.671 - ETA: 1:39 - loss: 1.7038 - acc: 0.671 - ETA: 1:34 - loss: 1.7041 - acc: 0.671 - ETA: 1:29 - loss: 1.7046 - acc: 0.671 - ETA: 1:23 - loss: 1.7045 - acc: 0.671 - ETA: 1:18 - loss: 1.7046 - acc: 0.671 - ETA: 1:13 - loss: 1.7051 - acc: 0.671 - ETA: 1:08 - loss: 1.7052 - acc: 0.671 - ETA: 1:02 - loss: 1.7055 - acc: 0.671 - ETA: 57s - loss: 1.7059 - acc: 0.671 - ETA: 52s - loss: 1.7061 - acc: 0.67 - ETA: 47s - loss: 1.7064 - acc: 0.67 - ETA: 42s - loss: 1.7068 - acc: 0.67 - ETA: 36s - loss: 1.7069 - acc: 0.67 - ETA: 31s - loss: 1.7071 - acc: 0.67 - ETA: 26s - loss: 1.7072 - acc: 0.67 - ETA: 21s - loss: 1.7076 - acc: 0.67 - ETA: 15s - loss: 1.7077 - acc: 0.67 - ETA: 10s - loss: 1.7082 - acc: 0.67 - ETA: 5s - loss: 1.7085 - acc: 0.6713 - ETA: 0s - loss: 1.7083 - acc: 0.671 - 1731s 41ms/sample - loss: 1.7083 - acc: 0.6714\n",
      "Epoch 19/30\n"
     ]
    },
    {
     "name": "stdout",
     "output_type": "stream",
     "text": [
      "26112/42374 [=================>............] - ETA: 28:36 - loss: 1.6641 - acc: 0.66 - ETA: 28:34 - loss: 1.6393 - acc: 0.66 - ETA: 28:25 - loss: 1.6507 - acc: 0.66 - ETA: 28:17 - loss: 1.6592 - acc: 0.66 - ETA: 28:15 - loss: 1.6699 - acc: 0.66 - ETA: 28:14 - loss: 1.6548 - acc: 0.66 - ETA: 28:14 - loss: 1.6700 - acc: 0.66 - ETA: 28:09 - loss: 1.6664 - acc: 0.66 - ETA: 28:03 - loss: 1.6697 - acc: 0.66 - ETA: 27:58 - loss: 1.6646 - acc: 0.66 - ETA: 27:54 - loss: 1.6488 - acc: 0.67 - ETA: 27:47 - loss: 1.6568 - acc: 0.66 - ETA: 27:41 - loss: 1.6514 - acc: 0.67 - ETA: 27:38 - loss: 1.6536 - acc: 0.67 - ETA: 27:31 - loss: 1.6530 - acc: 0.67 - ETA: 27:26 - loss: 1.6523 - acc: 0.67 - ETA: 27:23 - loss: 1.6493 - acc: 0.67 - ETA: 27:16 - loss: 1.6468 - acc: 0.67 - ETA: 27:10 - loss: 1.6445 - acc: 0.67 - ETA: 27:07 - loss: 1.6421 - acc: 0.67 - ETA: 27:02 - loss: 1.6460 - acc: 0.67 - ETA: 26:56 - loss: 1.6423 - acc: 0.67 - ETA: 26:53 - loss: 1.6450 - acc: 0.67 - ETA: 26:46 - loss: 1.6366 - acc: 0.67 - ETA: 26:40 - loss: 1.6382 - acc: 0.67 - ETA: 26:37 - loss: 1.6369 - acc: 0.67 - ETA: 26:32 - loss: 1.6353 - acc: 0.67 - ETA: 26:26 - loss: 1.6357 - acc: 0.67 - ETA: 26:23 - loss: 1.6315 - acc: 0.67 - ETA: 26:17 - loss: 1.6320 - acc: 0.67 - ETA: 26:12 - loss: 1.6338 - acc: 0.67 - ETA: 26:08 - loss: 1.6378 - acc: 0.67 - ETA: 26:03 - loss: 1.6396 - acc: 0.67 - ETA: 25:57 - loss: 1.6400 - acc: 0.67 - ETA: 25:52 - loss: 1.6422 - acc: 0.67 - ETA: 25:47 - loss: 1.6417 - acc: 0.67 - ETA: 25:42 - loss: 1.6423 - acc: 0.67 - ETA: 25:38 - loss: 1.6404 - acc: 0.67 - ETA: 25:32 - loss: 1.6434 - acc: 0.67 - ETA: 25:26 - loss: 1.6440 - acc: 0.67 - ETA: 25:21 - loss: 1.6435 - acc: 0.67 - ETA: 25:16 - loss: 1.6429 - acc: 0.67 - ETA: 25:10 - loss: 1.6422 - acc: 0.67 - ETA: 25:05 - loss: 1.6425 - acc: 0.67 - ETA: 25:00 - loss: 1.6408 - acc: 0.67 - ETA: 24:54 - loss: 1.6400 - acc: 0.67 - ETA: 24:49 - loss: 1.6412 - acc: 0.67 - ETA: 24:43 - loss: 1.6396 - acc: 0.67 - ETA: 24:38 - loss: 1.6404 - acc: 0.67 - ETA: 24:34 - loss: 1.6404 - acc: 0.67 - ETA: 24:30 - loss: 1.6422 - acc: 0.67 - ETA: 24:24 - loss: 1.6397 - acc: 0.67 - ETA: 24:19 - loss: 1.6415 - acc: 0.67 - ETA: 24:14 - loss: 1.6401 - acc: 0.67 - ETA: 24:08 - loss: 1.6385 - acc: 0.67 - ETA: 24:03 - loss: 1.6374 - acc: 0.67 - ETA: 23:58 - loss: 1.6401 - acc: 0.67 - ETA: 23:52 - loss: 1.6409 - acc: 0.67 - ETA: 23:47 - loss: 1.6404 - acc: 0.67 - ETA: 23:42 - loss: 1.6426 - acc: 0.67 - ETA: 23:37 - loss: 1.6433 - acc: 0.67 - ETA: 23:31 - loss: 1.6436 - acc: 0.67 - ETA: 23:26 - loss: 1.6441 - acc: 0.67 - ETA: 23:20 - loss: 1.6425 - acc: 0.67 - ETA: 23:15 - loss: 1.6428 - acc: 0.67 - ETA: 23:09 - loss: 1.6444 - acc: 0.67 - ETA: 23:04 - loss: 1.6425 - acc: 0.67 - ETA: 22:59 - loss: 1.6424 - acc: 0.67 - ETA: 22:53 - loss: 1.6421 - acc: 0.67 - ETA: 22:48 - loss: 1.6435 - acc: 0.67 - ETA: 22:43 - loss: 1.6451 - acc: 0.67 - ETA: 22:38 - loss: 1.6465 - acc: 0.67 - ETA: 22:32 - loss: 1.6479 - acc: 0.67 - ETA: 22:27 - loss: 1.6506 - acc: 0.67 - ETA: 22:22 - loss: 1.6499 - acc: 0.67 - ETA: 22:17 - loss: 1.6496 - acc: 0.67 - ETA: 22:11 - loss: 1.6491 - acc: 0.67 - ETA: 22:06 - loss: 1.6479 - acc: 0.67 - ETA: 22:01 - loss: 1.6448 - acc: 0.67 - ETA: 21:55 - loss: 1.6464 - acc: 0.67 - ETA: 21:51 - loss: 1.6463 - acc: 0.67 - ETA: 21:45 - loss: 1.6453 - acc: 0.67 - ETA: 21:40 - loss: 1.6453 - acc: 0.67 - ETA: 21:35 - loss: 1.6457 - acc: 0.67 - ETA: 21:29 - loss: 1.6463 - acc: 0.67 - ETA: 21:24 - loss: 1.6460 - acc: 0.67 - ETA: 21:19 - loss: 1.6440 - acc: 0.67 - ETA: 21:14 - loss: 1.6449 - acc: 0.67 - ETA: 21:08 - loss: 1.6453 - acc: 0.67 - ETA: 21:03 - loss: 1.6455 - acc: 0.67 - ETA: 20:58 - loss: 1.6451 - acc: 0.67 - ETA: 20:53 - loss: 1.6450 - acc: 0.67 - ETA: 20:48 - loss: 1.6447 - acc: 0.67 - ETA: 20:42 - loss: 1.6442 - acc: 0.67 - ETA: 20:37 - loss: 1.6440 - acc: 0.67 - ETA: 20:32 - loss: 1.6456 - acc: 0.67 - ETA: 20:27 - loss: 1.6454 - acc: 0.67 - ETA: 20:22 - loss: 1.6450 - acc: 0.67 - ETA: 20:17 - loss: 1.6439 - acc: 0.67 - ETA: 20:12 - loss: 1.6453 - acc: 0.67 - ETA: 20:06 - loss: 1.6446 - acc: 0.67 - ETA: 20:01 - loss: 1.6449 - acc: 0.67 - ETA: 19:56 - loss: 1.6448 - acc: 0.67 - ETA: 19:51 - loss: 1.6451 - acc: 0.67 - ETA: 19:45 - loss: 1.6454 - acc: 0.67 - ETA: 19:40 - loss: 1.6461 - acc: 0.67 - ETA: 19:35 - loss: 1.6468 - acc: 0.67 - ETA: 19:30 - loss: 1.6489 - acc: 0.67 - ETA: 19:24 - loss: 1.6491 - acc: 0.67 - ETA: 19:19 - loss: 1.6490 - acc: 0.67 - ETA: 19:14 - loss: 1.6491 - acc: 0.67 - ETA: 19:09 - loss: 1.6490 - acc: 0.67 - ETA: 19:03 - loss: 1.6496 - acc: 0.67 - ETA: 18:58 - loss: 1.6513 - acc: 0.67 - ETA: 18:53 - loss: 1.6517 - acc: 0.67 - ETA: 18:47 - loss: 1.6518 - acc: 0.67 - ETA: 18:42 - loss: 1.6519 - acc: 0.67 - ETA: 18:37 - loss: 1.6521 - acc: 0.67 - ETA: 18:31 - loss: 1.6529 - acc: 0.67 - ETA: 18:26 - loss: 1.6535 - acc: 0.67 - ETA: 18:21 - loss: 1.6545 - acc: 0.67 - ETA: 18:16 - loss: 1.6547 - acc: 0.67 - ETA: 18:10 - loss: 1.6549 - acc: 0.67 - ETA: 18:05 - loss: 1.6552 - acc: 0.67 - ETA: 18:00 - loss: 1.6553 - acc: 0.67 - ETA: 17:54 - loss: 1.6555 - acc: 0.67 - ETA: 17:49 - loss: 1.6565 - acc: 0.67 - ETA: 17:44 - loss: 1.6572 - acc: 0.67 - ETA: 17:39 - loss: 1.6587 - acc: 0.67 - ETA: 17:33 - loss: 1.6584 - acc: 0.67 - ETA: 17:28 - loss: 1.6580 - acc: 0.67 - ETA: 17:23 - loss: 1.6585 - acc: 0.67 - ETA: 17:18 - loss: 1.6585 - acc: 0.67 - ETA: 17:12 - loss: 1.6581 - acc: 0.67 - ETA: 17:07 - loss: 1.6590 - acc: 0.67 - ETA: 17:02 - loss: 1.6603 - acc: 0.67 - ETA: 16:57 - loss: 1.6606 - acc: 0.67 - ETA: 16:51 - loss: 1.6617 - acc: 0.67 - ETA: 16:46 - loss: 1.6628 - acc: 0.67 - ETA: 16:41 - loss: 1.6643 - acc: 0.67 - ETA: 16:36 - loss: 1.6648 - acc: 0.67 - ETA: 16:31 - loss: 1.6648 - acc: 0.67 - ETA: 16:25 - loss: 1.6653 - acc: 0.67 - ETA: 16:20 - loss: 1.6655 - acc: 0.67 - ETA: 16:15 - loss: 1.6656 - acc: 0.67 - ETA: 16:10 - loss: 1.6671 - acc: 0.67 - ETA: 16:05 - loss: 1.6677 - acc: 0.67 - ETA: 15:59 - loss: 1.6677 - acc: 0.67 - ETA: 15:54 - loss: 1.6681 - acc: 0.67 - ETA: 15:49 - loss: 1.6687 - acc: 0.67 - ETA: 15:44 - loss: 1.6693 - acc: 0.67 - ETA: 15:38 - loss: 1.6700 - acc: 0.67 - ETA: 15:33 - loss: 1.6697 - acc: 0.67 - ETA: 15:28 - loss: 1.6695 - acc: 0.67 - ETA: 15:23 - loss: 1.6699 - acc: 0.67 - ETA: 15:17 - loss: 1.6705 - acc: 0.67 - ETA: 15:12 - loss: 1.6712 - acc: 0.67 - ETA: 15:07 - loss: 1.6712 - acc: 0.67 - ETA: 15:02 - loss: 1.6707 - acc: 0.67 - ETA: 14:57 - loss: 1.6707 - acc: 0.67 - ETA: 14:51 - loss: 1.6713 - acc: 0.67 - ETA: 14:46 - loss: 1.6723 - acc: 0.67 - ETA: 14:41 - loss: 1.6717 - acc: 0.67 - ETA: 14:36 - loss: 1.6715 - acc: 0.67 - ETA: 14:30 - loss: 1.6720 - acc: 0.67 - ETA: 14:25 - loss: 1.6729 - acc: 0.67 - ETA: 14:20 - loss: 1.6728 - acc: 0.67 - ETA: 14:15 - loss: 1.6738 - acc: 0.67 - ETA: 14:09 - loss: 1.6734 - acc: 0.67 - ETA: 14:04 - loss: 1.6726 - acc: 0.67 - ETA: 13:59 - loss: 1.6722 - acc: 0.67 - ETA: 13:54 - loss: 1.6717 - acc: 0.67 - ETA: 13:49 - loss: 1.6711 - acc: 0.67 - ETA: 13:43 - loss: 1.6707 - acc: 0.67 - ETA: 13:38 - loss: 1.6692 - acc: 0.67 - ETA: 13:33 - loss: 1.6698 - acc: 0.67 - ETA: 13:27 - loss: 1.6703 - acc: 0.67 - ETA: 13:22 - loss: 1.6710 - acc: 0.67 - ETA: 13:17 - loss: 1.6711 - acc: 0.67 - ETA: 13:11 - loss: 1.6713 - acc: 0.67 - ETA: 13:06 - loss: 1.6709 - acc: 0.67 - ETA: 13:01 - loss: 1.6707 - acc: 0.67 - ETA: 12:56 - loss: 1.6722 - acc: 0.67 - ETA: 12:50 - loss: 1.6724 - acc: 0.67 - ETA: 12:45 - loss: 1.6723 - acc: 0.67 - ETA: 12:40 - loss: 1.6719 - acc: 0.67 - ETA: 12:35 - loss: 1.6718 - acc: 0.67 - ETA: 12:29 - loss: 1.6723 - acc: 0.67 - ETA: 12:24 - loss: 1.6724 - acc: 0.67 - ETA: 12:19 - loss: 1.6718 - acc: 0.67 - ETA: 12:14 - loss: 1.6717 - acc: 0.67 - ETA: 12:08 - loss: 1.6721 - acc: 0.67 - ETA: 12:03 - loss: 1.6719 - acc: 0.67 - ETA: 11:58 - loss: 1.6716 - acc: 0.67 - ETA: 11:53 - loss: 1.6721 - acc: 0.67 - ETA: 11:47 - loss: 1.6720 - acc: 0.67 - ETA: 11:42 - loss: 1.6718 - acc: 0.67 - ETA: 11:37 - loss: 1.6715 - acc: 0.67 - ETA: 11:32 - loss: 1.6712 - acc: 0.67 - ETA: 11:26 - loss: 1.6712 - acc: 0.67 - ETA: 11:21 - loss: 1.6715 - acc: 0.67 - ETA: 11:16 - loss: 1.6718 - acc: 0.67 - ETA: 11:11 - loss: 1.6716 - acc: 0.67 - ETA: 11:05 - loss: 1.6711 - acc: 0.6743"
     ]
    },
    {
     "name": "stdout",
     "output_type": "stream",
     "text": [
      "42374/42374 [==============================] - ETA: 11:00 - loss: 1.6707 - acc: 0.67 - ETA: 10:55 - loss: 1.6708 - acc: 0.67 - ETA: 10:50 - loss: 1.6711 - acc: 0.67 - ETA: 10:45 - loss: 1.6718 - acc: 0.67 - ETA: 10:39 - loss: 1.6718 - acc: 0.67 - ETA: 10:34 - loss: 1.6717 - acc: 0.67 - ETA: 10:29 - loss: 1.6716 - acc: 0.67 - ETA: 10:24 - loss: 1.6722 - acc: 0.67 - ETA: 10:18 - loss: 1.6723 - acc: 0.67 - ETA: 10:13 - loss: 1.6726 - acc: 0.67 - ETA: 10:08 - loss: 1.6725 - acc: 0.67 - ETA: 10:03 - loss: 1.6721 - acc: 0.67 - ETA: 9:57 - loss: 1.6727 - acc: 0.6741 - ETA: 9:52 - loss: 1.6730 - acc: 0.674 - ETA: 9:47 - loss: 1.6729 - acc: 0.674 - ETA: 9:41 - loss: 1.6720 - acc: 0.674 - ETA: 9:36 - loss: 1.6722 - acc: 0.674 - ETA: 9:31 - loss: 1.6731 - acc: 0.674 - ETA: 9:26 - loss: 1.6733 - acc: 0.674 - ETA: 9:20 - loss: 1.6735 - acc: 0.674 - ETA: 9:15 - loss: 1.6736 - acc: 0.674 - ETA: 9:10 - loss: 1.6736 - acc: 0.674 - ETA: 9:05 - loss: 1.6734 - acc: 0.674 - ETA: 8:59 - loss: 1.6734 - acc: 0.674 - ETA: 8:54 - loss: 1.6743 - acc: 0.674 - ETA: 8:49 - loss: 1.6746 - acc: 0.674 - ETA: 8:43 - loss: 1.6746 - acc: 0.674 - ETA: 8:38 - loss: 1.6747 - acc: 0.674 - ETA: 8:33 - loss: 1.6756 - acc: 0.674 - ETA: 8:28 - loss: 1.6762 - acc: 0.674 - ETA: 8:23 - loss: 1.6762 - acc: 0.674 - ETA: 8:17 - loss: 1.6766 - acc: 0.674 - ETA: 8:12 - loss: 1.6772 - acc: 0.673 - ETA: 8:07 - loss: 1.6777 - acc: 0.673 - ETA: 8:02 - loss: 1.6781 - acc: 0.673 - ETA: 7:56 - loss: 1.6785 - acc: 0.673 - ETA: 7:51 - loss: 1.6784 - acc: 0.673 - ETA: 7:46 - loss: 1.6779 - acc: 0.673 - ETA: 7:41 - loss: 1.6782 - acc: 0.673 - ETA: 7:35 - loss: 1.6784 - acc: 0.673 - ETA: 7:30 - loss: 1.6778 - acc: 0.674 - ETA: 7:25 - loss: 1.6780 - acc: 0.674 - ETA: 7:20 - loss: 1.6782 - acc: 0.674 - ETA: 7:14 - loss: 1.6783 - acc: 0.674 - ETA: 7:09 - loss: 1.6781 - acc: 0.674 - ETA: 7:04 - loss: 1.6791 - acc: 0.673 - ETA: 6:59 - loss: 1.6790 - acc: 0.673 - ETA: 6:53 - loss: 1.6787 - acc: 0.674 - ETA: 6:48 - loss: 1.6792 - acc: 0.673 - ETA: 6:43 - loss: 1.6801 - acc: 0.673 - ETA: 6:38 - loss: 1.6804 - acc: 0.673 - ETA: 6:33 - loss: 1.6800 - acc: 0.673 - ETA: 6:27 - loss: 1.6801 - acc: 0.673 - ETA: 6:22 - loss: 1.6794 - acc: 0.673 - ETA: 6:17 - loss: 1.6798 - acc: 0.673 - ETA: 6:12 - loss: 1.6807 - acc: 0.673 - ETA: 6:06 - loss: 1.6812 - acc: 0.673 - ETA: 6:01 - loss: 1.6812 - acc: 0.673 - ETA: 5:56 - loss: 1.6811 - acc: 0.673 - ETA: 5:51 - loss: 1.6814 - acc: 0.673 - ETA: 5:46 - loss: 1.6815 - acc: 0.673 - ETA: 5:40 - loss: 1.6818 - acc: 0.673 - ETA: 5:35 - loss: 1.6820 - acc: 0.673 - ETA: 5:30 - loss: 1.6821 - acc: 0.673 - ETA: 5:25 - loss: 1.6817 - acc: 0.673 - ETA: 5:19 - loss: 1.6819 - acc: 0.673 - ETA: 5:14 - loss: 1.6818 - acc: 0.673 - ETA: 5:09 - loss: 1.6818 - acc: 0.673 - ETA: 5:04 - loss: 1.6814 - acc: 0.673 - ETA: 4:58 - loss: 1.6811 - acc: 0.673 - ETA: 4:53 - loss: 1.6812 - acc: 0.673 - ETA: 4:48 - loss: 1.6807 - acc: 0.673 - ETA: 4:43 - loss: 1.6813 - acc: 0.673 - ETA: 4:37 - loss: 1.6814 - acc: 0.673 - ETA: 4:32 - loss: 1.6812 - acc: 0.673 - ETA: 4:27 - loss: 1.6813 - acc: 0.673 - ETA: 4:22 - loss: 1.6813 - acc: 0.673 - ETA: 4:16 - loss: 1.6813 - acc: 0.673 - ETA: 4:11 - loss: 1.6813 - acc: 0.673 - ETA: 4:06 - loss: 1.6814 - acc: 0.673 - ETA: 4:01 - loss: 1.6815 - acc: 0.673 - ETA: 3:56 - loss: 1.6814 - acc: 0.673 - ETA: 3:50 - loss: 1.6814 - acc: 0.673 - ETA: 3:45 - loss: 1.6824 - acc: 0.673 - ETA: 3:40 - loss: 1.6830 - acc: 0.673 - ETA: 3:35 - loss: 1.6830 - acc: 0.673 - ETA: 3:29 - loss: 1.6829 - acc: 0.673 - ETA: 3:24 - loss: 1.6827 - acc: 0.673 - ETA: 3:19 - loss: 1.6827 - acc: 0.673 - ETA: 3:14 - loss: 1.6828 - acc: 0.673 - ETA: 3:08 - loss: 1.6826 - acc: 0.673 - ETA: 3:03 - loss: 1.6828 - acc: 0.673 - ETA: 2:58 - loss: 1.6831 - acc: 0.673 - ETA: 2:53 - loss: 1.6833 - acc: 0.673 - ETA: 2:47 - loss: 1.6834 - acc: 0.673 - ETA: 2:42 - loss: 1.6836 - acc: 0.673 - ETA: 2:37 - loss: 1.6836 - acc: 0.673 - ETA: 2:32 - loss: 1.6835 - acc: 0.673 - ETA: 2:26 - loss: 1.6837 - acc: 0.673 - ETA: 2:21 - loss: 1.6833 - acc: 0.673 - ETA: 2:16 - loss: 1.6837 - acc: 0.673 - ETA: 2:11 - loss: 1.6840 - acc: 0.673 - ETA: 2:05 - loss: 1.6839 - acc: 0.673 - ETA: 2:00 - loss: 1.6841 - acc: 0.673 - ETA: 1:55 - loss: 1.6846 - acc: 0.673 - ETA: 1:50 - loss: 1.6843 - acc: 0.673 - ETA: 1:45 - loss: 1.6849 - acc: 0.673 - ETA: 1:39 - loss: 1.6851 - acc: 0.673 - ETA: 1:34 - loss: 1.6848 - acc: 0.673 - ETA: 1:29 - loss: 1.6847 - acc: 0.673 - ETA: 1:24 - loss: 1.6845 - acc: 0.673 - ETA: 1:18 - loss: 1.6848 - acc: 0.673 - ETA: 1:13 - loss: 1.6851 - acc: 0.673 - ETA: 1:08 - loss: 1.6852 - acc: 0.673 - ETA: 1:03 - loss: 1.6857 - acc: 0.673 - ETA: 57s - loss: 1.6862 - acc: 0.673 - ETA: 52s - loss: 1.6858 - acc: 0.67 - ETA: 47s - loss: 1.6860 - acc: 0.67 - ETA: 42s - loss: 1.6862 - acc: 0.67 - ETA: 36s - loss: 1.6859 - acc: 0.67 - ETA: 31s - loss: 1.6860 - acc: 0.67 - ETA: 26s - loss: 1.6860 - acc: 0.67 - ETA: 21s - loss: 1.6862 - acc: 0.67 - ETA: 15s - loss: 1.6864 - acc: 0.67 - ETA: 10s - loss: 1.6869 - acc: 0.67 - ETA: 5s - loss: 1.6872 - acc: 0.6731 - ETA: 0s - loss: 1.6869 - acc: 0.673 - 1736s 41ms/sample - loss: 1.6871 - acc: 0.6731\n",
      "Epoch 20/30\n"
     ]
    },
    {
     "name": "stdout",
     "output_type": "stream",
     "text": [
      "26112/42374 [=================>............] - ETA: 28:52 - loss: 1.6134 - acc: 0.69 - ETA: 28:33 - loss: 1.6487 - acc: 0.67 - ETA: 28:29 - loss: 1.6577 - acc: 0.67 - ETA: 28:24 - loss: 1.6272 - acc: 0.68 - ETA: 28:16 - loss: 1.6244 - acc: 0.68 - ETA: 28:14 - loss: 1.6054 - acc: 0.68 - ETA: 28:09 - loss: 1.5830 - acc: 0.68 - ETA: 28:01 - loss: 1.5903 - acc: 0.68 - ETA: 27:55 - loss: 1.5904 - acc: 0.69 - ETA: 27:53 - loss: 1.5944 - acc: 0.68 - ETA: 27:45 - loss: 1.6135 - acc: 0.68 - ETA: 27:40 - loss: 1.6102 - acc: 0.68 - ETA: 27:35 - loss: 1.6110 - acc: 0.68 - ETA: 27:28 - loss: 1.6091 - acc: 0.68 - ETA: 27:22 - loss: 1.6126 - acc: 0.68 - ETA: 27:19 - loss: 1.6121 - acc: 0.68 - ETA: 27:13 - loss: 1.6095 - acc: 0.68 - ETA: 27:09 - loss: 1.6168 - acc: 0.68 - ETA: 27:05 - loss: 1.6185 - acc: 0.68 - ETA: 26:59 - loss: 1.6222 - acc: 0.68 - ETA: 26:53 - loss: 1.6162 - acc: 0.68 - ETA: 26:47 - loss: 1.6140 - acc: 0.68 - ETA: 26:42 - loss: 1.6200 - acc: 0.68 - ETA: 26:37 - loss: 1.6251 - acc: 0.67 - ETA: 26:33 - loss: 1.6258 - acc: 0.67 - ETA: 26:27 - loss: 1.6268 - acc: 0.67 - ETA: 26:22 - loss: 1.6262 - acc: 0.67 - ETA: 26:18 - loss: 1.6230 - acc: 0.67 - ETA: 26:12 - loss: 1.6191 - acc: 0.67 - ETA: 26:07 - loss: 1.6167 - acc: 0.68 - ETA: 26:02 - loss: 1.6171 - acc: 0.67 - ETA: 25:57 - loss: 1.6185 - acc: 0.67 - ETA: 25:51 - loss: 1.6166 - acc: 0.68 - ETA: 25:47 - loss: 1.6196 - acc: 0.68 - ETA: 25:42 - loss: 1.6201 - acc: 0.68 - ETA: 25:36 - loss: 1.6181 - acc: 0.68 - ETA: 25:32 - loss: 1.6192 - acc: 0.68 - ETA: 25:27 - loss: 1.6211 - acc: 0.67 - ETA: 25:21 - loss: 1.6269 - acc: 0.67 - ETA: 25:17 - loss: 1.6297 - acc: 0.67 - ETA: 25:12 - loss: 1.6313 - acc: 0.67 - ETA: 25:07 - loss: 1.6305 - acc: 0.67 - ETA: 25:02 - loss: 1.6309 - acc: 0.67 - ETA: 24:57 - loss: 1.6330 - acc: 0.67 - ETA: 24:52 - loss: 1.6328 - acc: 0.67 - ETA: 24:47 - loss: 1.6319 - acc: 0.67 - ETA: 24:42 - loss: 1.6310 - acc: 0.67 - ETA: 24:37 - loss: 1.6329 - acc: 0.67 - ETA: 24:32 - loss: 1.6324 - acc: 0.67 - ETA: 24:27 - loss: 1.6294 - acc: 0.67 - ETA: 24:22 - loss: 1.6267 - acc: 0.67 - ETA: 24:17 - loss: 1.6288 - acc: 0.67 - ETA: 24:12 - loss: 1.6292 - acc: 0.67 - ETA: 24:06 - loss: 1.6309 - acc: 0.67 - ETA: 24:01 - loss: 1.6296 - acc: 0.67 - ETA: 23:56 - loss: 1.6292 - acc: 0.67 - ETA: 23:51 - loss: 1.6301 - acc: 0.67 - ETA: 23:46 - loss: 1.6294 - acc: 0.67 - ETA: 23:41 - loss: 1.6325 - acc: 0.67 - ETA: 23:36 - loss: 1.6322 - acc: 0.67 - ETA: 23:30 - loss: 1.6310 - acc: 0.67 - ETA: 23:25 - loss: 1.6289 - acc: 0.67 - ETA: 23:20 - loss: 1.6282 - acc: 0.67 - ETA: 23:15 - loss: 1.6277 - acc: 0.67 - ETA: 23:10 - loss: 1.6266 - acc: 0.67 - ETA: 23:05 - loss: 1.6276 - acc: 0.67 - ETA: 22:59 - loss: 1.6278 - acc: 0.67 - ETA: 22:54 - loss: 1.6269 - acc: 0.67 - ETA: 22:49 - loss: 1.6259 - acc: 0.67 - ETA: 22:44 - loss: 1.6270 - acc: 0.67 - ETA: 22:38 - loss: 1.6250 - acc: 0.67 - ETA: 22:33 - loss: 1.6258 - acc: 0.67 - ETA: 22:28 - loss: 1.6250 - acc: 0.67 - ETA: 22:22 - loss: 1.6251 - acc: 0.67 - ETA: 22:17 - loss: 1.6255 - acc: 0.67 - ETA: 22:12 - loss: 1.6256 - acc: 0.67 - ETA: 22:06 - loss: 1.6263 - acc: 0.67 - ETA: 22:01 - loss: 1.6265 - acc: 0.67 - ETA: 21:56 - loss: 1.6289 - acc: 0.67 - ETA: 21:50 - loss: 1.6298 - acc: 0.67 - ETA: 21:45 - loss: 1.6307 - acc: 0.67 - ETA: 21:40 - loss: 1.6305 - acc: 0.67 - ETA: 21:35 - loss: 1.6318 - acc: 0.67 - ETA: 21:29 - loss: 1.6328 - acc: 0.67 - ETA: 21:24 - loss: 1.6330 - acc: 0.67 - ETA: 21:19 - loss: 1.6340 - acc: 0.67 - ETA: 21:14 - loss: 1.6340 - acc: 0.67 - ETA: 21:09 - loss: 1.6340 - acc: 0.67 - ETA: 21:04 - loss: 1.6335 - acc: 0.67 - ETA: 20:59 - loss: 1.6341 - acc: 0.67 - ETA: 20:54 - loss: 1.6346 - acc: 0.67 - ETA: 20:49 - loss: 1.6339 - acc: 0.67 - ETA: 20:43 - loss: 1.6333 - acc: 0.67 - ETA: 20:38 - loss: 1.6332 - acc: 0.67 - ETA: 20:33 - loss: 1.6344 - acc: 0.67 - ETA: 20:28 - loss: 1.6339 - acc: 0.67 - ETA: 20:22 - loss: 1.6347 - acc: 0.67 - ETA: 20:17 - loss: 1.6357 - acc: 0.67 - ETA: 20:12 - loss: 1.6353 - acc: 0.67 - ETA: 20:07 - loss: 1.6361 - acc: 0.67 - ETA: 20:02 - loss: 1.6348 - acc: 0.67 - ETA: 19:57 - loss: 1.6351 - acc: 0.67 - ETA: 19:52 - loss: 1.6347 - acc: 0.67 - ETA: 19:47 - loss: 1.6356 - acc: 0.67 - ETA: 19:41 - loss: 1.6359 - acc: 0.67 - ETA: 19:36 - loss: 1.6357 - acc: 0.67 - ETA: 19:31 - loss: 1.6371 - acc: 0.67 - ETA: 19:26 - loss: 1.6371 - acc: 0.67 - ETA: 19:21 - loss: 1.6365 - acc: 0.67 - ETA: 19:16 - loss: 1.6366 - acc: 0.67 - ETA: 19:11 - loss: 1.6363 - acc: 0.67 - ETA: 19:05 - loss: 1.6354 - acc: 0.67 - ETA: 19:00 - loss: 1.6350 - acc: 0.67 - ETA: 18:55 - loss: 1.6344 - acc: 0.67 - ETA: 18:50 - loss: 1.6353 - acc: 0.67 - ETA: 18:44 - loss: 1.6361 - acc: 0.67 - ETA: 18:39 - loss: 1.6371 - acc: 0.67 - ETA: 18:34 - loss: 1.6374 - acc: 0.67 - ETA: 18:29 - loss: 1.6380 - acc: 0.67 - ETA: 18:24 - loss: 1.6381 - acc: 0.67 - ETA: 18:18 - loss: 1.6380 - acc: 0.67 - ETA: 18:13 - loss: 1.6367 - acc: 0.67 - ETA: 18:08 - loss: 1.6363 - acc: 0.67 - ETA: 18:03 - loss: 1.6373 - acc: 0.67 - ETA: 17:58 - loss: 1.6373 - acc: 0.67 - ETA: 17:52 - loss: 1.6367 - acc: 0.67 - ETA: 17:47 - loss: 1.6366 - acc: 0.67 - ETA: 17:42 - loss: 1.6361 - acc: 0.67 - ETA: 17:37 - loss: 1.6370 - acc: 0.67 - ETA: 17:31 - loss: 1.6373 - acc: 0.67 - ETA: 17:26 - loss: 1.6372 - acc: 0.67 - ETA: 17:21 - loss: 1.6383 - acc: 0.67 - ETA: 17:16 - loss: 1.6393 - acc: 0.67 - ETA: 17:10 - loss: 1.6397 - acc: 0.67 - ETA: 17:05 - loss: 1.6397 - acc: 0.67 - ETA: 17:00 - loss: 1.6394 - acc: 0.67 - ETA: 16:55 - loss: 1.6398 - acc: 0.67 - ETA: 16:49 - loss: 1.6399 - acc: 0.67 - ETA: 16:44 - loss: 1.6407 - acc: 0.67 - ETA: 16:39 - loss: 1.6412 - acc: 0.67 - ETA: 16:34 - loss: 1.6407 - acc: 0.67 - ETA: 16:29 - loss: 1.6406 - acc: 0.67 - ETA: 16:23 - loss: 1.6409 - acc: 0.67 - ETA: 16:18 - loss: 1.6407 - acc: 0.67 - ETA: 16:13 - loss: 1.6408 - acc: 0.67 - ETA: 16:07 - loss: 1.6411 - acc: 0.67 - ETA: 16:02 - loss: 1.6407 - acc: 0.67 - ETA: 15:57 - loss: 1.6403 - acc: 0.67 - ETA: 15:52 - loss: 1.6405 - acc: 0.67 - ETA: 15:47 - loss: 1.6409 - acc: 0.67 - ETA: 15:42 - loss: 1.6411 - acc: 0.67 - ETA: 15:36 - loss: 1.6416 - acc: 0.67 - ETA: 15:31 - loss: 1.6421 - acc: 0.67 - ETA: 15:26 - loss: 1.6419 - acc: 0.67 - ETA: 15:21 - loss: 1.6416 - acc: 0.67 - ETA: 15:15 - loss: 1.6414 - acc: 0.67 - ETA: 15:10 - loss: 1.6414 - acc: 0.67 - ETA: 15:05 - loss: 1.6409 - acc: 0.67 - ETA: 15:00 - loss: 1.6398 - acc: 0.67 - ETA: 14:55 - loss: 1.6399 - acc: 0.67 - ETA: 14:49 - loss: 1.6397 - acc: 0.67 - ETA: 14:44 - loss: 1.6396 - acc: 0.67 - ETA: 14:39 - loss: 1.6396 - acc: 0.67 - ETA: 14:34 - loss: 1.6410 - acc: 0.67 - ETA: 14:29 - loss: 1.6416 - acc: 0.67 - ETA: 14:23 - loss: 1.6422 - acc: 0.67 - ETA: 14:18 - loss: 1.6426 - acc: 0.67 - ETA: 14:13 - loss: 1.6422 - acc: 0.67 - ETA: 14:08 - loss: 1.6425 - acc: 0.67 - ETA: 14:03 - loss: 1.6434 - acc: 0.67 - ETA: 13:58 - loss: 1.6430 - acc: 0.67 - ETA: 13:52 - loss: 1.6437 - acc: 0.67 - ETA: 13:47 - loss: 1.6432 - acc: 0.67 - ETA: 13:42 - loss: 1.6435 - acc: 0.67 - ETA: 13:37 - loss: 1.6443 - acc: 0.67 - ETA: 13:31 - loss: 1.6443 - acc: 0.67 - ETA: 13:26 - loss: 1.6443 - acc: 0.67 - ETA: 13:21 - loss: 1.6446 - acc: 0.67 - ETA: 13:16 - loss: 1.6454 - acc: 0.67 - ETA: 13:11 - loss: 1.6454 - acc: 0.67 - ETA: 13:05 - loss: 1.6459 - acc: 0.67 - ETA: 13:00 - loss: 1.6466 - acc: 0.67 - ETA: 12:55 - loss: 1.6464 - acc: 0.67 - ETA: 12:50 - loss: 1.6468 - acc: 0.67 - ETA: 12:44 - loss: 1.6476 - acc: 0.67 - ETA: 12:39 - loss: 1.6475 - acc: 0.67 - ETA: 12:34 - loss: 1.6469 - acc: 0.67 - ETA: 12:28 - loss: 1.6471 - acc: 0.67 - ETA: 12:23 - loss: 1.6469 - acc: 0.67 - ETA: 12:18 - loss: 1.6474 - acc: 0.67 - ETA: 12:13 - loss: 1.6469 - acc: 0.67 - ETA: 12:07 - loss: 1.6472 - acc: 0.67 - ETA: 12:02 - loss: 1.6470 - acc: 0.67 - ETA: 11:57 - loss: 1.6474 - acc: 0.67 - ETA: 11:52 - loss: 1.6475 - acc: 0.67 - ETA: 11:46 - loss: 1.6479 - acc: 0.67 - ETA: 11:41 - loss: 1.6473 - acc: 0.67 - ETA: 11:36 - loss: 1.6472 - acc: 0.67 - ETA: 11:31 - loss: 1.6478 - acc: 0.67 - ETA: 11:25 - loss: 1.6477 - acc: 0.67 - ETA: 11:20 - loss: 1.6475 - acc: 0.67 - ETA: 11:15 - loss: 1.6481 - acc: 0.67 - ETA: 11:10 - loss: 1.6486 - acc: 0.67 - ETA: 11:05 - loss: 1.6489 - acc: 0.6771"
     ]
    },
    {
     "name": "stdout",
     "output_type": "stream",
     "text": [
      "42374/42374 [==============================] - ETA: 10:59 - loss: 1.6498 - acc: 0.67 - ETA: 10:54 - loss: 1.6497 - acc: 0.67 - ETA: 10:49 - loss: 1.6494 - acc: 0.67 - ETA: 10:44 - loss: 1.6497 - acc: 0.67 - ETA: 10:39 - loss: 1.6500 - acc: 0.67 - ETA: 10:33 - loss: 1.6497 - acc: 0.67 - ETA: 10:28 - loss: 1.6493 - acc: 0.67 - ETA: 10:23 - loss: 1.6488 - acc: 0.67 - ETA: 10:18 - loss: 1.6495 - acc: 0.67 - ETA: 10:12 - loss: 1.6491 - acc: 0.67 - ETA: 10:07 - loss: 1.6490 - acc: 0.67 - ETA: 10:02 - loss: 1.6491 - acc: 0.67 - ETA: 9:57 - loss: 1.6495 - acc: 0.6770 - ETA: 9:51 - loss: 1.6497 - acc: 0.676 - ETA: 9:46 - loss: 1.6497 - acc: 0.676 - ETA: 9:41 - loss: 1.6500 - acc: 0.676 - ETA: 9:36 - loss: 1.6509 - acc: 0.676 - ETA: 9:30 - loss: 1.6512 - acc: 0.676 - ETA: 9:25 - loss: 1.6519 - acc: 0.676 - ETA: 9:20 - loss: 1.6522 - acc: 0.676 - ETA: 9:15 - loss: 1.6520 - acc: 0.676 - ETA: 9:10 - loss: 1.6517 - acc: 0.676 - ETA: 9:04 - loss: 1.6515 - acc: 0.676 - ETA: 8:59 - loss: 1.6516 - acc: 0.676 - ETA: 8:54 - loss: 1.6518 - acc: 0.676 - ETA: 8:49 - loss: 1.6518 - acc: 0.676 - ETA: 8:43 - loss: 1.6521 - acc: 0.676 - ETA: 8:38 - loss: 1.6520 - acc: 0.676 - ETA: 8:33 - loss: 1.6513 - acc: 0.676 - ETA: 8:28 - loss: 1.6516 - acc: 0.676 - ETA: 8:22 - loss: 1.6520 - acc: 0.676 - ETA: 8:17 - loss: 1.6523 - acc: 0.676 - ETA: 8:12 - loss: 1.6528 - acc: 0.676 - ETA: 8:07 - loss: 1.6525 - acc: 0.676 - ETA: 8:01 - loss: 1.6524 - acc: 0.676 - ETA: 7:56 - loss: 1.6522 - acc: 0.676 - ETA: 7:51 - loss: 1.6526 - acc: 0.676 - ETA: 7:46 - loss: 1.6523 - acc: 0.676 - ETA: 7:41 - loss: 1.6526 - acc: 0.676 - ETA: 7:35 - loss: 1.6527 - acc: 0.676 - ETA: 7:30 - loss: 1.6527 - acc: 0.676 - ETA: 7:25 - loss: 1.6529 - acc: 0.676 - ETA: 7:20 - loss: 1.6529 - acc: 0.676 - ETA: 7:14 - loss: 1.6537 - acc: 0.676 - ETA: 7:09 - loss: 1.6538 - acc: 0.676 - ETA: 7:04 - loss: 1.6536 - acc: 0.676 - ETA: 6:59 - loss: 1.6539 - acc: 0.676 - ETA: 6:53 - loss: 1.6539 - acc: 0.676 - ETA: 6:48 - loss: 1.6541 - acc: 0.676 - ETA: 6:43 - loss: 1.6542 - acc: 0.676 - ETA: 6:38 - loss: 1.6546 - acc: 0.676 - ETA: 6:32 - loss: 1.6546 - acc: 0.676 - ETA: 6:27 - loss: 1.6543 - acc: 0.676 - ETA: 6:22 - loss: 1.6545 - acc: 0.676 - ETA: 6:17 - loss: 1.6548 - acc: 0.676 - ETA: 6:11 - loss: 1.6550 - acc: 0.676 - ETA: 6:06 - loss: 1.6551 - acc: 0.676 - ETA: 6:01 - loss: 1.6551 - acc: 0.676 - ETA: 5:56 - loss: 1.6553 - acc: 0.676 - ETA: 5:51 - loss: 1.6559 - acc: 0.676 - ETA: 5:45 - loss: 1.6557 - acc: 0.676 - ETA: 5:40 - loss: 1.6562 - acc: 0.676 - ETA: 5:35 - loss: 1.6567 - acc: 0.676 - ETA: 5:30 - loss: 1.6566 - acc: 0.676 - ETA: 5:24 - loss: 1.6568 - acc: 0.676 - ETA: 5:19 - loss: 1.6565 - acc: 0.676 - ETA: 5:14 - loss: 1.6562 - acc: 0.676 - ETA: 5:09 - loss: 1.6563 - acc: 0.676 - ETA: 5:03 - loss: 1.6568 - acc: 0.676 - ETA: 4:58 - loss: 1.6574 - acc: 0.676 - ETA: 4:53 - loss: 1.6576 - acc: 0.676 - ETA: 4:48 - loss: 1.6581 - acc: 0.676 - ETA: 4:42 - loss: 1.6581 - acc: 0.676 - ETA: 4:37 - loss: 1.6574 - acc: 0.676 - ETA: 4:32 - loss: 1.6576 - acc: 0.676 - ETA: 4:27 - loss: 1.6578 - acc: 0.676 - ETA: 4:22 - loss: 1.6578 - acc: 0.676 - ETA: 4:16 - loss: 1.6580 - acc: 0.676 - ETA: 4:11 - loss: 1.6582 - acc: 0.676 - ETA: 4:06 - loss: 1.6585 - acc: 0.676 - ETA: 4:01 - loss: 1.6585 - acc: 0.676 - ETA: 3:55 - loss: 1.6585 - acc: 0.676 - ETA: 3:50 - loss: 1.6587 - acc: 0.676 - ETA: 3:45 - loss: 1.6591 - acc: 0.676 - ETA: 3:40 - loss: 1.6591 - acc: 0.676 - ETA: 3:34 - loss: 1.6595 - acc: 0.676 - ETA: 3:29 - loss: 1.6595 - acc: 0.676 - ETA: 3:24 - loss: 1.6597 - acc: 0.676 - ETA: 3:19 - loss: 1.6599 - acc: 0.676 - ETA: 3:13 - loss: 1.6604 - acc: 0.675 - ETA: 3:08 - loss: 1.6604 - acc: 0.675 - ETA: 3:03 - loss: 1.6608 - acc: 0.675 - ETA: 2:58 - loss: 1.6611 - acc: 0.675 - ETA: 2:53 - loss: 1.6610 - acc: 0.675 - ETA: 2:47 - loss: 1.6611 - acc: 0.675 - ETA: 2:42 - loss: 1.6612 - acc: 0.675 - ETA: 2:37 - loss: 1.6613 - acc: 0.675 - ETA: 2:32 - loss: 1.6610 - acc: 0.675 - ETA: 2:26 - loss: 1.6610 - acc: 0.675 - ETA: 2:21 - loss: 1.6611 - acc: 0.675 - ETA: 2:16 - loss: 1.6610 - acc: 0.676 - ETA: 2:11 - loss: 1.6609 - acc: 0.676 - ETA: 2:05 - loss: 1.6607 - acc: 0.676 - ETA: 2:00 - loss: 1.6609 - acc: 0.676 - ETA: 1:55 - loss: 1.6612 - acc: 0.675 - ETA: 1:50 - loss: 1.6614 - acc: 0.675 - ETA: 1:44 - loss: 1.6614 - acc: 0.675 - ETA: 1:39 - loss: 1.6616 - acc: 0.675 - ETA: 1:34 - loss: 1.6619 - acc: 0.675 - ETA: 1:29 - loss: 1.6614 - acc: 0.675 - ETA: 1:24 - loss: 1.6611 - acc: 0.675 - ETA: 1:18 - loss: 1.6609 - acc: 0.676 - ETA: 1:13 - loss: 1.6607 - acc: 0.676 - ETA: 1:08 - loss: 1.6613 - acc: 0.675 - ETA: 1:03 - loss: 1.6612 - acc: 0.676 - ETA: 57s - loss: 1.6613 - acc: 0.676 - ETA: 52s - loss: 1.6611 - acc: 0.67 - ETA: 47s - loss: 1.6614 - acc: 0.67 - ETA: 42s - loss: 1.6617 - acc: 0.67 - ETA: 36s - loss: 1.6619 - acc: 0.67 - ETA: 31s - loss: 1.6620 - acc: 0.67 - ETA: 26s - loss: 1.6625 - acc: 0.67 - ETA: 21s - loss: 1.6628 - acc: 0.67 - ETA: 15s - loss: 1.6628 - acc: 0.67 - ETA: 10s - loss: 1.6632 - acc: 0.67 - ETA: 5s - loss: 1.6632 - acc: 0.6759 - ETA: 0s - loss: 1.6634 - acc: 0.675 - 1736s 41ms/sample - loss: 1.6634 - acc: 0.6759\n",
      "Epoch 21/30\n"
     ]
    },
    {
     "name": "stdout",
     "output_type": "stream",
     "text": [
      "26112/42374 [=================>............] - ETA: 27:53 - loss: 1.5009 - acc: 0.71 - ETA: 28:29 - loss: 1.5008 - acc: 0.70 - ETA: 28:25 - loss: 1.5510 - acc: 0.69 - ETA: 28:17 - loss: 1.5610 - acc: 0.69 - ETA: 28:20 - loss: 1.5345 - acc: 0.69 - ETA: 28:15 - loss: 1.5426 - acc: 0.69 - ETA: 28:08 - loss: 1.5529 - acc: 0.69 - ETA: 28:15 - loss: 1.5787 - acc: 0.68 - ETA: 28:06 - loss: 1.5882 - acc: 0.68 - ETA: 28:03 - loss: 1.5855 - acc: 0.68 - ETA: 28:02 - loss: 1.5787 - acc: 0.68 - ETA: 27:56 - loss: 1.5825 - acc: 0.68 - ETA: 27:45 - loss: 1.5835 - acc: 0.68 - ETA: 27:43 - loss: 1.5831 - acc: 0.68 - ETA: 27:37 - loss: 1.5852 - acc: 0.68 - ETA: 27:30 - loss: 1.5901 - acc: 0.68 - ETA: 27:26 - loss: 1.5769 - acc: 0.68 - ETA: 27:20 - loss: 1.5834 - acc: 0.68 - ETA: 27:14 - loss: 1.5899 - acc: 0.68 - ETA: 27:10 - loss: 1.5909 - acc: 0.68 - ETA: 27:05 - loss: 1.5864 - acc: 0.68 - ETA: 26:59 - loss: 1.5858 - acc: 0.68 - ETA: 26:55 - loss: 1.5832 - acc: 0.68 - ETA: 26:49 - loss: 1.5857 - acc: 0.68 - ETA: 26:43 - loss: 1.5873 - acc: 0.68 - ETA: 26:37 - loss: 1.5901 - acc: 0.68 - ETA: 26:32 - loss: 1.5899 - acc: 0.68 - ETA: 26:26 - loss: 1.5893 - acc: 0.68 - ETA: 26:21 - loss: 1.5898 - acc: 0.68 - ETA: 26:16 - loss: 1.5867 - acc: 0.68 - ETA: 26:11 - loss: 1.5812 - acc: 0.68 - ETA: 26:06 - loss: 1.5764 - acc: 0.68 - ETA: 26:01 - loss: 1.5779 - acc: 0.68 - ETA: 25:55 - loss: 1.5771 - acc: 0.68 - ETA: 25:49 - loss: 1.5790 - acc: 0.68 - ETA: 25:44 - loss: 1.5760 - acc: 0.68 - ETA: 25:39 - loss: 1.5806 - acc: 0.68 - ETA: 25:33 - loss: 1.5786 - acc: 0.68 - ETA: 25:28 - loss: 1.5804 - acc: 0.68 - ETA: 25:23 - loss: 1.5811 - acc: 0.68 - ETA: 25:17 - loss: 1.5822 - acc: 0.68 - ETA: 25:11 - loss: 1.5822 - acc: 0.68 - ETA: 25:06 - loss: 1.5849 - acc: 0.68 - ETA: 25:01 - loss: 1.5820 - acc: 0.68 - ETA: 24:56 - loss: 1.5837 - acc: 0.68 - ETA: 24:50 - loss: 1.5836 - acc: 0.68 - ETA: 24:45 - loss: 1.5840 - acc: 0.68 - ETA: 24:40 - loss: 1.5869 - acc: 0.68 - ETA: 24:34 - loss: 1.5858 - acc: 0.68 - ETA: 24:29 - loss: 1.5867 - acc: 0.68 - ETA: 24:23 - loss: 1.5880 - acc: 0.68 - ETA: 24:18 - loss: 1.5878 - acc: 0.68 - ETA: 24:12 - loss: 1.5883 - acc: 0.68 - ETA: 24:08 - loss: 1.5896 - acc: 0.68 - ETA: 24:02 - loss: 1.5905 - acc: 0.68 - ETA: 23:57 - loss: 1.5894 - acc: 0.68 - ETA: 23:52 - loss: 1.5897 - acc: 0.68 - ETA: 23:46 - loss: 1.5889 - acc: 0.68 - ETA: 23:41 - loss: 1.5903 - acc: 0.68 - ETA: 23:36 - loss: 1.5907 - acc: 0.68 - ETA: 23:31 - loss: 1.5922 - acc: 0.68 - ETA: 23:25 - loss: 1.5924 - acc: 0.68 - ETA: 23:21 - loss: 1.5909 - acc: 0.68 - ETA: 23:16 - loss: 1.5907 - acc: 0.68 - ETA: 23:10 - loss: 1.5896 - acc: 0.68 - ETA: 23:06 - loss: 1.5888 - acc: 0.68 - ETA: 23:01 - loss: 1.5901 - acc: 0.68 - ETA: 22:55 - loss: 1.5907 - acc: 0.68 - ETA: 22:50 - loss: 1.5924 - acc: 0.68 - ETA: 22:45 - loss: 1.5952 - acc: 0.68 - ETA: 22:39 - loss: 1.5949 - acc: 0.68 - ETA: 22:34 - loss: 1.5931 - acc: 0.68 - ETA: 22:29 - loss: 1.5933 - acc: 0.68 - ETA: 22:24 - loss: 1.5920 - acc: 0.68 - ETA: 22:18 - loss: 1.5933 - acc: 0.68 - ETA: 22:14 - loss: 1.5925 - acc: 0.68 - ETA: 22:08 - loss: 1.5927 - acc: 0.68 - ETA: 22:03 - loss: 1.5927 - acc: 0.68 - ETA: 21:58 - loss: 1.5939 - acc: 0.68 - ETA: 21:53 - loss: 1.5940 - acc: 0.68 - ETA: 21:47 - loss: 1.5943 - acc: 0.68 - ETA: 21:42 - loss: 1.5947 - acc: 0.68 - ETA: 21:37 - loss: 1.5945 - acc: 0.68 - ETA: 21:32 - loss: 1.5926 - acc: 0.68 - ETA: 21:26 - loss: 1.5930 - acc: 0.68 - ETA: 21:21 - loss: 1.5925 - acc: 0.68 - ETA: 21:15 - loss: 1.5919 - acc: 0.68 - ETA: 21:10 - loss: 1.5913 - acc: 0.68 - ETA: 21:05 - loss: 1.5909 - acc: 0.68 - ETA: 21:00 - loss: 1.5920 - acc: 0.68 - ETA: 20:54 - loss: 1.5933 - acc: 0.68 - ETA: 20:49 - loss: 1.5939 - acc: 0.68 - ETA: 20:44 - loss: 1.5941 - acc: 0.68 - ETA: 20:39 - loss: 1.5944 - acc: 0.68 - ETA: 20:34 - loss: 1.5935 - acc: 0.68 - ETA: 20:28 - loss: 1.5937 - acc: 0.68 - ETA: 20:23 - loss: 1.5930 - acc: 0.68 - ETA: 20:18 - loss: 1.5922 - acc: 0.68 - ETA: 20:13 - loss: 1.5914 - acc: 0.68 - ETA: 20:08 - loss: 1.5921 - acc: 0.68 - ETA: 20:02 - loss: 1.5914 - acc: 0.68 - ETA: 19:57 - loss: 1.5906 - acc: 0.68 - ETA: 19:52 - loss: 1.5913 - acc: 0.68 - ETA: 19:47 - loss: 1.5917 - acc: 0.68 - ETA: 19:42 - loss: 1.5918 - acc: 0.68 - ETA: 19:37 - loss: 1.5916 - acc: 0.68 - ETA: 19:31 - loss: 1.5906 - acc: 0.68 - ETA: 19:26 - loss: 1.5906 - acc: 0.68 - ETA: 19:21 - loss: 1.5914 - acc: 0.68 - ETA: 19:16 - loss: 1.5916 - acc: 0.68 - ETA: 19:10 - loss: 1.5935 - acc: 0.68 - ETA: 19:05 - loss: 1.5949 - acc: 0.68 - ETA: 19:00 - loss: 1.5948 - acc: 0.68 - ETA: 18:55 - loss: 1.5952 - acc: 0.68 - ETA: 18:50 - loss: 1.5962 - acc: 0.68 - ETA: 18:45 - loss: 1.5973 - acc: 0.68 - ETA: 18:39 - loss: 1.5982 - acc: 0.68 - ETA: 18:34 - loss: 1.5989 - acc: 0.68 - ETA: 18:29 - loss: 1.5986 - acc: 0.68 - ETA: 18:24 - loss: 1.5983 - acc: 0.68 - ETA: 18:19 - loss: 1.5974 - acc: 0.68 - ETA: 18:14 - loss: 1.5981 - acc: 0.68 - ETA: 18:09 - loss: 1.5982 - acc: 0.68 - ETA: 18:03 - loss: 1.5985 - acc: 0.68 - ETA: 17:58 - loss: 1.5994 - acc: 0.68 - ETA: 17:53 - loss: 1.5989 - acc: 0.68 - ETA: 17:48 - loss: 1.5981 - acc: 0.68 - ETA: 17:43 - loss: 1.5982 - acc: 0.68 - ETA: 17:37 - loss: 1.5983 - acc: 0.68 - ETA: 17:32 - loss: 1.5981 - acc: 0.68 - ETA: 17:27 - loss: 1.5989 - acc: 0.68 - ETA: 17:22 - loss: 1.5996 - acc: 0.68 - ETA: 17:16 - loss: 1.6002 - acc: 0.68 - ETA: 17:11 - loss: 1.5995 - acc: 0.68 - ETA: 17:06 - loss: 1.6002 - acc: 0.68 - ETA: 17:01 - loss: 1.6009 - acc: 0.68 - ETA: 16:55 - loss: 1.6010 - acc: 0.68 - ETA: 16:50 - loss: 1.6014 - acc: 0.68 - ETA: 16:45 - loss: 1.6014 - acc: 0.68 - ETA: 16:40 - loss: 1.6020 - acc: 0.68 - ETA: 16:34 - loss: 1.6011 - acc: 0.68 - ETA: 16:29 - loss: 1.6014 - acc: 0.68 - ETA: 16:24 - loss: 1.6018 - acc: 0.68 - ETA: 16:18 - loss: 1.6027 - acc: 0.68 - ETA: 16:13 - loss: 1.6034 - acc: 0.68 - ETA: 16:08 - loss: 1.6036 - acc: 0.68 - ETA: 16:03 - loss: 1.6032 - acc: 0.68 - ETA: 15:57 - loss: 1.6034 - acc: 0.68 - ETA: 15:52 - loss: 1.6030 - acc: 0.68 - ETA: 15:47 - loss: 1.6030 - acc: 0.68 - ETA: 15:42 - loss: 1.6031 - acc: 0.68 - ETA: 15:36 - loss: 1.6035 - acc: 0.68 - ETA: 15:31 - loss: 1.6041 - acc: 0.68 - ETA: 15:26 - loss: 1.6040 - acc: 0.68 - ETA: 15:21 - loss: 1.6042 - acc: 0.68 - ETA: 15:16 - loss: 1.6048 - acc: 0.68 - ETA: 15:10 - loss: 1.6053 - acc: 0.68 - ETA: 15:05 - loss: 1.6060 - acc: 0.68 - ETA: 15:00 - loss: 1.6064 - acc: 0.68 - ETA: 14:55 - loss: 1.6074 - acc: 0.68 - ETA: 14:49 - loss: 1.6080 - acc: 0.68 - ETA: 14:44 - loss: 1.6083 - acc: 0.68 - ETA: 14:39 - loss: 1.6083 - acc: 0.68 - ETA: 14:34 - loss: 1.6087 - acc: 0.68 - ETA: 14:28 - loss: 1.6097 - acc: 0.68 - ETA: 14:23 - loss: 1.6103 - acc: 0.68 - ETA: 14:18 - loss: 1.6116 - acc: 0.68 - ETA: 14:13 - loss: 1.6122 - acc: 0.68 - ETA: 14:07 - loss: 1.6121 - acc: 0.68 - ETA: 14:02 - loss: 1.6117 - acc: 0.68 - ETA: 13:57 - loss: 1.6124 - acc: 0.68 - ETA: 13:52 - loss: 1.6129 - acc: 0.68 - ETA: 13:47 - loss: 1.6134 - acc: 0.68 - ETA: 13:42 - loss: 1.6139 - acc: 0.68 - ETA: 13:36 - loss: 1.6137 - acc: 0.68 - ETA: 13:31 - loss: 1.6143 - acc: 0.68 - ETA: 13:26 - loss: 1.6137 - acc: 0.68 - ETA: 13:21 - loss: 1.6131 - acc: 0.68 - ETA: 13:15 - loss: 1.6127 - acc: 0.68 - ETA: 13:10 - loss: 1.6133 - acc: 0.68 - ETA: 13:05 - loss: 1.6139 - acc: 0.68 - ETA: 13:00 - loss: 1.6132 - acc: 0.68 - ETA: 12:55 - loss: 1.6137 - acc: 0.68 - ETA: 12:49 - loss: 1.6138 - acc: 0.68 - ETA: 12:44 - loss: 1.6145 - acc: 0.68 - ETA: 12:39 - loss: 1.6150 - acc: 0.68 - ETA: 12:34 - loss: 1.6142 - acc: 0.68 - ETA: 12:28 - loss: 1.6155 - acc: 0.68 - ETA: 12:23 - loss: 1.6156 - acc: 0.68 - ETA: 12:18 - loss: 1.6150 - acc: 0.68 - ETA: 12:13 - loss: 1.6151 - acc: 0.68 - ETA: 12:08 - loss: 1.6150 - acc: 0.68 - ETA: 12:02 - loss: 1.6162 - acc: 0.68 - ETA: 11:57 - loss: 1.6166 - acc: 0.68 - ETA: 11:52 - loss: 1.6173 - acc: 0.68 - ETA: 11:47 - loss: 1.6176 - acc: 0.68 - ETA: 11:41 - loss: 1.6186 - acc: 0.68 - ETA: 11:36 - loss: 1.6187 - acc: 0.68 - ETA: 11:31 - loss: 1.6184 - acc: 0.68 - ETA: 11:26 - loss: 1.6193 - acc: 0.68 - ETA: 11:20 - loss: 1.6198 - acc: 0.68 - ETA: 11:15 - loss: 1.6191 - acc: 0.68 - ETA: 11:10 - loss: 1.6191 - acc: 0.68 - ETA: 11:05 - loss: 1.6192 - acc: 0.6818"
     ]
    },
    {
     "name": "stdout",
     "output_type": "stream",
     "text": [
      "42374/42374 [==============================] - ETA: 10:59 - loss: 1.6198 - acc: 0.68 - ETA: 10:54 - loss: 1.6195 - acc: 0.68 - ETA: 10:49 - loss: 1.6203 - acc: 0.68 - ETA: 10:44 - loss: 1.6202 - acc: 0.68 - ETA: 10:38 - loss: 1.6201 - acc: 0.68 - ETA: 10:33 - loss: 1.6208 - acc: 0.68 - ETA: 10:28 - loss: 1.6210 - acc: 0.68 - ETA: 10:23 - loss: 1.6211 - acc: 0.68 - ETA: 10:17 - loss: 1.6222 - acc: 0.68 - ETA: 10:12 - loss: 1.6226 - acc: 0.68 - ETA: 10:07 - loss: 1.6225 - acc: 0.68 - ETA: 10:02 - loss: 1.6229 - acc: 0.68 - ETA: 9:56 - loss: 1.6226 - acc: 0.6811 - ETA: 9:51 - loss: 1.6227 - acc: 0.681 - ETA: 9:46 - loss: 1.6234 - acc: 0.681 - ETA: 9:41 - loss: 1.6232 - acc: 0.681 - ETA: 9:35 - loss: 1.6235 - acc: 0.681 - ETA: 9:30 - loss: 1.6236 - acc: 0.681 - ETA: 9:25 - loss: 1.6236 - acc: 0.681 - ETA: 9:20 - loss: 1.6239 - acc: 0.680 - ETA: 9:15 - loss: 1.6238 - acc: 0.681 - ETA: 9:09 - loss: 1.6241 - acc: 0.681 - ETA: 9:04 - loss: 1.6241 - acc: 0.681 - ETA: 8:59 - loss: 1.6245 - acc: 0.681 - ETA: 8:54 - loss: 1.6245 - acc: 0.681 - ETA: 8:48 - loss: 1.6246 - acc: 0.681 - ETA: 8:43 - loss: 1.6250 - acc: 0.680 - ETA: 8:38 - loss: 1.6248 - acc: 0.680 - ETA: 8:33 - loss: 1.6244 - acc: 0.681 - ETA: 8:28 - loss: 1.6249 - acc: 0.680 - ETA: 8:22 - loss: 1.6252 - acc: 0.680 - ETA: 8:17 - loss: 1.6253 - acc: 0.680 - ETA: 8:12 - loss: 1.6256 - acc: 0.680 - ETA: 8:07 - loss: 1.6258 - acc: 0.680 - ETA: 8:01 - loss: 1.6264 - acc: 0.680 - ETA: 7:56 - loss: 1.6266 - acc: 0.680 - ETA: 7:51 - loss: 1.6271 - acc: 0.680 - ETA: 7:46 - loss: 1.6272 - acc: 0.680 - ETA: 7:40 - loss: 1.6275 - acc: 0.680 - ETA: 7:35 - loss: 1.6276 - acc: 0.680 - ETA: 7:30 - loss: 1.6276 - acc: 0.680 - ETA: 7:25 - loss: 1.6274 - acc: 0.680 - ETA: 7:19 - loss: 1.6280 - acc: 0.680 - ETA: 7:14 - loss: 1.6281 - acc: 0.680 - ETA: 7:09 - loss: 1.6285 - acc: 0.680 - ETA: 7:04 - loss: 1.6291 - acc: 0.680 - ETA: 6:58 - loss: 1.6290 - acc: 0.680 - ETA: 6:53 - loss: 1.6291 - acc: 0.680 - ETA: 6:48 - loss: 1.6287 - acc: 0.680 - ETA: 6:43 - loss: 1.6286 - acc: 0.680 - ETA: 6:37 - loss: 1.6287 - acc: 0.680 - ETA: 6:32 - loss: 1.6291 - acc: 0.680 - ETA: 6:27 - loss: 1.6294 - acc: 0.680 - ETA: 6:22 - loss: 1.6294 - acc: 0.680 - ETA: 6:16 - loss: 1.6302 - acc: 0.680 - ETA: 6:11 - loss: 1.6301 - acc: 0.680 - ETA: 6:06 - loss: 1.6303 - acc: 0.680 - ETA: 6:01 - loss: 1.6310 - acc: 0.680 - ETA: 5:56 - loss: 1.6313 - acc: 0.680 - ETA: 5:50 - loss: 1.6311 - acc: 0.680 - ETA: 5:45 - loss: 1.6308 - acc: 0.680 - ETA: 5:40 - loss: 1.6311 - acc: 0.680 - ETA: 5:35 - loss: 1.6311 - acc: 0.680 - ETA: 5:29 - loss: 1.6305 - acc: 0.680 - ETA: 5:24 - loss: 1.6308 - acc: 0.680 - ETA: 5:19 - loss: 1.6310 - acc: 0.680 - ETA: 5:14 - loss: 1.6310 - acc: 0.680 - ETA: 5:09 - loss: 1.6312 - acc: 0.680 - ETA: 5:03 - loss: 1.6319 - acc: 0.680 - ETA: 4:58 - loss: 1.6328 - acc: 0.679 - ETA: 4:53 - loss: 1.6328 - acc: 0.680 - ETA: 4:48 - loss: 1.6325 - acc: 0.680 - ETA: 4:42 - loss: 1.6327 - acc: 0.680 - ETA: 4:37 - loss: 1.6324 - acc: 0.680 - ETA: 4:32 - loss: 1.6321 - acc: 0.680 - ETA: 4:27 - loss: 1.6323 - acc: 0.680 - ETA: 4:21 - loss: 1.6325 - acc: 0.680 - ETA: 4:16 - loss: 1.6327 - acc: 0.680 - ETA: 4:11 - loss: 1.6328 - acc: 0.680 - ETA: 4:06 - loss: 1.6335 - acc: 0.679 - ETA: 4:01 - loss: 1.6337 - acc: 0.679 - ETA: 3:55 - loss: 1.6338 - acc: 0.679 - ETA: 3:50 - loss: 1.6335 - acc: 0.679 - ETA: 3:45 - loss: 1.6339 - acc: 0.679 - ETA: 3:40 - loss: 1.6344 - acc: 0.679 - ETA: 3:34 - loss: 1.6348 - acc: 0.679 - ETA: 3:29 - loss: 1.6352 - acc: 0.679 - ETA: 3:24 - loss: 1.6354 - acc: 0.679 - ETA: 3:19 - loss: 1.6353 - acc: 0.679 - ETA: 3:13 - loss: 1.6356 - acc: 0.679 - ETA: 3:08 - loss: 1.6358 - acc: 0.679 - ETA: 3:03 - loss: 1.6355 - acc: 0.679 - ETA: 2:58 - loss: 1.6360 - acc: 0.679 - ETA: 2:53 - loss: 1.6362 - acc: 0.679 - ETA: 2:47 - loss: 1.6361 - acc: 0.679 - ETA: 2:42 - loss: 1.6364 - acc: 0.679 - ETA: 2:37 - loss: 1.6373 - acc: 0.679 - ETA: 2:32 - loss: 1.6376 - acc: 0.679 - ETA: 2:26 - loss: 1.6377 - acc: 0.679 - ETA: 2:21 - loss: 1.6381 - acc: 0.679 - ETA: 2:16 - loss: 1.6380 - acc: 0.679 - ETA: 2:11 - loss: 1.6386 - acc: 0.679 - ETA: 2:05 - loss: 1.6385 - acc: 0.679 - ETA: 2:00 - loss: 1.6386 - acc: 0.679 - ETA: 1:55 - loss: 1.6384 - acc: 0.679 - ETA: 1:50 - loss: 1.6386 - acc: 0.679 - ETA: 1:44 - loss: 1.6384 - acc: 0.679 - ETA: 1:39 - loss: 1.6386 - acc: 0.679 - ETA: 1:34 - loss: 1.6390 - acc: 0.679 - ETA: 1:29 - loss: 1.6393 - acc: 0.679 - ETA: 1:23 - loss: 1.6393 - acc: 0.679 - ETA: 1:18 - loss: 1.6396 - acc: 0.679 - ETA: 1:13 - loss: 1.6397 - acc: 0.679 - ETA: 1:08 - loss: 1.6398 - acc: 0.678 - ETA: 1:03 - loss: 1.6396 - acc: 0.679 - ETA: 57s - loss: 1.6402 - acc: 0.678 - ETA: 52s - loss: 1.6406 - acc: 0.67 - ETA: 47s - loss: 1.6407 - acc: 0.67 - ETA: 42s - loss: 1.6406 - acc: 0.67 - ETA: 36s - loss: 1.6408 - acc: 0.67 - ETA: 31s - loss: 1.6409 - acc: 0.67 - ETA: 26s - loss: 1.6411 - acc: 0.67 - ETA: 21s - loss: 1.6413 - acc: 0.67 - ETA: 15s - loss: 1.6416 - acc: 0.67 - ETA: 10s - loss: 1.6417 - acc: 0.67 - ETA: 5s - loss: 1.6418 - acc: 0.6788 - ETA: 0s - loss: 1.6421 - acc: 0.678 - 1734s 41ms/sample - loss: 1.6422 - acc: 0.6788\n",
      "Epoch 22/30\n"
     ]
    },
    {
     "name": "stdout",
     "output_type": "stream",
     "text": [
      "26112/42374 [=================>............] - ETA: 29:16 - loss: 1.5199 - acc: 0.69 - ETA: 28:54 - loss: 1.5468 - acc: 0.69 - ETA: 28:33 - loss: 1.5411 - acc: 0.70 - ETA: 28:35 - loss: 1.5557 - acc: 0.69 - ETA: 28:22 - loss: 1.5822 - acc: 0.68 - ETA: 28:16 - loss: 1.6080 - acc: 0.68 - ETA: 28:14 - loss: 1.5893 - acc: 0.68 - ETA: 28:06 - loss: 1.5850 - acc: 0.68 - ETA: 28:00 - loss: 1.5796 - acc: 0.69 - ETA: 27:58 - loss: 1.5792 - acc: 0.68 - ETA: 27:51 - loss: 1.5829 - acc: 0.69 - ETA: 27:45 - loss: 1.5780 - acc: 0.69 - ETA: 27:43 - loss: 1.5796 - acc: 0.69 - ETA: 27:36 - loss: 1.5954 - acc: 0.68 - ETA: 27:30 - loss: 1.5941 - acc: 0.68 - ETA: 27:27 - loss: 1.5907 - acc: 0.68 - ETA: 27:23 - loss: 1.5915 - acc: 0.68 - ETA: 27:17 - loss: 1.5947 - acc: 0.68 - ETA: 27:13 - loss: 1.5997 - acc: 0.68 - ETA: 27:09 - loss: 1.5990 - acc: 0.68 - ETA: 27:03 - loss: 1.5992 - acc: 0.68 - ETA: 27:00 - loss: 1.5984 - acc: 0.68 - ETA: 26:55 - loss: 1.5958 - acc: 0.68 - ETA: 26:50 - loss: 1.5893 - acc: 0.68 - ETA: 26:46 - loss: 1.5848 - acc: 0.68 - ETA: 26:40 - loss: 1.5802 - acc: 0.68 - ETA: 26:34 - loss: 1.5763 - acc: 0.68 - ETA: 26:30 - loss: 1.5726 - acc: 0.68 - ETA: 26:25 - loss: 1.5678 - acc: 0.68 - ETA: 26:19 - loss: 1.5695 - acc: 0.68 - ETA: 26:14 - loss: 1.5643 - acc: 0.68 - ETA: 26:09 - loss: 1.5635 - acc: 0.68 - ETA: 26:04 - loss: 1.5657 - acc: 0.68 - ETA: 26:00 - loss: 1.5645 - acc: 0.69 - ETA: 25:55 - loss: 1.5625 - acc: 0.69 - ETA: 25:49 - loss: 1.5616 - acc: 0.69 - ETA: 25:43 - loss: 1.5641 - acc: 0.69 - ETA: 25:39 - loss: 1.5651 - acc: 0.68 - ETA: 25:32 - loss: 1.5659 - acc: 0.68 - ETA: 25:27 - loss: 1.5644 - acc: 0.68 - ETA: 25:22 - loss: 1.5626 - acc: 0.68 - ETA: 25:16 - loss: 1.5604 - acc: 0.68 - ETA: 25:11 - loss: 1.5588 - acc: 0.69 - ETA: 25:06 - loss: 1.5594 - acc: 0.69 - ETA: 25:00 - loss: 1.5596 - acc: 0.69 - ETA: 24:55 - loss: 1.5612 - acc: 0.69 - ETA: 24:50 - loss: 1.5630 - acc: 0.68 - ETA: 24:44 - loss: 1.5634 - acc: 0.68 - ETA: 24:38 - loss: 1.5624 - acc: 0.68 - ETA: 24:33 - loss: 1.5621 - acc: 0.68 - ETA: 24:27 - loss: 1.5641 - acc: 0.68 - ETA: 24:21 - loss: 1.5641 - acc: 0.68 - ETA: 24:20 - loss: 1.5635 - acc: 0.68 - ETA: 24:20 - loss: 1.5648 - acc: 0.68 - ETA: 24:20 - loss: 1.5623 - acc: 0.68 - ETA: 24:19 - loss: 1.5622 - acc: 0.68 - ETA: 24:18 - loss: 1.5608 - acc: 0.68 - ETA: 24:18 - loss: 1.5612 - acc: 0.68 - ETA: 24:18 - loss: 1.5607 - acc: 0.68 - ETA: 24:17 - loss: 1.5612 - acc: 0.68 - ETA: 24:16 - loss: 1.5629 - acc: 0.68 - ETA: 24:15 - loss: 1.5636 - acc: 0.68 - ETA: 24:14 - loss: 1.5637 - acc: 0.68 - ETA: 24:12 - loss: 1.5663 - acc: 0.68 - ETA: 24:10 - loss: 1.5674 - acc: 0.68 - ETA: 24:08 - loss: 1.5698 - acc: 0.68 - ETA: 24:06 - loss: 1.5686 - acc: 0.68 - ETA: 24:04 - loss: 1.5693 - acc: 0.68 - ETA: 24:01 - loss: 1.5689 - acc: 0.68 - ETA: 23:58 - loss: 1.5696 - acc: 0.68 - ETA: 23:56 - loss: 1.5698 - acc: 0.68 - ETA: 23:52 - loss: 1.5697 - acc: 0.68 - ETA: 23:50 - loss: 1.5690 - acc: 0.68 - ETA: 23:46 - loss: 1.5687 - acc: 0.68 - ETA: 23:43 - loss: 1.5691 - acc: 0.68 - ETA: 23:40 - loss: 1.5698 - acc: 0.68 - ETA: 23:37 - loss: 1.5707 - acc: 0.68 - ETA: 23:34 - loss: 1.5714 - acc: 0.68 - ETA: 23:30 - loss: 1.5712 - acc: 0.68 - ETA: 23:27 - loss: 1.5710 - acc: 0.68 - ETA: 23:24 - loss: 1.5717 - acc: 0.68 - ETA: 23:20 - loss: 1.5720 - acc: 0.68 - ETA: 23:17 - loss: 1.5742 - acc: 0.68 - ETA: 23:14 - loss: 1.5743 - acc: 0.68 - ETA: 23:09 - loss: 1.5748 - acc: 0.68 - ETA: 23:05 - loss: 1.5753 - acc: 0.68 - ETA: 23:01 - loss: 1.5752 - acc: 0.68 - ETA: 22:58 - loss: 1.5745 - acc: 0.68 - ETA: 22:53 - loss: 1.5740 - acc: 0.68 - ETA: 22:49 - loss: 1.5730 - acc: 0.68 - ETA: 22:45 - loss: 1.5728 - acc: 0.68 - ETA: 22:41 - loss: 1.5754 - acc: 0.68 - ETA: 22:34 - loss: 1.5757 - acc: 0.68 - ETA: 22:28 - loss: 1.5778 - acc: 0.68 - ETA: 22:21 - loss: 1.5778 - acc: 0.68 - ETA: 22:14 - loss: 1.5783 - acc: 0.68 - ETA: 22:08 - loss: 1.5785 - acc: 0.68 - ETA: 22:01 - loss: 1.5784 - acc: 0.68 - ETA: 21:55 - loss: 1.5781 - acc: 0.68 - ETA: 21:48 - loss: 1.5764 - acc: 0.68 - ETA: 21:41 - loss: 1.5751 - acc: 0.68 - ETA: 21:35 - loss: 1.5767 - acc: 0.68 - ETA: 21:28 - loss: 1.5766 - acc: 0.68 - ETA: 21:22 - loss: 1.5782 - acc: 0.68 - ETA: 21:15 - loss: 1.5781 - acc: 0.68 - ETA: 21:09 - loss: 1.5786 - acc: 0.68 - ETA: 21:02 - loss: 1.5790 - acc: 0.68 - ETA: 20:56 - loss: 1.5791 - acc: 0.68 - ETA: 20:50 - loss: 1.5806 - acc: 0.68 - ETA: 20:44 - loss: 1.5804 - acc: 0.68 - ETA: 20:37 - loss: 1.5810 - acc: 0.68 - ETA: 20:31 - loss: 1.5819 - acc: 0.68 - ETA: 20:24 - loss: 1.5810 - acc: 0.68 - ETA: 20:18 - loss: 1.5808 - acc: 0.68 - ETA: 20:12 - loss: 1.5812 - acc: 0.68 - ETA: 20:05 - loss: 1.5818 - acc: 0.68 - ETA: 19:59 - loss: 1.5824 - acc: 0.68 - ETA: 19:53 - loss: 1.5823 - acc: 0.68 - ETA: 19:47 - loss: 1.5817 - acc: 0.68 - ETA: 19:40 - loss: 1.5812 - acc: 0.68 - ETA: 19:34 - loss: 1.5814 - acc: 0.68 - ETA: 19:28 - loss: 1.5815 - acc: 0.68 - ETA: 19:22 - loss: 1.5814 - acc: 0.68 - ETA: 19:16 - loss: 1.5820 - acc: 0.68 - ETA: 19:10 - loss: 1.5826 - acc: 0.68 - ETA: 19:04 - loss: 1.5834 - acc: 0.68 - ETA: 18:58 - loss: 1.5838 - acc: 0.68 - ETA: 18:52 - loss: 1.5844 - acc: 0.68 - ETA: 18:45 - loss: 1.5835 - acc: 0.68 - ETA: 18:40 - loss: 1.5844 - acc: 0.68 - ETA: 18:33 - loss: 1.5845 - acc: 0.68 - ETA: 18:27 - loss: 1.5847 - acc: 0.68 - ETA: 18:21 - loss: 1.5852 - acc: 0.68 - ETA: 18:15 - loss: 1.5847 - acc: 0.68 - ETA: 18:09 - loss: 1.5855 - acc: 0.68 - ETA: 18:03 - loss: 1.5858 - acc: 0.68 - ETA: 17:57 - loss: 1.5864 - acc: 0.68 - ETA: 17:51 - loss: 1.5870 - acc: 0.68 - ETA: 17:45 - loss: 1.5873 - acc: 0.68 - ETA: 17:39 - loss: 1.5871 - acc: 0.68 - ETA: 17:33 - loss: 1.5880 - acc: 0.68 - ETA: 17:27 - loss: 1.5883 - acc: 0.68 - ETA: 17:21 - loss: 1.5888 - acc: 0.68 - ETA: 17:15 - loss: 1.5885 - acc: 0.68 - ETA: 17:10 - loss: 1.5886 - acc: 0.68 - ETA: 17:04 - loss: 1.5890 - acc: 0.68 - ETA: 16:58 - loss: 1.5895 - acc: 0.68 - ETA: 16:52 - loss: 1.5896 - acc: 0.68 - ETA: 16:46 - loss: 1.5893 - acc: 0.68 - ETA: 16:40 - loss: 1.5895 - acc: 0.68 - ETA: 16:35 - loss: 1.5907 - acc: 0.68 - ETA: 16:31 - loss: 1.5910 - acc: 0.68 - ETA: 16:26 - loss: 1.5910 - acc: 0.68 - ETA: 16:23 - loss: 1.5910 - acc: 0.68 - ETA: 16:20 - loss: 1.5911 - acc: 0.68 - ETA: 16:16 - loss: 1.5916 - acc: 0.68 - ETA: 16:12 - loss: 1.5918 - acc: 0.68 - ETA: 16:06 - loss: 1.5923 - acc: 0.68 - ETA: 16:00 - loss: 1.5926 - acc: 0.68 - ETA: 15:54 - loss: 1.5935 - acc: 0.68 - ETA: 15:51 - loss: 1.5935 - acc: 0.68 - ETA: 15:46 - loss: 1.5936 - acc: 0.68 - ETA: 15:40 - loss: 1.5929 - acc: 0.68 - ETA: 15:35 - loss: 1.5925 - acc: 0.68 - ETA: 15:29 - loss: 1.5930 - acc: 0.68 - ETA: 15:23 - loss: 1.5926 - acc: 0.68 - ETA: 15:17 - loss: 1.5927 - acc: 0.68 - ETA: 15:11 - loss: 1.5924 - acc: 0.68 - ETA: 15:05 - loss: 1.5928 - acc: 0.68 - ETA: 15:00 - loss: 1.5927 - acc: 0.68 - ETA: 14:54 - loss: 1.5924 - acc: 0.68 - ETA: 14:51 - loss: 1.5929 - acc: 0.68 - ETA: 14:49 - loss: 1.5935 - acc: 0.68 - ETA: 14:46 - loss: 1.5934 - acc: 0.68 - ETA: 14:45 - loss: 1.5928 - acc: 0.68 - ETA: 14:41 - loss: 1.5926 - acc: 0.68 - ETA: 14:36 - loss: 1.5914 - acc: 0.68 - ETA: 14:30 - loss: 1.5916 - acc: 0.68 - ETA: 14:25 - loss: 1.5916 - acc: 0.68 - ETA: 14:19 - loss: 1.5914 - acc: 0.68 - ETA: 14:13 - loss: 1.5913 - acc: 0.68 - ETA: 14:08 - loss: 1.5916 - acc: 0.68 - ETA: 14:02 - loss: 1.5913 - acc: 0.68 - ETA: 13:56 - loss: 1.5922 - acc: 0.68 - ETA: 13:51 - loss: 1.5921 - acc: 0.68 - ETA: 13:46 - loss: 1.5921 - acc: 0.68 - ETA: 13:41 - loss: 1.5931 - acc: 0.68 - ETA: 13:35 - loss: 1.5927 - acc: 0.68 - ETA: 13:30 - loss: 1.5926 - acc: 0.68 - ETA: 13:24 - loss: 1.5934 - acc: 0.68 - ETA: 13:18 - loss: 1.5934 - acc: 0.68 - ETA: 13:13 - loss: 1.5940 - acc: 0.68 - ETA: 13:07 - loss: 1.5936 - acc: 0.68 - ETA: 13:01 - loss: 1.5935 - acc: 0.68 - ETA: 12:55 - loss: 1.5937 - acc: 0.68 - ETA: 12:50 - loss: 1.5942 - acc: 0.68 - ETA: 12:44 - loss: 1.5950 - acc: 0.68 - ETA: 12:38 - loss: 1.5956 - acc: 0.68 - ETA: 12:33 - loss: 1.5954 - acc: 0.68 - ETA: 12:28 - loss: 1.5961 - acc: 0.68 - ETA: 12:22 - loss: 1.5958 - acc: 0.68 - ETA: 12:17 - loss: 1.5964 - acc: 0.68 - ETA: 12:11 - loss: 1.5957 - acc: 0.68 - ETA: 12:06 - loss: 1.5958 - acc: 0.6837"
     ]
    },
    {
     "name": "stdout",
     "output_type": "stream",
     "text": [
      "42374/42374 [==============================] - ETA: 12:00 - loss: 1.5965 - acc: 0.68 - ETA: 11:55 - loss: 1.5969 - acc: 0.68 - ETA: 11:51 - loss: 1.5972 - acc: 0.68 - ETA: 11:45 - loss: 1.5976 - acc: 0.68 - ETA: 11:40 - loss: 1.5971 - acc: 0.68 - ETA: 11:35 - loss: 1.5973 - acc: 0.68 - ETA: 11:29 - loss: 1.5986 - acc: 0.68 - ETA: 11:24 - loss: 1.5992 - acc: 0.68 - ETA: 11:19 - loss: 1.5996 - acc: 0.68 - ETA: 11:13 - loss: 1.5994 - acc: 0.68 - ETA: 11:07 - loss: 1.5997 - acc: 0.68 - ETA: 11:01 - loss: 1.6003 - acc: 0.68 - ETA: 10:55 - loss: 1.6004 - acc: 0.68 - ETA: 10:49 - loss: 1.6007 - acc: 0.68 - ETA: 10:44 - loss: 1.6008 - acc: 0.68 - ETA: 10:38 - loss: 1.6003 - acc: 0.68 - ETA: 10:32 - loss: 1.6004 - acc: 0.68 - ETA: 10:26 - loss: 1.6006 - acc: 0.68 - ETA: 10:20 - loss: 1.6009 - acc: 0.68 - ETA: 10:14 - loss: 1.6011 - acc: 0.68 - ETA: 10:09 - loss: 1.6010 - acc: 0.68 - ETA: 10:03 - loss: 1.6014 - acc: 0.68 - ETA: 9:57 - loss: 1.6017 - acc: 0.6831 - ETA: 9:52 - loss: 1.6020 - acc: 0.683 - ETA: 9:46 - loss: 1.6026 - acc: 0.683 - ETA: 9:40 - loss: 1.6034 - acc: 0.682 - ETA: 9:34 - loss: 1.6037 - acc: 0.682 - ETA: 9:28 - loss: 1.6037 - acc: 0.682 - ETA: 9:22 - loss: 1.6040 - acc: 0.682 - ETA: 9:17 - loss: 1.6043 - acc: 0.682 - ETA: 9:11 - loss: 1.6042 - acc: 0.682 - ETA: 9:05 - loss: 1.6040 - acc: 0.682 - ETA: 8:59 - loss: 1.6039 - acc: 0.682 - ETA: 8:53 - loss: 1.6034 - acc: 0.683 - ETA: 8:47 - loss: 1.6036 - acc: 0.683 - ETA: 8:42 - loss: 1.6030 - acc: 0.683 - ETA: 8:36 - loss: 1.6034 - acc: 0.683 - ETA: 8:30 - loss: 1.6041 - acc: 0.682 - ETA: 8:24 - loss: 1.6047 - acc: 0.682 - ETA: 8:19 - loss: 1.6050 - acc: 0.682 - ETA: 8:13 - loss: 1.6047 - acc: 0.682 - ETA: 8:07 - loss: 1.6045 - acc: 0.683 - ETA: 8:01 - loss: 1.6049 - acc: 0.682 - ETA: 7:55 - loss: 1.6050 - acc: 0.682 - ETA: 7:50 - loss: 1.6050 - acc: 0.682 - ETA: 7:44 - loss: 1.6053 - acc: 0.682 - ETA: 7:38 - loss: 1.6053 - acc: 0.682 - ETA: 7:32 - loss: 1.6054 - acc: 0.682 - ETA: 7:27 - loss: 1.6054 - acc: 0.682 - ETA: 7:21 - loss: 1.6059 - acc: 0.682 - ETA: 7:15 - loss: 1.6059 - acc: 0.682 - ETA: 7:09 - loss: 1.6064 - acc: 0.682 - ETA: 7:03 - loss: 1.6065 - acc: 0.682 - ETA: 6:58 - loss: 1.6069 - acc: 0.682 - ETA: 6:52 - loss: 1.6073 - acc: 0.682 - ETA: 6:46 - loss: 1.6075 - acc: 0.682 - ETA: 6:41 - loss: 1.6078 - acc: 0.682 - ETA: 6:35 - loss: 1.6079 - acc: 0.682 - ETA: 6:29 - loss: 1.6087 - acc: 0.682 - ETA: 6:24 - loss: 1.6091 - acc: 0.682 - ETA: 6:18 - loss: 1.6091 - acc: 0.682 - ETA: 6:12 - loss: 1.6097 - acc: 0.682 - ETA: 6:07 - loss: 1.6100 - acc: 0.682 - ETA: 6:01 - loss: 1.6098 - acc: 0.682 - ETA: 5:56 - loss: 1.6102 - acc: 0.682 - ETA: 5:50 - loss: 1.6106 - acc: 0.682 - ETA: 5:44 - loss: 1.6106 - acc: 0.682 - ETA: 5:39 - loss: 1.6106 - acc: 0.682 - ETA: 5:33 - loss: 1.6110 - acc: 0.682 - ETA: 5:27 - loss: 1.6111 - acc: 0.682 - ETA: 5:22 - loss: 1.6115 - acc: 0.682 - ETA: 5:16 - loss: 1.6124 - acc: 0.681 - ETA: 5:10 - loss: 1.6119 - acc: 0.681 - ETA: 5:04 - loss: 1.6126 - acc: 0.681 - ETA: 4:59 - loss: 1.6130 - acc: 0.681 - ETA: 4:53 - loss: 1.6129 - acc: 0.681 - ETA: 4:47 - loss: 1.6132 - acc: 0.681 - ETA: 4:41 - loss: 1.6132 - acc: 0.681 - ETA: 4:35 - loss: 1.6134 - acc: 0.681 - ETA: 4:30 - loss: 1.6141 - acc: 0.681 - ETA: 4:24 - loss: 1.6143 - acc: 0.681 - ETA: 4:18 - loss: 1.6142 - acc: 0.681 - ETA: 4:13 - loss: 1.6144 - acc: 0.681 - ETA: 4:07 - loss: 1.6146 - acc: 0.681 - ETA: 4:02 - loss: 1.6149 - acc: 0.681 - ETA: 3:56 - loss: 1.6148 - acc: 0.681 - ETA: 3:50 - loss: 1.6146 - acc: 0.681 - ETA: 3:44 - loss: 1.6142 - acc: 0.681 - ETA: 3:39 - loss: 1.6141 - acc: 0.681 - ETA: 3:33 - loss: 1.6143 - acc: 0.681 - ETA: 3:27 - loss: 1.6145 - acc: 0.681 - ETA: 3:21 - loss: 1.6144 - acc: 0.681 - ETA: 3:15 - loss: 1.6147 - acc: 0.681 - ETA: 3:10 - loss: 1.6152 - acc: 0.681 - ETA: 3:04 - loss: 1.6158 - acc: 0.681 - ETA: 2:58 - loss: 1.6162 - acc: 0.681 - ETA: 2:53 - loss: 1.6161 - acc: 0.681 - ETA: 2:47 - loss: 1.6162 - acc: 0.681 - ETA: 2:41 - loss: 1.6165 - acc: 0.681 - ETA: 2:35 - loss: 1.6168 - acc: 0.681 - ETA: 2:30 - loss: 1.6164 - acc: 0.681 - ETA: 2:24 - loss: 1.6163 - acc: 0.681 - ETA: 2:18 - loss: 1.6161 - acc: 0.681 - ETA: 2:12 - loss: 1.6164 - acc: 0.681 - ETA: 2:07 - loss: 1.6167 - acc: 0.681 - ETA: 2:01 - loss: 1.6170 - acc: 0.681 - ETA: 1:55 - loss: 1.6170 - acc: 0.681 - ETA: 1:49 - loss: 1.6172 - acc: 0.681 - ETA: 1:44 - loss: 1.6175 - acc: 0.681 - ETA: 1:38 - loss: 1.6172 - acc: 0.681 - ETA: 1:32 - loss: 1.6171 - acc: 0.681 - ETA: 1:26 - loss: 1.6169 - acc: 0.681 - ETA: 1:21 - loss: 1.6166 - acc: 0.681 - ETA: 1:15 - loss: 1.6166 - acc: 0.681 - ETA: 1:09 - loss: 1.6171 - acc: 0.681 - ETA: 1:03 - loss: 1.6176 - acc: 0.681 - ETA: 57s - loss: 1.6177 - acc: 0.681 - ETA: 52s - loss: 1.6175 - acc: 0.68 - ETA: 46s - loss: 1.6174 - acc: 0.68 - ETA: 40s - loss: 1.6174 - acc: 0.68 - ETA: 34s - loss: 1.6176 - acc: 0.68 - ETA: 29s - loss: 1.6179 - acc: 0.68 - ETA: 23s - loss: 1.6178 - acc: 0.68 - ETA: 17s - loss: 1.6177 - acc: 0.68 - ETA: 11s - loss: 1.6180 - acc: 0.68 - ETA: 6s - loss: 1.6186 - acc: 0.6813 - ETA: 0s - loss: 1.6192 - acc: 0.681 - 1912s 45ms/sample - loss: 1.6192 - acc: 0.6812\n",
      "Epoch 23/30\n"
     ]
    },
    {
     "name": "stdout",
     "output_type": "stream",
     "text": [
      "26112/42374 [=================>............] - ETA: 31:55 - loss: 1.5825 - acc: 0.67 - ETA: 33:20 - loss: 1.4853 - acc: 0.70 - ETA: 33:15 - loss: 1.5191 - acc: 0.69 - ETA: 32:24 - loss: 1.4963 - acc: 0.69 - ETA: 32:15 - loss: 1.5162 - acc: 0.69 - ETA: 32:00 - loss: 1.5494 - acc: 0.68 - ETA: 31:26 - loss: 1.5455 - acc: 0.68 - ETA: 31:03 - loss: 1.5572 - acc: 0.68 - ETA: 30:34 - loss: 1.5721 - acc: 0.68 - ETA: 30:31 - loss: 1.5646 - acc: 0.68 - ETA: 30:20 - loss: 1.5624 - acc: 0.68 - ETA: 30:15 - loss: 1.5676 - acc: 0.68 - ETA: 30:09 - loss: 1.5675 - acc: 0.68 - ETA: 30:02 - loss: 1.5690 - acc: 0.68 - ETA: 29:51 - loss: 1.5639 - acc: 0.68 - ETA: 29:47 - loss: 1.5691 - acc: 0.68 - ETA: 29:38 - loss: 1.5715 - acc: 0.68 - ETA: 29:30 - loss: 1.5718 - acc: 0.68 - ETA: 29:20 - loss: 1.5671 - acc: 0.68 - ETA: 29:18 - loss: 1.5635 - acc: 0.68 - ETA: 29:10 - loss: 1.5629 - acc: 0.68 - ETA: 29:04 - loss: 1.5596 - acc: 0.68 - ETA: 29:00 - loss: 1.5586 - acc: 0.68 - ETA: 28:58 - loss: 1.5531 - acc: 0.68 - ETA: 28:57 - loss: 1.5530 - acc: 0.68 - ETA: 28:48 - loss: 1.5502 - acc: 0.68 - ETA: 28:45 - loss: 1.5471 - acc: 0.68 - ETA: 28:46 - loss: 1.5458 - acc: 0.68 - ETA: 28:41 - loss: 1.5419 - acc: 0.68 - ETA: 28:35 - loss: 1.5392 - acc: 0.68 - ETA: 28:27 - loss: 1.5441 - acc: 0.68 - ETA: 28:21 - loss: 1.5442 - acc: 0.68 - ETA: 28:12 - loss: 1.5466 - acc: 0.68 - ETA: 28:02 - loss: 1.5458 - acc: 0.68 - ETA: 27:54 - loss: 1.5501 - acc: 0.68 - ETA: 27:50 - loss: 1.5516 - acc: 0.68 - ETA: 27:44 - loss: 1.5491 - acc: 0.68 - ETA: 27:41 - loss: 1.5495 - acc: 0.68 - ETA: 27:35 - loss: 1.5476 - acc: 0.68 - ETA: 27:30 - loss: 1.5457 - acc: 0.68 - ETA: 27:21 - loss: 1.5434 - acc: 0.68 - ETA: 27:15 - loss: 1.5450 - acc: 0.68 - ETA: 27:07 - loss: 1.5435 - acc: 0.68 - ETA: 26:59 - loss: 1.5443 - acc: 0.68 - ETA: 26:53 - loss: 1.5479 - acc: 0.68 - ETA: 26:46 - loss: 1.5469 - acc: 0.68 - ETA: 26:42 - loss: 1.5440 - acc: 0.68 - ETA: 26:38 - loss: 1.5439 - acc: 0.68 - ETA: 26:35 - loss: 1.5484 - acc: 0.68 - ETA: 26:29 - loss: 1.5493 - acc: 0.68 - ETA: 26:22 - loss: 1.5495 - acc: 0.68 - ETA: 26:18 - loss: 1.5499 - acc: 0.68 - ETA: 26:20 - loss: 1.5487 - acc: 0.68 - ETA: 26:17 - loss: 1.5463 - acc: 0.68 - ETA: 26:23 - loss: 1.5439 - acc: 0.68 - ETA: 26:26 - loss: 1.5437 - acc: 0.68 - ETA: 26:23 - loss: 1.5444 - acc: 0.68 - ETA: 26:21 - loss: 1.5437 - acc: 0.68 - ETA: 26:16 - loss: 1.5444 - acc: 0.68 - ETA: 26:10 - loss: 1.5458 - acc: 0.68 - ETA: 26:06 - loss: 1.5452 - acc: 0.68 - ETA: 26:00 - loss: 1.5462 - acc: 0.68 - ETA: 25:53 - loss: 1.5464 - acc: 0.68 - ETA: 25:49 - loss: 1.5476 - acc: 0.68 - ETA: 25:43 - loss: 1.5474 - acc: 0.68 - ETA: 25:35 - loss: 1.5484 - acc: 0.68 - ETA: 25:27 - loss: 1.5497 - acc: 0.68 - ETA: 25:20 - loss: 1.5501 - acc: 0.68 - ETA: 25:12 - loss: 1.5500 - acc: 0.68 - ETA: 25:04 - loss: 1.5513 - acc: 0.68 - ETA: 24:59 - loss: 1.5510 - acc: 0.68 - ETA: 24:54 - loss: 1.5523 - acc: 0.68 - ETA: 24:48 - loss: 1.5515 - acc: 0.68 - ETA: 24:42 - loss: 1.5498 - acc: 0.68 - ETA: 24:36 - loss: 1.5499 - acc: 0.68 - ETA: 24:29 - loss: 1.5500 - acc: 0.68 - ETA: 24:23 - loss: 1.5495 - acc: 0.68 - ETA: 24:15 - loss: 1.5498 - acc: 0.68 - ETA: 24:08 - loss: 1.5490 - acc: 0.68 - ETA: 24:03 - loss: 1.5503 - acc: 0.68 - ETA: 23:57 - loss: 1.5494 - acc: 0.68 - ETA: 23:51 - loss: 1.5496 - acc: 0.68 - ETA: 23:44 - loss: 1.5506 - acc: 0.68 - ETA: 23:38 - loss: 1.5501 - acc: 0.68 - ETA: 23:31 - loss: 1.5496 - acc: 0.68 - ETA: 23:26 - loss: 1.5497 - acc: 0.68 - ETA: 23:22 - loss: 1.5506 - acc: 0.68 - ETA: 23:16 - loss: 1.5509 - acc: 0.68 - ETA: 23:11 - loss: 1.5513 - acc: 0.68 - ETA: 23:04 - loss: 1.5504 - acc: 0.68 - ETA: 22:58 - loss: 1.5509 - acc: 0.68 - ETA: 22:52 - loss: 1.5519 - acc: 0.68 - ETA: 22:46 - loss: 1.5515 - acc: 0.68 - ETA: 22:39 - loss: 1.5515 - acc: 0.68 - ETA: 22:33 - loss: 1.5514 - acc: 0.68 - ETA: 22:27 - loss: 1.5517 - acc: 0.68 - ETA: 22:22 - loss: 1.5510 - acc: 0.68 - ETA: 22:15 - loss: 1.5503 - acc: 0.68 - ETA: 22:08 - loss: 1.5504 - acc: 0.68 - ETA: 22:02 - loss: 1.5508 - acc: 0.68 - ETA: 21:56 - loss: 1.5516 - acc: 0.68 - ETA: 21:53 - loss: 1.5509 - acc: 0.68 - ETA: 21:49 - loss: 1.5514 - acc: 0.68 - ETA: 21:44 - loss: 1.5523 - acc: 0.68 - ETA: 21:40 - loss: 1.5544 - acc: 0.68 - ETA: 21:34 - loss: 1.5546 - acc: 0.68 - ETA: 21:30 - loss: 1.5542 - acc: 0.68 - ETA: 21:25 - loss: 1.5543 - acc: 0.68 - ETA: 21:19 - loss: 1.5555 - acc: 0.68 - ETA: 21:13 - loss: 1.5546 - acc: 0.68 - ETA: 21:07 - loss: 1.5552 - acc: 0.68 - ETA: 21:00 - loss: 1.5549 - acc: 0.68 - ETA: 20:55 - loss: 1.5550 - acc: 0.68 - ETA: 20:48 - loss: 1.5554 - acc: 0.68 - ETA: 20:42 - loss: 1.5565 - acc: 0.68 - ETA: 20:38 - loss: 1.5576 - acc: 0.68 - ETA: 20:33 - loss: 1.5579 - acc: 0.68 - ETA: 20:27 - loss: 1.5586 - acc: 0.68 - ETA: 20:21 - loss: 1.5583 - acc: 0.68 - ETA: 20:15 - loss: 1.5587 - acc: 0.68 - ETA: 20:09 - loss: 1.5583 - acc: 0.68 - ETA: 20:04 - loss: 1.5575 - acc: 0.68 - ETA: 19:59 - loss: 1.5573 - acc: 0.68 - ETA: 19:56 - loss: 1.5580 - acc: 0.68 - ETA: 19:52 - loss: 1.5595 - acc: 0.68 - ETA: 19:46 - loss: 1.5597 - acc: 0.68 - ETA: 19:40 - loss: 1.5603 - acc: 0.68 - ETA: 19:35 - loss: 1.5611 - acc: 0.68 - ETA: 19:29 - loss: 1.5625 - acc: 0.68 - ETA: 19:24 - loss: 1.5632 - acc: 0.68 - ETA: 19:18 - loss: 1.5637 - acc: 0.68 - ETA: 19:13 - loss: 1.5639 - acc: 0.68 - ETA: 19:07 - loss: 1.5647 - acc: 0.68 - ETA: 19:01 - loss: 1.5661 - acc: 0.68 - ETA: 18:55 - loss: 1.5661 - acc: 0.68 - ETA: 18:50 - loss: 1.5665 - acc: 0.68 - ETA: 18:44 - loss: 1.5665 - acc: 0.68 - ETA: 18:39 - loss: 1.5660 - acc: 0.68 - ETA: 18:33 - loss: 1.5663 - acc: 0.68 - ETA: 18:29 - loss: 1.5669 - acc: 0.68 - ETA: 18:24 - loss: 1.5672 - acc: 0.68 - ETA: 18:19 - loss: 1.5677 - acc: 0.68 - ETA: 18:14 - loss: 1.5664 - acc: 0.68 - ETA: 18:08 - loss: 1.5669 - acc: 0.68 - ETA: 18:02 - loss: 1.5670 - acc: 0.68 - ETA: 17:57 - loss: 1.5664 - acc: 0.68 - ETA: 17:50 - loss: 1.5667 - acc: 0.68 - ETA: 17:44 - loss: 1.5677 - acc: 0.68 - ETA: 17:37 - loss: 1.5671 - acc: 0.68 - ETA: 17:32 - loss: 1.5672 - acc: 0.68 - ETA: 17:28 - loss: 1.5673 - acc: 0.68 - ETA: 17:23 - loss: 1.5670 - acc: 0.68 - ETA: 17:17 - loss: 1.5673 - acc: 0.68 - ETA: 17:12 - loss: 1.5681 - acc: 0.68 - ETA: 17:07 - loss: 1.5690 - acc: 0.68 - ETA: 17:01 - loss: 1.5688 - acc: 0.68 - ETA: 16:57 - loss: 1.5683 - acc: 0.68 - ETA: 16:51 - loss: 1.5683 - acc: 0.68 - ETA: 16:47 - loss: 1.5684 - acc: 0.68 - ETA: 16:43 - loss: 1.5692 - acc: 0.68 - ETA: 16:39 - loss: 1.5692 - acc: 0.68 - ETA: 16:33 - loss: 1.5697 - acc: 0.68 - ETA: 16:29 - loss: 1.5705 - acc: 0.68 - ETA: 16:25 - loss: 1.5708 - acc: 0.68 - ETA: 16:21 - loss: 1.5715 - acc: 0.68 - ETA: 16:16 - loss: 1.5718 - acc: 0.68 - ETA: 16:11 - loss: 1.5722 - acc: 0.68 - ETA: 16:05 - loss: 1.5725 - acc: 0.68 - ETA: 16:00 - loss: 1.5717 - acc: 0.68 - ETA: 15:56 - loss: 1.5718 - acc: 0.68 - ETA: 15:51 - loss: 1.5718 - acc: 0.68 - ETA: 15:48 - loss: 1.5724 - acc: 0.68 - ETA: 15:45 - loss: 1.5731 - acc: 0.68 - ETA: 15:42 - loss: 1.5738 - acc: 0.68 - ETA: 15:39 - loss: 1.5726 - acc: 0.68 - ETA: 15:37 - loss: 1.5725 - acc: 0.68 - ETA: 15:35 - loss: 1.5729 - acc: 0.68 - ETA: 15:30 - loss: 1.5729 - acc: 0.68 - ETA: 15:25 - loss: 1.5735 - acc: 0.68 - ETA: 15:21 - loss: 1.5740 - acc: 0.68 - ETA: 15:16 - loss: 1.5740 - acc: 0.68 - ETA: 15:10 - loss: 1.5739 - acc: 0.68 - ETA: 15:05 - loss: 1.5745 - acc: 0.68 - ETA: 15:00 - loss: 1.5752 - acc: 0.68 - ETA: 14:56 - loss: 1.5749 - acc: 0.68 - ETA: 14:51 - loss: 1.5758 - acc: 0.68 - ETA: 14:47 - loss: 1.5770 - acc: 0.68 - ETA: 14:42 - loss: 1.5770 - acc: 0.68 - ETA: 14:37 - loss: 1.5775 - acc: 0.68 - ETA: 14:32 - loss: 1.5771 - acc: 0.68 - ETA: 14:27 - loss: 1.5767 - acc: 0.68 - ETA: 14:22 - loss: 1.5769 - acc: 0.68 - ETA: 14:17 - loss: 1.5767 - acc: 0.68 - ETA: 14:12 - loss: 1.5764 - acc: 0.68 - ETA: 14:07 - loss: 1.5762 - acc: 0.68 - ETA: 14:02 - loss: 1.5759 - acc: 0.68 - ETA: 13:56 - loss: 1.5767 - acc: 0.68 - ETA: 13:51 - loss: 1.5769 - acc: 0.68 - ETA: 13:45 - loss: 1.5770 - acc: 0.68 - ETA: 13:40 - loss: 1.5771 - acc: 0.68 - ETA: 13:35 - loss: 1.5770 - acc: 0.68 - ETA: 13:29 - loss: 1.5769 - acc: 0.68 - ETA: 13:23 - loss: 1.5770 - acc: 0.68 - ETA: 13:18 - loss: 1.5767 - acc: 0.6856"
     ]
    },
    {
     "name": "stdout",
     "output_type": "stream",
     "text": [
      "42374/42374 [==============================] - ETA: 13:12 - loss: 1.5760 - acc: 0.68 - ETA: 13:07 - loss: 1.5764 - acc: 0.68 - ETA: 13:01 - loss: 1.5767 - acc: 0.68 - ETA: 12:56 - loss: 1.5769 - acc: 0.68 - ETA: 12:50 - loss: 1.5765 - acc: 0.68 - ETA: 12:44 - loss: 1.5769 - acc: 0.68 - ETA: 12:39 - loss: 1.5773 - acc: 0.68 - ETA: 12:34 - loss: 1.5774 - acc: 0.68 - ETA: 12:28 - loss: 1.5779 - acc: 0.68 - ETA: 12:22 - loss: 1.5785 - acc: 0.68 - ETA: 12:15 - loss: 1.5786 - acc: 0.68 - ETA: 12:08 - loss: 1.5786 - acc: 0.68 - ETA: 12:02 - loss: 1.5787 - acc: 0.68 - ETA: 11:55 - loss: 1.5788 - acc: 0.68 - ETA: 11:48 - loss: 1.5791 - acc: 0.68 - ETA: 11:42 - loss: 1.5792 - acc: 0.68 - ETA: 11:35 - loss: 1.5794 - acc: 0.68 - ETA: 11:29 - loss: 1.5790 - acc: 0.68 - ETA: 11:22 - loss: 1.5789 - acc: 0.68 - ETA: 11:15 - loss: 1.5789 - acc: 0.68 - ETA: 11:08 - loss: 1.5790 - acc: 0.68 - ETA: 11:02 - loss: 1.5789 - acc: 0.68 - ETA: 10:55 - loss: 1.5792 - acc: 0.68 - ETA: 10:49 - loss: 1.5791 - acc: 0.68 - ETA: 10:42 - loss: 1.5791 - acc: 0.68 - ETA: 10:36 - loss: 1.5791 - acc: 0.68 - ETA: 10:29 - loss: 1.5790 - acc: 0.68 - ETA: 10:23 - loss: 1.5791 - acc: 0.68 - ETA: 10:16 - loss: 1.5793 - acc: 0.68 - ETA: 10:10 - loss: 1.5793 - acc: 0.68 - ETA: 10:03 - loss: 1.5792 - acc: 0.68 - ETA: 9:57 - loss: 1.5795 - acc: 0.6852 - ETA: 9:50 - loss: 1.5794 - acc: 0.685 - ETA: 9:44 - loss: 1.5797 - acc: 0.685 - ETA: 9:38 - loss: 1.5800 - acc: 0.685 - ETA: 9:32 - loss: 1.5801 - acc: 0.685 - ETA: 9:25 - loss: 1.5799 - acc: 0.685 - ETA: 9:19 - loss: 1.5803 - acc: 0.685 - ETA: 9:13 - loss: 1.5803 - acc: 0.685 - ETA: 9:07 - loss: 1.5803 - acc: 0.685 - ETA: 9:01 - loss: 1.5805 - acc: 0.685 - ETA: 8:54 - loss: 1.5803 - acc: 0.685 - ETA: 8:48 - loss: 1.5805 - acc: 0.685 - ETA: 8:41 - loss: 1.5816 - acc: 0.685 - ETA: 8:35 - loss: 1.5825 - acc: 0.684 - ETA: 8:29 - loss: 1.5828 - acc: 0.684 - ETA: 8:23 - loss: 1.5829 - acc: 0.684 - ETA: 8:17 - loss: 1.5831 - acc: 0.684 - ETA: 8:10 - loss: 1.5832 - acc: 0.684 - ETA: 8:04 - loss: 1.5831 - acc: 0.684 - ETA: 7:58 - loss: 1.5831 - acc: 0.684 - ETA: 7:52 - loss: 1.5829 - acc: 0.684 - ETA: 7:46 - loss: 1.5833 - acc: 0.684 - ETA: 7:39 - loss: 1.5835 - acc: 0.684 - ETA: 7:33 - loss: 1.5837 - acc: 0.684 - ETA: 7:26 - loss: 1.5837 - acc: 0.684 - ETA: 7:20 - loss: 1.5840 - acc: 0.684 - ETA: 7:14 - loss: 1.5841 - acc: 0.684 - ETA: 7:07 - loss: 1.5837 - acc: 0.685 - ETA: 7:01 - loss: 1.5841 - acc: 0.685 - ETA: 6:54 - loss: 1.5841 - acc: 0.685 - ETA: 6:48 - loss: 1.5846 - acc: 0.684 - ETA: 6:41 - loss: 1.5844 - acc: 0.684 - ETA: 6:35 - loss: 1.5844 - acc: 0.684 - ETA: 6:28 - loss: 1.5847 - acc: 0.684 - ETA: 6:21 - loss: 1.5851 - acc: 0.684 - ETA: 6:15 - loss: 1.5850 - acc: 0.684 - ETA: 6:09 - loss: 1.5851 - acc: 0.684 - ETA: 6:02 - loss: 1.5856 - acc: 0.684 - ETA: 5:56 - loss: 1.5857 - acc: 0.684 - ETA: 5:50 - loss: 1.5857 - acc: 0.684 - ETA: 5:44 - loss: 1.5857 - acc: 0.684 - ETA: 5:37 - loss: 1.5858 - acc: 0.684 - ETA: 5:31 - loss: 1.5856 - acc: 0.684 - ETA: 5:25 - loss: 1.5863 - acc: 0.684 - ETA: 5:19 - loss: 1.5866 - acc: 0.684 - ETA: 5:12 - loss: 1.5868 - acc: 0.684 - ETA: 5:06 - loss: 1.5869 - acc: 0.684 - ETA: 5:00 - loss: 1.5869 - acc: 0.684 - ETA: 4:54 - loss: 1.5869 - acc: 0.684 - ETA: 4:47 - loss: 1.5874 - acc: 0.684 - ETA: 4:41 - loss: 1.5878 - acc: 0.684 - ETA: 4:35 - loss: 1.5879 - acc: 0.684 - ETA: 4:28 - loss: 1.5876 - acc: 0.684 - ETA: 4:22 - loss: 1.5875 - acc: 0.684 - ETA: 4:16 - loss: 1.5880 - acc: 0.684 - ETA: 4:10 - loss: 1.5881 - acc: 0.684 - ETA: 4:03 - loss: 1.5889 - acc: 0.684 - ETA: 3:57 - loss: 1.5893 - acc: 0.684 - ETA: 3:51 - loss: 1.5893 - acc: 0.684 - ETA: 3:44 - loss: 1.5893 - acc: 0.684 - ETA: 3:38 - loss: 1.5895 - acc: 0.684 - ETA: 3:32 - loss: 1.5897 - acc: 0.684 - ETA: 3:25 - loss: 1.5899 - acc: 0.684 - ETA: 3:19 - loss: 1.5899 - acc: 0.684 - ETA: 3:13 - loss: 1.5906 - acc: 0.684 - ETA: 3:06 - loss: 1.5906 - acc: 0.684 - ETA: 3:00 - loss: 1.5905 - acc: 0.684 - ETA: 2:54 - loss: 1.5909 - acc: 0.684 - ETA: 2:47 - loss: 1.5914 - acc: 0.684 - ETA: 2:41 - loss: 1.5915 - acc: 0.684 - ETA: 2:35 - loss: 1.5922 - acc: 0.683 - ETA: 2:29 - loss: 1.5925 - acc: 0.683 - ETA: 2:22 - loss: 1.5930 - acc: 0.683 - ETA: 2:16 - loss: 1.5930 - acc: 0.683 - ETA: 2:10 - loss: 1.5931 - acc: 0.683 - ETA: 2:03 - loss: 1.5931 - acc: 0.683 - ETA: 1:57 - loss: 1.5933 - acc: 0.683 - ETA: 1:51 - loss: 1.5942 - acc: 0.683 - ETA: 1:45 - loss: 1.5941 - acc: 0.683 - ETA: 1:39 - loss: 1.5939 - acc: 0.683 - ETA: 1:33 - loss: 1.5940 - acc: 0.683 - ETA: 1:26 - loss: 1.5940 - acc: 0.683 - ETA: 1:20 - loss: 1.5945 - acc: 0.683 - ETA: 1:14 - loss: 1.5947 - acc: 0.683 - ETA: 1:08 - loss: 1.5954 - acc: 0.683 - ETA: 1:02 - loss: 1.5954 - acc: 0.683 - ETA: 55s - loss: 1.5952 - acc: 0.683 - ETA: 49s - loss: 1.5957 - acc: 0.68 - ETA: 43s - loss: 1.5959 - acc: 0.68 - ETA: 37s - loss: 1.5957 - acc: 0.68 - ETA: 31s - loss: 1.5966 - acc: 0.68 - ETA: 25s - loss: 1.5972 - acc: 0.68 - ETA: 18s - loss: 1.5974 - acc: 0.68 - ETA: 12s - loss: 1.5979 - acc: 0.68 - ETA: 6s - loss: 1.5978 - acc: 0.6834 - ETA: 0s - loss: 1.5979 - acc: 0.683 - 2052s 48ms/sample - loss: 1.5979 - acc: 0.6834\n",
      "Epoch 24/30\n"
     ]
    },
    {
     "name": "stdout",
     "output_type": "stream",
     "text": [
      "26112/42374 [=================>............] - ETA: 33:43 - loss: 1.4300 - acc: 0.70 - ETA: 32:30 - loss: 1.5053 - acc: 0.68 - ETA: 31:44 - loss: 1.5571 - acc: 0.68 - ETA: 31:33 - loss: 1.5371 - acc: 0.68 - ETA: 32:31 - loss: 1.5180 - acc: 0.69 - ETA: 32:43 - loss: 1.5025 - acc: 0.69 - ETA: 32:30 - loss: 1.5017 - acc: 0.69 - ETA: 32:29 - loss: 1.4966 - acc: 0.69 - ETA: 33:01 - loss: 1.5003 - acc: 0.69 - ETA: 32:58 - loss: 1.5007 - acc: 0.69 - ETA: 32:23 - loss: 1.5034 - acc: 0.68 - ETA: 31:55 - loss: 1.5145 - acc: 0.68 - ETA: 31:31 - loss: 1.5104 - acc: 0.68 - ETA: 31:10 - loss: 1.5160 - acc: 0.68 - ETA: 30:56 - loss: 1.5105 - acc: 0.68 - ETA: 30:37 - loss: 1.5201 - acc: 0.68 - ETA: 30:21 - loss: 1.5243 - acc: 0.68 - ETA: 30:06 - loss: 1.5222 - acc: 0.68 - ETA: 29:53 - loss: 1.5197 - acc: 0.68 - ETA: 29:40 - loss: 1.5230 - acc: 0.68 - ETA: 29:29 - loss: 1.5226 - acc: 0.68 - ETA: 29:19 - loss: 1.5213 - acc: 0.68 - ETA: 29:08 - loss: 1.5169 - acc: 0.69 - ETA: 28:58 - loss: 1.5155 - acc: 0.69 - ETA: 28:48 - loss: 1.5131 - acc: 0.69 - ETA: 28:38 - loss: 1.5127 - acc: 0.69 - ETA: 28:28 - loss: 1.5161 - acc: 0.69 - ETA: 28:19 - loss: 1.5200 - acc: 0.69 - ETA: 28:21 - loss: 1.5221 - acc: 0.69 - ETA: 28:24 - loss: 1.5183 - acc: 0.69 - ETA: 28:24 - loss: 1.5178 - acc: 0.69 - ETA: 28:29 - loss: 1.5194 - acc: 0.69 - ETA: 28:28 - loss: 1.5232 - acc: 0.69 - ETA: 28:20 - loss: 1.5250 - acc: 0.69 - ETA: 28:21 - loss: 1.5249 - acc: 0.69 - ETA: 28:19 - loss: 1.5253 - acc: 0.69 - ETA: 28:12 - loss: 1.5267 - acc: 0.68 - ETA: 28:07 - loss: 1.5306 - acc: 0.68 - ETA: 28:03 - loss: 1.5327 - acc: 0.68 - ETA: 28:00 - loss: 1.5317 - acc: 0.68 - ETA: 27:55 - loss: 1.5346 - acc: 0.68 - ETA: 27:50 - loss: 1.5343 - acc: 0.68 - ETA: 27:52 - loss: 1.5352 - acc: 0.68 - ETA: 27:50 - loss: 1.5362 - acc: 0.68 - ETA: 27:48 - loss: 1.5367 - acc: 0.68 - ETA: 27:44 - loss: 1.5351 - acc: 0.68 - ETA: 27:38 - loss: 1.5357 - acc: 0.68 - ETA: 27:34 - loss: 1.5332 - acc: 0.68 - ETA: 27:29 - loss: 1.5341 - acc: 0.68 - ETA: 27:25 - loss: 1.5325 - acc: 0.68 - ETA: 27:22 - loss: 1.5325 - acc: 0.69 - ETA: 27:18 - loss: 1.5305 - acc: 0.69 - ETA: 27:14 - loss: 1.5321 - acc: 0.69 - ETA: 27:11 - loss: 1.5332 - acc: 0.68 - ETA: 27:07 - loss: 1.5321 - acc: 0.68 - ETA: 27:03 - loss: 1.5313 - acc: 0.68 - ETA: 26:59 - loss: 1.5297 - acc: 0.68 - ETA: 26:53 - loss: 1.5289 - acc: 0.69 - ETA: 26:46 - loss: 1.5293 - acc: 0.69 - ETA: 26:38 - loss: 1.5275 - acc: 0.69 - ETA: 26:31 - loss: 1.5280 - acc: 0.69 - ETA: 26:24 - loss: 1.5273 - acc: 0.69 - ETA: 26:18 - loss: 1.5286 - acc: 0.69 - ETA: 26:11 - loss: 1.5284 - acc: 0.69 - ETA: 26:05 - loss: 1.5315 - acc: 0.68 - ETA: 25:57 - loss: 1.5321 - acc: 0.69 - ETA: 25:50 - loss: 1.5324 - acc: 0.68 - ETA: 25:44 - loss: 1.5332 - acc: 0.68 - ETA: 25:38 - loss: 1.5333 - acc: 0.68 - ETA: 25:33 - loss: 1.5343 - acc: 0.68 - ETA: 25:26 - loss: 1.5348 - acc: 0.68 - ETA: 25:20 - loss: 1.5350 - acc: 0.68 - ETA: 25:13 - loss: 1.5335 - acc: 0.68 - ETA: 25:05 - loss: 1.5321 - acc: 0.68 - ETA: 24:59 - loss: 1.5312 - acc: 0.69 - ETA: 24:53 - loss: 1.5318 - acc: 0.69 - ETA: 24:45 - loss: 1.5319 - acc: 0.69 - ETA: 24:39 - loss: 1.5329 - acc: 0.68 - ETA: 24:32 - loss: 1.5322 - acc: 0.68 - ETA: 24:26 - loss: 1.5313 - acc: 0.68 - ETA: 24:21 - loss: 1.5300 - acc: 0.69 - ETA: 24:15 - loss: 1.5305 - acc: 0.69 - ETA: 24:09 - loss: 1.5324 - acc: 0.68 - ETA: 24:04 - loss: 1.5327 - acc: 0.68 - ETA: 23:59 - loss: 1.5334 - acc: 0.68 - ETA: 23:54 - loss: 1.5341 - acc: 0.68 - ETA: 23:49 - loss: 1.5348 - acc: 0.68 - ETA: 23:44 - loss: 1.5345 - acc: 0.68 - ETA: 23:39 - loss: 1.5337 - acc: 0.68 - ETA: 23:34 - loss: 1.5334 - acc: 0.68 - ETA: 23:27 - loss: 1.5326 - acc: 0.69 - ETA: 23:22 - loss: 1.5326 - acc: 0.69 - ETA: 23:15 - loss: 1.5334 - acc: 0.69 - ETA: 23:09 - loss: 1.5337 - acc: 0.69 - ETA: 23:03 - loss: 1.5330 - acc: 0.69 - ETA: 22:57 - loss: 1.5331 - acc: 0.69 - ETA: 22:51 - loss: 1.5334 - acc: 0.69 - ETA: 22:45 - loss: 1.5327 - acc: 0.69 - ETA: 22:40 - loss: 1.5332 - acc: 0.69 - ETA: 22:33 - loss: 1.5332 - acc: 0.69 - ETA: 22:27 - loss: 1.5339 - acc: 0.69 - ETA: 22:22 - loss: 1.5344 - acc: 0.69 - ETA: 22:17 - loss: 1.5332 - acc: 0.69 - ETA: 22:11 - loss: 1.5323 - acc: 0.69 - ETA: 22:05 - loss: 1.5337 - acc: 0.69 - ETA: 21:59 - loss: 1.5333 - acc: 0.69 - ETA: 21:53 - loss: 1.5323 - acc: 0.69 - ETA: 21:47 - loss: 1.5306 - acc: 0.69 - ETA: 21:41 - loss: 1.5321 - acc: 0.69 - ETA: 21:34 - loss: 1.5336 - acc: 0.69 - ETA: 21:27 - loss: 1.5340 - acc: 0.69 - ETA: 21:20 - loss: 1.5341 - acc: 0.69 - ETA: 21:13 - loss: 1.5352 - acc: 0.69 - ETA: 21:07 - loss: 1.5355 - acc: 0.69 - ETA: 21:00 - loss: 1.5358 - acc: 0.69 - ETA: 20:53 - loss: 1.5360 - acc: 0.69 - ETA: 20:48 - loss: 1.5382 - acc: 0.68 - ETA: 20:42 - loss: 1.5385 - acc: 0.68 - ETA: 20:36 - loss: 1.5399 - acc: 0.68 - ETA: 20:30 - loss: 1.5392 - acc: 0.68 - ETA: 20:24 - loss: 1.5389 - acc: 0.68 - ETA: 20:18 - loss: 1.5389 - acc: 0.68 - ETA: 20:12 - loss: 1.5383 - acc: 0.68 - ETA: 20:05 - loss: 1.5384 - acc: 0.68 - ETA: 19:59 - loss: 1.5391 - acc: 0.68 - ETA: 19:54 - loss: 1.5388 - acc: 0.68 - ETA: 19:48 - loss: 1.5387 - acc: 0.68 - ETA: 19:43 - loss: 1.5400 - acc: 0.68 - ETA: 19:37 - loss: 1.5399 - acc: 0.68 - ETA: 19:30 - loss: 1.5401 - acc: 0.68 - ETA: 19:24 - loss: 1.5408 - acc: 0.68 - ETA: 19:17 - loss: 1.5409 - acc: 0.68 - ETA: 19:10 - loss: 1.5412 - acc: 0.68 - ETA: 19:04 - loss: 1.5411 - acc: 0.68 - ETA: 18:57 - loss: 1.5410 - acc: 0.68 - ETA: 18:50 - loss: 1.5415 - acc: 0.68 - ETA: 18:44 - loss: 1.5412 - acc: 0.68 - ETA: 18:37 - loss: 1.5423 - acc: 0.68 - ETA: 18:30 - loss: 1.5424 - acc: 0.68 - ETA: 18:24 - loss: 1.5423 - acc: 0.68 - ETA: 18:17 - loss: 1.5415 - acc: 0.68 - ETA: 18:11 - loss: 1.5429 - acc: 0.68 - ETA: 18:05 - loss: 1.5434 - acc: 0.68 - ETA: 17:58 - loss: 1.5442 - acc: 0.68 - ETA: 17:52 - loss: 1.5440 - acc: 0.68 - ETA: 17:46 - loss: 1.5443 - acc: 0.68 - ETA: 17:39 - loss: 1.5454 - acc: 0.68 - ETA: 17:33 - loss: 1.5453 - acc: 0.68 - ETA: 17:27 - loss: 1.5457 - acc: 0.68 - ETA: 17:20 - loss: 1.5454 - acc: 0.68 - ETA: 17:14 - loss: 1.5465 - acc: 0.68 - ETA: 17:08 - loss: 1.5462 - acc: 0.68 - ETA: 17:02 - loss: 1.5469 - acc: 0.68 - ETA: 16:55 - loss: 1.5473 - acc: 0.68 - ETA: 16:49 - loss: 1.5477 - acc: 0.68 - ETA: 16:43 - loss: 1.5479 - acc: 0.68 - ETA: 16:37 - loss: 1.5500 - acc: 0.68 - ETA: 16:31 - loss: 1.5503 - acc: 0.68 - ETA: 16:24 - loss: 1.5513 - acc: 0.68 - ETA: 16:18 - loss: 1.5511 - acc: 0.68 - ETA: 16:12 - loss: 1.5514 - acc: 0.68 - ETA: 16:06 - loss: 1.5519 - acc: 0.68 - ETA: 16:00 - loss: 1.5513 - acc: 0.68 - ETA: 15:54 - loss: 1.5513 - acc: 0.68 - ETA: 15:47 - loss: 1.5518 - acc: 0.68 - ETA: 15:41 - loss: 1.5520 - acc: 0.68 - ETA: 15:35 - loss: 1.5519 - acc: 0.68 - ETA: 15:29 - loss: 1.5525 - acc: 0.68 - ETA: 15:23 - loss: 1.5532 - acc: 0.68 - ETA: 15:17 - loss: 1.5533 - acc: 0.68 - ETA: 15:11 - loss: 1.5536 - acc: 0.68 - ETA: 15:05 - loss: 1.5535 - acc: 0.68 - ETA: 14:59 - loss: 1.5531 - acc: 0.68 - ETA: 14:53 - loss: 1.5530 - acc: 0.68 - ETA: 14:46 - loss: 1.5527 - acc: 0.68 - ETA: 14:40 - loss: 1.5528 - acc: 0.68 - ETA: 14:34 - loss: 1.5537 - acc: 0.68 - ETA: 14:28 - loss: 1.5539 - acc: 0.68 - ETA: 14:22 - loss: 1.5539 - acc: 0.68 - ETA: 14:17 - loss: 1.5547 - acc: 0.68 - ETA: 14:10 - loss: 1.5550 - acc: 0.68 - ETA: 14:05 - loss: 1.5561 - acc: 0.68 - ETA: 13:59 - loss: 1.5562 - acc: 0.68 - ETA: 13:53 - loss: 1.5567 - acc: 0.68 - ETA: 13:47 - loss: 1.5563 - acc: 0.68 - ETA: 13:41 - loss: 1.5566 - acc: 0.68 - ETA: 13:34 - loss: 1.5572 - acc: 0.68 - ETA: 13:29 - loss: 1.5569 - acc: 0.68 - ETA: 13:23 - loss: 1.5575 - acc: 0.68 - ETA: 13:17 - loss: 1.5582 - acc: 0.68 - ETA: 13:11 - loss: 1.5580 - acc: 0.68 - ETA: 13:05 - loss: 1.5586 - acc: 0.68 - ETA: 12:59 - loss: 1.5580 - acc: 0.68 - ETA: 12:53 - loss: 1.5577 - acc: 0.68 - ETA: 12:47 - loss: 1.5575 - acc: 0.68 - ETA: 12:41 - loss: 1.5580 - acc: 0.68 - ETA: 12:35 - loss: 1.5581 - acc: 0.68 - ETA: 12:29 - loss: 1.5585 - acc: 0.68 - ETA: 12:23 - loss: 1.5590 - acc: 0.68 - ETA: 12:17 - loss: 1.5590 - acc: 0.68 - ETA: 12:12 - loss: 1.5587 - acc: 0.68 - ETA: 12:06 - loss: 1.5577 - acc: 0.68 - ETA: 12:00 - loss: 1.5572 - acc: 0.68 - ETA: 11:54 - loss: 1.5576 - acc: 0.6879"
     ]
    },
    {
     "name": "stdout",
     "output_type": "stream",
     "text": [
      "42374/42374 [==============================] - ETA: 11:48 - loss: 1.5577 - acc: 0.68 - ETA: 11:42 - loss: 1.5587 - acc: 0.68 - ETA: 11:37 - loss: 1.5589 - acc: 0.68 - ETA: 11:32 - loss: 1.5591 - acc: 0.68 - ETA: 11:27 - loss: 1.5589 - acc: 0.68 - ETA: 11:22 - loss: 1.5594 - acc: 0.68 - ETA: 11:16 - loss: 1.5595 - acc: 0.68 - ETA: 11:11 - loss: 1.5600 - acc: 0.68 - ETA: 11:06 - loss: 1.5605 - acc: 0.68 - ETA: 11:00 - loss: 1.5607 - acc: 0.68 - ETA: 10:54 - loss: 1.5611 - acc: 0.68 - ETA: 10:49 - loss: 1.5616 - acc: 0.68 - ETA: 10:43 - loss: 1.5617 - acc: 0.68 - ETA: 10:37 - loss: 1.5621 - acc: 0.68 - ETA: 10:31 - loss: 1.5625 - acc: 0.68 - ETA: 10:26 - loss: 1.5627 - acc: 0.68 - ETA: 10:20 - loss: 1.5624 - acc: 0.68 - ETA: 10:14 - loss: 1.5628 - acc: 0.68 - ETA: 10:09 - loss: 1.5626 - acc: 0.68 - ETA: 10:03 - loss: 1.5626 - acc: 0.68 - ETA: 9:57 - loss: 1.5626 - acc: 0.6875 - ETA: 9:51 - loss: 1.5625 - acc: 0.687 - ETA: 9:46 - loss: 1.5629 - acc: 0.687 - ETA: 9:40 - loss: 1.5639 - acc: 0.687 - ETA: 9:34 - loss: 1.5652 - acc: 0.687 - ETA: 9:28 - loss: 1.5650 - acc: 0.687 - ETA: 9:23 - loss: 1.5653 - acc: 0.687 - ETA: 9:17 - loss: 1.5651 - acc: 0.687 - ETA: 9:11 - loss: 1.5662 - acc: 0.687 - ETA: 9:05 - loss: 1.5667 - acc: 0.687 - ETA: 9:00 - loss: 1.5670 - acc: 0.687 - ETA: 8:54 - loss: 1.5670 - acc: 0.687 - ETA: 8:48 - loss: 1.5668 - acc: 0.687 - ETA: 8:42 - loss: 1.5667 - acc: 0.687 - ETA: 8:37 - loss: 1.5666 - acc: 0.687 - ETA: 8:31 - loss: 1.5668 - acc: 0.687 - ETA: 8:25 - loss: 1.5670 - acc: 0.687 - ETA: 8:19 - loss: 1.5672 - acc: 0.687 - ETA: 8:14 - loss: 1.5666 - acc: 0.687 - ETA: 8:08 - loss: 1.5672 - acc: 0.687 - ETA: 8:02 - loss: 1.5675 - acc: 0.687 - ETA: 7:57 - loss: 1.5674 - acc: 0.687 - ETA: 7:51 - loss: 1.5678 - acc: 0.687 - ETA: 7:45 - loss: 1.5687 - acc: 0.687 - ETA: 7:40 - loss: 1.5690 - acc: 0.687 - ETA: 7:34 - loss: 1.5690 - acc: 0.687 - ETA: 7:28 - loss: 1.5690 - acc: 0.687 - ETA: 7:22 - loss: 1.5690 - acc: 0.687 - ETA: 7:17 - loss: 1.5683 - acc: 0.687 - ETA: 7:11 - loss: 1.5682 - acc: 0.687 - ETA: 7:05 - loss: 1.5685 - acc: 0.687 - ETA: 7:00 - loss: 1.5689 - acc: 0.687 - ETA: 6:54 - loss: 1.5687 - acc: 0.687 - ETA: 6:48 - loss: 1.5688 - acc: 0.687 - ETA: 6:43 - loss: 1.5697 - acc: 0.687 - ETA: 6:37 - loss: 1.5700 - acc: 0.686 - ETA: 6:31 - loss: 1.5705 - acc: 0.686 - ETA: 6:26 - loss: 1.5701 - acc: 0.687 - ETA: 6:20 - loss: 1.5701 - acc: 0.687 - ETA: 6:14 - loss: 1.5700 - acc: 0.687 - ETA: 6:09 - loss: 1.5705 - acc: 0.687 - ETA: 6:03 - loss: 1.5705 - acc: 0.687 - ETA: 5:57 - loss: 1.5703 - acc: 0.687 - ETA: 5:52 - loss: 1.5701 - acc: 0.687 - ETA: 5:46 - loss: 1.5702 - acc: 0.687 - ETA: 5:40 - loss: 1.5707 - acc: 0.687 - ETA: 5:35 - loss: 1.5711 - acc: 0.687 - ETA: 5:29 - loss: 1.5712 - acc: 0.687 - ETA: 5:24 - loss: 1.5713 - acc: 0.687 - ETA: 5:18 - loss: 1.5712 - acc: 0.687 - ETA: 5:12 - loss: 1.5715 - acc: 0.687 - ETA: 5:07 - loss: 1.5715 - acc: 0.687 - ETA: 5:01 - loss: 1.5716 - acc: 0.687 - ETA: 4:55 - loss: 1.5719 - acc: 0.687 - ETA: 4:50 - loss: 1.5726 - acc: 0.686 - ETA: 4:44 - loss: 1.5729 - acc: 0.686 - ETA: 4:39 - loss: 1.5728 - acc: 0.686 - ETA: 4:33 - loss: 1.5732 - acc: 0.686 - ETA: 4:27 - loss: 1.5735 - acc: 0.686 - ETA: 4:22 - loss: 1.5734 - acc: 0.686 - ETA: 4:16 - loss: 1.5733 - acc: 0.686 - ETA: 4:10 - loss: 1.5730 - acc: 0.686 - ETA: 4:05 - loss: 1.5730 - acc: 0.686 - ETA: 3:59 - loss: 1.5731 - acc: 0.686 - ETA: 3:54 - loss: 1.5735 - acc: 0.686 - ETA: 3:48 - loss: 1.5735 - acc: 0.686 - ETA: 3:42 - loss: 1.5735 - acc: 0.686 - ETA: 3:37 - loss: 1.5738 - acc: 0.686 - ETA: 3:31 - loss: 1.5736 - acc: 0.686 - ETA: 3:26 - loss: 1.5736 - acc: 0.686 - ETA: 3:20 - loss: 1.5737 - acc: 0.686 - ETA: 3:14 - loss: 1.5735 - acc: 0.686 - ETA: 3:09 - loss: 1.5739 - acc: 0.686 - ETA: 3:03 - loss: 1.5744 - acc: 0.686 - ETA: 2:58 - loss: 1.5747 - acc: 0.686 - ETA: 2:52 - loss: 1.5749 - acc: 0.686 - ETA: 2:47 - loss: 1.5755 - acc: 0.686 - ETA: 2:41 - loss: 1.5756 - acc: 0.686 - ETA: 2:35 - loss: 1.5758 - acc: 0.686 - ETA: 2:30 - loss: 1.5755 - acc: 0.686 - ETA: 2:24 - loss: 1.5754 - acc: 0.686 - ETA: 2:19 - loss: 1.5759 - acc: 0.686 - ETA: 2:13 - loss: 1.5758 - acc: 0.686 - ETA: 2:07 - loss: 1.5757 - acc: 0.686 - ETA: 2:02 - loss: 1.5757 - acc: 0.686 - ETA: 1:56 - loss: 1.5757 - acc: 0.686 - ETA: 1:51 - loss: 1.5762 - acc: 0.686 - ETA: 1:45 - loss: 1.5760 - acc: 0.686 - ETA: 1:40 - loss: 1.5759 - acc: 0.686 - ETA: 1:34 - loss: 1.5764 - acc: 0.686 - ETA: 1:29 - loss: 1.5768 - acc: 0.686 - ETA: 1:23 - loss: 1.5774 - acc: 0.686 - ETA: 1:17 - loss: 1.5773 - acc: 0.686 - ETA: 1:12 - loss: 1.5771 - acc: 0.686 - ETA: 1:06 - loss: 1.5773 - acc: 0.686 - ETA: 1:01 - loss: 1.5775 - acc: 0.686 - ETA: 55s - loss: 1.5777 - acc: 0.686 - ETA: 50s - loss: 1.5780 - acc: 0.68 - ETA: 44s - loss: 1.5783 - acc: 0.68 - ETA: 39s - loss: 1.5789 - acc: 0.68 - ETA: 33s - loss: 1.5790 - acc: 0.68 - ETA: 27s - loss: 1.5790 - acc: 0.68 - ETA: 22s - loss: 1.5800 - acc: 0.68 - ETA: 16s - loss: 1.5806 - acc: 0.68 - ETA: 11s - loss: 1.5804 - acc: 0.68 - ETA: 5s - loss: 1.5805 - acc: 0.6858 - ETA: 0s - loss: 1.5804 - acc: 0.685 - 1835s 43ms/sample - loss: 1.5805 - acc: 0.6859\n",
      "Epoch 25/30\n"
     ]
    },
    {
     "name": "stdout",
     "output_type": "stream",
     "text": [
      "26112/42374 [=================>............] - ETA: 29:04 - loss: 1.5208 - acc: 0.68 - ETA: 28:52 - loss: 1.5687 - acc: 0.68 - ETA: 28:55 - loss: 1.5123 - acc: 0.69 - ETA: 28:52 - loss: 1.5112 - acc: 0.69 - ETA: 28:48 - loss: 1.5348 - acc: 0.69 - ETA: 28:41 - loss: 1.5395 - acc: 0.69 - ETA: 28:35 - loss: 1.5405 - acc: 0.68 - ETA: 28:26 - loss: 1.5265 - acc: 0.69 - ETA: 28:22 - loss: 1.5211 - acc: 0.69 - ETA: 28:16 - loss: 1.5058 - acc: 0.69 - ETA: 28:09 - loss: 1.4969 - acc: 0.69 - ETA: 28:04 - loss: 1.5097 - acc: 0.69 - ETA: 28:06 - loss: 1.5138 - acc: 0.69 - ETA: 28:00 - loss: 1.5137 - acc: 0.69 - ETA: 27:55 - loss: 1.5176 - acc: 0.69 - ETA: 27:50 - loss: 1.5264 - acc: 0.69 - ETA: 27:45 - loss: 1.5242 - acc: 0.69 - ETA: 27:41 - loss: 1.5197 - acc: 0.69 - ETA: 27:34 - loss: 1.5170 - acc: 0.69 - ETA: 27:29 - loss: 1.5188 - acc: 0.69 - ETA: 27:25 - loss: 1.5141 - acc: 0.69 - ETA: 27:18 - loss: 1.5135 - acc: 0.69 - ETA: 27:13 - loss: 1.5130 - acc: 0.69 - ETA: 27:10 - loss: 1.5145 - acc: 0.69 - ETA: 27:04 - loss: 1.5134 - acc: 0.69 - ETA: 26:59 - loss: 1.5147 - acc: 0.69 - ETA: 26:54 - loss: 1.5197 - acc: 0.69 - ETA: 26:49 - loss: 1.5229 - acc: 0.69 - ETA: 26:43 - loss: 1.5221 - acc: 0.69 - ETA: 26:38 - loss: 1.5238 - acc: 0.69 - ETA: 26:33 - loss: 1.5219 - acc: 0.69 - ETA: 26:27 - loss: 1.5231 - acc: 0.69 - ETA: 26:21 - loss: 1.5222 - acc: 0.69 - ETA: 26:15 - loss: 1.5245 - acc: 0.69 - ETA: 26:10 - loss: 1.5232 - acc: 0.69 - ETA: 26:06 - loss: 1.5205 - acc: 0.69 - ETA: 26:00 - loss: 1.5205 - acc: 0.69 - ETA: 25:55 - loss: 1.5209 - acc: 0.69 - ETA: 25:51 - loss: 1.5203 - acc: 0.69 - ETA: 25:47 - loss: 1.5230 - acc: 0.69 - ETA: 25:42 - loss: 1.5276 - acc: 0.69 - ETA: 25:37 - loss: 1.5280 - acc: 0.69 - ETA: 25:31 - loss: 1.5292 - acc: 0.69 - ETA: 25:25 - loss: 1.5304 - acc: 0.69 - ETA: 25:19 - loss: 1.5292 - acc: 0.69 - ETA: 25:14 - loss: 1.5266 - acc: 0.69 - ETA: 25:08 - loss: 1.5285 - acc: 0.69 - ETA: 25:03 - loss: 1.5283 - acc: 0.69 - ETA: 24:57 - loss: 1.5269 - acc: 0.69 - ETA: 24:52 - loss: 1.5281 - acc: 0.69 - ETA: 24:47 - loss: 1.5274 - acc: 0.69 - ETA: 24:42 - loss: 1.5293 - acc: 0.69 - ETA: 24:37 - loss: 1.5269 - acc: 0.69 - ETA: 24:32 - loss: 1.5275 - acc: 0.69 - ETA: 24:26 - loss: 1.5283 - acc: 0.69 - ETA: 24:20 - loss: 1.5306 - acc: 0.69 - ETA: 24:16 - loss: 1.5288 - acc: 0.69 - ETA: 24:10 - loss: 1.5295 - acc: 0.69 - ETA: 24:05 - loss: 1.5299 - acc: 0.69 - ETA: 23:59 - loss: 1.5288 - acc: 0.69 - ETA: 23:54 - loss: 1.5290 - acc: 0.69 - ETA: 23:48 - loss: 1.5307 - acc: 0.69 - ETA: 23:43 - loss: 1.5304 - acc: 0.69 - ETA: 23:38 - loss: 1.5324 - acc: 0.68 - ETA: 23:32 - loss: 1.5323 - acc: 0.68 - ETA: 23:27 - loss: 1.5310 - acc: 0.69 - ETA: 23:21 - loss: 1.5312 - acc: 0.69 - ETA: 23:16 - loss: 1.5303 - acc: 0.69 - ETA: 23:11 - loss: 1.5302 - acc: 0.69 - ETA: 23:06 - loss: 1.5305 - acc: 0.69 - ETA: 23:00 - loss: 1.5311 - acc: 0.69 - ETA: 22:55 - loss: 1.5312 - acc: 0.69 - ETA: 22:50 - loss: 1.5313 - acc: 0.69 - ETA: 22:44 - loss: 1.5316 - acc: 0.69 - ETA: 22:39 - loss: 1.5330 - acc: 0.68 - ETA: 22:34 - loss: 1.5326 - acc: 0.69 - ETA: 22:28 - loss: 1.5317 - acc: 0.69 - ETA: 22:23 - loss: 1.5319 - acc: 0.69 - ETA: 22:18 - loss: 1.5325 - acc: 0.69 - ETA: 22:13 - loss: 1.5312 - acc: 0.69 - ETA: 22:08 - loss: 1.5325 - acc: 0.69 - ETA: 22:02 - loss: 1.5316 - acc: 0.69 - ETA: 21:57 - loss: 1.5313 - acc: 0.69 - ETA: 21:52 - loss: 1.5316 - acc: 0.69 - ETA: 21:46 - loss: 1.5311 - acc: 0.69 - ETA: 21:41 - loss: 1.5310 - acc: 0.69 - ETA: 21:36 - loss: 1.5311 - acc: 0.69 - ETA: 21:30 - loss: 1.5315 - acc: 0.69 - ETA: 21:25 - loss: 1.5314 - acc: 0.69 - ETA: 21:20 - loss: 1.5304 - acc: 0.69 - ETA: 21:14 - loss: 1.5299 - acc: 0.69 - ETA: 21:09 - loss: 1.5313 - acc: 0.69 - ETA: 21:04 - loss: 1.5311 - acc: 0.69 - ETA: 20:58 - loss: 1.5307 - acc: 0.69 - ETA: 20:53 - loss: 1.5308 - acc: 0.69 - ETA: 20:48 - loss: 1.5313 - acc: 0.69 - ETA: 20:42 - loss: 1.5303 - acc: 0.69 - ETA: 20:37 - loss: 1.5299 - acc: 0.69 - ETA: 20:32 - loss: 1.5291 - acc: 0.69 - ETA: 20:26 - loss: 1.5288 - acc: 0.69 - ETA: 20:21 - loss: 1.5296 - acc: 0.69 - ETA: 20:16 - loss: 1.5291 - acc: 0.69 - ETA: 20:10 - loss: 1.5293 - acc: 0.69 - ETA: 20:05 - loss: 1.5292 - acc: 0.69 - ETA: 20:00 - loss: 1.5278 - acc: 0.69 - ETA: 19:54 - loss: 1.5286 - acc: 0.69 - ETA: 19:49 - loss: 1.5285 - acc: 0.69 - ETA: 19:44 - loss: 1.5275 - acc: 0.69 - ETA: 19:39 - loss: 1.5271 - acc: 0.69 - ETA: 19:33 - loss: 1.5268 - acc: 0.69 - ETA: 19:28 - loss: 1.5261 - acc: 0.69 - ETA: 19:23 - loss: 1.5269 - acc: 0.69 - ETA: 19:17 - loss: 1.5273 - acc: 0.69 - ETA: 19:12 - loss: 1.5282 - acc: 0.69 - ETA: 19:07 - loss: 1.5288 - acc: 0.69 - ETA: 19:01 - loss: 1.5292 - acc: 0.69 - ETA: 18:56 - loss: 1.5305 - acc: 0.69 - ETA: 18:51 - loss: 1.5310 - acc: 0.69 - ETA: 18:46 - loss: 1.5315 - acc: 0.69 - ETA: 18:40 - loss: 1.5311 - acc: 0.69 - ETA: 18:35 - loss: 1.5309 - acc: 0.69 - ETA: 18:30 - loss: 1.5313 - acc: 0.69 - ETA: 18:25 - loss: 1.5318 - acc: 0.69 - ETA: 18:19 - loss: 1.5319 - acc: 0.69 - ETA: 18:14 - loss: 1.5316 - acc: 0.69 - ETA: 18:09 - loss: 1.5313 - acc: 0.69 - ETA: 18:03 - loss: 1.5314 - acc: 0.69 - ETA: 17:58 - loss: 1.5323 - acc: 0.69 - ETA: 17:53 - loss: 1.5311 - acc: 0.69 - ETA: 17:47 - loss: 1.5313 - acc: 0.69 - ETA: 17:42 - loss: 1.5308 - acc: 0.69 - ETA: 17:37 - loss: 1.5302 - acc: 0.69 - ETA: 17:31 - loss: 1.5294 - acc: 0.69 - ETA: 17:26 - loss: 1.5300 - acc: 0.69 - ETA: 17:21 - loss: 1.5297 - acc: 0.69 - ETA: 17:15 - loss: 1.5302 - acc: 0.69 - ETA: 17:10 - loss: 1.5308 - acc: 0.69 - ETA: 17:05 - loss: 1.5311 - acc: 0.69 - ETA: 17:00 - loss: 1.5312 - acc: 0.69 - ETA: 16:54 - loss: 1.5312 - acc: 0.69 - ETA: 16:49 - loss: 1.5313 - acc: 0.69 - ETA: 16:44 - loss: 1.5313 - acc: 0.69 - ETA: 16:39 - loss: 1.5309 - acc: 0.69 - ETA: 16:33 - loss: 1.5318 - acc: 0.69 - ETA: 16:28 - loss: 1.5314 - acc: 0.69 - ETA: 16:23 - loss: 1.5317 - acc: 0.69 - ETA: 16:17 - loss: 1.5329 - acc: 0.68 - ETA: 16:12 - loss: 1.5330 - acc: 0.68 - ETA: 16:07 - loss: 1.5327 - acc: 0.68 - ETA: 16:02 - loss: 1.5337 - acc: 0.68 - ETA: 15:56 - loss: 1.5346 - acc: 0.68 - ETA: 15:51 - loss: 1.5351 - acc: 0.68 - ETA: 15:46 - loss: 1.5347 - acc: 0.68 - ETA: 15:40 - loss: 1.5348 - acc: 0.68 - ETA: 15:35 - loss: 1.5351 - acc: 0.68 - ETA: 15:30 - loss: 1.5352 - acc: 0.68 - ETA: 15:24 - loss: 1.5357 - acc: 0.68 - ETA: 15:19 - loss: 1.5359 - acc: 0.68 - ETA: 15:14 - loss: 1.5368 - acc: 0.68 - ETA: 15:09 - loss: 1.5368 - acc: 0.68 - ETA: 15:03 - loss: 1.5360 - acc: 0.68 - ETA: 14:58 - loss: 1.5360 - acc: 0.68 - ETA: 14:53 - loss: 1.5361 - acc: 0.68 - ETA: 14:47 - loss: 1.5363 - acc: 0.68 - ETA: 14:42 - loss: 1.5361 - acc: 0.68 - ETA: 14:37 - loss: 1.5363 - acc: 0.68 - ETA: 14:31 - loss: 1.5374 - acc: 0.68 - ETA: 14:26 - loss: 1.5374 - acc: 0.68 - ETA: 14:21 - loss: 1.5371 - acc: 0.68 - ETA: 14:15 - loss: 1.5367 - acc: 0.68 - ETA: 14:10 - loss: 1.5368 - acc: 0.68 - ETA: 14:05 - loss: 1.5364 - acc: 0.68 - ETA: 13:59 - loss: 1.5366 - acc: 0.68 - ETA: 13:54 - loss: 1.5363 - acc: 0.68 - ETA: 13:49 - loss: 1.5368 - acc: 0.68 - ETA: 13:43 - loss: 1.5371 - acc: 0.68 - ETA: 13:38 - loss: 1.5369 - acc: 0.68 - ETA: 13:33 - loss: 1.5370 - acc: 0.68 - ETA: 13:27 - loss: 1.5373 - acc: 0.68 - ETA: 13:22 - loss: 1.5377 - acc: 0.68 - ETA: 13:17 - loss: 1.5385 - acc: 0.68 - ETA: 13:11 - loss: 1.5390 - acc: 0.68 - ETA: 13:06 - loss: 1.5393 - acc: 0.68 - ETA: 13:01 - loss: 1.5394 - acc: 0.68 - ETA: 12:56 - loss: 1.5393 - acc: 0.68 - ETA: 12:50 - loss: 1.5398 - acc: 0.68 - ETA: 12:45 - loss: 1.5399 - acc: 0.68 - ETA: 12:40 - loss: 1.5406 - acc: 0.68 - ETA: 12:34 - loss: 1.5408 - acc: 0.68 - ETA: 12:29 - loss: 1.5416 - acc: 0.68 - ETA: 12:24 - loss: 1.5413 - acc: 0.68 - ETA: 12:18 - loss: 1.5408 - acc: 0.68 - ETA: 12:13 - loss: 1.5408 - acc: 0.68 - ETA: 12:08 - loss: 1.5414 - acc: 0.68 - ETA: 12:03 - loss: 1.5414 - acc: 0.68 - ETA: 11:57 - loss: 1.5426 - acc: 0.68 - ETA: 11:52 - loss: 1.5430 - acc: 0.68 - ETA: 11:47 - loss: 1.5424 - acc: 0.68 - ETA: 11:41 - loss: 1.5423 - acc: 0.68 - ETA: 11:36 - loss: 1.5420 - acc: 0.68 - ETA: 11:30 - loss: 1.5423 - acc: 0.68 - ETA: 11:25 - loss: 1.5423 - acc: 0.68 - ETA: 11:20 - loss: 1.5422 - acc: 0.68 - ETA: 11:15 - loss: 1.5424 - acc: 0.6891"
     ]
    },
    {
     "name": "stdout",
     "output_type": "stream",
     "text": [
      "42374/42374 [==============================] - ETA: 11:09 - loss: 1.5422 - acc: 0.68 - ETA: 11:04 - loss: 1.5425 - acc: 0.68 - ETA: 10:59 - loss: 1.5427 - acc: 0.68 - ETA: 10:53 - loss: 1.5428 - acc: 0.68 - ETA: 10:48 - loss: 1.5426 - acc: 0.68 - ETA: 10:43 - loss: 1.5423 - acc: 0.68 - ETA: 10:37 - loss: 1.5420 - acc: 0.68 - ETA: 10:32 - loss: 1.5420 - acc: 0.68 - ETA: 10:27 - loss: 1.5423 - acc: 0.68 - ETA: 10:21 - loss: 1.5426 - acc: 0.68 - ETA: 10:16 - loss: 1.5427 - acc: 0.68 - ETA: 10:11 - loss: 1.5434 - acc: 0.68 - ETA: 10:05 - loss: 1.5432 - acc: 0.68 - ETA: 10:00 - loss: 1.5435 - acc: 0.68 - ETA: 9:55 - loss: 1.5436 - acc: 0.6893 - ETA: 9:49 - loss: 1.5438 - acc: 0.689 - ETA: 9:44 - loss: 1.5447 - acc: 0.689 - ETA: 9:39 - loss: 1.5450 - acc: 0.689 - ETA: 9:34 - loss: 1.5458 - acc: 0.689 - ETA: 9:28 - loss: 1.5457 - acc: 0.689 - ETA: 9:23 - loss: 1.5451 - acc: 0.689 - ETA: 9:18 - loss: 1.5450 - acc: 0.689 - ETA: 9:12 - loss: 1.5450 - acc: 0.689 - ETA: 9:07 - loss: 1.5453 - acc: 0.689 - ETA: 9:02 - loss: 1.5456 - acc: 0.689 - ETA: 8:56 - loss: 1.5462 - acc: 0.689 - ETA: 8:51 - loss: 1.5466 - acc: 0.688 - ETA: 8:46 - loss: 1.5472 - acc: 0.688 - ETA: 8:40 - loss: 1.5476 - acc: 0.688 - ETA: 8:35 - loss: 1.5477 - acc: 0.688 - ETA: 8:30 - loss: 1.5480 - acc: 0.688 - ETA: 8:24 - loss: 1.5483 - acc: 0.688 - ETA: 8:19 - loss: 1.5484 - acc: 0.688 - ETA: 8:14 - loss: 1.5491 - acc: 0.688 - ETA: 8:08 - loss: 1.5495 - acc: 0.688 - ETA: 8:03 - loss: 1.5500 - acc: 0.688 - ETA: 7:58 - loss: 1.5499 - acc: 0.688 - ETA: 7:52 - loss: 1.5507 - acc: 0.688 - ETA: 7:47 - loss: 1.5513 - acc: 0.688 - ETA: 7:42 - loss: 1.5512 - acc: 0.688 - ETA: 7:36 - loss: 1.5519 - acc: 0.688 - ETA: 7:31 - loss: 1.5517 - acc: 0.688 - ETA: 7:26 - loss: 1.5511 - acc: 0.688 - ETA: 7:20 - loss: 1.5509 - acc: 0.688 - ETA: 7:15 - loss: 1.5505 - acc: 0.688 - ETA: 7:10 - loss: 1.5502 - acc: 0.688 - ETA: 7:05 - loss: 1.5502 - acc: 0.688 - ETA: 6:59 - loss: 1.5504 - acc: 0.688 - ETA: 6:54 - loss: 1.5505 - acc: 0.688 - ETA: 6:49 - loss: 1.5505 - acc: 0.688 - ETA: 6:43 - loss: 1.5507 - acc: 0.688 - ETA: 6:38 - loss: 1.5508 - acc: 0.688 - ETA: 6:33 - loss: 1.5510 - acc: 0.688 - ETA: 6:27 - loss: 1.5514 - acc: 0.688 - ETA: 6:22 - loss: 1.5514 - acc: 0.688 - ETA: 6:17 - loss: 1.5516 - acc: 0.688 - ETA: 6:11 - loss: 1.5517 - acc: 0.688 - ETA: 6:06 - loss: 1.5516 - acc: 0.688 - ETA: 6:01 - loss: 1.5522 - acc: 0.688 - ETA: 5:55 - loss: 1.5524 - acc: 0.688 - ETA: 5:50 - loss: 1.5526 - acc: 0.688 - ETA: 5:45 - loss: 1.5529 - acc: 0.688 - ETA: 5:39 - loss: 1.5535 - acc: 0.688 - ETA: 5:34 - loss: 1.5541 - acc: 0.688 - ETA: 5:29 - loss: 1.5540 - acc: 0.688 - ETA: 5:24 - loss: 1.5540 - acc: 0.688 - ETA: 5:19 - loss: 1.5539 - acc: 0.688 - ETA: 5:14 - loss: 1.5535 - acc: 0.688 - ETA: 5:08 - loss: 1.5532 - acc: 0.688 - ETA: 5:03 - loss: 1.5533 - acc: 0.688 - ETA: 4:58 - loss: 1.5529 - acc: 0.688 - ETA: 4:53 - loss: 1.5526 - acc: 0.688 - ETA: 4:48 - loss: 1.5527 - acc: 0.688 - ETA: 4:42 - loss: 1.5532 - acc: 0.688 - ETA: 4:37 - loss: 1.5533 - acc: 0.688 - ETA: 4:32 - loss: 1.5535 - acc: 0.688 - ETA: 4:26 - loss: 1.5534 - acc: 0.688 - ETA: 4:21 - loss: 1.5537 - acc: 0.688 - ETA: 4:16 - loss: 1.5540 - acc: 0.688 - ETA: 4:10 - loss: 1.5549 - acc: 0.688 - ETA: 4:05 - loss: 1.5551 - acc: 0.688 - ETA: 4:00 - loss: 1.5546 - acc: 0.688 - ETA: 3:54 - loss: 1.5547 - acc: 0.688 - ETA: 3:49 - loss: 1.5547 - acc: 0.688 - ETA: 3:44 - loss: 1.5546 - acc: 0.688 - ETA: 3:38 - loss: 1.5544 - acc: 0.688 - ETA: 3:33 - loss: 1.5543 - acc: 0.688 - ETA: 3:28 - loss: 1.5541 - acc: 0.688 - ETA: 3:22 - loss: 1.5541 - acc: 0.688 - ETA: 3:17 - loss: 1.5541 - acc: 0.688 - ETA: 3:12 - loss: 1.5539 - acc: 0.688 - ETA: 3:06 - loss: 1.5541 - acc: 0.688 - ETA: 3:01 - loss: 1.5542 - acc: 0.688 - ETA: 2:56 - loss: 1.5544 - acc: 0.688 - ETA: 2:50 - loss: 1.5544 - acc: 0.688 - ETA: 2:45 - loss: 1.5548 - acc: 0.688 - ETA: 2:40 - loss: 1.5555 - acc: 0.688 - ETA: 2:34 - loss: 1.5556 - acc: 0.688 - ETA: 2:29 - loss: 1.5560 - acc: 0.688 - ETA: 2:24 - loss: 1.5560 - acc: 0.688 - ETA: 2:18 - loss: 1.5567 - acc: 0.688 - ETA: 2:13 - loss: 1.5571 - acc: 0.688 - ETA: 2:08 - loss: 1.5572 - acc: 0.688 - ETA: 2:02 - loss: 1.5573 - acc: 0.688 - ETA: 1:57 - loss: 1.5573 - acc: 0.688 - ETA: 1:52 - loss: 1.5576 - acc: 0.688 - ETA: 1:46 - loss: 1.5578 - acc: 0.688 - ETA: 1:41 - loss: 1.5578 - acc: 0.688 - ETA: 1:36 - loss: 1.5582 - acc: 0.688 - ETA: 1:30 - loss: 1.5584 - acc: 0.688 - ETA: 1:25 - loss: 1.5585 - acc: 0.688 - ETA: 1:20 - loss: 1.5587 - acc: 0.688 - ETA: 1:14 - loss: 1.5589 - acc: 0.688 - ETA: 1:09 - loss: 1.5585 - acc: 0.688 - ETA: 1:04 - loss: 1.5588 - acc: 0.688 - ETA: 58s - loss: 1.5589 - acc: 0.688 - ETA: 53s - loss: 1.5591 - acc: 0.68 - ETA: 48s - loss: 1.5587 - acc: 0.68 - ETA: 42s - loss: 1.5589 - acc: 0.68 - ETA: 37s - loss: 1.5591 - acc: 0.68 - ETA: 32s - loss: 1.5595 - acc: 0.68 - ETA: 26s - loss: 1.5596 - acc: 0.68 - ETA: 21s - loss: 1.5599 - acc: 0.68 - ETA: 16s - loss: 1.5607 - acc: 0.68 - ETA: 10s - loss: 1.5610 - acc: 0.68 - ETA: 5s - loss: 1.5612 - acc: 0.6881 - ETA: 0s - loss: 1.5613 - acc: 0.688 - 1765s 42ms/sample - loss: 1.5612 - acc: 0.6881\n",
      "Epoch 26/30\n"
     ]
    },
    {
     "name": "stdout",
     "output_type": "stream",
     "text": [
      "26112/42374 [=================>............] - ETA: 30:17 - loss: 1.4258 - acc: 0.70 - ETA: 29:34 - loss: 1.4623 - acc: 0.70 - ETA: 29:15 - loss: 1.4791 - acc: 0.70 - ETA: 29:06 - loss: 1.5003 - acc: 0.70 - ETA: 29:02 - loss: 1.5054 - acc: 0.69 - ETA: 28:50 - loss: 1.5303 - acc: 0.69 - ETA: 28:42 - loss: 1.5189 - acc: 0.69 - ETA: 28:36 - loss: 1.5088 - acc: 0.69 - ETA: 28:29 - loss: 1.5001 - acc: 0.69 - ETA: 28:21 - loss: 1.4985 - acc: 0.69 - ETA: 28:18 - loss: 1.4905 - acc: 0.69 - ETA: 28:13 - loss: 1.4915 - acc: 0.69 - ETA: 28:06 - loss: 1.4933 - acc: 0.69 - ETA: 28:01 - loss: 1.4860 - acc: 0.69 - ETA: 27:56 - loss: 1.4839 - acc: 0.69 - ETA: 27:49 - loss: 1.4846 - acc: 0.69 - ETA: 27:44 - loss: 1.4831 - acc: 0.69 - ETA: 27:37 - loss: 1.4859 - acc: 0.69 - ETA: 27:33 - loss: 1.4831 - acc: 0.69 - ETA: 27:27 - loss: 1.4835 - acc: 0.69 - ETA: 27:20 - loss: 1.4874 - acc: 0.69 - ETA: 27:14 - loss: 1.4802 - acc: 0.69 - ETA: 27:10 - loss: 1.4795 - acc: 0.69 - ETA: 27:05 - loss: 1.4770 - acc: 0.69 - ETA: 27:00 - loss: 1.4775 - acc: 0.69 - ETA: 26:55 - loss: 1.4803 - acc: 0.69 - ETA: 26:49 - loss: 1.4811 - acc: 0.69 - ETA: 26:43 - loss: 1.4836 - acc: 0.69 - ETA: 26:38 - loss: 1.4846 - acc: 0.69 - ETA: 26:33 - loss: 1.4879 - acc: 0.69 - ETA: 26:27 - loss: 1.4866 - acc: 0.69 - ETA: 26:22 - loss: 1.4855 - acc: 0.69 - ETA: 26:17 - loss: 1.4889 - acc: 0.69 - ETA: 26:11 - loss: 1.4917 - acc: 0.69 - ETA: 26:07 - loss: 1.4894 - acc: 0.69 - ETA: 26:01 - loss: 1.4868 - acc: 0.69 - ETA: 25:56 - loss: 1.4850 - acc: 0.69 - ETA: 25:51 - loss: 1.4828 - acc: 0.69 - ETA: 25:46 - loss: 1.4837 - acc: 0.69 - ETA: 25:42 - loss: 1.4857 - acc: 0.69 - ETA: 25:36 - loss: 1.4878 - acc: 0.69 - ETA: 25:31 - loss: 1.4847 - acc: 0.69 - ETA: 25:25 - loss: 1.4841 - acc: 0.69 - ETA: 25:21 - loss: 1.4835 - acc: 0.69 - ETA: 25:15 - loss: 1.4826 - acc: 0.69 - ETA: 25:10 - loss: 1.4838 - acc: 0.69 - ETA: 25:05 - loss: 1.4844 - acc: 0.69 - ETA: 25:00 - loss: 1.4824 - acc: 0.69 - ETA: 24:55 - loss: 1.4824 - acc: 0.69 - ETA: 24:50 - loss: 1.4834 - acc: 0.69 - ETA: 24:44 - loss: 1.4865 - acc: 0.69 - ETA: 24:38 - loss: 1.4874 - acc: 0.69 - ETA: 24:33 - loss: 1.4869 - acc: 0.69 - ETA: 24:28 - loss: 1.4872 - acc: 0.69 - ETA: 24:22 - loss: 1.4858 - acc: 0.69 - ETA: 24:18 - loss: 1.4865 - acc: 0.69 - ETA: 24:13 - loss: 1.4879 - acc: 0.69 - ETA: 24:08 - loss: 1.4875 - acc: 0.69 - ETA: 24:03 - loss: 1.4890 - acc: 0.69 - ETA: 23:58 - loss: 1.4875 - acc: 0.69 - ETA: 23:52 - loss: 1.4881 - acc: 0.69 - ETA: 23:47 - loss: 1.4896 - acc: 0.69 - ETA: 23:42 - loss: 1.4906 - acc: 0.69 - ETA: 23:37 - loss: 1.4904 - acc: 0.69 - ETA: 23:32 - loss: 1.4901 - acc: 0.69 - ETA: 23:26 - loss: 1.4912 - acc: 0.69 - ETA: 23:21 - loss: 1.4915 - acc: 0.69 - ETA: 23:16 - loss: 1.4917 - acc: 0.69 - ETA: 23:11 - loss: 1.4913 - acc: 0.69 - ETA: 23:05 - loss: 1.4906 - acc: 0.69 - ETA: 23:00 - loss: 1.4915 - acc: 0.69 - ETA: 22:55 - loss: 1.4914 - acc: 0.69 - ETA: 22:49 - loss: 1.4910 - acc: 0.69 - ETA: 22:44 - loss: 1.4919 - acc: 0.69 - ETA: 22:39 - loss: 1.4921 - acc: 0.69 - ETA: 22:33 - loss: 1.4921 - acc: 0.69 - ETA: 22:28 - loss: 1.4945 - acc: 0.69 - ETA: 22:23 - loss: 1.4946 - acc: 0.69 - ETA: 22:17 - loss: 1.4964 - acc: 0.69 - ETA: 22:12 - loss: 1.4977 - acc: 0.69 - ETA: 22:07 - loss: 1.4982 - acc: 0.69 - ETA: 22:01 - loss: 1.4978 - acc: 0.69 - ETA: 21:57 - loss: 1.4979 - acc: 0.69 - ETA: 21:51 - loss: 1.4970 - acc: 0.69 - ETA: 21:46 - loss: 1.4981 - acc: 0.69 - ETA: 21:41 - loss: 1.4979 - acc: 0.69 - ETA: 21:35 - loss: 1.4978 - acc: 0.69 - ETA: 21:30 - loss: 1.4984 - acc: 0.69 - ETA: 21:25 - loss: 1.4975 - acc: 0.69 - ETA: 21:19 - loss: 1.4988 - acc: 0.69 - ETA: 21:14 - loss: 1.4989 - acc: 0.69 - ETA: 21:09 - loss: 1.4985 - acc: 0.69 - ETA: 21:04 - loss: 1.4983 - acc: 0.69 - ETA: 20:58 - loss: 1.4970 - acc: 0.69 - ETA: 20:53 - loss: 1.4965 - acc: 0.69 - ETA: 20:48 - loss: 1.4977 - acc: 0.69 - ETA: 20:42 - loss: 1.4976 - acc: 0.69 - ETA: 20:38 - loss: 1.4970 - acc: 0.69 - ETA: 20:32 - loss: 1.4970 - acc: 0.69 - ETA: 20:27 - loss: 1.4979 - acc: 0.69 - ETA: 20:22 - loss: 1.4985 - acc: 0.69 - ETA: 20:16 - loss: 1.4987 - acc: 0.69 - ETA: 20:11 - loss: 1.4981 - acc: 0.69 - ETA: 20:06 - loss: 1.4974 - acc: 0.69 - ETA: 20:01 - loss: 1.4970 - acc: 0.69 - ETA: 19:55 - loss: 1.4969 - acc: 0.69 - ETA: 19:50 - loss: 1.4972 - acc: 0.69 - ETA: 19:45 - loss: 1.4975 - acc: 0.69 - ETA: 19:39 - loss: 1.4977 - acc: 0.69 - ETA: 19:34 - loss: 1.4986 - acc: 0.69 - ETA: 19:29 - loss: 1.4994 - acc: 0.69 - ETA: 19:24 - loss: 1.5002 - acc: 0.69 - ETA: 19:19 - loss: 1.5003 - acc: 0.69 - ETA: 19:14 - loss: 1.4994 - acc: 0.69 - ETA: 19:08 - loss: 1.4991 - acc: 0.69 - ETA: 19:03 - loss: 1.4993 - acc: 0.69 - ETA: 18:58 - loss: 1.5001 - acc: 0.69 - ETA: 18:53 - loss: 1.5010 - acc: 0.69 - ETA: 18:47 - loss: 1.5012 - acc: 0.69 - ETA: 18:42 - loss: 1.5004 - acc: 0.69 - ETA: 18:37 - loss: 1.5002 - acc: 0.69 - ETA: 18:32 - loss: 1.5004 - acc: 0.69 - ETA: 18:26 - loss: 1.5012 - acc: 0.69 - ETA: 18:21 - loss: 1.5018 - acc: 0.69 - ETA: 18:16 - loss: 1.5016 - acc: 0.69 - ETA: 18:10 - loss: 1.5015 - acc: 0.69 - ETA: 18:05 - loss: 1.5016 - acc: 0.69 - ETA: 18:00 - loss: 1.5023 - acc: 0.69 - ETA: 17:54 - loss: 1.5025 - acc: 0.69 - ETA: 17:49 - loss: 1.5026 - acc: 0.69 - ETA: 17:44 - loss: 1.5026 - acc: 0.69 - ETA: 17:38 - loss: 1.5032 - acc: 0.69 - ETA: 17:33 - loss: 1.5029 - acc: 0.69 - ETA: 17:28 - loss: 1.5026 - acc: 0.69 - ETA: 17:22 - loss: 1.5041 - acc: 0.69 - ETA: 17:17 - loss: 1.5047 - acc: 0.69 - ETA: 17:12 - loss: 1.5047 - acc: 0.69 - ETA: 17:06 - loss: 1.5060 - acc: 0.69 - ETA: 17:01 - loss: 1.5061 - acc: 0.69 - ETA: 16:56 - loss: 1.5063 - acc: 0.69 - ETA: 16:50 - loss: 1.5061 - acc: 0.69 - ETA: 16:45 - loss: 1.5066 - acc: 0.69 - ETA: 16:40 - loss: 1.5065 - acc: 0.69 - ETA: 16:34 - loss: 1.5063 - acc: 0.69 - ETA: 16:29 - loss: 1.5066 - acc: 0.69 - ETA: 16:24 - loss: 1.5069 - acc: 0.69 - ETA: 16:18 - loss: 1.5059 - acc: 0.69 - ETA: 16:13 - loss: 1.5055 - acc: 0.69 - ETA: 16:08 - loss: 1.5064 - acc: 0.69 - ETA: 16:02 - loss: 1.5075 - acc: 0.69 - ETA: 15:57 - loss: 1.5066 - acc: 0.69 - ETA: 15:52 - loss: 1.5072 - acc: 0.69 - ETA: 15:47 - loss: 1.5072 - acc: 0.69 - ETA: 15:41 - loss: 1.5073 - acc: 0.69 - ETA: 15:36 - loss: 1.5076 - acc: 0.69 - ETA: 15:31 - loss: 1.5077 - acc: 0.69 - ETA: 15:25 - loss: 1.5079 - acc: 0.69 - ETA: 15:20 - loss: 1.5079 - acc: 0.69 - ETA: 15:15 - loss: 1.5085 - acc: 0.69 - ETA: 15:09 - loss: 1.5087 - acc: 0.69 - ETA: 15:04 - loss: 1.5091 - acc: 0.69 - ETA: 14:59 - loss: 1.5099 - acc: 0.69 - ETA: 14:53 - loss: 1.5107 - acc: 0.69 - ETA: 14:48 - loss: 1.5109 - acc: 0.69 - ETA: 14:43 - loss: 1.5117 - acc: 0.69 - ETA: 14:38 - loss: 1.5126 - acc: 0.69 - ETA: 14:32 - loss: 1.5130 - acc: 0.69 - ETA: 14:27 - loss: 1.5133 - acc: 0.69 - ETA: 14:22 - loss: 1.5131 - acc: 0.69 - ETA: 14:16 - loss: 1.5137 - acc: 0.69 - ETA: 14:11 - loss: 1.5136 - acc: 0.69 - ETA: 14:06 - loss: 1.5136 - acc: 0.69 - ETA: 14:00 - loss: 1.5142 - acc: 0.69 - ETA: 13:55 - loss: 1.5147 - acc: 0.69 - ETA: 13:50 - loss: 1.5148 - acc: 0.69 - ETA: 13:45 - loss: 1.5151 - acc: 0.69 - ETA: 13:39 - loss: 1.5150 - acc: 0.69 - ETA: 13:34 - loss: 1.5151 - acc: 0.69 - ETA: 13:29 - loss: 1.5148 - acc: 0.69 - ETA: 13:23 - loss: 1.5157 - acc: 0.69 - ETA: 13:18 - loss: 1.5163 - acc: 0.69 - ETA: 13:13 - loss: 1.5169 - acc: 0.69 - ETA: 13:08 - loss: 1.5172 - acc: 0.69 - ETA: 13:02 - loss: 1.5179 - acc: 0.69 - ETA: 12:57 - loss: 1.5188 - acc: 0.69 - ETA: 12:52 - loss: 1.5195 - acc: 0.69 - ETA: 12:47 - loss: 1.5198 - acc: 0.69 - ETA: 12:41 - loss: 1.5203 - acc: 0.69 - ETA: 12:36 - loss: 1.5205 - acc: 0.69 - ETA: 12:31 - loss: 1.5207 - acc: 0.69 - ETA: 12:25 - loss: 1.5208 - acc: 0.69 - ETA: 12:20 - loss: 1.5207 - acc: 0.69 - ETA: 12:15 - loss: 1.5208 - acc: 0.69 - ETA: 12:10 - loss: 1.5201 - acc: 0.69 - ETA: 12:04 - loss: 1.5208 - acc: 0.69 - ETA: 11:59 - loss: 1.5207 - acc: 0.69 - ETA: 11:54 - loss: 1.5206 - acc: 0.69 - ETA: 11:48 - loss: 1.5207 - acc: 0.69 - ETA: 11:43 - loss: 1.5212 - acc: 0.69 - ETA: 11:38 - loss: 1.5217 - acc: 0.69 - ETA: 11:32 - loss: 1.5222 - acc: 0.69 - ETA: 11:27 - loss: 1.5220 - acc: 0.69 - ETA: 11:22 - loss: 1.5220 - acc: 0.69 - ETA: 11:16 - loss: 1.5220 - acc: 0.6927"
     ]
    },
    {
     "name": "stdout",
     "output_type": "stream",
     "text": [
      "42374/42374 [==============================] - ETA: 11:11 - loss: 1.5219 - acc: 0.69 - ETA: 11:06 - loss: 1.5223 - acc: 0.69 - ETA: 11:01 - loss: 1.5222 - acc: 0.69 - ETA: 10:55 - loss: 1.5222 - acc: 0.69 - ETA: 10:50 - loss: 1.5229 - acc: 0.69 - ETA: 10:45 - loss: 1.5228 - acc: 0.69 - ETA: 10:39 - loss: 1.5233 - acc: 0.69 - ETA: 10:34 - loss: 1.5236 - acc: 0.69 - ETA: 10:29 - loss: 1.5236 - acc: 0.69 - ETA: 10:23 - loss: 1.5237 - acc: 0.69 - ETA: 10:18 - loss: 1.5232 - acc: 0.69 - ETA: 10:13 - loss: 1.5225 - acc: 0.69 - ETA: 10:07 - loss: 1.5230 - acc: 0.69 - ETA: 10:02 - loss: 1.5227 - acc: 0.69 - ETA: 9:57 - loss: 1.5228 - acc: 0.6925 - ETA: 9:51 - loss: 1.5234 - acc: 0.692 - ETA: 9:46 - loss: 1.5241 - acc: 0.692 - ETA: 9:41 - loss: 1.5243 - acc: 0.692 - ETA: 9:35 - loss: 1.5251 - acc: 0.692 - ETA: 9:30 - loss: 1.5251 - acc: 0.692 - ETA: 9:25 - loss: 1.5250 - acc: 0.692 - ETA: 9:19 - loss: 1.5247 - acc: 0.692 - ETA: 9:14 - loss: 1.5249 - acc: 0.692 - ETA: 9:09 - loss: 1.5247 - acc: 0.692 - ETA: 9:03 - loss: 1.5243 - acc: 0.692 - ETA: 8:58 - loss: 1.5243 - acc: 0.692 - ETA: 8:53 - loss: 1.5240 - acc: 0.692 - ETA: 8:48 - loss: 1.5243 - acc: 0.692 - ETA: 8:42 - loss: 1.5249 - acc: 0.692 - ETA: 8:37 - loss: 1.5248 - acc: 0.692 - ETA: 8:32 - loss: 1.5254 - acc: 0.692 - ETA: 8:26 - loss: 1.5254 - acc: 0.692 - ETA: 8:21 - loss: 1.5254 - acc: 0.692 - ETA: 8:16 - loss: 1.5253 - acc: 0.692 - ETA: 8:10 - loss: 1.5262 - acc: 0.692 - ETA: 8:05 - loss: 1.5265 - acc: 0.692 - ETA: 8:00 - loss: 1.5263 - acc: 0.692 - ETA: 7:54 - loss: 1.5265 - acc: 0.692 - ETA: 7:49 - loss: 1.5270 - acc: 0.692 - ETA: 7:44 - loss: 1.5271 - acc: 0.692 - ETA: 7:38 - loss: 1.5271 - acc: 0.692 - ETA: 7:33 - loss: 1.5275 - acc: 0.692 - ETA: 7:28 - loss: 1.5279 - acc: 0.691 - ETA: 7:22 - loss: 1.5277 - acc: 0.691 - ETA: 7:17 - loss: 1.5283 - acc: 0.691 - ETA: 7:12 - loss: 1.5285 - acc: 0.691 - ETA: 7:06 - loss: 1.5286 - acc: 0.691 - ETA: 7:01 - loss: 1.5285 - acc: 0.691 - ETA: 6:56 - loss: 1.5282 - acc: 0.691 - ETA: 6:50 - loss: 1.5283 - acc: 0.691 - ETA: 6:45 - loss: 1.5289 - acc: 0.691 - ETA: 6:40 - loss: 1.5297 - acc: 0.691 - ETA: 6:34 - loss: 1.5300 - acc: 0.691 - ETA: 6:29 - loss: 1.5302 - acc: 0.691 - ETA: 6:24 - loss: 1.5306 - acc: 0.691 - ETA: 6:18 - loss: 1.5308 - acc: 0.691 - ETA: 6:13 - loss: 1.5313 - acc: 0.691 - ETA: 6:08 - loss: 1.5313 - acc: 0.691 - ETA: 6:02 - loss: 1.5310 - acc: 0.691 - ETA: 5:57 - loss: 1.5312 - acc: 0.691 - ETA: 5:52 - loss: 1.5315 - acc: 0.691 - ETA: 5:46 - loss: 1.5312 - acc: 0.691 - ETA: 5:41 - loss: 1.5314 - acc: 0.691 - ETA: 5:36 - loss: 1.5314 - acc: 0.691 - ETA: 5:30 - loss: 1.5315 - acc: 0.691 - ETA: 5:25 - loss: 1.5314 - acc: 0.691 - ETA: 5:20 - loss: 1.5317 - acc: 0.691 - ETA: 5:14 - loss: 1.5316 - acc: 0.691 - ETA: 5:09 - loss: 1.5319 - acc: 0.691 - ETA: 5:04 - loss: 1.5318 - acc: 0.691 - ETA: 4:58 - loss: 1.5319 - acc: 0.691 - ETA: 4:53 - loss: 1.5319 - acc: 0.691 - ETA: 4:48 - loss: 1.5319 - acc: 0.691 - ETA: 4:42 - loss: 1.5322 - acc: 0.691 - ETA: 4:37 - loss: 1.5329 - acc: 0.691 - ETA: 4:32 - loss: 1.5331 - acc: 0.691 - ETA: 4:26 - loss: 1.5328 - acc: 0.691 - ETA: 4:21 - loss: 1.5330 - acc: 0.691 - ETA: 4:16 - loss: 1.5332 - acc: 0.691 - ETA: 4:10 - loss: 1.5334 - acc: 0.691 - ETA: 4:05 - loss: 1.5341 - acc: 0.691 - ETA: 4:00 - loss: 1.5346 - acc: 0.691 - ETA: 3:54 - loss: 1.5347 - acc: 0.691 - ETA: 3:49 - loss: 1.5347 - acc: 0.691 - ETA: 3:44 - loss: 1.5352 - acc: 0.691 - ETA: 3:38 - loss: 1.5355 - acc: 0.691 - ETA: 3:33 - loss: 1.5357 - acc: 0.691 - ETA: 3:28 - loss: 1.5358 - acc: 0.691 - ETA: 3:22 - loss: 1.5362 - acc: 0.691 - ETA: 3:17 - loss: 1.5364 - acc: 0.691 - ETA: 3:12 - loss: 1.5367 - acc: 0.691 - ETA: 3:06 - loss: 1.5365 - acc: 0.691 - ETA: 3:01 - loss: 1.5363 - acc: 0.691 - ETA: 2:56 - loss: 1.5362 - acc: 0.691 - ETA: 2:50 - loss: 1.5365 - acc: 0.691 - ETA: 2:45 - loss: 1.5368 - acc: 0.691 - ETA: 2:40 - loss: 1.5366 - acc: 0.691 - ETA: 2:34 - loss: 1.5367 - acc: 0.691 - ETA: 2:29 - loss: 1.5371 - acc: 0.691 - ETA: 2:24 - loss: 1.5373 - acc: 0.691 - ETA: 2:18 - loss: 1.5372 - acc: 0.691 - ETA: 2:13 - loss: 1.5377 - acc: 0.691 - ETA: 2:08 - loss: 1.5376 - acc: 0.690 - ETA: 2:02 - loss: 1.5377 - acc: 0.690 - ETA: 1:57 - loss: 1.5378 - acc: 0.690 - ETA: 1:52 - loss: 1.5379 - acc: 0.690 - ETA: 1:46 - loss: 1.5382 - acc: 0.690 - ETA: 1:41 - loss: 1.5384 - acc: 0.690 - ETA: 1:36 - loss: 1.5387 - acc: 0.690 - ETA: 1:30 - loss: 1.5388 - acc: 0.690 - ETA: 1:25 - loss: 1.5389 - acc: 0.690 - ETA: 1:20 - loss: 1.5392 - acc: 0.690 - ETA: 1:14 - loss: 1.5389 - acc: 0.690 - ETA: 1:09 - loss: 1.5392 - acc: 0.690 - ETA: 1:04 - loss: 1.5392 - acc: 0.690 - ETA: 58s - loss: 1.5392 - acc: 0.690 - ETA: 53s - loss: 1.5394 - acc: 0.69 - ETA: 48s - loss: 1.5397 - acc: 0.69 - ETA: 42s - loss: 1.5402 - acc: 0.69 - ETA: 37s - loss: 1.5405 - acc: 0.69 - ETA: 32s - loss: 1.5407 - acc: 0.69 - ETA: 26s - loss: 1.5410 - acc: 0.69 - ETA: 21s - loss: 1.5412 - acc: 0.69 - ETA: 16s - loss: 1.5411 - acc: 0.69 - ETA: 10s - loss: 1.5416 - acc: 0.69 - ETA: 5s - loss: 1.5418 - acc: 0.6904 - ETA: 0s - loss: 1.5423 - acc: 0.690 - 1769s 42ms/sample - loss: 1.5424 - acc: 0.6903\n",
      "Epoch 27/30\n"
     ]
    },
    {
     "name": "stdout",
     "output_type": "stream",
     "text": [
      "26112/42374 [=================>............] - ETA: 29:54 - loss: 1.5499 - acc: 0.66 - ETA: 29:37 - loss: 1.4925 - acc: 0.67 - ETA: 29:37 - loss: 1.5054 - acc: 0.67 - ETA: 29:19 - loss: 1.4928 - acc: 0.68 - ETA: 29:04 - loss: 1.4834 - acc: 0.68 - ETA: 29:01 - loss: 1.4646 - acc: 0.69 - ETA: 28:56 - loss: 1.4514 - acc: 0.69 - ETA: 28:51 - loss: 1.4649 - acc: 0.69 - ETA: 28:48 - loss: 1.4578 - acc: 0.69 - ETA: 28:42 - loss: 1.4571 - acc: 0.69 - ETA: 28:35 - loss: 1.4507 - acc: 0.70 - ETA: 28:28 - loss: 1.4456 - acc: 0.70 - ETA: 28:23 - loss: 1.4494 - acc: 0.70 - ETA: 28:15 - loss: 1.4528 - acc: 0.70 - ETA: 28:11 - loss: 1.4482 - acc: 0.70 - ETA: 28:05 - loss: 1.4406 - acc: 0.70 - ETA: 28:00 - loss: 1.4414 - acc: 0.70 - ETA: 27:54 - loss: 1.4435 - acc: 0.70 - ETA: 27:47 - loss: 1.4412 - acc: 0.70 - ETA: 27:42 - loss: 1.4399 - acc: 0.70 - ETA: 27:38 - loss: 1.4351 - acc: 0.70 - ETA: 27:32 - loss: 1.4363 - acc: 0.70 - ETA: 27:26 - loss: 1.4365 - acc: 0.70 - ETA: 27:20 - loss: 1.4409 - acc: 0.70 - ETA: 27:17 - loss: 1.4429 - acc: 0.70 - ETA: 27:11 - loss: 1.4414 - acc: 0.70 - ETA: 27:05 - loss: 1.4409 - acc: 0.70 - ETA: 26:58 - loss: 1.4450 - acc: 0.70 - ETA: 26:52 - loss: 1.4475 - acc: 0.70 - ETA: 26:47 - loss: 1.4537 - acc: 0.70 - ETA: 26:42 - loss: 1.4529 - acc: 0.70 - ETA: 26:36 - loss: 1.4515 - acc: 0.70 - ETA: 26:31 - loss: 1.4525 - acc: 0.70 - ETA: 26:27 - loss: 1.4531 - acc: 0.70 - ETA: 26:28 - loss: 1.4537 - acc: 0.70 - ETA: 26:29 - loss: 1.4567 - acc: 0.70 - ETA: 26:24 - loss: 1.4588 - acc: 0.70 - ETA: 26:18 - loss: 1.4578 - acc: 0.70 - ETA: 26:12 - loss: 1.4590 - acc: 0.70 - ETA: 26:08 - loss: 1.4571 - acc: 0.70 - ETA: 26:02 - loss: 1.4546 - acc: 0.70 - ETA: 25:57 - loss: 1.4561 - acc: 0.70 - ETA: 25:50 - loss: 1.4592 - acc: 0.70 - ETA: 25:45 - loss: 1.4598 - acc: 0.70 - ETA: 25:40 - loss: 1.4611 - acc: 0.70 - ETA: 25:34 - loss: 1.4637 - acc: 0.70 - ETA: 25:35 - loss: 1.4627 - acc: 0.70 - ETA: 25:30 - loss: 1.4627 - acc: 0.70 - ETA: 25:41 - loss: 1.4639 - acc: 0.70 - ETA: 25:45 - loss: 1.4678 - acc: 0.70 - ETA: 25:41 - loss: 1.4673 - acc: 0.70 - ETA: 25:47 - loss: 1.4672 - acc: 0.70 - ETA: 25:42 - loss: 1.4698 - acc: 0.69 - ETA: 25:38 - loss: 1.4693 - acc: 0.70 - ETA: 25:32 - loss: 1.4685 - acc: 0.70 - ETA: 25:25 - loss: 1.4676 - acc: 0.70 - ETA: 25:18 - loss: 1.4659 - acc: 0.70 - ETA: 25:12 - loss: 1.4664 - acc: 0.70 - ETA: 25:05 - loss: 1.4688 - acc: 0.70 - ETA: 24:59 - loss: 1.4703 - acc: 0.70 - ETA: 24:53 - loss: 1.4703 - acc: 0.70 - ETA: 24:47 - loss: 1.4709 - acc: 0.70 - ETA: 24:40 - loss: 1.4715 - acc: 0.70 - ETA: 24:34 - loss: 1.4709 - acc: 0.70 - ETA: 24:28 - loss: 1.4702 - acc: 0.70 - ETA: 24:22 - loss: 1.4699 - acc: 0.70 - ETA: 24:16 - loss: 1.4711 - acc: 0.70 - ETA: 24:10 - loss: 1.4707 - acc: 0.70 - ETA: 24:03 - loss: 1.4713 - acc: 0.70 - ETA: 23:57 - loss: 1.4742 - acc: 0.70 - ETA: 23:51 - loss: 1.4742 - acc: 0.70 - ETA: 23:45 - loss: 1.4756 - acc: 0.69 - ETA: 23:39 - loss: 1.4764 - acc: 0.69 - ETA: 23:33 - loss: 1.4761 - acc: 0.69 - ETA: 23:27 - loss: 1.4763 - acc: 0.69 - ETA: 23:21 - loss: 1.4771 - acc: 0.69 - ETA: 23:18 - loss: 1.4775 - acc: 0.69 - ETA: 23:18 - loss: 1.4780 - acc: 0.69 - ETA: 23:12 - loss: 1.4780 - acc: 0.69 - ETA: 23:06 - loss: 1.4787 - acc: 0.69 - ETA: 23:01 - loss: 1.4780 - acc: 0.69 - ETA: 22:55 - loss: 1.4781 - acc: 0.69 - ETA: 22:49 - loss: 1.4779 - acc: 0.69 - ETA: 22:43 - loss: 1.4772 - acc: 0.69 - ETA: 22:37 - loss: 1.4777 - acc: 0.69 - ETA: 22:31 - loss: 1.4780 - acc: 0.69 - ETA: 22:25 - loss: 1.4796 - acc: 0.69 - ETA: 22:19 - loss: 1.4805 - acc: 0.69 - ETA: 22:13 - loss: 1.4801 - acc: 0.69 - ETA: 22:08 - loss: 1.4798 - acc: 0.69 - ETA: 22:02 - loss: 1.4801 - acc: 0.69 - ETA: 21:56 - loss: 1.4807 - acc: 0.69 - ETA: 21:50 - loss: 1.4821 - acc: 0.69 - ETA: 21:44 - loss: 1.4821 - acc: 0.69 - ETA: 21:38 - loss: 1.4831 - acc: 0.69 - ETA: 21:32 - loss: 1.4836 - acc: 0.69 - ETA: 21:26 - loss: 1.4857 - acc: 0.69 - ETA: 21:20 - loss: 1.4855 - acc: 0.69 - ETA: 21:15 - loss: 1.4870 - acc: 0.69 - ETA: 21:09 - loss: 1.4868 - acc: 0.69 - ETA: 21:03 - loss: 1.4870 - acc: 0.69 - ETA: 20:57 - loss: 1.4868 - acc: 0.69 - ETA: 20:51 - loss: 1.4867 - acc: 0.69 - ETA: 20:46 - loss: 1.4883 - acc: 0.69 - ETA: 20:40 - loss: 1.4880 - acc: 0.69 - ETA: 20:34 - loss: 1.4883 - acc: 0.69 - ETA: 20:28 - loss: 1.4887 - acc: 0.69 - ETA: 20:23 - loss: 1.4892 - acc: 0.69 - ETA: 20:17 - loss: 1.4889 - acc: 0.69 - ETA: 20:11 - loss: 1.4903 - acc: 0.69 - ETA: 20:06 - loss: 1.4902 - acc: 0.69 - ETA: 20:00 - loss: 1.4910 - acc: 0.69 - ETA: 19:54 - loss: 1.4910 - acc: 0.69 - ETA: 19:48 - loss: 1.4914 - acc: 0.69 - ETA: 19:42 - loss: 1.4924 - acc: 0.69 - ETA: 19:37 - loss: 1.4939 - acc: 0.69 - ETA: 19:31 - loss: 1.4938 - acc: 0.69 - ETA: 19:25 - loss: 1.4936 - acc: 0.69 - ETA: 19:20 - loss: 1.4939 - acc: 0.69 - ETA: 19:14 - loss: 1.4946 - acc: 0.69 - ETA: 19:08 - loss: 1.4961 - acc: 0.69 - ETA: 19:03 - loss: 1.4965 - acc: 0.69 - ETA: 18:57 - loss: 1.4965 - acc: 0.69 - ETA: 18:52 - loss: 1.4966 - acc: 0.69 - ETA: 18:46 - loss: 1.4975 - acc: 0.69 - ETA: 18:40 - loss: 1.4981 - acc: 0.69 - ETA: 18:35 - loss: 1.4980 - acc: 0.69 - ETA: 18:29 - loss: 1.4988 - acc: 0.69 - ETA: 18:23 - loss: 1.4990 - acc: 0.69 - ETA: 18:18 - loss: 1.4994 - acc: 0.69 - ETA: 18:12 - loss: 1.4992 - acc: 0.69 - ETA: 18:06 - loss: 1.4999 - acc: 0.69 - ETA: 18:01 - loss: 1.5008 - acc: 0.69 - ETA: 17:55 - loss: 1.5016 - acc: 0.69 - ETA: 17:49 - loss: 1.5022 - acc: 0.69 - ETA: 17:44 - loss: 1.5021 - acc: 0.69 - ETA: 17:38 - loss: 1.5013 - acc: 0.69 - ETA: 17:32 - loss: 1.5014 - acc: 0.69 - ETA: 17:27 - loss: 1.5006 - acc: 0.69 - ETA: 17:21 - loss: 1.5008 - acc: 0.69 - ETA: 17:15 - loss: 1.5010 - acc: 0.69 - ETA: 17:10 - loss: 1.5003 - acc: 0.69 - ETA: 17:04 - loss: 1.5005 - acc: 0.69 - ETA: 16:59 - loss: 1.5000 - acc: 0.69 - ETA: 16:53 - loss: 1.5005 - acc: 0.69 - ETA: 16:47 - loss: 1.5003 - acc: 0.69 - ETA: 16:42 - loss: 1.5010 - acc: 0.69 - ETA: 16:36 - loss: 1.5015 - acc: 0.69 - ETA: 16:31 - loss: 1.5021 - acc: 0.69 - ETA: 16:25 - loss: 1.5011 - acc: 0.69 - ETA: 16:19 - loss: 1.5016 - acc: 0.69 - ETA: 16:14 - loss: 1.5013 - acc: 0.69 - ETA: 16:08 - loss: 1.5010 - acc: 0.69 - ETA: 16:03 - loss: 1.5008 - acc: 0.69 - ETA: 15:57 - loss: 1.5011 - acc: 0.69 - ETA: 15:52 - loss: 1.5009 - acc: 0.69 - ETA: 15:46 - loss: 1.5015 - acc: 0.69 - ETA: 15:41 - loss: 1.5006 - acc: 0.69 - ETA: 15:35 - loss: 1.5008 - acc: 0.69 - ETA: 15:29 - loss: 1.5009 - acc: 0.69 - ETA: 15:24 - loss: 1.5018 - acc: 0.69 - ETA: 15:18 - loss: 1.5024 - acc: 0.69 - ETA: 15:13 - loss: 1.5023 - acc: 0.69 - ETA: 15:07 - loss: 1.5031 - acc: 0.69 - ETA: 15:02 - loss: 1.5038 - acc: 0.69 - ETA: 14:56 - loss: 1.5040 - acc: 0.69 - ETA: 14:51 - loss: 1.5044 - acc: 0.69 - ETA: 14:45 - loss: 1.5041 - acc: 0.69 - ETA: 14:40 - loss: 1.5036 - acc: 0.69 - ETA: 14:34 - loss: 1.5042 - acc: 0.69 - ETA: 14:28 - loss: 1.5043 - acc: 0.69 - ETA: 14:23 - loss: 1.5047 - acc: 0.69 - ETA: 14:17 - loss: 1.5046 - acc: 0.69 - ETA: 14:12 - loss: 1.5044 - acc: 0.69 - ETA: 14:06 - loss: 1.5051 - acc: 0.69 - ETA: 14:01 - loss: 1.5053 - acc: 0.69 - ETA: 13:55 - loss: 1.5051 - acc: 0.69 - ETA: 13:50 - loss: 1.5056 - acc: 0.69 - ETA: 13:44 - loss: 1.5057 - acc: 0.69 - ETA: 13:39 - loss: 1.5057 - acc: 0.69 - ETA: 13:33 - loss: 1.5058 - acc: 0.69 - ETA: 13:28 - loss: 1.5059 - acc: 0.69 - ETA: 13:22 - loss: 1.5054 - acc: 0.69 - ETA: 13:17 - loss: 1.5059 - acc: 0.69 - ETA: 13:11 - loss: 1.5062 - acc: 0.69 - ETA: 13:06 - loss: 1.5057 - acc: 0.69 - ETA: 13:00 - loss: 1.5053 - acc: 0.69 - ETA: 12:55 - loss: 1.5056 - acc: 0.69 - ETA: 12:49 - loss: 1.5056 - acc: 0.69 - ETA: 12:44 - loss: 1.5062 - acc: 0.69 - ETA: 12:38 - loss: 1.5066 - acc: 0.69 - ETA: 12:33 - loss: 1.5065 - acc: 0.69 - ETA: 12:27 - loss: 1.5063 - acc: 0.69 - ETA: 12:22 - loss: 1.5063 - acc: 0.69 - ETA: 12:16 - loss: 1.5069 - acc: 0.69 - ETA: 12:11 - loss: 1.5079 - acc: 0.69 - ETA: 12:05 - loss: 1.5081 - acc: 0.69 - ETA: 12:00 - loss: 1.5080 - acc: 0.69 - ETA: 11:54 - loss: 1.5081 - acc: 0.69 - ETA: 11:49 - loss: 1.5078 - acc: 0.69 - ETA: 11:43 - loss: 1.5082 - acc: 0.69 - ETA: 11:38 - loss: 1.5087 - acc: 0.69 - ETA: 11:33 - loss: 1.5084 - acc: 0.69 - ETA: 11:27 - loss: 1.5086 - acc: 0.6941"
     ]
    },
    {
     "name": "stdout",
     "output_type": "stream",
     "text": [
      "42374/42374 [==============================] - ETA: 11:22 - loss: 1.5083 - acc: 0.69 - ETA: 11:16 - loss: 1.5083 - acc: 0.69 - ETA: 11:11 - loss: 1.5092 - acc: 0.69 - ETA: 11:05 - loss: 1.5091 - acc: 0.69 - ETA: 11:00 - loss: 1.5093 - acc: 0.69 - ETA: 10:54 - loss: 1.5097 - acc: 0.69 - ETA: 10:49 - loss: 1.5100 - acc: 0.69 - ETA: 10:43 - loss: 1.5106 - acc: 0.69 - ETA: 10:38 - loss: 1.5108 - acc: 0.69 - ETA: 10:33 - loss: 1.5112 - acc: 0.69 - ETA: 10:27 - loss: 1.5112 - acc: 0.69 - ETA: 10:22 - loss: 1.5106 - acc: 0.69 - ETA: 10:16 - loss: 1.5099 - acc: 0.69 - ETA: 10:11 - loss: 1.5100 - acc: 0.69 - ETA: 10:05 - loss: 1.5104 - acc: 0.69 - ETA: 10:00 - loss: 1.5107 - acc: 0.69 - ETA: 9:54 - loss: 1.5116 - acc: 0.6937 - ETA: 9:49 - loss: 1.5125 - acc: 0.693 - ETA: 9:43 - loss: 1.5124 - acc: 0.693 - ETA: 9:38 - loss: 1.5126 - acc: 0.693 - ETA: 9:33 - loss: 1.5122 - acc: 0.693 - ETA: 9:27 - loss: 1.5120 - acc: 0.693 - ETA: 9:22 - loss: 1.5124 - acc: 0.693 - ETA: 9:16 - loss: 1.5125 - acc: 0.693 - ETA: 9:11 - loss: 1.5127 - acc: 0.693 - ETA: 9:05 - loss: 1.5131 - acc: 0.693 - ETA: 9:00 - loss: 1.5128 - acc: 0.693 - ETA: 8:55 - loss: 1.5127 - acc: 0.693 - ETA: 8:49 - loss: 1.5126 - acc: 0.693 - ETA: 8:44 - loss: 1.5131 - acc: 0.693 - ETA: 8:38 - loss: 1.5132 - acc: 0.693 - ETA: 8:33 - loss: 1.5128 - acc: 0.693 - ETA: 8:27 - loss: 1.5126 - acc: 0.693 - ETA: 8:22 - loss: 1.5128 - acc: 0.693 - ETA: 8:17 - loss: 1.5126 - acc: 0.693 - ETA: 8:11 - loss: 1.5127 - acc: 0.693 - ETA: 8:06 - loss: 1.5130 - acc: 0.693 - ETA: 8:00 - loss: 1.5129 - acc: 0.693 - ETA: 7:55 - loss: 1.5128 - acc: 0.693 - ETA: 7:50 - loss: 1.5130 - acc: 0.693 - ETA: 7:44 - loss: 1.5128 - acc: 0.694 - ETA: 7:39 - loss: 1.5125 - acc: 0.694 - ETA: 7:33 - loss: 1.5126 - acc: 0.694 - ETA: 7:28 - loss: 1.5133 - acc: 0.693 - ETA: 7:22 - loss: 1.5138 - acc: 0.693 - ETA: 7:17 - loss: 1.5139 - acc: 0.693 - ETA: 7:12 - loss: 1.5135 - acc: 0.693 - ETA: 7:06 - loss: 1.5138 - acc: 0.693 - ETA: 7:01 - loss: 1.5141 - acc: 0.693 - ETA: 6:55 - loss: 1.5134 - acc: 0.693 - ETA: 6:50 - loss: 1.5137 - acc: 0.693 - ETA: 6:44 - loss: 1.5138 - acc: 0.693 - ETA: 6:39 - loss: 1.5144 - acc: 0.693 - ETA: 6:34 - loss: 1.5139 - acc: 0.693 - ETA: 6:28 - loss: 1.5141 - acc: 0.693 - ETA: 6:23 - loss: 1.5141 - acc: 0.693 - ETA: 6:17 - loss: 1.5143 - acc: 0.693 - ETA: 6:12 - loss: 1.5147 - acc: 0.693 - ETA: 6:07 - loss: 1.5150 - acc: 0.693 - ETA: 6:01 - loss: 1.5151 - acc: 0.693 - ETA: 5:56 - loss: 1.5154 - acc: 0.693 - ETA: 5:50 - loss: 1.5153 - acc: 0.693 - ETA: 5:45 - loss: 1.5153 - acc: 0.693 - ETA: 5:40 - loss: 1.5153 - acc: 0.693 - ETA: 5:34 - loss: 1.5152 - acc: 0.693 - ETA: 5:29 - loss: 1.5155 - acc: 0.693 - ETA: 5:23 - loss: 1.5155 - acc: 0.693 - ETA: 5:18 - loss: 1.5156 - acc: 0.693 - ETA: 5:13 - loss: 1.5161 - acc: 0.693 - ETA: 5:07 - loss: 1.5160 - acc: 0.693 - ETA: 5:02 - loss: 1.5164 - acc: 0.693 - ETA: 4:56 - loss: 1.5163 - acc: 0.693 - ETA: 4:51 - loss: 1.5163 - acc: 0.693 - ETA: 4:45 - loss: 1.5162 - acc: 0.693 - ETA: 4:40 - loss: 1.5163 - acc: 0.693 - ETA: 4:35 - loss: 1.5165 - acc: 0.693 - ETA: 4:29 - loss: 1.5167 - acc: 0.693 - ETA: 4:24 - loss: 1.5169 - acc: 0.693 - ETA: 4:18 - loss: 1.5171 - acc: 0.693 - ETA: 4:13 - loss: 1.5172 - acc: 0.693 - ETA: 4:08 - loss: 1.5173 - acc: 0.693 - ETA: 4:02 - loss: 1.5172 - acc: 0.693 - ETA: 3:57 - loss: 1.5174 - acc: 0.693 - ETA: 3:51 - loss: 1.5177 - acc: 0.693 - ETA: 3:46 - loss: 1.5181 - acc: 0.693 - ETA: 3:41 - loss: 1.5182 - acc: 0.693 - ETA: 3:35 - loss: 1.5184 - acc: 0.693 - ETA: 3:30 - loss: 1.5183 - acc: 0.693 - ETA: 3:25 - loss: 1.5187 - acc: 0.693 - ETA: 3:19 - loss: 1.5190 - acc: 0.693 - ETA: 3:14 - loss: 1.5190 - acc: 0.693 - ETA: 3:08 - loss: 1.5197 - acc: 0.693 - ETA: 3:03 - loss: 1.5199 - acc: 0.693 - ETA: 2:58 - loss: 1.5203 - acc: 0.693 - ETA: 2:52 - loss: 1.5204 - acc: 0.693 - ETA: 2:47 - loss: 1.5206 - acc: 0.693 - ETA: 2:41 - loss: 1.5208 - acc: 0.693 - ETA: 2:36 - loss: 1.5213 - acc: 0.692 - ETA: 2:31 - loss: 1.5211 - acc: 0.693 - ETA: 2:25 - loss: 1.5208 - acc: 0.693 - ETA: 2:20 - loss: 1.5204 - acc: 0.693 - ETA: 2:15 - loss: 1.5209 - acc: 0.693 - ETA: 2:09 - loss: 1.5211 - acc: 0.693 - ETA: 2:04 - loss: 1.5212 - acc: 0.692 - ETA: 1:59 - loss: 1.5215 - acc: 0.692 - ETA: 1:53 - loss: 1.5213 - acc: 0.692 - ETA: 1:48 - loss: 1.5215 - acc: 0.692 - ETA: 1:42 - loss: 1.5219 - acc: 0.692 - ETA: 1:37 - loss: 1.5219 - acc: 0.692 - ETA: 1:32 - loss: 1.5218 - acc: 0.692 - ETA: 1:26 - loss: 1.5217 - acc: 0.692 - ETA: 1:21 - loss: 1.5216 - acc: 0.692 - ETA: 1:15 - loss: 1.5217 - acc: 0.692 - ETA: 1:10 - loss: 1.5219 - acc: 0.692 - ETA: 1:05 - loss: 1.5221 - acc: 0.692 - ETA: 59s - loss: 1.5222 - acc: 0.692 - ETA: 54s - loss: 1.5225 - acc: 0.69 - ETA: 48s - loss: 1.5229 - acc: 0.69 - ETA: 43s - loss: 1.5230 - acc: 0.69 - ETA: 38s - loss: 1.5231 - acc: 0.69 - ETA: 32s - loss: 1.5231 - acc: 0.69 - ETA: 27s - loss: 1.5234 - acc: 0.69 - ETA: 21s - loss: 1.5235 - acc: 0.69 - ETA: 16s - loss: 1.5237 - acc: 0.69 - ETA: 11s - loss: 1.5237 - acc: 0.69 - ETA: 5s - loss: 1.5238 - acc: 0.6927 - ETA: 0s - loss: 1.5241 - acc: 0.692 - 1788s 42ms/sample - loss: 1.5241 - acc: 0.6927\n",
      "Epoch 28/30\n"
     ]
    },
    {
     "name": "stdout",
     "output_type": "stream",
     "text": [
      "26112/42374 [=================>............] - ETA: 30:13 - loss: 1.4080 - acc: 0.70 - ETA: 29:39 - loss: 1.4534 - acc: 0.69 - ETA: 29:21 - loss: 1.4685 - acc: 0.69 - ETA: 29:26 - loss: 1.4907 - acc: 0.69 - ETA: 29:19 - loss: 1.4829 - acc: 0.69 - ETA: 29:15 - loss: 1.4657 - acc: 0.69 - ETA: 29:07 - loss: 1.4551 - acc: 0.69 - ETA: 28:58 - loss: 1.4545 - acc: 0.69 - ETA: 28:51 - loss: 1.4538 - acc: 0.69 - ETA: 28:44 - loss: 1.4466 - acc: 0.70 - ETA: 28:37 - loss: 1.4355 - acc: 0.70 - ETA: 28:33 - loss: 1.4311 - acc: 0.70 - ETA: 28:28 - loss: 1.4344 - acc: 0.70 - ETA: 28:24 - loss: 1.4399 - acc: 0.70 - ETA: 28:18 - loss: 1.4403 - acc: 0.70 - ETA: 28:13 - loss: 1.4440 - acc: 0.70 - ETA: 28:07 - loss: 1.4429 - acc: 0.70 - ETA: 28:02 - loss: 1.4415 - acc: 0.70 - ETA: 27:58 - loss: 1.4395 - acc: 0.70 - ETA: 27:51 - loss: 1.4434 - acc: 0.70 - ETA: 27:46 - loss: 1.4450 - acc: 0.70 - ETA: 27:41 - loss: 1.4442 - acc: 0.70 - ETA: 27:35 - loss: 1.4425 - acc: 0.70 - ETA: 27:29 - loss: 1.4402 - acc: 0.70 - ETA: 27:24 - loss: 1.4446 - acc: 0.70 - ETA: 27:18 - loss: 1.4426 - acc: 0.70 - ETA: 27:13 - loss: 1.4514 - acc: 0.70 - ETA: 27:08 - loss: 1.4531 - acc: 0.70 - ETA: 27:02 - loss: 1.4547 - acc: 0.70 - ETA: 26:57 - loss: 1.4570 - acc: 0.70 - ETA: 26:52 - loss: 1.4596 - acc: 0.70 - ETA: 26:46 - loss: 1.4570 - acc: 0.70 - ETA: 26:41 - loss: 1.4534 - acc: 0.70 - ETA: 26:36 - loss: 1.4547 - acc: 0.70 - ETA: 26:30 - loss: 1.4533 - acc: 0.70 - ETA: 26:25 - loss: 1.4537 - acc: 0.70 - ETA: 26:20 - loss: 1.4559 - acc: 0.70 - ETA: 26:14 - loss: 1.4541 - acc: 0.70 - ETA: 26:09 - loss: 1.4579 - acc: 0.70 - ETA: 26:03 - loss: 1.4572 - acc: 0.70 - ETA: 25:58 - loss: 1.4559 - acc: 0.70 - ETA: 25:53 - loss: 1.4565 - acc: 0.70 - ETA: 25:47 - loss: 1.4565 - acc: 0.70 - ETA: 25:42 - loss: 1.4586 - acc: 0.70 - ETA: 25:37 - loss: 1.4576 - acc: 0.70 - ETA: 25:32 - loss: 1.4589 - acc: 0.70 - ETA: 25:27 - loss: 1.4596 - acc: 0.69 - ETA: 25:23 - loss: 1.4606 - acc: 0.70 - ETA: 25:17 - loss: 1.4621 - acc: 0.69 - ETA: 25:11 - loss: 1.4617 - acc: 0.70 - ETA: 25:06 - loss: 1.4608 - acc: 0.70 - ETA: 25:01 - loss: 1.4613 - acc: 0.69 - ETA: 24:55 - loss: 1.4608 - acc: 0.70 - ETA: 24:50 - loss: 1.4625 - acc: 0.69 - ETA: 24:45 - loss: 1.4628 - acc: 0.69 - ETA: 24:38 - loss: 1.4621 - acc: 0.69 - ETA: 24:34 - loss: 1.4621 - acc: 0.70 - ETA: 24:28 - loss: 1.4637 - acc: 0.69 - ETA: 24:23 - loss: 1.4659 - acc: 0.69 - ETA: 24:18 - loss: 1.4632 - acc: 0.69 - ETA: 24:13 - loss: 1.4623 - acc: 0.69 - ETA: 24:07 - loss: 1.4643 - acc: 0.69 - ETA: 24:02 - loss: 1.4644 - acc: 0.69 - ETA: 23:57 - loss: 1.4637 - acc: 0.69 - ETA: 23:51 - loss: 1.4614 - acc: 0.70 - ETA: 23:46 - loss: 1.4642 - acc: 0.69 - ETA: 23:40 - loss: 1.4652 - acc: 0.69 - ETA: 23:35 - loss: 1.4663 - acc: 0.69 - ETA: 23:30 - loss: 1.4659 - acc: 0.69 - ETA: 23:24 - loss: 1.4663 - acc: 0.69 - ETA: 23:19 - loss: 1.4658 - acc: 0.69 - ETA: 23:14 - loss: 1.4667 - acc: 0.69 - ETA: 23:08 - loss: 1.4661 - acc: 0.69 - ETA: 23:03 - loss: 1.4654 - acc: 0.69 - ETA: 22:58 - loss: 1.4643 - acc: 0.69 - ETA: 22:52 - loss: 1.4651 - acc: 0.69 - ETA: 22:46 - loss: 1.4657 - acc: 0.69 - ETA: 22:41 - loss: 1.4665 - acc: 0.69 - ETA: 22:35 - loss: 1.4666 - acc: 0.69 - ETA: 22:30 - loss: 1.4666 - acc: 0.69 - ETA: 22:24 - loss: 1.4672 - acc: 0.69 - ETA: 22:19 - loss: 1.4661 - acc: 0.69 - ETA: 22:13 - loss: 1.4668 - acc: 0.69 - ETA: 22:08 - loss: 1.4672 - acc: 0.69 - ETA: 22:02 - loss: 1.4679 - acc: 0.69 - ETA: 21:57 - loss: 1.4694 - acc: 0.69 - ETA: 21:51 - loss: 1.4688 - acc: 0.69 - ETA: 21:46 - loss: 1.4690 - acc: 0.69 - ETA: 21:40 - loss: 1.4696 - acc: 0.69 - ETA: 21:35 - loss: 1.4699 - acc: 0.69 - ETA: 21:29 - loss: 1.4702 - acc: 0.69 - ETA: 21:24 - loss: 1.4703 - acc: 0.69 - ETA: 21:19 - loss: 1.4709 - acc: 0.69 - ETA: 21:13 - loss: 1.4709 - acc: 0.69 - ETA: 21:08 - loss: 1.4705 - acc: 0.69 - ETA: 21:03 - loss: 1.4715 - acc: 0.69 - ETA: 20:57 - loss: 1.4714 - acc: 0.69 - ETA: 20:51 - loss: 1.4706 - acc: 0.69 - ETA: 20:46 - loss: 1.4717 - acc: 0.69 - ETA: 20:41 - loss: 1.4714 - acc: 0.69 - ETA: 20:35 - loss: 1.4713 - acc: 0.69 - ETA: 20:30 - loss: 1.4734 - acc: 0.69 - ETA: 20:24 - loss: 1.4749 - acc: 0.69 - ETA: 20:19 - loss: 1.4754 - acc: 0.69 - ETA: 20:13 - loss: 1.4744 - acc: 0.69 - ETA: 20:08 - loss: 1.4750 - acc: 0.69 - ETA: 20:02 - loss: 1.4752 - acc: 0.69 - ETA: 19:57 - loss: 1.4752 - acc: 0.69 - ETA: 19:51 - loss: 1.4753 - acc: 0.69 - ETA: 19:46 - loss: 1.4749 - acc: 0.69 - ETA: 19:40 - loss: 1.4745 - acc: 0.69 - ETA: 19:35 - loss: 1.4758 - acc: 0.69 - ETA: 19:30 - loss: 1.4758 - acc: 0.69 - ETA: 19:24 - loss: 1.4759 - acc: 0.69 - ETA: 19:19 - loss: 1.4759 - acc: 0.69 - ETA: 19:15 - loss: 1.4754 - acc: 0.69 - ETA: 19:15 - loss: 1.4748 - acc: 0.69 - ETA: 19:12 - loss: 1.4750 - acc: 0.69 - ETA: 19:08 - loss: 1.4752 - acc: 0.69 - ETA: 19:04 - loss: 1.4749 - acc: 0.69 - ETA: 19:01 - loss: 1.4757 - acc: 0.69 - ETA: 18:59 - loss: 1.4757 - acc: 0.69 - ETA: 18:56 - loss: 1.4758 - acc: 0.69 - ETA: 18:55 - loss: 1.4762 - acc: 0.69 - ETA: 18:50 - loss: 1.4774 - acc: 0.69 - ETA: 18:44 - loss: 1.4785 - acc: 0.69 - ETA: 18:38 - loss: 1.4787 - acc: 0.69 - ETA: 18:33 - loss: 1.4798 - acc: 0.69 - ETA: 18:27 - loss: 1.4792 - acc: 0.69 - ETA: 18:21 - loss: 1.4793 - acc: 0.69 - ETA: 18:15 - loss: 1.4796 - acc: 0.69 - ETA: 18:10 - loss: 1.4801 - acc: 0.69 - ETA: 18:04 - loss: 1.4805 - acc: 0.69 - ETA: 17:58 - loss: 1.4809 - acc: 0.69 - ETA: 17:53 - loss: 1.4806 - acc: 0.69 - ETA: 17:47 - loss: 1.4803 - acc: 0.69 - ETA: 17:42 - loss: 1.4805 - acc: 0.69 - ETA: 17:36 - loss: 1.4805 - acc: 0.69 - ETA: 17:32 - loss: 1.4818 - acc: 0.69 - ETA: 17:27 - loss: 1.4818 - acc: 0.69 - ETA: 17:23 - loss: 1.4815 - acc: 0.69 - ETA: 17:19 - loss: 1.4817 - acc: 0.69 - ETA: 17:16 - loss: 1.4819 - acc: 0.69 - ETA: 17:11 - loss: 1.4813 - acc: 0.69 - ETA: 17:06 - loss: 1.4814 - acc: 0.69 - ETA: 17:01 - loss: 1.4819 - acc: 0.69 - ETA: 16:58 - loss: 1.4821 - acc: 0.69 - ETA: 16:57 - loss: 1.4823 - acc: 0.69 - ETA: 16:52 - loss: 1.4819 - acc: 0.69 - ETA: 16:48 - loss: 1.4821 - acc: 0.69 - ETA: 16:45 - loss: 1.4828 - acc: 0.69 - ETA: 16:40 - loss: 1.4833 - acc: 0.69 - ETA: 16:34 - loss: 1.4834 - acc: 0.69 - ETA: 16:29 - loss: 1.4836 - acc: 0.69 - ETA: 16:23 - loss: 1.4841 - acc: 0.69 - ETA: 16:17 - loss: 1.4843 - acc: 0.69 - ETA: 16:13 - loss: 1.4845 - acc: 0.69 - ETA: 16:08 - loss: 1.4841 - acc: 0.69 - ETA: 16:02 - loss: 1.4844 - acc: 0.69 - ETA: 15:57 - loss: 1.4859 - acc: 0.69 - ETA: 15:51 - loss: 1.4861 - acc: 0.69 - ETA: 15:47 - loss: 1.4858 - acc: 0.69 - ETA: 15:42 - loss: 1.4852 - acc: 0.69 - ETA: 15:36 - loss: 1.4848 - acc: 0.69 - ETA: 15:31 - loss: 1.4849 - acc: 0.69 - ETA: 15:27 - loss: 1.4842 - acc: 0.69 - ETA: 15:21 - loss: 1.4840 - acc: 0.69 - ETA: 15:16 - loss: 1.4842 - acc: 0.69 - ETA: 15:11 - loss: 1.4839 - acc: 0.69 - ETA: 15:06 - loss: 1.4843 - acc: 0.69 - ETA: 15:01 - loss: 1.4849 - acc: 0.69 - ETA: 14:55 - loss: 1.4852 - acc: 0.69 - ETA: 14:50 - loss: 1.4856 - acc: 0.69 - ETA: 14:45 - loss: 1.4862 - acc: 0.69 - ETA: 14:40 - loss: 1.4856 - acc: 0.69 - ETA: 14:35 - loss: 1.4862 - acc: 0.69 - ETA: 14:29 - loss: 1.4863 - acc: 0.69 - ETA: 14:24 - loss: 1.4860 - acc: 0.69 - ETA: 14:18 - loss: 1.4862 - acc: 0.69 - ETA: 14:13 - loss: 1.4861 - acc: 0.69 - ETA: 14:07 - loss: 1.4856 - acc: 0.69 - ETA: 14:01 - loss: 1.4861 - acc: 0.69 - ETA: 13:56 - loss: 1.4865 - acc: 0.69 - ETA: 13:50 - loss: 1.4865 - acc: 0.69 - ETA: 13:45 - loss: 1.4869 - acc: 0.69 - ETA: 13:40 - loss: 1.4880 - acc: 0.69 - ETA: 13:35 - loss: 1.4877 - acc: 0.69 - ETA: 13:30 - loss: 1.4875 - acc: 0.69 - ETA: 13:25 - loss: 1.4877 - acc: 0.69 - ETA: 13:20 - loss: 1.4877 - acc: 0.69 - ETA: 13:14 - loss: 1.4884 - acc: 0.69 - ETA: 13:09 - loss: 1.4881 - acc: 0.69 - ETA: 13:03 - loss: 1.4881 - acc: 0.69 - ETA: 12:58 - loss: 1.4877 - acc: 0.69 - ETA: 12:53 - loss: 1.4876 - acc: 0.69 - ETA: 12:47 - loss: 1.4880 - acc: 0.69 - ETA: 12:43 - loss: 1.4875 - acc: 0.69 - ETA: 12:38 - loss: 1.4878 - acc: 0.69 - ETA: 12:33 - loss: 1.4880 - acc: 0.69 - ETA: 12:27 - loss: 1.4883 - acc: 0.69 - ETA: 12:22 - loss: 1.4880 - acc: 0.69 - ETA: 12:16 - loss: 1.4888 - acc: 0.69 - ETA: 12:11 - loss: 1.4889 - acc: 0.69 - ETA: 12:05 - loss: 1.4887 - acc: 0.6967"
     ]
    },
    {
     "name": "stdout",
     "output_type": "stream",
     "text": [
      "42374/42374 [==============================] - ETA: 12:00 - loss: 1.4889 - acc: 0.69 - ETA: 11:55 - loss: 1.4889 - acc: 0.69 - ETA: 11:51 - loss: 1.4897 - acc: 0.69 - ETA: 11:45 - loss: 1.4897 - acc: 0.69 - ETA: 11:39 - loss: 1.4906 - acc: 0.69 - ETA: 11:34 - loss: 1.4915 - acc: 0.69 - ETA: 11:28 - loss: 1.4919 - acc: 0.69 - ETA: 11:22 - loss: 1.4923 - acc: 0.69 - ETA: 11:16 - loss: 1.4927 - acc: 0.69 - ETA: 11:10 - loss: 1.4934 - acc: 0.69 - ETA: 11:04 - loss: 1.4930 - acc: 0.69 - ETA: 10:58 - loss: 1.4931 - acc: 0.69 - ETA: 10:52 - loss: 1.4932 - acc: 0.69 - ETA: 10:46 - loss: 1.4932 - acc: 0.69 - ETA: 10:40 - loss: 1.4938 - acc: 0.69 - ETA: 10:34 - loss: 1.4929 - acc: 0.69 - ETA: 10:28 - loss: 1.4935 - acc: 0.69 - ETA: 10:22 - loss: 1.4936 - acc: 0.69 - ETA: 10:16 - loss: 1.4940 - acc: 0.69 - ETA: 10:11 - loss: 1.4947 - acc: 0.69 - ETA: 10:05 - loss: 1.4946 - acc: 0.69 - ETA: 9:59 - loss: 1.4948 - acc: 0.6959 - ETA: 9:53 - loss: 1.4947 - acc: 0.695 - ETA: 9:47 - loss: 1.4953 - acc: 0.695 - ETA: 9:41 - loss: 1.4963 - acc: 0.695 - ETA: 9:35 - loss: 1.4967 - acc: 0.695 - ETA: 9:29 - loss: 1.4967 - acc: 0.695 - ETA: 9:23 - loss: 1.4969 - acc: 0.695 - ETA: 9:17 - loss: 1.4973 - acc: 0.695 - ETA: 9:12 - loss: 1.4968 - acc: 0.695 - ETA: 9:06 - loss: 1.4971 - acc: 0.695 - ETA: 9:00 - loss: 1.4979 - acc: 0.695 - ETA: 8:54 - loss: 1.4977 - acc: 0.695 - ETA: 8:48 - loss: 1.4982 - acc: 0.695 - ETA: 8:42 - loss: 1.4987 - acc: 0.695 - ETA: 8:37 - loss: 1.4993 - acc: 0.695 - ETA: 8:31 - loss: 1.4993 - acc: 0.695 - ETA: 8:25 - loss: 1.4998 - acc: 0.695 - ETA: 8:19 - loss: 1.4995 - acc: 0.695 - ETA: 8:13 - loss: 1.5000 - acc: 0.695 - ETA: 8:08 - loss: 1.4997 - acc: 0.695 - ETA: 8:02 - loss: 1.4996 - acc: 0.695 - ETA: 7:56 - loss: 1.4996 - acc: 0.695 - ETA: 7:50 - loss: 1.4994 - acc: 0.695 - ETA: 7:44 - loss: 1.4999 - acc: 0.695 - ETA: 7:39 - loss: 1.5001 - acc: 0.695 - ETA: 7:33 - loss: 1.5006 - acc: 0.695 - ETA: 7:27 - loss: 1.5001 - acc: 0.695 - ETA: 7:21 - loss: 1.5000 - acc: 0.695 - ETA: 7:15 - loss: 1.5000 - acc: 0.695 - ETA: 7:10 - loss: 1.5001 - acc: 0.695 - ETA: 7:04 - loss: 1.5003 - acc: 0.695 - ETA: 6:58 - loss: 1.5005 - acc: 0.695 - ETA: 6:53 - loss: 1.5007 - acc: 0.695 - ETA: 6:47 - loss: 1.5009 - acc: 0.695 - ETA: 6:41 - loss: 1.5010 - acc: 0.695 - ETA: 6:35 - loss: 1.5014 - acc: 0.694 - ETA: 6:30 - loss: 1.5018 - acc: 0.694 - ETA: 6:24 - loss: 1.5019 - acc: 0.694 - ETA: 6:18 - loss: 1.5017 - acc: 0.694 - ETA: 6:12 - loss: 1.5018 - acc: 0.694 - ETA: 6:07 - loss: 1.5016 - acc: 0.694 - ETA: 6:01 - loss: 1.5013 - acc: 0.695 - ETA: 5:55 - loss: 1.5011 - acc: 0.694 - ETA: 5:49 - loss: 1.5015 - acc: 0.694 - ETA: 5:44 - loss: 1.5018 - acc: 0.694 - ETA: 5:38 - loss: 1.5022 - acc: 0.694 - ETA: 5:32 - loss: 1.5022 - acc: 0.694 - ETA: 5:27 - loss: 1.5020 - acc: 0.694 - ETA: 5:21 - loss: 1.5018 - acc: 0.694 - ETA: 5:15 - loss: 1.5017 - acc: 0.694 - ETA: 5:09 - loss: 1.5017 - acc: 0.694 - ETA: 5:04 - loss: 1.5017 - acc: 0.694 - ETA: 4:58 - loss: 1.5016 - acc: 0.694 - ETA: 4:52 - loss: 1.5016 - acc: 0.694 - ETA: 4:47 - loss: 1.5024 - acc: 0.694 - ETA: 4:41 - loss: 1.5028 - acc: 0.694 - ETA: 4:35 - loss: 1.5027 - acc: 0.694 - ETA: 4:30 - loss: 1.5029 - acc: 0.694 - ETA: 4:24 - loss: 1.5030 - acc: 0.694 - ETA: 4:18 - loss: 1.5030 - acc: 0.694 - ETA: 4:13 - loss: 1.5031 - acc: 0.694 - ETA: 4:07 - loss: 1.5036 - acc: 0.694 - ETA: 4:01 - loss: 1.5036 - acc: 0.694 - ETA: 3:56 - loss: 1.5034 - acc: 0.694 - ETA: 3:50 - loss: 1.5033 - acc: 0.694 - ETA: 3:45 - loss: 1.5035 - acc: 0.694 - ETA: 3:39 - loss: 1.5036 - acc: 0.694 - ETA: 3:34 - loss: 1.5031 - acc: 0.694 - ETA: 3:28 - loss: 1.5032 - acc: 0.694 - ETA: 3:23 - loss: 1.5035 - acc: 0.694 - ETA: 3:17 - loss: 1.5036 - acc: 0.694 - ETA: 3:12 - loss: 1.5035 - acc: 0.694 - ETA: 3:06 - loss: 1.5037 - acc: 0.694 - ETA: 3:00 - loss: 1.5043 - acc: 0.694 - ETA: 2:55 - loss: 1.5045 - acc: 0.694 - ETA: 2:49 - loss: 1.5043 - acc: 0.694 - ETA: 2:44 - loss: 1.5043 - acc: 0.694 - ETA: 2:38 - loss: 1.5044 - acc: 0.694 - ETA: 2:32 - loss: 1.5042 - acc: 0.694 - ETA: 2:27 - loss: 1.5040 - acc: 0.694 - ETA: 2:21 - loss: 1.5040 - acc: 0.694 - ETA: 2:16 - loss: 1.5045 - acc: 0.694 - ETA: 2:10 - loss: 1.5049 - acc: 0.694 - ETA: 2:04 - loss: 1.5052 - acc: 0.694 - ETA: 1:59 - loss: 1.5056 - acc: 0.694 - ETA: 1:53 - loss: 1.5055 - acc: 0.694 - ETA: 1:47 - loss: 1.5058 - acc: 0.694 - ETA: 1:42 - loss: 1.5056 - acc: 0.694 - ETA: 1:36 - loss: 1.5057 - acc: 0.694 - ETA: 1:30 - loss: 1.5055 - acc: 0.694 - ETA: 1:25 - loss: 1.5054 - acc: 0.694 - ETA: 1:19 - loss: 1.5054 - acc: 0.694 - ETA: 1:13 - loss: 1.5055 - acc: 0.694 - ETA: 1:08 - loss: 1.5053 - acc: 0.694 - ETA: 1:02 - loss: 1.5054 - acc: 0.694 - ETA: 56s - loss: 1.5053 - acc: 0.694 - ETA: 51s - loss: 1.5054 - acc: 0.69 - ETA: 45s - loss: 1.5058 - acc: 0.69 - ETA: 39s - loss: 1.5060 - acc: 0.69 - ETA: 34s - loss: 1.5063 - acc: 0.69 - ETA: 28s - loss: 1.5065 - acc: 0.69 - ETA: 22s - loss: 1.5067 - acc: 0.69 - ETA: 17s - loss: 1.5068 - acc: 0.69 - ETA: 11s - loss: 1.5071 - acc: 0.69 - ETA: 5s - loss: 1.5069 - acc: 0.6945 - ETA: 0s - loss: 1.5071 - acc: 0.694 - 1878s 44ms/sample - loss: 1.5071 - acc: 0.6945\n",
      "Epoch 29/30\n"
     ]
    },
    {
     "name": "stdout",
     "output_type": "stream",
     "text": [
      "26112/42374 [=================>............] - ETA: 31:14 - loss: 1.4019 - acc: 0.70 - ETA: 31:19 - loss: 1.4217 - acc: 0.70 - ETA: 31:18 - loss: 1.4156 - acc: 0.71 - ETA: 31:13 - loss: 1.4144 - acc: 0.70 - ETA: 31:18 - loss: 1.4257 - acc: 0.70 - ETA: 31:06 - loss: 1.4349 - acc: 0.70 - ETA: 30:57 - loss: 1.4360 - acc: 0.70 - ETA: 30:54 - loss: 1.4398 - acc: 0.70 - ETA: 30:45 - loss: 1.4372 - acc: 0.70 - ETA: 30:38 - loss: 1.4327 - acc: 0.70 - ETA: 30:34 - loss: 1.4354 - acc: 0.70 - ETA: 30:38 - loss: 1.4310 - acc: 0.70 - ETA: 30:35 - loss: 1.4323 - acc: 0.70 - ETA: 30:29 - loss: 1.4422 - acc: 0.70 - ETA: 30:21 - loss: 1.4456 - acc: 0.70 - ETA: 30:16 - loss: 1.4419 - acc: 0.70 - ETA: 30:08 - loss: 1.4442 - acc: 0.70 - ETA: 30:01 - loss: 1.4445 - acc: 0.70 - ETA: 29:57 - loss: 1.4368 - acc: 0.70 - ETA: 29:59 - loss: 1.4405 - acc: 0.70 - ETA: 30:15 - loss: 1.4431 - acc: 0.70 - ETA: 30:14 - loss: 1.4429 - acc: 0.70 - ETA: 30:06 - loss: 1.4408 - acc: 0.70 - ETA: 30:00 - loss: 1.4394 - acc: 0.70 - ETA: 29:52 - loss: 1.4375 - acc: 0.70 - ETA: 29:44 - loss: 1.4385 - acc: 0.70 - ETA: 29:55 - loss: 1.4455 - acc: 0.70 - ETA: 30:03 - loss: 1.4488 - acc: 0.70 - ETA: 30:13 - loss: 1.4450 - acc: 0.70 - ETA: 30:15 - loss: 1.4491 - acc: 0.70 - ETA: 30:26 - loss: 1.4483 - acc: 0.70 - ETA: 30:31 - loss: 1.4492 - acc: 0.70 - ETA: 30:23 - loss: 1.4444 - acc: 0.70 - ETA: 30:25 - loss: 1.4473 - acc: 0.70 - ETA: 30:25 - loss: 1.4468 - acc: 0.70 - ETA: 30:17 - loss: 1.4452 - acc: 0.70 - ETA: 30:09 - loss: 1.4458 - acc: 0.70 - ETA: 30:00 - loss: 1.4454 - acc: 0.70 - ETA: 29:52 - loss: 1.4474 - acc: 0.70 - ETA: 29:45 - loss: 1.4464 - acc: 0.70 - ETA: 29:37 - loss: 1.4481 - acc: 0.70 - ETA: 29:30 - loss: 1.4515 - acc: 0.70 - ETA: 29:23 - loss: 1.4516 - acc: 0.70 - ETA: 29:17 - loss: 1.4512 - acc: 0.70 - ETA: 29:19 - loss: 1.4503 - acc: 0.70 - ETA: 29:15 - loss: 1.4496 - acc: 0.70 - ETA: 29:07 - loss: 1.4501 - acc: 0.70 - ETA: 29:02 - loss: 1.4503 - acc: 0.70 - ETA: 29:02 - loss: 1.4493 - acc: 0.70 - ETA: 28:55 - loss: 1.4490 - acc: 0.70 - ETA: 28:48 - loss: 1.4505 - acc: 0.70 - ETA: 28:40 - loss: 1.4519 - acc: 0.70 - ETA: 28:33 - loss: 1.4514 - acc: 0.70 - ETA: 28:26 - loss: 1.4501 - acc: 0.70 - ETA: 28:18 - loss: 1.4496 - acc: 0.70 - ETA: 28:10 - loss: 1.4497 - acc: 0.70 - ETA: 28:02 - loss: 1.4499 - acc: 0.70 - ETA: 27:55 - loss: 1.4485 - acc: 0.70 - ETA: 27:48 - loss: 1.4468 - acc: 0.70 - ETA: 27:41 - loss: 1.4501 - acc: 0.70 - ETA: 27:33 - loss: 1.4497 - acc: 0.70 - ETA: 27:26 - loss: 1.4505 - acc: 0.70 - ETA: 27:19 - loss: 1.4504 - acc: 0.70 - ETA: 27:12 - loss: 1.4498 - acc: 0.70 - ETA: 27:06 - loss: 1.4498 - acc: 0.70 - ETA: 26:58 - loss: 1.4472 - acc: 0.70 - ETA: 26:50 - loss: 1.4477 - acc: 0.70 - ETA: 26:44 - loss: 1.4505 - acc: 0.70 - ETA: 26:36 - loss: 1.4486 - acc: 0.70 - ETA: 26:29 - loss: 1.4490 - acc: 0.70 - ETA: 26:23 - loss: 1.4501 - acc: 0.70 - ETA: 26:15 - loss: 1.4502 - acc: 0.70 - ETA: 26:09 - loss: 1.4493 - acc: 0.70 - ETA: 26:02 - loss: 1.4516 - acc: 0.70 - ETA: 25:55 - loss: 1.4510 - acc: 0.70 - ETA: 25:48 - loss: 1.4507 - acc: 0.70 - ETA: 25:42 - loss: 1.4498 - acc: 0.70 - ETA: 25:35 - loss: 1.4492 - acc: 0.70 - ETA: 25:37 - loss: 1.4486 - acc: 0.70 - ETA: 25:32 - loss: 1.4493 - acc: 0.70 - ETA: 25:25 - loss: 1.4487 - acc: 0.70 - ETA: 25:18 - loss: 1.4492 - acc: 0.70 - ETA: 25:11 - loss: 1.4498 - acc: 0.70 - ETA: 25:05 - loss: 1.4503 - acc: 0.70 - ETA: 24:58 - loss: 1.4510 - acc: 0.70 - ETA: 24:51 - loss: 1.4506 - acc: 0.70 - ETA: 24:45 - loss: 1.4510 - acc: 0.70 - ETA: 24:38 - loss: 1.4491 - acc: 0.70 - ETA: 24:31 - loss: 1.4474 - acc: 0.70 - ETA: 24:25 - loss: 1.4484 - acc: 0.70 - ETA: 24:18 - loss: 1.4487 - acc: 0.70 - ETA: 24:12 - loss: 1.4491 - acc: 0.70 - ETA: 24:05 - loss: 1.4489 - acc: 0.70 - ETA: 23:59 - loss: 1.4490 - acc: 0.70 - ETA: 23:52 - loss: 1.4501 - acc: 0.70 - ETA: 23:46 - loss: 1.4498 - acc: 0.70 - ETA: 23:39 - loss: 1.4510 - acc: 0.70 - ETA: 23:33 - loss: 1.4509 - acc: 0.70 - ETA: 23:26 - loss: 1.4513 - acc: 0.70 - ETA: 23:19 - loss: 1.4521 - acc: 0.70 - ETA: 23:13 - loss: 1.4517 - acc: 0.70 - ETA: 23:06 - loss: 1.4525 - acc: 0.70 - ETA: 22:59 - loss: 1.4536 - acc: 0.70 - ETA: 22:53 - loss: 1.4545 - acc: 0.70 - ETA: 22:46 - loss: 1.4546 - acc: 0.70 - ETA: 22:40 - loss: 1.4539 - acc: 0.70 - ETA: 22:34 - loss: 1.4538 - acc: 0.70 - ETA: 22:27 - loss: 1.4537 - acc: 0.70 - ETA: 22:21 - loss: 1.4533 - acc: 0.70 - ETA: 22:14 - loss: 1.4534 - acc: 0.70 - ETA: 22:08 - loss: 1.4533 - acc: 0.70 - ETA: 22:02 - loss: 1.4547 - acc: 0.70 - ETA: 21:55 - loss: 1.4549 - acc: 0.70 - ETA: 21:49 - loss: 1.4546 - acc: 0.70 - ETA: 21:42 - loss: 1.4545 - acc: 0.70 - ETA: 21:36 - loss: 1.4536 - acc: 0.70 - ETA: 21:30 - loss: 1.4535 - acc: 0.70 - ETA: 21:23 - loss: 1.4539 - acc: 0.70 - ETA: 21:17 - loss: 1.4542 - acc: 0.70 - ETA: 21:11 - loss: 1.4552 - acc: 0.70 - ETA: 21:05 - loss: 1.4552 - acc: 0.70 - ETA: 20:58 - loss: 1.4563 - acc: 0.70 - ETA: 20:52 - loss: 1.4571 - acc: 0.70 - ETA: 20:46 - loss: 1.4573 - acc: 0.70 - ETA: 20:39 - loss: 1.4572 - acc: 0.70 - ETA: 20:33 - loss: 1.4577 - acc: 0.70 - ETA: 20:27 - loss: 1.4576 - acc: 0.70 - ETA: 20:20 - loss: 1.4575 - acc: 0.70 - ETA: 20:14 - loss: 1.4569 - acc: 0.70 - ETA: 20:08 - loss: 1.4569 - acc: 0.70 - ETA: 20:02 - loss: 1.4572 - acc: 0.70 - ETA: 19:55 - loss: 1.4575 - acc: 0.70 - ETA: 19:49 - loss: 1.4564 - acc: 0.70 - ETA: 19:43 - loss: 1.4566 - acc: 0.70 - ETA: 19:36 - loss: 1.4556 - acc: 0.70 - ETA: 19:30 - loss: 1.4563 - acc: 0.70 - ETA: 19:24 - loss: 1.4566 - acc: 0.70 - ETA: 19:18 - loss: 1.4571 - acc: 0.70 - ETA: 19:16 - loss: 1.4575 - acc: 0.70 - ETA: 19:11 - loss: 1.4586 - acc: 0.70 - ETA: 19:05 - loss: 1.4588 - acc: 0.70 - ETA: 18:58 - loss: 1.4591 - acc: 0.70 - ETA: 18:52 - loss: 1.4599 - acc: 0.70 - ETA: 18:46 - loss: 1.4600 - acc: 0.70 - ETA: 18:40 - loss: 1.4596 - acc: 0.70 - ETA: 18:33 - loss: 1.4597 - acc: 0.70 - ETA: 18:27 - loss: 1.4601 - acc: 0.70 - ETA: 18:21 - loss: 1.4598 - acc: 0.70 - ETA: 18:15 - loss: 1.4597 - acc: 0.70 - ETA: 18:09 - loss: 1.4590 - acc: 0.70 - ETA: 18:02 - loss: 1.4587 - acc: 0.70 - ETA: 17:56 - loss: 1.4590 - acc: 0.70 - ETA: 17:50 - loss: 1.4597 - acc: 0.70 - ETA: 17:44 - loss: 1.4610 - acc: 0.70 - ETA: 17:37 - loss: 1.4608 - acc: 0.70 - ETA: 17:31 - loss: 1.4603 - acc: 0.70 - ETA: 17:25 - loss: 1.4600 - acc: 0.70 - ETA: 17:19 - loss: 1.4605 - acc: 0.70 - ETA: 17:12 - loss: 1.4604 - acc: 0.70 - ETA: 17:06 - loss: 1.4603 - acc: 0.70 - ETA: 17:00 - loss: 1.4597 - acc: 0.70 - ETA: 16:55 - loss: 1.4602 - acc: 0.70 - ETA: 16:49 - loss: 1.4603 - acc: 0.70 - ETA: 16:43 - loss: 1.4604 - acc: 0.70 - ETA: 16:37 - loss: 1.4606 - acc: 0.70 - ETA: 16:31 - loss: 1.4607 - acc: 0.70 - ETA: 16:25 - loss: 1.4602 - acc: 0.70 - ETA: 16:19 - loss: 1.4606 - acc: 0.70 - ETA: 16:12 - loss: 1.4606 - acc: 0.70 - ETA: 16:06 - loss: 1.4606 - acc: 0.70 - ETA: 16:00 - loss: 1.4605 - acc: 0.70 - ETA: 15:54 - loss: 1.4612 - acc: 0.70 - ETA: 15:52 - loss: 1.4612 - acc: 0.70 - ETA: 15:47 - loss: 1.4622 - acc: 0.70 - ETA: 15:42 - loss: 1.4625 - acc: 0.69 - ETA: 15:36 - loss: 1.4623 - acc: 0.69 - ETA: 15:31 - loss: 1.4627 - acc: 0.69 - ETA: 15:24 - loss: 1.4634 - acc: 0.69 - ETA: 15:18 - loss: 1.4635 - acc: 0.69 - ETA: 15:12 - loss: 1.4637 - acc: 0.69 - ETA: 15:05 - loss: 1.4636 - acc: 0.69 - ETA: 14:59 - loss: 1.4639 - acc: 0.69 - ETA: 14:53 - loss: 1.4653 - acc: 0.69 - ETA: 14:47 - loss: 1.4655 - acc: 0.69 - ETA: 14:41 - loss: 1.4654 - acc: 0.69 - ETA: 14:35 - loss: 1.4657 - acc: 0.69 - ETA: 14:29 - loss: 1.4653 - acc: 0.69 - ETA: 14:23 - loss: 1.4658 - acc: 0.69 - ETA: 14:16 - loss: 1.4657 - acc: 0.69 - ETA: 14:10 - loss: 1.4664 - acc: 0.69 - ETA: 14:04 - loss: 1.4659 - acc: 0.69 - ETA: 13:58 - loss: 1.4661 - acc: 0.69 - ETA: 13:52 - loss: 1.4664 - acc: 0.69 - ETA: 13:46 - loss: 1.4671 - acc: 0.69 - ETA: 13:40 - loss: 1.4676 - acc: 0.69 - ETA: 13:34 - loss: 1.4679 - acc: 0.69 - ETA: 13:28 - loss: 1.4685 - acc: 0.69 - ETA: 13:21 - loss: 1.4687 - acc: 0.69 - ETA: 13:15 - loss: 1.4691 - acc: 0.69 - ETA: 13:09 - loss: 1.4700 - acc: 0.69 - ETA: 13:03 - loss: 1.4708 - acc: 0.69 - ETA: 12:57 - loss: 1.4705 - acc: 0.69 - ETA: 12:51 - loss: 1.4708 - acc: 0.69 - ETA: 12:45 - loss: 1.4713 - acc: 0.6985"
     ]
    },
    {
     "name": "stdout",
     "output_type": "stream",
     "text": [
      "42374/42374 [==============================] - ETA: 12:38 - loss: 1.4712 - acc: 0.69 - ETA: 12:32 - loss: 1.4715 - acc: 0.69 - ETA: 12:26 - loss: 1.4716 - acc: 0.69 - ETA: 12:21 - loss: 1.4718 - acc: 0.69 - ETA: 12:16 - loss: 1.4721 - acc: 0.69 - ETA: 12:11 - loss: 1.4723 - acc: 0.69 - ETA: 12:05 - loss: 1.4722 - acc: 0.69 - ETA: 11:59 - loss: 1.4727 - acc: 0.69 - ETA: 11:53 - loss: 1.4729 - acc: 0.69 - ETA: 11:47 - loss: 1.4737 - acc: 0.69 - ETA: 11:41 - loss: 1.4734 - acc: 0.69 - ETA: 11:35 - loss: 1.4735 - acc: 0.69 - ETA: 11:28 - loss: 1.4736 - acc: 0.69 - ETA: 11:22 - loss: 1.4742 - acc: 0.69 - ETA: 11:16 - loss: 1.4739 - acc: 0.69 - ETA: 11:10 - loss: 1.4738 - acc: 0.69 - ETA: 11:04 - loss: 1.4745 - acc: 0.69 - ETA: 10:58 - loss: 1.4753 - acc: 0.69 - ETA: 10:52 - loss: 1.4755 - acc: 0.69 - ETA: 10:46 - loss: 1.4755 - acc: 0.69 - ETA: 10:40 - loss: 1.4755 - acc: 0.69 - ETA: 10:34 - loss: 1.4757 - acc: 0.69 - ETA: 10:28 - loss: 1.4762 - acc: 0.69 - ETA: 10:21 - loss: 1.4766 - acc: 0.69 - ETA: 10:15 - loss: 1.4767 - acc: 0.69 - ETA: 10:09 - loss: 1.4768 - acc: 0.69 - ETA: 10:03 - loss: 1.4771 - acc: 0.69 - ETA: 9:57 - loss: 1.4773 - acc: 0.6976 - ETA: 9:51 - loss: 1.4770 - acc: 0.697 - ETA: 9:45 - loss: 1.4771 - acc: 0.697 - ETA: 9:39 - loss: 1.4773 - acc: 0.697 - ETA: 9:33 - loss: 1.4776 - acc: 0.697 - ETA: 9:27 - loss: 1.4780 - acc: 0.697 - ETA: 9:20 - loss: 1.4785 - acc: 0.697 - ETA: 9:14 - loss: 1.4788 - acc: 0.697 - ETA: 9:08 - loss: 1.4790 - acc: 0.697 - ETA: 9:02 - loss: 1.4793 - acc: 0.697 - ETA: 8:56 - loss: 1.4792 - acc: 0.697 - ETA: 8:50 - loss: 1.4792 - acc: 0.697 - ETA: 8:44 - loss: 1.4794 - acc: 0.697 - ETA: 8:38 - loss: 1.4795 - acc: 0.697 - ETA: 8:32 - loss: 1.4800 - acc: 0.697 - ETA: 8:26 - loss: 1.4802 - acc: 0.697 - ETA: 8:20 - loss: 1.4807 - acc: 0.696 - ETA: 8:14 - loss: 1.4812 - acc: 0.696 - ETA: 8:07 - loss: 1.4816 - acc: 0.696 - ETA: 8:01 - loss: 1.4818 - acc: 0.696 - ETA: 7:55 - loss: 1.4819 - acc: 0.696 - ETA: 7:50 - loss: 1.4816 - acc: 0.696 - ETA: 7:44 - loss: 1.4822 - acc: 0.696 - ETA: 7:38 - loss: 1.4820 - acc: 0.696 - ETA: 7:32 - loss: 1.4821 - acc: 0.696 - ETA: 7:26 - loss: 1.4823 - acc: 0.696 - ETA: 7:20 - loss: 1.4818 - acc: 0.696 - ETA: 7:14 - loss: 1.4820 - acc: 0.696 - ETA: 7:08 - loss: 1.4821 - acc: 0.696 - ETA: 7:02 - loss: 1.4823 - acc: 0.696 - ETA: 6:56 - loss: 1.4828 - acc: 0.696 - ETA: 6:50 - loss: 1.4829 - acc: 0.696 - ETA: 6:44 - loss: 1.4831 - acc: 0.696 - ETA: 6:38 - loss: 1.4836 - acc: 0.696 - ETA: 6:32 - loss: 1.4841 - acc: 0.696 - ETA: 6:26 - loss: 1.4844 - acc: 0.696 - ETA: 6:19 - loss: 1.4844 - acc: 0.696 - ETA: 6:13 - loss: 1.4844 - acc: 0.696 - ETA: 6:07 - loss: 1.4845 - acc: 0.696 - ETA: 6:01 - loss: 1.4846 - acc: 0.696 - ETA: 5:55 - loss: 1.4849 - acc: 0.696 - ETA: 5:49 - loss: 1.4849 - acc: 0.696 - ETA: 5:43 - loss: 1.4845 - acc: 0.696 - ETA: 5:37 - loss: 1.4848 - acc: 0.696 - ETA: 5:31 - loss: 1.4854 - acc: 0.696 - ETA: 5:25 - loss: 1.4855 - acc: 0.696 - ETA: 5:19 - loss: 1.4857 - acc: 0.696 - ETA: 5:13 - loss: 1.4860 - acc: 0.696 - ETA: 5:07 - loss: 1.4858 - acc: 0.696 - ETA: 5:01 - loss: 1.4857 - acc: 0.696 - ETA: 4:55 - loss: 1.4861 - acc: 0.696 - ETA: 4:49 - loss: 1.4857 - acc: 0.696 - ETA: 4:43 - loss: 1.4857 - acc: 0.696 - ETA: 4:37 - loss: 1.4858 - acc: 0.696 - ETA: 4:31 - loss: 1.4860 - acc: 0.696 - ETA: 4:25 - loss: 1.4866 - acc: 0.696 - ETA: 4:18 - loss: 1.4871 - acc: 0.696 - ETA: 4:12 - loss: 1.4875 - acc: 0.696 - ETA: 4:07 - loss: 1.4879 - acc: 0.696 - ETA: 4:01 - loss: 1.4881 - acc: 0.696 - ETA: 3:55 - loss: 1.4879 - acc: 0.696 - ETA: 3:49 - loss: 1.4878 - acc: 0.696 - ETA: 3:42 - loss: 1.4877 - acc: 0.696 - ETA: 3:36 - loss: 1.4878 - acc: 0.696 - ETA: 3:30 - loss: 1.4880 - acc: 0.696 - ETA: 3:24 - loss: 1.4881 - acc: 0.696 - ETA: 3:18 - loss: 1.4883 - acc: 0.696 - ETA: 3:12 - loss: 1.4880 - acc: 0.696 - ETA: 3:06 - loss: 1.4878 - acc: 0.696 - ETA: 3:00 - loss: 1.4875 - acc: 0.696 - ETA: 2:54 - loss: 1.4874 - acc: 0.696 - ETA: 2:48 - loss: 1.4874 - acc: 0.696 - ETA: 2:42 - loss: 1.4875 - acc: 0.696 - ETA: 2:36 - loss: 1.4875 - acc: 0.696 - ETA: 2:30 - loss: 1.4878 - acc: 0.696 - ETA: 2:24 - loss: 1.4880 - acc: 0.696 - ETA: 2:18 - loss: 1.4884 - acc: 0.696 - ETA: 2:12 - loss: 1.4888 - acc: 0.696 - ETA: 2:06 - loss: 1.4887 - acc: 0.696 - ETA: 2:00 - loss: 1.4887 - acc: 0.696 - ETA: 1:54 - loss: 1.4884 - acc: 0.696 - ETA: 1:48 - loss: 1.4884 - acc: 0.696 - ETA: 1:42 - loss: 1.4882 - acc: 0.696 - ETA: 1:36 - loss: 1.4886 - acc: 0.696 - ETA: 1:30 - loss: 1.4888 - acc: 0.696 - ETA: 1:24 - loss: 1.4892 - acc: 0.696 - ETA: 1:18 - loss: 1.4890 - acc: 0.696 - ETA: 1:12 - loss: 1.4889 - acc: 0.696 - ETA: 1:06 - loss: 1.4890 - acc: 0.696 - ETA: 1:00 - loss: 1.4891 - acc: 0.696 - ETA: 54s - loss: 1.4896 - acc: 0.696 - ETA: 48s - loss: 1.4900 - acc: 0.69 - ETA: 42s - loss: 1.4898 - acc: 0.69 - ETA: 36s - loss: 1.4899 - acc: 0.69 - ETA: 30s - loss: 1.4901 - acc: 0.69 - ETA: 24s - loss: 1.4901 - acc: 0.69 - ETA: 18s - loss: 1.4901 - acc: 0.69 - ETA: 12s - loss: 1.4907 - acc: 0.69 - ETA: 6s - loss: 1.4909 - acc: 0.6960 - ETA: 0s - loss: 1.4909 - acc: 0.696 - 1992s 47ms/sample - loss: 1.4909 - acc: 0.6960\n",
      "Epoch 30/30\n"
     ]
    },
    {
     "name": "stdout",
     "output_type": "stream",
     "text": [
      "26112/42374 [=================>............] - ETA: 32:29 - loss: 1.5438 - acc: 0.68 - ETA: 32:16 - loss: 1.4393 - acc: 0.69 - ETA: 32:07 - loss: 1.4282 - acc: 0.69 - ETA: 32:25 - loss: 1.4326 - acc: 0.69 - ETA: 33:46 - loss: 1.4205 - acc: 0.70 - ETA: 36:05 - loss: 1.4124 - acc: 0.70 - ETA: 35:22 - loss: 1.4123 - acc: 0.70 - ETA: 34:50 - loss: 1.4022 - acc: 0.70 - ETA: 34:28 - loss: 1.4088 - acc: 0.70 - ETA: 34:07 - loss: 1.4080 - acc: 0.70 - ETA: 33:49 - loss: 1.4239 - acc: 0.70 - ETA: 33:29 - loss: 1.4217 - acc: 0.70 - ETA: 33:09 - loss: 1.4207 - acc: 0.70 - ETA: 32:55 - loss: 1.4126 - acc: 0.70 - ETA: 32:41 - loss: 1.4137 - acc: 0.70 - ETA: 32:28 - loss: 1.4107 - acc: 0.70 - ETA: 32:16 - loss: 1.4077 - acc: 0.70 - ETA: 32:04 - loss: 1.4084 - acc: 0.70 - ETA: 31:56 - loss: 1.4016 - acc: 0.70 - ETA: 31:45 - loss: 1.3992 - acc: 0.70 - ETA: 31:32 - loss: 1.3993 - acc: 0.70 - ETA: 31:26 - loss: 1.4045 - acc: 0.70 - ETA: 31:16 - loss: 1.3998 - acc: 0.70 - ETA: 31:08 - loss: 1.3993 - acc: 0.70 - ETA: 31:00 - loss: 1.4019 - acc: 0.70 - ETA: 30:51 - loss: 1.3970 - acc: 0.70 - ETA: 30:44 - loss: 1.3941 - acc: 0.71 - ETA: 30:37 - loss: 1.3964 - acc: 0.70 - ETA: 30:28 - loss: 1.3964 - acc: 0.70 - ETA: 30:21 - loss: 1.3984 - acc: 0.70 - ETA: 30:13 - loss: 1.3995 - acc: 0.70 - ETA: 30:06 - loss: 1.3988 - acc: 0.70 - ETA: 29:58 - loss: 1.4008 - acc: 0.70 - ETA: 29:50 - loss: 1.3992 - acc: 0.70 - ETA: 29:42 - loss: 1.3985 - acc: 0.70 - ETA: 29:35 - loss: 1.3979 - acc: 0.70 - ETA: 29:28 - loss: 1.3960 - acc: 0.70 - ETA: 29:21 - loss: 1.3964 - acc: 0.70 - ETA: 29:15 - loss: 1.3966 - acc: 0.70 - ETA: 29:07 - loss: 1.3974 - acc: 0.70 - ETA: 29:01 - loss: 1.3978 - acc: 0.70 - ETA: 28:53 - loss: 1.3974 - acc: 0.70 - ETA: 28:46 - loss: 1.3977 - acc: 0.70 - ETA: 28:39 - loss: 1.3993 - acc: 0.70 - ETA: 28:32 - loss: 1.3993 - acc: 0.70 - ETA: 28:25 - loss: 1.3987 - acc: 0.70 - ETA: 28:18 - loss: 1.3987 - acc: 0.70 - ETA: 28:10 - loss: 1.4007 - acc: 0.70 - ETA: 28:04 - loss: 1.4000 - acc: 0.70 - ETA: 27:57 - loss: 1.4016 - acc: 0.70 - ETA: 27:50 - loss: 1.4031 - acc: 0.70 - ETA: 27:44 - loss: 1.4049 - acc: 0.70 - ETA: 27:37 - loss: 1.4040 - acc: 0.70 - ETA: 27:31 - loss: 1.4066 - acc: 0.70 - ETA: 27:24 - loss: 1.4097 - acc: 0.70 - ETA: 27:17 - loss: 1.4098 - acc: 0.70 - ETA: 27:12 - loss: 1.4110 - acc: 0.70 - ETA: 27:06 - loss: 1.4120 - acc: 0.70 - ETA: 26:59 - loss: 1.4118 - acc: 0.70 - ETA: 26:53 - loss: 1.4141 - acc: 0.70 - ETA: 26:48 - loss: 1.4153 - acc: 0.70 - ETA: 26:41 - loss: 1.4135 - acc: 0.70 - ETA: 26:35 - loss: 1.4137 - acc: 0.70 - ETA: 26:29 - loss: 1.4136 - acc: 0.70 - ETA: 26:22 - loss: 1.4151 - acc: 0.70 - ETA: 26:16 - loss: 1.4164 - acc: 0.70 - ETA: 26:09 - loss: 1.4191 - acc: 0.70 - ETA: 26:03 - loss: 1.4181 - acc: 0.70 - ETA: 25:57 - loss: 1.4194 - acc: 0.70 - ETA: 25:50 - loss: 1.4199 - acc: 0.70 - ETA: 25:44 - loss: 1.4205 - acc: 0.70 - ETA: 25:38 - loss: 1.4201 - acc: 0.70 - ETA: 25:31 - loss: 1.4195 - acc: 0.70 - ETA: 25:25 - loss: 1.4202 - acc: 0.70 - ETA: 25:19 - loss: 1.4196 - acc: 0.70 - ETA: 25:12 - loss: 1.4203 - acc: 0.70 - ETA: 25:06 - loss: 1.4196 - acc: 0.70 - ETA: 24:59 - loss: 1.4206 - acc: 0.70 - ETA: 24:52 - loss: 1.4208 - acc: 0.70 - ETA: 24:46 - loss: 1.4212 - acc: 0.70 - ETA: 24:40 - loss: 1.4209 - acc: 0.70 - ETA: 24:35 - loss: 1.4207 - acc: 0.70 - ETA: 24:28 - loss: 1.4202 - acc: 0.70 - ETA: 24:23 - loss: 1.4208 - acc: 0.70 - ETA: 24:17 - loss: 1.4219 - acc: 0.70 - ETA: 24:11 - loss: 1.4228 - acc: 0.70 - ETA: 24:05 - loss: 1.4219 - acc: 0.70 - ETA: 23:59 - loss: 1.4230 - acc: 0.70 - ETA: 23:52 - loss: 1.4222 - acc: 0.70 - ETA: 23:46 - loss: 1.4229 - acc: 0.70 - ETA: 23:40 - loss: 1.4237 - acc: 0.70 - ETA: 23:34 - loss: 1.4237 - acc: 0.70 - ETA: 23:28 - loss: 1.4241 - acc: 0.70 - ETA: 23:22 - loss: 1.4242 - acc: 0.70 - ETA: 23:16 - loss: 1.4246 - acc: 0.70 - ETA: 23:09 - loss: 1.4254 - acc: 0.70 - ETA: 23:03 - loss: 1.4261 - acc: 0.70 - ETA: 22:57 - loss: 1.4277 - acc: 0.70 - ETA: 22:51 - loss: 1.4278 - acc: 0.70 - ETA: 22:45 - loss: 1.4281 - acc: 0.70 - ETA: 22:39 - loss: 1.4276 - acc: 0.70 - ETA: 22:33 - loss: 1.4283 - acc: 0.70 - ETA: 22:26 - loss: 1.4283 - acc: 0.70 - ETA: 22:20 - loss: 1.4295 - acc: 0.70 - ETA: 22:14 - loss: 1.4307 - acc: 0.70 - ETA: 22:08 - loss: 1.4315 - acc: 0.70 - ETA: 22:02 - loss: 1.4311 - acc: 0.70 - ETA: 21:55 - loss: 1.4330 - acc: 0.70 - ETA: 21:49 - loss: 1.4329 - acc: 0.70 - ETA: 21:43 - loss: 1.4343 - acc: 0.70 - ETA: 21:37 - loss: 1.4348 - acc: 0.70 - ETA: 21:31 - loss: 1.4357 - acc: 0.70 - ETA: 21:25 - loss: 1.4348 - acc: 0.70 - ETA: 21:18 - loss: 1.4352 - acc: 0.70 - ETA: 21:13 - loss: 1.4355 - acc: 0.70 - ETA: 21:06 - loss: 1.4363 - acc: 0.70 - ETA: 21:00 - loss: 1.4370 - acc: 0.70 - ETA: 20:55 - loss: 1.4370 - acc: 0.70 - ETA: 20:52 - loss: 1.4364 - acc: 0.70 - ETA: 20:47 - loss: 1.4371 - acc: 0.70 - ETA: 20:43 - loss: 1.4387 - acc: 0.70 - ETA: 20:36 - loss: 1.4392 - acc: 0.70 - ETA: 20:30 - loss: 1.4403 - acc: 0.70 - ETA: 20:24 - loss: 1.4398 - acc: 0.70 - ETA: 20:18 - loss: 1.4393 - acc: 0.70 - ETA: 20:12 - loss: 1.4404 - acc: 0.70 - ETA: 20:06 - loss: 1.4401 - acc: 0.70 - ETA: 20:01 - loss: 1.4408 - acc: 0.70 - ETA: 19:55 - loss: 1.4403 - acc: 0.70 - ETA: 19:49 - loss: 1.4397 - acc: 0.70 - ETA: 19:43 - loss: 1.4389 - acc: 0.70 - ETA: 19:37 - loss: 1.4388 - acc: 0.70 - ETA: 19:31 - loss: 1.4389 - acc: 0.70 - ETA: 19:25 - loss: 1.4405 - acc: 0.70 - ETA: 19:19 - loss: 1.4407 - acc: 0.70 - ETA: 19:13 - loss: 1.4406 - acc: 0.70 - ETA: 19:07 - loss: 1.4409 - acc: 0.70 - ETA: 19:01 - loss: 1.4407 - acc: 0.70 - ETA: 18:55 - loss: 1.4409 - acc: 0.70 - ETA: 18:49 - loss: 1.4407 - acc: 0.70 - ETA: 18:43 - loss: 1.4414 - acc: 0.70 - ETA: 18:37 - loss: 1.4415 - acc: 0.70 - ETA: 18:31 - loss: 1.4408 - acc: 0.70 - ETA: 18:25 - loss: 1.4415 - acc: 0.70 - ETA: 18:19 - loss: 1.4416 - acc: 0.70 - ETA: 18:13 - loss: 1.4419 - acc: 0.70 - ETA: 18:07 - loss: 1.4424 - acc: 0.70 - ETA: 18:01 - loss: 1.4431 - acc: 0.70 - ETA: 17:55 - loss: 1.4439 - acc: 0.70 - ETA: 17:49 - loss: 1.4445 - acc: 0.70 - ETA: 17:43 - loss: 1.4449 - acc: 0.70 - ETA: 17:37 - loss: 1.4451 - acc: 0.70 - ETA: 17:31 - loss: 1.4452 - acc: 0.70 - ETA: 17:25 - loss: 1.4454 - acc: 0.70 - ETA: 17:19 - loss: 1.4458 - acc: 0.70 - ETA: 17:13 - loss: 1.4464 - acc: 0.70 - ETA: 17:07 - loss: 1.4461 - acc: 0.70 - ETA: 17:02 - loss: 1.4455 - acc: 0.70 - ETA: 16:56 - loss: 1.4458 - acc: 0.70 - ETA: 16:49 - loss: 1.4462 - acc: 0.70 - ETA: 16:44 - loss: 1.4461 - acc: 0.70 - ETA: 16:38 - loss: 1.4462 - acc: 0.70 - ETA: 16:32 - loss: 1.4464 - acc: 0.70 - ETA: 16:26 - loss: 1.4473 - acc: 0.70 - ETA: 16:20 - loss: 1.4477 - acc: 0.70 - ETA: 16:14 - loss: 1.4483 - acc: 0.70 - ETA: 16:08 - loss: 1.4490 - acc: 0.70 - ETA: 16:02 - loss: 1.4495 - acc: 0.70 - ETA: 15:56 - loss: 1.4499 - acc: 0.70 - ETA: 15:50 - loss: 1.4500 - acc: 0.70 - ETA: 15:44 - loss: 1.4508 - acc: 0.70 - ETA: 15:38 - loss: 1.4513 - acc: 0.70 - ETA: 15:32 - loss: 1.4514 - acc: 0.70 - ETA: 15:26 - loss: 1.4516 - acc: 0.70 - ETA: 15:20 - loss: 1.4516 - acc: 0.70 - ETA: 15:14 - loss: 1.4520 - acc: 0.70 - ETA: 15:08 - loss: 1.4525 - acc: 0.70 - ETA: 15:05 - loss: 1.4528 - acc: 0.70 - ETA: 15:01 - loss: 1.4531 - acc: 0.70 - ETA: 14:55 - loss: 1.4529 - acc: 0.70 - ETA: 14:49 - loss: 1.4529 - acc: 0.70 - ETA: 14:43 - loss: 1.4524 - acc: 0.70 - ETA: 14:37 - loss: 1.4529 - acc: 0.70 - ETA: 14:31 - loss: 1.4531 - acc: 0.70 - ETA: 14:25 - loss: 1.4533 - acc: 0.70 - ETA: 14:19 - loss: 1.4536 - acc: 0.70 - ETA: 14:13 - loss: 1.4537 - acc: 0.70 - ETA: 14:07 - loss: 1.4542 - acc: 0.70 - ETA: 14:01 - loss: 1.4545 - acc: 0.70 - ETA: 13:55 - loss: 1.4547 - acc: 0.70 - ETA: 13:49 - loss: 1.4548 - acc: 0.70 - ETA: 13:43 - loss: 1.4548 - acc: 0.70 - ETA: 13:37 - loss: 1.4551 - acc: 0.70 - ETA: 13:31 - loss: 1.4553 - acc: 0.70 - ETA: 13:25 - loss: 1.4551 - acc: 0.70 - ETA: 13:19 - loss: 1.4555 - acc: 0.70 - ETA: 13:14 - loss: 1.4558 - acc: 0.70 - ETA: 13:08 - loss: 1.4556 - acc: 0.70 - ETA: 13:02 - loss: 1.4556 - acc: 0.70 - ETA: 12:56 - loss: 1.4562 - acc: 0.70 - ETA: 12:50 - loss: 1.4561 - acc: 0.70 - ETA: 12:44 - loss: 1.4565 - acc: 0.70 - ETA: 12:38 - loss: 1.4563 - acc: 0.70 - ETA: 12:32 - loss: 1.4566 - acc: 0.7013"
     ]
    },
    {
     "name": "stdout",
     "output_type": "stream",
     "text": [
      "42374/42374 [==============================] - ETA: 12:26 - loss: 1.4570 - acc: 0.70 - ETA: 12:20 - loss: 1.4573 - acc: 0.70 - ETA: 12:14 - loss: 1.4572 - acc: 0.70 - ETA: 12:08 - loss: 1.4576 - acc: 0.70 - ETA: 12:03 - loss: 1.4580 - acc: 0.70 - ETA: 11:57 - loss: 1.4584 - acc: 0.70 - ETA: 11:51 - loss: 1.4583 - acc: 0.70 - ETA: 11:46 - loss: 1.4585 - acc: 0.70 - ETA: 11:40 - loss: 1.4587 - acc: 0.70 - ETA: 11:34 - loss: 1.4592 - acc: 0.70 - ETA: 11:28 - loss: 1.4593 - acc: 0.70 - ETA: 11:22 - loss: 1.4593 - acc: 0.70 - ETA: 11:16 - loss: 1.4595 - acc: 0.70 - ETA: 11:10 - loss: 1.4596 - acc: 0.70 - ETA: 11:04 - loss: 1.4601 - acc: 0.70 - ETA: 10:58 - loss: 1.4598 - acc: 0.70 - ETA: 10:52 - loss: 1.4599 - acc: 0.70 - ETA: 10:46 - loss: 1.4600 - acc: 0.70 - ETA: 10:40 - loss: 1.4604 - acc: 0.70 - ETA: 10:34 - loss: 1.4608 - acc: 0.70 - ETA: 10:28 - loss: 1.4607 - acc: 0.70 - ETA: 10:22 - loss: 1.4613 - acc: 0.70 - ETA: 10:16 - loss: 1.4610 - acc: 0.70 - ETA: 10:10 - loss: 1.4612 - acc: 0.70 - ETA: 10:04 - loss: 1.4612 - acc: 0.70 - ETA: 9:58 - loss: 1.4614 - acc: 0.7003 - ETA: 9:52 - loss: 1.4615 - acc: 0.700 - ETA: 9:46 - loss: 1.4621 - acc: 0.700 - ETA: 9:41 - loss: 1.4619 - acc: 0.700 - ETA: 9:35 - loss: 1.4624 - acc: 0.700 - ETA: 9:29 - loss: 1.4618 - acc: 0.700 - ETA: 9:23 - loss: 1.4626 - acc: 0.700 - ETA: 9:17 - loss: 1.4629 - acc: 0.700 - ETA: 9:11 - loss: 1.4633 - acc: 0.700 - ETA: 9:05 - loss: 1.4635 - acc: 0.700 - ETA: 8:59 - loss: 1.4638 - acc: 0.700 - ETA: 8:53 - loss: 1.4638 - acc: 0.700 - ETA: 8:47 - loss: 1.4639 - acc: 0.700 - ETA: 8:41 - loss: 1.4640 - acc: 0.700 - ETA: 8:35 - loss: 1.4646 - acc: 0.699 - ETA: 8:29 - loss: 1.4643 - acc: 0.699 - ETA: 8:23 - loss: 1.4640 - acc: 0.699 - ETA: 8:17 - loss: 1.4644 - acc: 0.699 - ETA: 8:11 - loss: 1.4647 - acc: 0.699 - ETA: 8:05 - loss: 1.4649 - acc: 0.699 - ETA: 7:59 - loss: 1.4649 - acc: 0.699 - ETA: 7:54 - loss: 1.4649 - acc: 0.699 - ETA: 7:48 - loss: 1.4649 - acc: 0.699 - ETA: 7:42 - loss: 1.4653 - acc: 0.699 - ETA: 7:36 - loss: 1.4653 - acc: 0.699 - ETA: 7:30 - loss: 1.4652 - acc: 0.699 - ETA: 7:24 - loss: 1.4652 - acc: 0.699 - ETA: 7:18 - loss: 1.4657 - acc: 0.699 - ETA: 7:12 - loss: 1.4658 - acc: 0.699 - ETA: 7:06 - loss: 1.4662 - acc: 0.699 - ETA: 7:00 - loss: 1.4661 - acc: 0.699 - ETA: 6:54 - loss: 1.4658 - acc: 0.699 - ETA: 6:48 - loss: 1.4662 - acc: 0.699 - ETA: 6:42 - loss: 1.4665 - acc: 0.699 - ETA: 6:36 - loss: 1.4661 - acc: 0.699 - ETA: 6:30 - loss: 1.4661 - acc: 0.699 - ETA: 6:25 - loss: 1.4661 - acc: 0.699 - ETA: 6:19 - loss: 1.4662 - acc: 0.699 - ETA: 6:13 - loss: 1.4666 - acc: 0.699 - ETA: 6:07 - loss: 1.4662 - acc: 0.699 - ETA: 6:01 - loss: 1.4664 - acc: 0.699 - ETA: 5:55 - loss: 1.4665 - acc: 0.699 - ETA: 5:49 - loss: 1.4669 - acc: 0.699 - ETA: 5:43 - loss: 1.4676 - acc: 0.699 - ETA: 5:37 - loss: 1.4679 - acc: 0.699 - ETA: 5:31 - loss: 1.4683 - acc: 0.699 - ETA: 5:25 - loss: 1.4682 - acc: 0.699 - ETA: 5:20 - loss: 1.4684 - acc: 0.699 - ETA: 5:14 - loss: 1.4687 - acc: 0.699 - ETA: 5:08 - loss: 1.4688 - acc: 0.699 - ETA: 5:02 - loss: 1.4690 - acc: 0.699 - ETA: 4:56 - loss: 1.4696 - acc: 0.699 - ETA: 4:50 - loss: 1.4696 - acc: 0.699 - ETA: 4:44 - loss: 1.4697 - acc: 0.699 - ETA: 4:38 - loss: 1.4698 - acc: 0.699 - ETA: 4:32 - loss: 1.4702 - acc: 0.699 - ETA: 4:26 - loss: 1.4705 - acc: 0.699 - ETA: 4:20 - loss: 1.4711 - acc: 0.699 - ETA: 4:14 - loss: 1.4710 - acc: 0.699 - ETA: 4:09 - loss: 1.4713 - acc: 0.699 - ETA: 4:03 - loss: 1.4711 - acc: 0.699 - ETA: 3:57 - loss: 1.4713 - acc: 0.699 - ETA: 3:51 - loss: 1.4716 - acc: 0.699 - ETA: 3:45 - loss: 1.4714 - acc: 0.699 - ETA: 3:39 - loss: 1.4717 - acc: 0.699 - ETA: 3:33 - loss: 1.4717 - acc: 0.699 - ETA: 3:27 - loss: 1.4720 - acc: 0.699 - ETA: 3:21 - loss: 1.4722 - acc: 0.699 - ETA: 3:15 - loss: 1.4723 - acc: 0.698 - ETA: 3:09 - loss: 1.4723 - acc: 0.698 - ETA: 3:03 - loss: 1.4726 - acc: 0.698 - ETA: 2:57 - loss: 1.4731 - acc: 0.698 - ETA: 2:51 - loss: 1.4727 - acc: 0.698 - ETA: 2:46 - loss: 1.4728 - acc: 0.698 - ETA: 2:40 - loss: 1.4728 - acc: 0.698 - ETA: 2:34 - loss: 1.4728 - acc: 0.699 - ETA: 2:28 - loss: 1.4727 - acc: 0.699 - ETA: 2:22 - loss: 1.4728 - acc: 0.699 - ETA: 2:16 - loss: 1.4729 - acc: 0.699 - ETA: 2:10 - loss: 1.4730 - acc: 0.699 - ETA: 2:04 - loss: 1.4734 - acc: 0.699 - ETA: 1:58 - loss: 1.4740 - acc: 0.699 - ETA: 1:52 - loss: 1.4736 - acc: 0.699 - ETA: 1:46 - loss: 1.4740 - acc: 0.699 - ETA: 1:40 - loss: 1.4740 - acc: 0.699 - ETA: 1:34 - loss: 1.4743 - acc: 0.698 - ETA: 1:29 - loss: 1.4743 - acc: 0.698 - ETA: 1:23 - loss: 1.4748 - acc: 0.698 - ETA: 1:17 - loss: 1.4747 - acc: 0.699 - ETA: 1:11 - loss: 1.4748 - acc: 0.698 - ETA: 1:05 - loss: 1.4747 - acc: 0.698 - ETA: 59s - loss: 1.4747 - acc: 0.698 - ETA: 53s - loss: 1.4744 - acc: 0.69 - ETA: 47s - loss: 1.4742 - acc: 0.69 - ETA: 41s - loss: 1.4742 - acc: 0.69 - ETA: 35s - loss: 1.4747 - acc: 0.69 - ETA: 29s - loss: 1.4751 - acc: 0.69 - ETA: 23s - loss: 1.4751 - acc: 0.69 - ETA: 18s - loss: 1.4755 - acc: 0.69 - ETA: 12s - loss: 1.4756 - acc: 0.69 - ETA: 6s - loss: 1.4757 - acc: 0.6989 - ETA: 0s - loss: 1.4756 - acc: 0.698 - 1961s 46ms/sample - loss: 1.4756 - acc: 0.6989\n"
     ]
    }
   ],
   "source": [
    "history=model.fit([x_tr,y_tr[:,:-1]], y_tr.reshape(y_tr.shape[0],y_tr.shape[1], 1)[:,1:] ,epochs=30,batch_size=128) "
   ]
  },
  {
   "cell_type": "code",
   "execution_count": 59,
   "metadata": {},
   "outputs": [],
   "source": [
    "# encoder inference\n",
    "encoder_model = Model(inputs=encoder_inputs,outputs=[encoder_outputs, state_h, state_c])\n",
    "\n",
    "# decoder inference\n",
    "decoder_state_input_h = Input(shape=(latent_dim,))\n",
    "decoder_state_input_c = Input(shape=(latent_dim,))\n",
    "decoder_hidden_state_input = Input(shape=(max_len_text,latent_dim))\n",
    "\n",
    "dec_emb2= dec_emb_layer(decoder_inputs)\n",
    "\n",
    "decoder_outputs2, state_h2, state_c2 = decoder_lstm(dec_emb2, initial_state=[decoder_state_input_h, decoder_state_input_c])\n",
    "\n",
    "#attention inference\n",
    "attn_out_inf, attn_states_inf = attn_layer([decoder_hidden_state_input, decoder_outputs2])\n",
    "decoder_inf_concat = Concatenate(axis=-1, name='concat')([decoder_outputs2, attn_out_inf])\n",
    "\n",
    "decoder_outputs2 = decoder_dense(decoder_inf_concat)\n",
    "\n",
    "decoder_model = Model(\n",
    "[decoder_inputs] + [decoder_hidden_state_input,decoder_state_input_h, decoder_state_input_c],\n",
    "[decoder_outputs2] + [state_h2, state_c2])"
   ]
  },
  {
   "cell_type": "code",
   "execution_count": 61,
   "metadata": {},
   "outputs": [],
   "source": [
    "reverse_target_word_index=tokenizer_summary.index_word  \n",
    "target_word_index=tokenizer_summary.word_index"
   ]
  },
  {
   "cell_type": "code",
   "execution_count": 81,
   "metadata": {},
   "outputs": [],
   "source": [
    "def make_predictions(input_seq):\n",
    "    \n",
    "    e_out, e_h, e_c = encoder_model.predict(input_seq)\n",
    "    \n",
    "    decoded_seq = np.zeros((1,1))\n",
    "    decoded_seq[0,0]=target_word_index['start']\n",
    "    decoded_seq_word = 'start'\n",
    "    \n",
    "    \n",
    "    li=[]\n",
    "    len_pred_summary = max_len_summary - 1\n",
    "    \n",
    "    while decoded_seq_word !='end' and len_pred_summary>=0:\n",
    "        \n",
    "        decoded_seq, h,c = decoder_model.predict([decoded_seq] + [e_out,e_h,e_c])\n",
    "        decoded_seq = np.argmax(decoded_seq[0,-1,:])\n",
    "        decoded_seq_word = reverse_target_word_index[decoded_seq]\n",
    "        decoded_seq = np.zeros((1,1))\n",
    "        decoded_seq[0,0] = target_word_index[decoded_seq_word]\n",
    "        \n",
    "        e_h = h\n",
    "        e_c = c\n",
    "        \n",
    "        li.append(decoded_seq_word)\n",
    "        \n",
    "        len_pred_summary = len_pred_summary-1\n",
    "    \n",
    "    li.remove('end')\n",
    "    out_final = \" \".join(li)\n",
    "    \n",
    "    return out_final"
   ]
  },
  {
   "cell_type": "code",
   "execution_count": 83,
   "metadata": {},
   "outputs": [
    {
     "name": "stdout",
     "output_type": "stream",
     "text": [
      "Text :  have bought several vitality canned dog food products have found all be good quality  the product looks like stew a processed meat it smells better  labrador finicky she appreciates product better  most \n",
      "Actual Summary :  good quality dog food\n",
      "Predicted Summary :  good quality dog food\n",
      "\n",
      "Text :  product arrived labeled jumbo salted peanuts   the peanuts actually small sized unsalted  sure this an error if vendor intended represent product  jumbo  \n",
      "Actual Summary :  not as advertised\n",
      "Predicted Summary :  not what i expected\n",
      "\n",
      "Text :  confection has around few centuries   light  pillowy citrus gelatin nuts   case filberts  it is cut tiny squares then liberally coated powdered sugar   it is a tiny mouthful heaven   too chewy  very flavorful   highly recommend yummy treat   you familiar story c s  lewis   the lion  witch  the wardrobe    this is the treat seduces edmund selling his brother sisters the witch \n",
      "Actual Summary :   delight  says it all\n",
      "Predicted Summary :  great flavor\n",
      "\n",
      "Text :  you looking secret ingredient robitussin believe have found it   got in addition the root beer extract ordered  which good  made cherry soda   the flavor very medicinal \n",
      "Actual Summary :  cough medicine\n",
      "Predicted Summary :  great soup\n",
      "\n",
      "Text :  great taffy great price   wide assortment yummy taffy   delivery was very quick   your taffy lover  is a deal \n",
      "Actual Summary :  great taffy\n",
      "Predicted Summary :  great flavor\n",
      "\n",
      "Text :  got wild hair taffy ordered five pound bag  taffy all enjoyable many flavors  watermelon  root beer  melon  peppermint  grape  etc  complaint there bit much red black licorice flavored pieces  just particular favorites   me  my kids  my husband  lasted only two weeks  would recommend brand taffy    was a delightful treat \n",
      "Actual Summary :  nice taffy\n",
      "Predicted Summary :  best ever\n",
      "\n",
      "Text :  saltwater taffy great flavors soft chewy   candy was individually wrapped well   none the candies stuck together  did happen the expensive version  fralinger s   would highly recommend candy   served at beach themed party everyone loved it \n",
      "Actual Summary :  great   just as good as the expensive brands \n",
      "Predicted Summary :  my cats love it\n",
      "\n",
      "Text :  taffy so good   is soft chewy   flavors amazing   would definitely recommend buying it   satisfying  \n",
      "Actual Summary :  wonderful  tasty taffy\n",
      "Predicted Summary :  good dog food\n",
      "\n",
      "Text :  right i am mostly sprouting so cats eat grass  love it  rotate around wheatgrass rye\n",
      "Actual Summary :  yay barley\n",
      "Predicted Summary :  fresh and tasty\n",
      "\n",
      "Text :  is very healthy dog food  good their digestion  also good small puppies  dog eats required amount every feeding \n",
      "Actual Summary :  healthy dog food\n",
      "Predicted Summary :  yummy\n",
      "\n"
     ]
    }
   ],
   "source": [
    "for i in range(10):\n",
    "    print(\"Text : \",texts[i])\n",
    "    print(\"Actual Summary : \",summaries[i])\n",
    "    print(\"Predicted Summary : \",make_predictions(x_tr[i].reshape(1,max_len_text)))\n",
    "    print()"
   ]
  },
  {
   "cell_type": "code",
   "execution_count": null,
   "metadata": {},
   "outputs": [],
   "source": []
  }
 ],
 "metadata": {
  "kernelspec": {
   "display_name": "Python 3",
   "language": "python",
   "name": "python3"
  },
  "language_info": {
   "codemirror_mode": {
    "name": "ipython",
    "version": 3
   },
   "file_extension": ".py",
   "mimetype": "text/x-python",
   "name": "python",
   "nbconvert_exporter": "python",
   "pygments_lexer": "ipython3",
   "version": "3.7.4"
  }
 },
 "nbformat": 4,
 "nbformat_minor": 2
}
